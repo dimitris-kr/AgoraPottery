{
 "cells": [
  {
   "cell_type": "code",
   "id": "initial_id",
   "metadata": {
    "collapsed": true,
    "ExecuteTime": {
     "end_time": "2025-09-14T10:03:43.846874Z",
     "start_time": "2025-09-14T10:03:42.659389Z"
    }
   },
   "source": [
    "import pandas as pd\n",
    "import numpy as np\n",
    "import os\n",
    "\n",
    "import torch"
   ],
   "outputs": [],
   "execution_count": 1
  },
  {
   "metadata": {
    "ExecuteTime": {
     "end_time": "2025-09-14T10:03:44.169958Z",
     "start_time": "2025-09-14T10:03:43.855337Z"
    }
   },
   "cell_type": "code",
   "source": "from sklearn.model_selection import train_test_split",
   "id": "b228ee497da0dfc6",
   "outputs": [],
   "execution_count": 2
  },
  {
   "metadata": {
    "ExecuteTime": {
     "end_time": "2025-09-14T10:03:44.651233Z",
     "start_time": "2025-09-14T10:03:44.256334Z"
    }
   },
   "cell_type": "code",
   "source": "from utils import f_types, d_types_methods, print_info_features, print_info_targets",
   "id": "79703f7cee5e283d",
   "outputs": [],
   "execution_count": 3
  },
  {
   "metadata": {},
   "cell_type": "markdown",
   "source": "### Working Directory Path",
   "id": "5fd54056d6d72a83"
  },
  {
   "metadata": {
    "ExecuteTime": {
     "end_time": "2025-09-14T10:03:44.661231Z",
     "start_time": "2025-09-14T10:03:44.658886Z"
    }
   },
   "cell_type": "code",
   "source": [
    "# Local Path for Running Locally\n",
    "path = \"../data/\"\n",
    "path_features = path + \"features/\"\n",
    "\n",
    "path_export = path + \"chronology_prediction/\"\n",
    "os.makedirs(path_export, exist_ok=True)"
   ],
   "id": "a350aa52980b4aac",
   "outputs": [],
   "execution_count": 4
  },
  {
   "metadata": {},
   "cell_type": "markdown",
   "source": "### Read Data & Features",
   "id": "6a24737c69f8d5ad"
  },
  {
   "metadata": {
    "colab": {
     "base_uri": "https://localhost:8080/",
     "height": 1000
    },
    "id": "vMGMVkIgF-en",
    "executionInfo": {
     "status": "ok",
     "timestamp": 1740652760840,
     "user_tz": -120,
     "elapsed": 808,
     "user": {
      "displayName": "Dimitris Krikonis",
      "userId": "11139468322740823660"
     }
    },
    "outputId": "3a47fe5c-f36d-4df0-dc35-6a6008ee726f",
    "ExecuteTime": {
     "end_time": "2025-09-14T10:03:44.683660Z",
     "start_time": "2025-09-14T10:03:44.665863Z"
    }
   },
   "cell_type": "code",
   "source": [
    "data = pd.read_csv(path + 'agora12_data_pp.csv')\n",
    "data"
   ],
   "id": "23cc636cc53f748c",
   "outputs": [
    {
     "data": {
      "text/plain": [
       "                               Id  \\\n",
       "0        Agora:Object:Agora XII:1   \n",
       "1        Agora:Object:Agora XII:2   \n",
       "2        Agora:Object:Agora XII:3   \n",
       "3        Agora:Object:Agora XII:4   \n",
       "4        Agora:Object:Agora XII:5   \n",
       "...                           ...   \n",
       "1995  Agora:Object:Agora XII:2036   \n",
       "1996  Agora:Object:Agora XII:2037   \n",
       "1997  Agora:Object:Agora XII:2038   \n",
       "1998  Agora:Object:Agora XII:2039   \n",
       "1999  Agora:Object:Agora XII:2040   \n",
       "\n",
       "                                               FullText  \\\n",
       "0     foot missing. offset neck and echinoid mouth; ...   \n",
       "1     spreading ring foot with torus outer and conve...   \n",
       "2     flaring ring foot. torus mouth. ridge at junct...   \n",
       "3     ring foot. echinoid mouth inset from neck and ...   \n",
       "4     echinus ring foot. torus mouth; strap handles....   \n",
       "...                                                 ...   \n",
       "1995  fragment of rim and floor with handle. deep ba...   \n",
       "1996  handles missing. basin and lid; handles probab...   \n",
       "1997  small series. plain flat-topped rim; flaring b...   \n",
       "1998  small series. rim flat on top, roughly moulded...   \n",
       "1999  stand and floor fragment. lower edge of stand ...   \n",
       "\n",
       "                     ImageFilename  StartYear  EndYear  MidpointYear  \\\n",
       "0     Agora_Image_2012.54.1450.jpg     -575.0   -550.0        -562.5   \n",
       "1                              NaN     -525.0   -500.0        -512.5   \n",
       "2                              NaN     -500.0   -500.0        -500.0   \n",
       "3                              NaN     -500.0   -500.0        -500.0   \n",
       "4     Agora_Image_2012.27.0009.jpg     -525.0   -500.0        -512.5   \n",
       "...                            ...        ...      ...           ...   \n",
       "1995                           NaN     -350.0   -320.0        -335.0   \n",
       "1996  Agora_Image_2012.55.1261.jpg     -350.0   -301.0        -325.5   \n",
       "1997  Agora_Image_2012.25.0184.jpg     -435.0   -425.0        -430.0   \n",
       "1998  Agora_Image_2012.55.1268.jpg     -375.0   -325.0        -350.0   \n",
       "1999                           NaN     -400.0   -300.0        -350.0   \n",
       "\n",
       "      YearRange HistoricalPeriod  ValidChronology  \n",
       "0          25.0          Archaic             True  \n",
       "1          25.0          Archaic             True  \n",
       "2           0.0          Archaic             True  \n",
       "3           0.0          Archaic             True  \n",
       "4          25.0          Archaic             True  \n",
       "...         ...              ...              ...  \n",
       "1995       30.0        Classical             True  \n",
       "1996       49.0        Classical             True  \n",
       "1997       10.0        Classical             True  \n",
       "1998       50.0        Classical             True  \n",
       "1999      100.0        Classical            False  \n",
       "\n",
       "[2000 rows x 9 columns]"
      ],
      "text/html": [
       "<div>\n",
       "<style scoped>\n",
       "    .dataframe tbody tr th:only-of-type {\n",
       "        vertical-align: middle;\n",
       "    }\n",
       "\n",
       "    .dataframe tbody tr th {\n",
       "        vertical-align: top;\n",
       "    }\n",
       "\n",
       "    .dataframe thead th {\n",
       "        text-align: right;\n",
       "    }\n",
       "</style>\n",
       "<table border=\"1\" class=\"dataframe\">\n",
       "  <thead>\n",
       "    <tr style=\"text-align: right;\">\n",
       "      <th></th>\n",
       "      <th>Id</th>\n",
       "      <th>FullText</th>\n",
       "      <th>ImageFilename</th>\n",
       "      <th>StartYear</th>\n",
       "      <th>EndYear</th>\n",
       "      <th>MidpointYear</th>\n",
       "      <th>YearRange</th>\n",
       "      <th>HistoricalPeriod</th>\n",
       "      <th>ValidChronology</th>\n",
       "    </tr>\n",
       "  </thead>\n",
       "  <tbody>\n",
       "    <tr>\n",
       "      <th>0</th>\n",
       "      <td>Agora:Object:Agora XII:1</td>\n",
       "      <td>foot missing. offset neck and echinoid mouth; ...</td>\n",
       "      <td>Agora_Image_2012.54.1450.jpg</td>\n",
       "      <td>-575.0</td>\n",
       "      <td>-550.0</td>\n",
       "      <td>-562.5</td>\n",
       "      <td>25.0</td>\n",
       "      <td>Archaic</td>\n",
       "      <td>True</td>\n",
       "    </tr>\n",
       "    <tr>\n",
       "      <th>1</th>\n",
       "      <td>Agora:Object:Agora XII:2</td>\n",
       "      <td>spreading ring foot with torus outer and conve...</td>\n",
       "      <td>NaN</td>\n",
       "      <td>-525.0</td>\n",
       "      <td>-500.0</td>\n",
       "      <td>-512.5</td>\n",
       "      <td>25.0</td>\n",
       "      <td>Archaic</td>\n",
       "      <td>True</td>\n",
       "    </tr>\n",
       "    <tr>\n",
       "      <th>2</th>\n",
       "      <td>Agora:Object:Agora XII:3</td>\n",
       "      <td>flaring ring foot. torus mouth. ridge at junct...</td>\n",
       "      <td>NaN</td>\n",
       "      <td>-500.0</td>\n",
       "      <td>-500.0</td>\n",
       "      <td>-500.0</td>\n",
       "      <td>0.0</td>\n",
       "      <td>Archaic</td>\n",
       "      <td>True</td>\n",
       "    </tr>\n",
       "    <tr>\n",
       "      <th>3</th>\n",
       "      <td>Agora:Object:Agora XII:4</td>\n",
       "      <td>ring foot. echinoid mouth inset from neck and ...</td>\n",
       "      <td>NaN</td>\n",
       "      <td>-500.0</td>\n",
       "      <td>-500.0</td>\n",
       "      <td>-500.0</td>\n",
       "      <td>0.0</td>\n",
       "      <td>Archaic</td>\n",
       "      <td>True</td>\n",
       "    </tr>\n",
       "    <tr>\n",
       "      <th>4</th>\n",
       "      <td>Agora:Object:Agora XII:5</td>\n",
       "      <td>echinus ring foot. torus mouth; strap handles....</td>\n",
       "      <td>Agora_Image_2012.27.0009.jpg</td>\n",
       "      <td>-525.0</td>\n",
       "      <td>-500.0</td>\n",
       "      <td>-512.5</td>\n",
       "      <td>25.0</td>\n",
       "      <td>Archaic</td>\n",
       "      <td>True</td>\n",
       "    </tr>\n",
       "    <tr>\n",
       "      <th>...</th>\n",
       "      <td>...</td>\n",
       "      <td>...</td>\n",
       "      <td>...</td>\n",
       "      <td>...</td>\n",
       "      <td>...</td>\n",
       "      <td>...</td>\n",
       "      <td>...</td>\n",
       "      <td>...</td>\n",
       "      <td>...</td>\n",
       "    </tr>\n",
       "    <tr>\n",
       "      <th>1995</th>\n",
       "      <td>Agora:Object:Agora XII:2036</td>\n",
       "      <td>fragment of rim and floor with handle. deep ba...</td>\n",
       "      <td>NaN</td>\n",
       "      <td>-350.0</td>\n",
       "      <td>-320.0</td>\n",
       "      <td>-335.0</td>\n",
       "      <td>30.0</td>\n",
       "      <td>Classical</td>\n",
       "      <td>True</td>\n",
       "    </tr>\n",
       "    <tr>\n",
       "      <th>1996</th>\n",
       "      <td>Agora:Object:Agora XII:2037</td>\n",
       "      <td>handles missing. basin and lid; handles probab...</td>\n",
       "      <td>Agora_Image_2012.55.1261.jpg</td>\n",
       "      <td>-350.0</td>\n",
       "      <td>-301.0</td>\n",
       "      <td>-325.5</td>\n",
       "      <td>49.0</td>\n",
       "      <td>Classical</td>\n",
       "      <td>True</td>\n",
       "    </tr>\n",
       "    <tr>\n",
       "      <th>1997</th>\n",
       "      <td>Agora:Object:Agora XII:2038</td>\n",
       "      <td>small series. plain flat-topped rim; flaring b...</td>\n",
       "      <td>Agora_Image_2012.25.0184.jpg</td>\n",
       "      <td>-435.0</td>\n",
       "      <td>-425.0</td>\n",
       "      <td>-430.0</td>\n",
       "      <td>10.0</td>\n",
       "      <td>Classical</td>\n",
       "      <td>True</td>\n",
       "    </tr>\n",
       "    <tr>\n",
       "      <th>1998</th>\n",
       "      <td>Agora:Object:Agora XII:2039</td>\n",
       "      <td>small series. rim flat on top, roughly moulded...</td>\n",
       "      <td>Agora_Image_2012.55.1268.jpg</td>\n",
       "      <td>-375.0</td>\n",
       "      <td>-325.0</td>\n",
       "      <td>-350.0</td>\n",
       "      <td>50.0</td>\n",
       "      <td>Classical</td>\n",
       "      <td>True</td>\n",
       "    </tr>\n",
       "    <tr>\n",
       "      <th>1999</th>\n",
       "      <td>Agora:Object:Agora XII:2040</td>\n",
       "      <td>stand and floor fragment. lower edge of stand ...</td>\n",
       "      <td>NaN</td>\n",
       "      <td>-400.0</td>\n",
       "      <td>-300.0</td>\n",
       "      <td>-350.0</td>\n",
       "      <td>100.0</td>\n",
       "      <td>Classical</td>\n",
       "      <td>False</td>\n",
       "    </tr>\n",
       "  </tbody>\n",
       "</table>\n",
       "<p>2000 rows × 9 columns</p>\n",
       "</div>"
      ]
     },
     "execution_count": 5,
     "metadata": {},
     "output_type": "execute_result"
    }
   ],
   "execution_count": 5
  },
  {
   "metadata": {
    "ExecuteTime": {
     "end_time": "2025-09-14T10:03:45.702031Z",
     "start_time": "2025-09-14T10:03:44.706060Z"
    }
   },
   "cell_type": "code",
   "source": [
    "features = {ft: {} for ft in f_types}\n",
    "for feature_type, (ext, loader, params) in f_types.items():\n",
    "    for data_type, methods in d_types_methods.items():\n",
    "        for method in methods:\n",
    "            filename = f\"{data_type}_{method}_{feature_type}.{ext}\"\n",
    "            file_path = os.path.join(path_features, filename)\n",
    "            if os.path.exists(file_path):\n",
    "                features[feature_type][method] = loader(file_path, **params)\n",
    "                print(f\"Loaded {filename}\")"
   ],
   "id": "332560f3f7bae536",
   "outputs": [
    {
     "name": "stdout",
     "output_type": "stream",
     "text": [
      "Loaded text_tfidf_vectors.csv\n",
      "Loaded text_bert_vectors.csv\n",
      "Loaded image_cannyhog_vectors.csv\n",
      "Loaded image_resnet_vectors.csv\n",
      "Loaded image_vit_vectors.csv\n",
      "Loaded text_bert_tensors.pt\n",
      "Loaded image_resnet_tensors.pt\n",
      "Loaded image_vit_tensors.pt\n"
     ]
    }
   ],
   "execution_count": 6
  },
  {
   "metadata": {
    "ExecuteTime": {
     "end_time": "2025-09-14T10:03:45.846945Z",
     "start_time": "2025-09-14T10:03:45.718925Z"
    }
   },
   "cell_type": "code",
   "source": [
    "def print_features_info(features):\n",
    "    for ft in features.keys():\n",
    "        for method, feature_set in features[ft].items():\n",
    "            print(f\"\\n** {method.upper()} {ft.upper()} **\")\n",
    "            if ft == \"vectors\":\n",
    "                print(feature_set.info())\n",
    "            elif ft == \"tensors\":\n",
    "                print(f\"Dimensions: {feature_set.ndim}\")\n",
    "                print(f\"Shape: {feature_set.shape}\")\n",
    "                print(f\"dtype: {feature_set.dtype}\")\n",
    "                print(f\"Memory usage: {(feature_set.element_size() * feature_set.numel()) / (1024 * 1024):.2f} MB\")\n",
    "\n",
    "\n",
    "print_features_info(features)"
   ],
   "id": "1f3c15e02d49527d",
   "outputs": [
    {
     "name": "stdout",
     "output_type": "stream",
     "text": [
      "\n",
      "** TFIDF VECTORS **\n",
      "<class 'pandas.core.frame.DataFrame'>\n",
      "RangeIndex: 2000 entries, 0 to 1999\n",
      "Columns: 300 entries, F0 to F299\n",
      "dtypes: float64(300)\n",
      "memory usage: 4.6 MB\n",
      "None\n",
      "\n",
      "** BERT VECTORS **\n",
      "<class 'pandas.core.frame.DataFrame'>\n",
      "RangeIndex: 2000 entries, 0 to 1999\n",
      "Columns: 768 entries, F0 to F767\n",
      "dtypes: float64(768)\n",
      "memory usage: 11.7 MB\n",
      "None\n",
      "\n",
      "** CANNYHOG VECTORS **\n",
      "<class 'pandas.core.frame.DataFrame'>\n",
      "RangeIndex: 2000 entries, 0 to 1999\n",
      "Columns: 2917 entries, F0 to F2916\n",
      "dtypes: float64(2917)\n",
      "memory usage: 44.5 MB\n",
      "None\n",
      "\n",
      "** RESNET VECTORS **\n",
      "<class 'pandas.core.frame.DataFrame'>\n",
      "RangeIndex: 2000 entries, 0 to 1999\n",
      "Columns: 2048 entries, F0 to F2047\n",
      "dtypes: float64(2048)\n",
      "memory usage: 31.3 MB\n",
      "None\n",
      "\n",
      "** VIT VECTORS **\n",
      "<class 'pandas.core.frame.DataFrame'>\n",
      "RangeIndex: 2000 entries, 0 to 1999\n",
      "Columns: 768 entries, F0 to F767\n",
      "dtypes: float64(768)\n",
      "memory usage: 11.7 MB\n",
      "None\n",
      "\n",
      "** BERT TENSORS **\n",
      "Dimensions: 2\n",
      "Shape: torch.Size([2000, 768])\n",
      "dtype: torch.float32\n",
      "Memory usage: 5.86 MB\n",
      "\n",
      "** RESNET TENSORS **\n",
      "Dimensions: 2\n",
      "Shape: torch.Size([2000, 2048])\n",
      "dtype: torch.float32\n",
      "Memory usage: 15.62 MB\n",
      "\n",
      "** VIT TENSORS **\n",
      "Dimensions: 2\n",
      "Shape: torch.Size([2000, 768])\n",
      "dtype: torch.float32\n",
      "Memory usage: 5.86 MB\n"
     ]
    }
   ],
   "execution_count": 7
  },
  {
   "metadata": {},
   "cell_type": "markdown",
   "source": "### Convert Missing Tensors",
   "id": "41135273e4c2ebf4"
  },
  {
   "metadata": {
    "ExecuteTime": {
     "end_time": "2025-09-14T10:03:45.857450Z",
     "start_time": "2025-09-14T10:03:45.849772Z"
    }
   },
   "cell_type": "code",
   "source": [
    "for method, vectors in features[\"vectors\"].items():\n",
    "    if method not in features[\"tensors\"].keys():\n",
    "        features[\"tensors\"][method] = torch.tensor(vectors.values, dtype=torch.float32)"
   ],
   "id": "146bcaa40f855a53",
   "outputs": [],
   "execution_count": 8
  },
  {
   "metadata": {},
   "cell_type": "markdown",
   "source": "### Drop Records with Non-Valid Chronology (Null or Range > 50)",
   "id": "b70a8bf4c493c753"
  },
  {
   "metadata": {
    "ExecuteTime": {
     "end_time": "2025-09-14T10:03:45.938190Z",
     "start_time": "2025-09-14T10:03:45.935651Z"
    }
   },
   "cell_type": "code",
   "source": [
    "valid_mask = data[\"ValidChronology\"]\n",
    "valid_mask_torch = torch.tensor(valid_mask, dtype=torch.bool)"
   ],
   "id": "5c3a208b70b95475",
   "outputs": [],
   "execution_count": 9
  },
  {
   "metadata": {
    "ExecuteTime": {
     "end_time": "2025-09-14T10:03:45.945706Z",
     "start_time": "2025-09-14T10:03:45.941198Z"
    }
   },
   "cell_type": "code",
   "source": [
    "data = data.loc[valid_mask].reset_index(drop=True)\n",
    "data.info()"
   ],
   "id": "7e9915f92578af23",
   "outputs": [
    {
     "name": "stdout",
     "output_type": "stream",
     "text": [
      "<class 'pandas.core.frame.DataFrame'>\n",
      "RangeIndex: 1910 entries, 0 to 1909\n",
      "Data columns (total 9 columns):\n",
      " #   Column            Non-Null Count  Dtype  \n",
      "---  ------            --------------  -----  \n",
      " 0   Id                1910 non-null   object \n",
      " 1   FullText          1910 non-null   object \n",
      " 2   ImageFilename     923 non-null    object \n",
      " 3   StartYear         1910 non-null   float64\n",
      " 4   EndYear           1910 non-null   float64\n",
      " 5   MidpointYear      1910 non-null   float64\n",
      " 6   YearRange         1910 non-null   float64\n",
      " 7   HistoricalPeriod  1910 non-null   object \n",
      " 8   ValidChronology   1910 non-null   bool   \n",
      "dtypes: bool(1), float64(4), object(4)\n",
      "memory usage: 121.4+ KB\n"
     ]
    }
   ],
   "execution_count": 10
  },
  {
   "metadata": {
    "ExecuteTime": {
     "end_time": "2025-09-14T10:03:46.001382Z",
     "start_time": "2025-09-14T10:03:45.960968Z"
    }
   },
   "cell_type": "code",
   "source": [
    "for method, vectors in features[\"vectors\"].items():\n",
    "    features[\"vectors\"][method] = vectors.loc[valid_mask].reset_index(drop=True)"
   ],
   "id": "db52351cd823110",
   "outputs": [],
   "execution_count": 11
  },
  {
   "metadata": {
    "ExecuteTime": {
     "end_time": "2025-09-14T10:03:46.017909Z",
     "start_time": "2025-09-14T10:03:46.012326Z"
    }
   },
   "cell_type": "code",
   "source": [
    "for method, tensor in features[\"tensors\"].items():\n",
    "    features[\"tensors\"][method] = tensor[valid_mask_torch]  # convert mask to numpy"
   ],
   "id": "6fb5cffd70641819",
   "outputs": [],
   "execution_count": 12
  },
  {
   "metadata": {
    "ExecuteTime": {
     "end_time": "2025-09-14T10:03:46.149308Z",
     "start_time": "2025-09-14T10:03:46.028607Z"
    }
   },
   "cell_type": "code",
   "source": "print_features_info(features)",
   "id": "428999e65529b843",
   "outputs": [
    {
     "name": "stdout",
     "output_type": "stream",
     "text": [
      "\n",
      "** TFIDF VECTORS **\n",
      "<class 'pandas.core.frame.DataFrame'>\n",
      "RangeIndex: 1910 entries, 0 to 1909\n",
      "Columns: 300 entries, F0 to F299\n",
      "dtypes: float64(300)\n",
      "memory usage: 4.4 MB\n",
      "None\n",
      "\n",
      "** BERT VECTORS **\n",
      "<class 'pandas.core.frame.DataFrame'>\n",
      "RangeIndex: 1910 entries, 0 to 1909\n",
      "Columns: 768 entries, F0 to F767\n",
      "dtypes: float64(768)\n",
      "memory usage: 11.2 MB\n",
      "None\n",
      "\n",
      "** CANNYHOG VECTORS **\n",
      "<class 'pandas.core.frame.DataFrame'>\n",
      "RangeIndex: 1910 entries, 0 to 1909\n",
      "Columns: 2917 entries, F0 to F2916\n",
      "dtypes: float64(2917)\n",
      "memory usage: 42.5 MB\n",
      "None\n",
      "\n",
      "** RESNET VECTORS **\n",
      "<class 'pandas.core.frame.DataFrame'>\n",
      "RangeIndex: 1910 entries, 0 to 1909\n",
      "Columns: 2048 entries, F0 to F2047\n",
      "dtypes: float64(2048)\n",
      "memory usage: 29.8 MB\n",
      "None\n",
      "\n",
      "** VIT VECTORS **\n",
      "<class 'pandas.core.frame.DataFrame'>\n",
      "RangeIndex: 1910 entries, 0 to 1909\n",
      "Columns: 768 entries, F0 to F767\n",
      "dtypes: float64(768)\n",
      "memory usage: 11.2 MB\n",
      "None\n",
      "\n",
      "** BERT TENSORS **\n",
      "Dimensions: 2\n",
      "Shape: torch.Size([1910, 768])\n",
      "dtype: torch.float32\n",
      "Memory usage: 5.60 MB\n",
      "\n",
      "** RESNET TENSORS **\n",
      "Dimensions: 2\n",
      "Shape: torch.Size([1910, 2048])\n",
      "dtype: torch.float32\n",
      "Memory usage: 14.92 MB\n",
      "\n",
      "** VIT TENSORS **\n",
      "Dimensions: 2\n",
      "Shape: torch.Size([1910, 768])\n",
      "dtype: torch.float32\n",
      "Memory usage: 5.60 MB\n",
      "\n",
      "** TFIDF TENSORS **\n",
      "Dimensions: 2\n",
      "Shape: torch.Size([1910, 300])\n",
      "dtype: torch.float32\n",
      "Memory usage: 2.19 MB\n",
      "\n",
      "** CANNYHOG TENSORS **\n",
      "Dimensions: 2\n",
      "Shape: torch.Size([1910, 2917])\n",
      "dtype: torch.float32\n",
      "Memory usage: 21.25 MB\n"
     ]
    }
   ],
   "execution_count": 13
  },
  {
   "metadata": {},
   "cell_type": "markdown",
   "source": "## Target",
   "id": "7e81ece91cc71a05"
  },
  {
   "metadata": {
    "ExecuteTime": {
     "end_time": "2025-09-14T10:03:46.168957Z",
     "start_time": "2025-09-14T10:03:46.162454Z"
    }
   },
   "cell_type": "code",
   "source": [
    "target_cols = [\"StartYear\", \"EndYear\", \"MidpointYear\", \"YearRange\", \"HistoricalPeriod\"]\n",
    "target = data[target_cols]\n",
    "target"
   ],
   "id": "ad64bd6864d79bb9",
   "outputs": [
    {
     "data": {
      "text/plain": [
       "      StartYear  EndYear  MidpointYear  YearRange HistoricalPeriod\n",
       "0        -575.0   -550.0        -562.5       25.0          Archaic\n",
       "1        -525.0   -500.0        -512.5       25.0          Archaic\n",
       "2        -500.0   -500.0        -500.0        0.0          Archaic\n",
       "3        -500.0   -500.0        -500.0        0.0          Archaic\n",
       "4        -525.0   -500.0        -512.5       25.0          Archaic\n",
       "...         ...      ...           ...        ...              ...\n",
       "1905     -375.0   -325.0        -350.0       50.0        Classical\n",
       "1906     -350.0   -320.0        -335.0       30.0        Classical\n",
       "1907     -350.0   -301.0        -325.5       49.0        Classical\n",
       "1908     -435.0   -425.0        -430.0       10.0        Classical\n",
       "1909     -375.0   -325.0        -350.0       50.0        Classical\n",
       "\n",
       "[1910 rows x 5 columns]"
      ],
      "text/html": [
       "<div>\n",
       "<style scoped>\n",
       "    .dataframe tbody tr th:only-of-type {\n",
       "        vertical-align: middle;\n",
       "    }\n",
       "\n",
       "    .dataframe tbody tr th {\n",
       "        vertical-align: top;\n",
       "    }\n",
       "\n",
       "    .dataframe thead th {\n",
       "        text-align: right;\n",
       "    }\n",
       "</style>\n",
       "<table border=\"1\" class=\"dataframe\">\n",
       "  <thead>\n",
       "    <tr style=\"text-align: right;\">\n",
       "      <th></th>\n",
       "      <th>StartYear</th>\n",
       "      <th>EndYear</th>\n",
       "      <th>MidpointYear</th>\n",
       "      <th>YearRange</th>\n",
       "      <th>HistoricalPeriod</th>\n",
       "    </tr>\n",
       "  </thead>\n",
       "  <tbody>\n",
       "    <tr>\n",
       "      <th>0</th>\n",
       "      <td>-575.0</td>\n",
       "      <td>-550.0</td>\n",
       "      <td>-562.5</td>\n",
       "      <td>25.0</td>\n",
       "      <td>Archaic</td>\n",
       "    </tr>\n",
       "    <tr>\n",
       "      <th>1</th>\n",
       "      <td>-525.0</td>\n",
       "      <td>-500.0</td>\n",
       "      <td>-512.5</td>\n",
       "      <td>25.0</td>\n",
       "      <td>Archaic</td>\n",
       "    </tr>\n",
       "    <tr>\n",
       "      <th>2</th>\n",
       "      <td>-500.0</td>\n",
       "      <td>-500.0</td>\n",
       "      <td>-500.0</td>\n",
       "      <td>0.0</td>\n",
       "      <td>Archaic</td>\n",
       "    </tr>\n",
       "    <tr>\n",
       "      <th>3</th>\n",
       "      <td>-500.0</td>\n",
       "      <td>-500.0</td>\n",
       "      <td>-500.0</td>\n",
       "      <td>0.0</td>\n",
       "      <td>Archaic</td>\n",
       "    </tr>\n",
       "    <tr>\n",
       "      <th>4</th>\n",
       "      <td>-525.0</td>\n",
       "      <td>-500.0</td>\n",
       "      <td>-512.5</td>\n",
       "      <td>25.0</td>\n",
       "      <td>Archaic</td>\n",
       "    </tr>\n",
       "    <tr>\n",
       "      <th>...</th>\n",
       "      <td>...</td>\n",
       "      <td>...</td>\n",
       "      <td>...</td>\n",
       "      <td>...</td>\n",
       "      <td>...</td>\n",
       "    </tr>\n",
       "    <tr>\n",
       "      <th>1905</th>\n",
       "      <td>-375.0</td>\n",
       "      <td>-325.0</td>\n",
       "      <td>-350.0</td>\n",
       "      <td>50.0</td>\n",
       "      <td>Classical</td>\n",
       "    </tr>\n",
       "    <tr>\n",
       "      <th>1906</th>\n",
       "      <td>-350.0</td>\n",
       "      <td>-320.0</td>\n",
       "      <td>-335.0</td>\n",
       "      <td>30.0</td>\n",
       "      <td>Classical</td>\n",
       "    </tr>\n",
       "    <tr>\n",
       "      <th>1907</th>\n",
       "      <td>-350.0</td>\n",
       "      <td>-301.0</td>\n",
       "      <td>-325.5</td>\n",
       "      <td>49.0</td>\n",
       "      <td>Classical</td>\n",
       "    </tr>\n",
       "    <tr>\n",
       "      <th>1908</th>\n",
       "      <td>-435.0</td>\n",
       "      <td>-425.0</td>\n",
       "      <td>-430.0</td>\n",
       "      <td>10.0</td>\n",
       "      <td>Classical</td>\n",
       "    </tr>\n",
       "    <tr>\n",
       "      <th>1909</th>\n",
       "      <td>-375.0</td>\n",
       "      <td>-325.0</td>\n",
       "      <td>-350.0</td>\n",
       "      <td>50.0</td>\n",
       "      <td>Classical</td>\n",
       "    </tr>\n",
       "  </tbody>\n",
       "</table>\n",
       "<p>1910 rows × 5 columns</p>\n",
       "</div>"
      ]
     },
     "execution_count": 14,
     "metadata": {},
     "output_type": "execute_result"
    }
   ],
   "execution_count": 14
  },
  {
   "metadata": {},
   "cell_type": "markdown",
   "source": "## Split Train & Test Sets",
   "id": "1991d7138a4440ee"
  },
  {
   "metadata": {
    "ExecuteTime": {
     "end_time": "2025-09-14T10:03:46.200583Z",
     "start_time": "2025-09-14T10:03:46.197491Z"
    }
   },
   "cell_type": "code",
   "source": [
    "indices = np.arange(data.shape[0])\n",
    "train_idx, test_idx = train_test_split(indices, test_size=0.1, random_state=42)\n",
    "\n",
    "train_idx_torch = torch.tensor(train_idx, dtype=torch.int64)\n",
    "test_idx_torch = torch.tensor(test_idx, dtype=torch.int64)"
   ],
   "id": "c292fdcc07aad03",
   "outputs": [],
   "execution_count": 15
  },
  {
   "metadata": {
    "ExecuteTime": {
     "end_time": "2025-09-14T10:03:46.254568Z",
     "start_time": "2025-09-14T10:03:46.223052Z"
    }
   },
   "cell_type": "code",
   "source": [
    "X_vectors = {\n",
    "    \"train\": {method: vectors.loc[train_idx] for method, vectors in features[\"vectors\"].items()},\n",
    "    \"test\": {method: vectors.loc[test_idx] for method, vectors in features[\"vectors\"].items()}\n",
    "}\n",
    "\n",
    "print_info_features(X_vectors)"
   ],
   "id": "cfa82dcd29a6a3bb",
   "outputs": [
    {
     "name": "stdout",
     "output_type": "stream",
     "text": [
      "{\n",
      "\ttrain: {\n",
      "\t\ttfidf: \n",
      "\t\t\t<class 'pandas.core.frame.DataFrame'>\n",
      "\t\t\tshape = (1719, 300), \n",
      "\t\tbert: \n",
      "\t\t\t<class 'pandas.core.frame.DataFrame'>\n",
      "\t\t\tshape = (1719, 768), \n",
      "\t\tcannyhog: \n",
      "\t\t\t<class 'pandas.core.frame.DataFrame'>\n",
      "\t\t\tshape = (1719, 2917), \n",
      "\t\tresnet: \n",
      "\t\t\t<class 'pandas.core.frame.DataFrame'>\n",
      "\t\t\tshape = (1719, 2048), \n",
      "\t\tvit: \n",
      "\t\t\t<class 'pandas.core.frame.DataFrame'>\n",
      "\t\t\tshape = (1719, 768), \n",
      "\t},\n",
      "\ttest: {\n",
      "\t\ttfidf: \n",
      "\t\t\t<class 'pandas.core.frame.DataFrame'>\n",
      "\t\t\tshape = (191, 300), \n",
      "\t\tbert: \n",
      "\t\t\t<class 'pandas.core.frame.DataFrame'>\n",
      "\t\t\tshape = (191, 768), \n",
      "\t\tcannyhog: \n",
      "\t\t\t<class 'pandas.core.frame.DataFrame'>\n",
      "\t\t\tshape = (191, 2917), \n",
      "\t\tresnet: \n",
      "\t\t\t<class 'pandas.core.frame.DataFrame'>\n",
      "\t\t\tshape = (191, 2048), \n",
      "\t\tvit: \n",
      "\t\t\t<class 'pandas.core.frame.DataFrame'>\n",
      "\t\t\tshape = (191, 768), \n",
      "\t},\n",
      "}\n"
     ]
    }
   ],
   "execution_count": 16
  },
  {
   "metadata": {
    "ExecuteTime": {
     "end_time": "2025-09-14T10:03:46.270389Z",
     "start_time": "2025-09-14T10:03:46.263572Z"
    }
   },
   "cell_type": "code",
   "source": [
    "X_tensors = {\n",
    "    \"train\": {method: tensors[train_idx_torch] for method, tensors in features[\"tensors\"].items()},\n",
    "    \"test\": {method: tensors[test_idx_torch] for method, tensors in features[\"tensors\"].items()}\n",
    "}\n",
    "\n",
    "print_info_features(X_tensors)"
   ],
   "id": "32af1f4b708956a2",
   "outputs": [
    {
     "name": "stdout",
     "output_type": "stream",
     "text": [
      "{\n",
      "\ttrain: {\n",
      "\t\tbert: \n",
      "\t\t\t<class 'torch.Tensor'>\n",
      "\t\t\tshape = torch.Size([1719, 768]), \n",
      "\t\tresnet: \n",
      "\t\t\t<class 'torch.Tensor'>\n",
      "\t\t\tshape = torch.Size([1719, 2048]), \n",
      "\t\tvit: \n",
      "\t\t\t<class 'torch.Tensor'>\n",
      "\t\t\tshape = torch.Size([1719, 768]), \n",
      "\t\ttfidf: \n",
      "\t\t\t<class 'torch.Tensor'>\n",
      "\t\t\tshape = torch.Size([1719, 300]), \n",
      "\t\tcannyhog: \n",
      "\t\t\t<class 'torch.Tensor'>\n",
      "\t\t\tshape = torch.Size([1719, 2917]), \n",
      "\t},\n",
      "\ttest: {\n",
      "\t\tbert: \n",
      "\t\t\t<class 'torch.Tensor'>\n",
      "\t\t\tshape = torch.Size([191, 768]), \n",
      "\t\tresnet: \n",
      "\t\t\t<class 'torch.Tensor'>\n",
      "\t\t\tshape = torch.Size([191, 2048]), \n",
      "\t\tvit: \n",
      "\t\t\t<class 'torch.Tensor'>\n",
      "\t\t\tshape = torch.Size([191, 768]), \n",
      "\t\ttfidf: \n",
      "\t\t\t<class 'torch.Tensor'>\n",
      "\t\t\tshape = torch.Size([191, 300]), \n",
      "\t\tcannyhog: \n",
      "\t\t\t<class 'torch.Tensor'>\n",
      "\t\t\tshape = torch.Size([191, 2917]), \n",
      "\t},\n",
      "}\n"
     ]
    }
   ],
   "execution_count": 17
  },
  {
   "metadata": {
    "ExecuteTime": {
     "end_time": "2025-09-14T10:03:46.302852Z",
     "start_time": "2025-09-14T10:03:46.299986Z"
    }
   },
   "cell_type": "code",
   "source": [
    "y = {\n",
    "    \"train\": target.loc[train_idx],\n",
    "    \"test\": target.loc[test_idx]\n",
    "}\n",
    "\n",
    "print_info_targets(y)"
   ],
   "id": "253fbeb78b4db21c",
   "outputs": [
    {
     "name": "stdout",
     "output_type": "stream",
     "text": [
      "{\n",
      "\ttrain: \n",
      "\t\t<class 'pandas.core.frame.DataFrame'>\n",
      "\t\tshape   = (1719, 5)\n",
      "\t\tcolumns = ['StartYear', 'EndYear', 'MidpointYear', 'YearRange', 'HistoricalPeriod'],\n",
      "\ttest: \n",
      "\t\t<class 'pandas.core.frame.DataFrame'>\n",
      "\t\tshape   = (191, 5)\n",
      "\t\tcolumns = ['StartYear', 'EndYear', 'MidpointYear', 'YearRange', 'HistoricalPeriod'],\n",
      "}\n"
     ]
    }
   ],
   "execution_count": 18
  },
  {
   "metadata": {},
   "cell_type": "markdown",
   "source": "### Save Data",
   "id": "19f68683cd4180d6"
  },
  {
   "metadata": {
    "ExecuteTime": {
     "end_time": "2025-09-14T10:03:50.475171Z",
     "start_time": "2025-09-14T10:03:46.322698Z"
    }
   },
   "cell_type": "code",
   "source": [
    "os.makedirs(path_export + \"vectors\", exist_ok=True)\n",
    "\n",
    "for subset in X_vectors.keys():\n",
    "    for method, vectors in X_vectors[subset].items():\n",
    "        vectors.to_csv(\n",
    "            path_export + \"vectors/\" + \"X_\" + subset + \"_\" + method + \".csv\",\n",
    "            index=False,\n",
    "            encoding='utf-8',\n",
    "            sep=',',\n",
    "            header=True\n",
    "        )"
   ],
   "id": "1e4700736c98081c",
   "outputs": [],
   "execution_count": 19
  },
  {
   "metadata": {
    "ExecuteTime": {
     "end_time": "2025-09-14T10:03:50.531300Z",
     "start_time": "2025-09-14T10:03:50.494098Z"
    }
   },
   "cell_type": "code",
   "source": [
    "os.makedirs(path_export + \"tensors\", exist_ok=True)\n",
    "\n",
    "for subset in X_tensors.keys():\n",
    "    for method, tensors in X_tensors[subset].items():\n",
    "        torch.save(\n",
    "            tensors,\n",
    "            path_export + \"tensors/\" + \"X_\" + subset + \"_\" + method + \".pt\"\n",
    "        )"
   ],
   "id": "80714b6d9497dd14",
   "outputs": [],
   "execution_count": 20
  },
  {
   "metadata": {
    "ExecuteTime": {
     "end_time": "2025-09-14T10:03:50.557234Z",
     "start_time": "2025-09-14T10:03:50.550656Z"
    }
   },
   "cell_type": "code",
   "source": [
    "os.makedirs(path_export + \"targets\", exist_ok=True)\n",
    "\n",
    "for subset, target in y.items():\n",
    "    target.to_csv(\n",
    "        path_export + \"targets/\" + \"y_\" + subset + \".csv\",\n",
    "        index=False,\n",
    "        encoding='utf-8',\n",
    "        sep=',',\n",
    "        header=True\n",
    "    )"
   ],
   "id": "b84e02019e5ad976",
   "outputs": [],
   "execution_count": 21
  }
 ],
 "metadata": {
  "kernelspec": {
   "display_name": "Python 3",
   "language": "python",
   "name": "python3"
  },
  "language_info": {
   "codemirror_mode": {
    "name": "ipython",
    "version": 2
   },
   "file_extension": ".py",
   "mimetype": "text/x-python",
   "name": "python",
   "nbconvert_exporter": "python",
   "pygments_lexer": "ipython2",
   "version": "2.7.6"
  }
 },
 "nbformat": 4,
 "nbformat_minor": 5
}
