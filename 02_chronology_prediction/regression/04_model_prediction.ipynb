{
 "cells": [
  {
   "cell_type": "code",
   "id": "initial_id",
   "metadata": {
    "collapsed": true,
    "ExecuteTime": {
     "end_time": "2025-07-06T19:08:37.230789Z",
     "start_time": "2025-07-06T19:08:37.228529Z"
    }
   },
   "source": [
    "import os\n",
    "import json\n",
    "import pandas as pd\n",
    "import numpy as np"
   ],
   "outputs": [],
   "execution_count": 14
  },
  {
   "metadata": {
    "ExecuteTime": {
     "end_time": "2025-07-06T18:42:00.183077Z",
     "start_time": "2025-07-06T18:41:59.131Z"
    }
   },
   "cell_type": "code",
   "source": [
    "from sklearn.linear_model import Lasso\n",
    "from sklearn.ensemble import RandomForestRegressor\n",
    "from lightgbm import LGBMRegressor"
   ],
   "id": "7be44c5b73351dbe",
   "outputs": [],
   "execution_count": 10
  },
  {
   "metadata": {
    "ExecuteTime": {
     "end_time": "2025-07-06T19:31:02.923323Z",
     "start_time": "2025-07-06T19:31:02.921298Z"
    }
   },
   "cell_type": "code",
   "source": "from utils import read_features, read_targets, metrics",
   "id": "2b68b80264f3e58b",
   "outputs": [],
   "execution_count": 25
  },
  {
   "metadata": {},
   "cell_type": "markdown",
   "source": "## Read Features and Targets",
   "id": "3beeb2aae6f2deae"
  },
  {
   "metadata": {
    "ExecuteTime": {
     "end_time": "2025-07-06T14:02:43.839163Z",
     "start_time": "2025-07-06T14:02:43.836415Z"
    }
   },
   "cell_type": "code",
   "source": "path = os.path.abspath(os.path.join(os.getcwd(), \"../../data/chronology_prediction\"))",
   "id": "154858e0e045bead",
   "outputs": [],
   "execution_count": 3
  },
  {
   "metadata": {
    "ExecuteTime": {
     "end_time": "2025-07-06T14:02:44.705515Z",
     "start_time": "2025-07-06T14:02:43.846294Z"
    }
   },
   "cell_type": "code",
   "source": "X = read_features(path)",
   "id": "30843ad42d173727",
   "outputs": [
    {
     "name": "stdout",
     "output_type": "stream",
     "text": [
      "Loaded X_train_tfidf\n",
      "Loaded X_train_bert\n",
      "Loaded X_train_cannyhog\n",
      "Loaded X_train_resnet\n",
      "Loaded X_train_vit\n",
      "Loaded X_test_tfidf\n",
      "Loaded X_test_bert\n",
      "Loaded X_test_cannyhog\n",
      "Loaded X_test_resnet\n",
      "Loaded X_test_vit\n"
     ]
    }
   ],
   "execution_count": 4
  },
  {
   "metadata": {
    "ExecuteTime": {
     "end_time": "2025-07-06T14:02:44.721423Z",
     "start_time": "2025-07-06T14:02:44.713319Z"
    }
   },
   "cell_type": "code",
   "source": "y = read_targets(path, [\"StartYear\", \"YearRange\"])",
   "id": "898b0ae57710c88",
   "outputs": [
    {
     "name": "stdout",
     "output_type": "stream",
     "text": [
      "Loaded y_train\n",
      "Loaded y_test\n"
     ]
    }
   ],
   "execution_count": 5
  },
  {
   "metadata": {},
   "cell_type": "markdown",
   "source": "## Load Best Parameters from HP Tuning",
   "id": "d8ed4da6541f14e3"
  },
  {
   "metadata": {
    "ExecuteTime": {
     "end_time": "2025-07-06T14:02:44.741299Z",
     "start_time": "2025-07-06T14:02:44.734612Z"
    }
   },
   "cell_type": "code",
   "source": [
    "path_params = \"best_params.json\"\n",
    "with open(path_params, \"r\") as f:\n",
    "    best_params = json.load(f)\n",
    "    best_params = {\n",
    "        model: {\n",
    "            eval(k): v for k, v in param_dict.items()\n",
    "        } for model, param_dict in best_params.items()\n",
    "    }"
   ],
   "id": "e70477d20a8bf59a",
   "outputs": [],
   "execution_count": 6
  },
  {
   "metadata": {},
   "cell_type": "markdown",
   "source": "## SMTH",
   "id": "af5a0627d6bad5e8"
  },
  {
   "metadata": {
    "ExecuteTime": {
     "end_time": "2025-07-06T18:30:51.556770Z",
     "start_time": "2025-07-06T18:30:51.552213Z"
    }
   },
   "cell_type": "code",
   "source": [
    "# best_models = pd.read_csv(\"best_models.csv\")\n",
    "# for _, row in best_models.iterrows():\n",
    "#     if row[\"data_type\"] == \"combo\":\n",
    "#         feature_sets = []\n",
    "#         for part in row[\"features\"].split(\" + \"):\n",
    "#             feature_sets.append(X)"
   ],
   "id": "37f2343b9d2984d6",
   "outputs": [],
   "execution_count": 9
  },
  {
   "metadata": {
    "ExecuteTime": {
     "end_time": "2025-07-06T19:10:47.637083Z",
     "start_time": "2025-07-06T19:10:47.634786Z"
    }
   },
   "cell_type": "code",
   "source": [
    "def rf_predict_with_std(model, X_test):\n",
    "    # Get predictions from all trees\n",
    "    all_preds = np.stack([tree.predict(X_test) for tree in model.estimators_])\n",
    "\n",
    "    y_pred = np.mean(all_preds, axis=0)\n",
    "    y_std = np.std(all_preds, axis=0)  # This is the uncertainty\n",
    "\n",
    "    return y_pred, y_std\n"
   ],
   "id": "78404b920d21025",
   "outputs": [],
   "execution_count": 18
  },
  {
   "metadata": {},
   "cell_type": "markdown",
   "source": "## Text --> StartYear",
   "id": "896e14c41f146fa0"
  },
  {
   "metadata": {
    "ExecuteTime": {
     "end_time": "2025-07-06T19:10:50.424119Z",
     "start_time": "2025-07-06T19:10:49.847229Z"
    }
   },
   "cell_type": "code",
   "source": [
    "model = RandomForestRegressor(**best_params[\"RandomForest\"][(\"tfidf\", \"StartYear\")])\n",
    "model.fit(X[\"train\"][\"tfidf\"], y[\"train\"][\"StartYear\"])\n",
    "y_pred, y_std = rf_predict_with_std(model, X[\"test\"][\"tfidf\"])"
   ],
   "id": "5aca2735386791fd",
   "outputs": [
    {
     "name": "stderr",
     "output_type": "stream",
     "text": [
      "C:\\Users\\dimit\\.conda\\envs\\thesis\\Lib\\site-packages\\sklearn\\utils\\validation.py:2732: UserWarning: X has feature names, but DecisionTreeRegressor was fitted without feature names\n",
      "  warnings.warn(\n",
      "C:\\Users\\dimit\\.conda\\envs\\thesis\\Lib\\site-packages\\sklearn\\utils\\validation.py:2732: UserWarning: X has feature names, but DecisionTreeRegressor was fitted without feature names\n",
      "  warnings.warn(\n",
      "C:\\Users\\dimit\\.conda\\envs\\thesis\\Lib\\site-packages\\sklearn\\utils\\validation.py:2732: UserWarning: X has feature names, but DecisionTreeRegressor was fitted without feature names\n",
      "  warnings.warn(\n",
      "C:\\Users\\dimit\\.conda\\envs\\thesis\\Lib\\site-packages\\sklearn\\utils\\validation.py:2732: UserWarning: X has feature names, but DecisionTreeRegressor was fitted without feature names\n",
      "  warnings.warn(\n",
      "C:\\Users\\dimit\\.conda\\envs\\thesis\\Lib\\site-packages\\sklearn\\utils\\validation.py:2732: UserWarning: X has feature names, but DecisionTreeRegressor was fitted without feature names\n",
      "  warnings.warn(\n",
      "C:\\Users\\dimit\\.conda\\envs\\thesis\\Lib\\site-packages\\sklearn\\utils\\validation.py:2732: UserWarning: X has feature names, but DecisionTreeRegressor was fitted without feature names\n",
      "  warnings.warn(\n",
      "C:\\Users\\dimit\\.conda\\envs\\thesis\\Lib\\site-packages\\sklearn\\utils\\validation.py:2732: UserWarning: X has feature names, but DecisionTreeRegressor was fitted without feature names\n",
      "  warnings.warn(\n",
      "C:\\Users\\dimit\\.conda\\envs\\thesis\\Lib\\site-packages\\sklearn\\utils\\validation.py:2732: UserWarning: X has feature names, but DecisionTreeRegressor was fitted without feature names\n",
      "  warnings.warn(\n",
      "C:\\Users\\dimit\\.conda\\envs\\thesis\\Lib\\site-packages\\sklearn\\utils\\validation.py:2732: UserWarning: X has feature names, but DecisionTreeRegressor was fitted without feature names\n",
      "  warnings.warn(\n",
      "C:\\Users\\dimit\\.conda\\envs\\thesis\\Lib\\site-packages\\sklearn\\utils\\validation.py:2732: UserWarning: X has feature names, but DecisionTreeRegressor was fitted without feature names\n",
      "  warnings.warn(\n",
      "C:\\Users\\dimit\\.conda\\envs\\thesis\\Lib\\site-packages\\sklearn\\utils\\validation.py:2732: UserWarning: X has feature names, but DecisionTreeRegressor was fitted without feature names\n",
      "  warnings.warn(\n",
      "C:\\Users\\dimit\\.conda\\envs\\thesis\\Lib\\site-packages\\sklearn\\utils\\validation.py:2732: UserWarning: X has feature names, but DecisionTreeRegressor was fitted without feature names\n",
      "  warnings.warn(\n",
      "C:\\Users\\dimit\\.conda\\envs\\thesis\\Lib\\site-packages\\sklearn\\utils\\validation.py:2732: UserWarning: X has feature names, but DecisionTreeRegressor was fitted without feature names\n",
      "  warnings.warn(\n",
      "C:\\Users\\dimit\\.conda\\envs\\thesis\\Lib\\site-packages\\sklearn\\utils\\validation.py:2732: UserWarning: X has feature names, but DecisionTreeRegressor was fitted without feature names\n",
      "  warnings.warn(\n",
      "C:\\Users\\dimit\\.conda\\envs\\thesis\\Lib\\site-packages\\sklearn\\utils\\validation.py:2732: UserWarning: X has feature names, but DecisionTreeRegressor was fitted without feature names\n",
      "  warnings.warn(\n",
      "C:\\Users\\dimit\\.conda\\envs\\thesis\\Lib\\site-packages\\sklearn\\utils\\validation.py:2732: UserWarning: X has feature names, but DecisionTreeRegressor was fitted without feature names\n",
      "  warnings.warn(\n",
      "C:\\Users\\dimit\\.conda\\envs\\thesis\\Lib\\site-packages\\sklearn\\utils\\validation.py:2732: UserWarning: X has feature names, but DecisionTreeRegressor was fitted without feature names\n",
      "  warnings.warn(\n",
      "C:\\Users\\dimit\\.conda\\envs\\thesis\\Lib\\site-packages\\sklearn\\utils\\validation.py:2732: UserWarning: X has feature names, but DecisionTreeRegressor was fitted without feature names\n",
      "  warnings.warn(\n",
      "C:\\Users\\dimit\\.conda\\envs\\thesis\\Lib\\site-packages\\sklearn\\utils\\validation.py:2732: UserWarning: X has feature names, but DecisionTreeRegressor was fitted without feature names\n",
      "  warnings.warn(\n",
      "C:\\Users\\dimit\\.conda\\envs\\thesis\\Lib\\site-packages\\sklearn\\utils\\validation.py:2732: UserWarning: X has feature names, but DecisionTreeRegressor was fitted without feature names\n",
      "  warnings.warn(\n",
      "C:\\Users\\dimit\\.conda\\envs\\thesis\\Lib\\site-packages\\sklearn\\utils\\validation.py:2732: UserWarning: X has feature names, but DecisionTreeRegressor was fitted without feature names\n",
      "  warnings.warn(\n",
      "C:\\Users\\dimit\\.conda\\envs\\thesis\\Lib\\site-packages\\sklearn\\utils\\validation.py:2732: UserWarning: X has feature names, but DecisionTreeRegressor was fitted without feature names\n",
      "  warnings.warn(\n",
      "C:\\Users\\dimit\\.conda\\envs\\thesis\\Lib\\site-packages\\sklearn\\utils\\validation.py:2732: UserWarning: X has feature names, but DecisionTreeRegressor was fitted without feature names\n",
      "  warnings.warn(\n",
      "C:\\Users\\dimit\\.conda\\envs\\thesis\\Lib\\site-packages\\sklearn\\utils\\validation.py:2732: UserWarning: X has feature names, but DecisionTreeRegressor was fitted without feature names\n",
      "  warnings.warn(\n",
      "C:\\Users\\dimit\\.conda\\envs\\thesis\\Lib\\site-packages\\sklearn\\utils\\validation.py:2732: UserWarning: X has feature names, but DecisionTreeRegressor was fitted without feature names\n",
      "  warnings.warn(\n",
      "C:\\Users\\dimit\\.conda\\envs\\thesis\\Lib\\site-packages\\sklearn\\utils\\validation.py:2732: UserWarning: X has feature names, but DecisionTreeRegressor was fitted without feature names\n",
      "  warnings.warn(\n",
      "C:\\Users\\dimit\\.conda\\envs\\thesis\\Lib\\site-packages\\sklearn\\utils\\validation.py:2732: UserWarning: X has feature names, but DecisionTreeRegressor was fitted without feature names\n",
      "  warnings.warn(\n",
      "C:\\Users\\dimit\\.conda\\envs\\thesis\\Lib\\site-packages\\sklearn\\utils\\validation.py:2732: UserWarning: X has feature names, but DecisionTreeRegressor was fitted without feature names\n",
      "  warnings.warn(\n",
      "C:\\Users\\dimit\\.conda\\envs\\thesis\\Lib\\site-packages\\sklearn\\utils\\validation.py:2732: UserWarning: X has feature names, but DecisionTreeRegressor was fitted without feature names\n",
      "  warnings.warn(\n",
      "C:\\Users\\dimit\\.conda\\envs\\thesis\\Lib\\site-packages\\sklearn\\utils\\validation.py:2732: UserWarning: X has feature names, but DecisionTreeRegressor was fitted without feature names\n",
      "  warnings.warn(\n",
      "C:\\Users\\dimit\\.conda\\envs\\thesis\\Lib\\site-packages\\sklearn\\utils\\validation.py:2732: UserWarning: X has feature names, but DecisionTreeRegressor was fitted without feature names\n",
      "  warnings.warn(\n",
      "C:\\Users\\dimit\\.conda\\envs\\thesis\\Lib\\site-packages\\sklearn\\utils\\validation.py:2732: UserWarning: X has feature names, but DecisionTreeRegressor was fitted without feature names\n",
      "  warnings.warn(\n",
      "C:\\Users\\dimit\\.conda\\envs\\thesis\\Lib\\site-packages\\sklearn\\utils\\validation.py:2732: UserWarning: X has feature names, but DecisionTreeRegressor was fitted without feature names\n",
      "  warnings.warn(\n",
      "C:\\Users\\dimit\\.conda\\envs\\thesis\\Lib\\site-packages\\sklearn\\utils\\validation.py:2732: UserWarning: X has feature names, but DecisionTreeRegressor was fitted without feature names\n",
      "  warnings.warn(\n",
      "C:\\Users\\dimit\\.conda\\envs\\thesis\\Lib\\site-packages\\sklearn\\utils\\validation.py:2732: UserWarning: X has feature names, but DecisionTreeRegressor was fitted without feature names\n",
      "  warnings.warn(\n",
      "C:\\Users\\dimit\\.conda\\envs\\thesis\\Lib\\site-packages\\sklearn\\utils\\validation.py:2732: UserWarning: X has feature names, but DecisionTreeRegressor was fitted without feature names\n",
      "  warnings.warn(\n",
      "C:\\Users\\dimit\\.conda\\envs\\thesis\\Lib\\site-packages\\sklearn\\utils\\validation.py:2732: UserWarning: X has feature names, but DecisionTreeRegressor was fitted without feature names\n",
      "  warnings.warn(\n",
      "C:\\Users\\dimit\\.conda\\envs\\thesis\\Lib\\site-packages\\sklearn\\utils\\validation.py:2732: UserWarning: X has feature names, but DecisionTreeRegressor was fitted without feature names\n",
      "  warnings.warn(\n",
      "C:\\Users\\dimit\\.conda\\envs\\thesis\\Lib\\site-packages\\sklearn\\utils\\validation.py:2732: UserWarning: X has feature names, but DecisionTreeRegressor was fitted without feature names\n",
      "  warnings.warn(\n",
      "C:\\Users\\dimit\\.conda\\envs\\thesis\\Lib\\site-packages\\sklearn\\utils\\validation.py:2732: UserWarning: X has feature names, but DecisionTreeRegressor was fitted without feature names\n",
      "  warnings.warn(\n",
      "C:\\Users\\dimit\\.conda\\envs\\thesis\\Lib\\site-packages\\sklearn\\utils\\validation.py:2732: UserWarning: X has feature names, but DecisionTreeRegressor was fitted without feature names\n",
      "  warnings.warn(\n",
      "C:\\Users\\dimit\\.conda\\envs\\thesis\\Lib\\site-packages\\sklearn\\utils\\validation.py:2732: UserWarning: X has feature names, but DecisionTreeRegressor was fitted without feature names\n",
      "  warnings.warn(\n",
      "C:\\Users\\dimit\\.conda\\envs\\thesis\\Lib\\site-packages\\sklearn\\utils\\validation.py:2732: UserWarning: X has feature names, but DecisionTreeRegressor was fitted without feature names\n",
      "  warnings.warn(\n",
      "C:\\Users\\dimit\\.conda\\envs\\thesis\\Lib\\site-packages\\sklearn\\utils\\validation.py:2732: UserWarning: X has feature names, but DecisionTreeRegressor was fitted without feature names\n",
      "  warnings.warn(\n",
      "C:\\Users\\dimit\\.conda\\envs\\thesis\\Lib\\site-packages\\sklearn\\utils\\validation.py:2732: UserWarning: X has feature names, but DecisionTreeRegressor was fitted without feature names\n",
      "  warnings.warn(\n",
      "C:\\Users\\dimit\\.conda\\envs\\thesis\\Lib\\site-packages\\sklearn\\utils\\validation.py:2732: UserWarning: X has feature names, but DecisionTreeRegressor was fitted without feature names\n",
      "  warnings.warn(\n",
      "C:\\Users\\dimit\\.conda\\envs\\thesis\\Lib\\site-packages\\sklearn\\utils\\validation.py:2732: UserWarning: X has feature names, but DecisionTreeRegressor was fitted without feature names\n",
      "  warnings.warn(\n",
      "C:\\Users\\dimit\\.conda\\envs\\thesis\\Lib\\site-packages\\sklearn\\utils\\validation.py:2732: UserWarning: X has feature names, but DecisionTreeRegressor was fitted without feature names\n",
      "  warnings.warn(\n",
      "C:\\Users\\dimit\\.conda\\envs\\thesis\\Lib\\site-packages\\sklearn\\utils\\validation.py:2732: UserWarning: X has feature names, but DecisionTreeRegressor was fitted without feature names\n",
      "  warnings.warn(\n",
      "C:\\Users\\dimit\\.conda\\envs\\thesis\\Lib\\site-packages\\sklearn\\utils\\validation.py:2732: UserWarning: X has feature names, but DecisionTreeRegressor was fitted without feature names\n",
      "  warnings.warn(\n",
      "C:\\Users\\dimit\\.conda\\envs\\thesis\\Lib\\site-packages\\sklearn\\utils\\validation.py:2732: UserWarning: X has feature names, but DecisionTreeRegressor was fitted without feature names\n",
      "  warnings.warn(\n",
      "C:\\Users\\dimit\\.conda\\envs\\thesis\\Lib\\site-packages\\sklearn\\utils\\validation.py:2732: UserWarning: X has feature names, but DecisionTreeRegressor was fitted without feature names\n",
      "  warnings.warn(\n",
      "C:\\Users\\dimit\\.conda\\envs\\thesis\\Lib\\site-packages\\sklearn\\utils\\validation.py:2732: UserWarning: X has feature names, but DecisionTreeRegressor was fitted without feature names\n",
      "  warnings.warn(\n",
      "C:\\Users\\dimit\\.conda\\envs\\thesis\\Lib\\site-packages\\sklearn\\utils\\validation.py:2732: UserWarning: X has feature names, but DecisionTreeRegressor was fitted without feature names\n",
      "  warnings.warn(\n",
      "C:\\Users\\dimit\\.conda\\envs\\thesis\\Lib\\site-packages\\sklearn\\utils\\validation.py:2732: UserWarning: X has feature names, but DecisionTreeRegressor was fitted without feature names\n",
      "  warnings.warn(\n",
      "C:\\Users\\dimit\\.conda\\envs\\thesis\\Lib\\site-packages\\sklearn\\utils\\validation.py:2732: UserWarning: X has feature names, but DecisionTreeRegressor was fitted without feature names\n",
      "  warnings.warn(\n",
      "C:\\Users\\dimit\\.conda\\envs\\thesis\\Lib\\site-packages\\sklearn\\utils\\validation.py:2732: UserWarning: X has feature names, but DecisionTreeRegressor was fitted without feature names\n",
      "  warnings.warn(\n",
      "C:\\Users\\dimit\\.conda\\envs\\thesis\\Lib\\site-packages\\sklearn\\utils\\validation.py:2732: UserWarning: X has feature names, but DecisionTreeRegressor was fitted without feature names\n",
      "  warnings.warn(\n",
      "C:\\Users\\dimit\\.conda\\envs\\thesis\\Lib\\site-packages\\sklearn\\utils\\validation.py:2732: UserWarning: X has feature names, but DecisionTreeRegressor was fitted without feature names\n",
      "  warnings.warn(\n",
      "C:\\Users\\dimit\\.conda\\envs\\thesis\\Lib\\site-packages\\sklearn\\utils\\validation.py:2732: UserWarning: X has feature names, but DecisionTreeRegressor was fitted without feature names\n",
      "  warnings.warn(\n",
      "C:\\Users\\dimit\\.conda\\envs\\thesis\\Lib\\site-packages\\sklearn\\utils\\validation.py:2732: UserWarning: X has feature names, but DecisionTreeRegressor was fitted without feature names\n",
      "  warnings.warn(\n",
      "C:\\Users\\dimit\\.conda\\envs\\thesis\\Lib\\site-packages\\sklearn\\utils\\validation.py:2732: UserWarning: X has feature names, but DecisionTreeRegressor was fitted without feature names\n",
      "  warnings.warn(\n",
      "C:\\Users\\dimit\\.conda\\envs\\thesis\\Lib\\site-packages\\sklearn\\utils\\validation.py:2732: UserWarning: X has feature names, but DecisionTreeRegressor was fitted without feature names\n",
      "  warnings.warn(\n",
      "C:\\Users\\dimit\\.conda\\envs\\thesis\\Lib\\site-packages\\sklearn\\utils\\validation.py:2732: UserWarning: X has feature names, but DecisionTreeRegressor was fitted without feature names\n",
      "  warnings.warn(\n",
      "C:\\Users\\dimit\\.conda\\envs\\thesis\\Lib\\site-packages\\sklearn\\utils\\validation.py:2732: UserWarning: X has feature names, but DecisionTreeRegressor was fitted without feature names\n",
      "  warnings.warn(\n",
      "C:\\Users\\dimit\\.conda\\envs\\thesis\\Lib\\site-packages\\sklearn\\utils\\validation.py:2732: UserWarning: X has feature names, but DecisionTreeRegressor was fitted without feature names\n",
      "  warnings.warn(\n",
      "C:\\Users\\dimit\\.conda\\envs\\thesis\\Lib\\site-packages\\sklearn\\utils\\validation.py:2732: UserWarning: X has feature names, but DecisionTreeRegressor was fitted without feature names\n",
      "  warnings.warn(\n",
      "C:\\Users\\dimit\\.conda\\envs\\thesis\\Lib\\site-packages\\sklearn\\utils\\validation.py:2732: UserWarning: X has feature names, but DecisionTreeRegressor was fitted without feature names\n",
      "  warnings.warn(\n",
      "C:\\Users\\dimit\\.conda\\envs\\thesis\\Lib\\site-packages\\sklearn\\utils\\validation.py:2732: UserWarning: X has feature names, but DecisionTreeRegressor was fitted without feature names\n",
      "  warnings.warn(\n",
      "C:\\Users\\dimit\\.conda\\envs\\thesis\\Lib\\site-packages\\sklearn\\utils\\validation.py:2732: UserWarning: X has feature names, but DecisionTreeRegressor was fitted without feature names\n",
      "  warnings.warn(\n",
      "C:\\Users\\dimit\\.conda\\envs\\thesis\\Lib\\site-packages\\sklearn\\utils\\validation.py:2732: UserWarning: X has feature names, but DecisionTreeRegressor was fitted without feature names\n",
      "  warnings.warn(\n",
      "C:\\Users\\dimit\\.conda\\envs\\thesis\\Lib\\site-packages\\sklearn\\utils\\validation.py:2732: UserWarning: X has feature names, but DecisionTreeRegressor was fitted without feature names\n",
      "  warnings.warn(\n",
      "C:\\Users\\dimit\\.conda\\envs\\thesis\\Lib\\site-packages\\sklearn\\utils\\validation.py:2732: UserWarning: X has feature names, but DecisionTreeRegressor was fitted without feature names\n",
      "  warnings.warn(\n",
      "C:\\Users\\dimit\\.conda\\envs\\thesis\\Lib\\site-packages\\sklearn\\utils\\validation.py:2732: UserWarning: X has feature names, but DecisionTreeRegressor was fitted without feature names\n",
      "  warnings.warn(\n",
      "C:\\Users\\dimit\\.conda\\envs\\thesis\\Lib\\site-packages\\sklearn\\utils\\validation.py:2732: UserWarning: X has feature names, but DecisionTreeRegressor was fitted without feature names\n",
      "  warnings.warn(\n",
      "C:\\Users\\dimit\\.conda\\envs\\thesis\\Lib\\site-packages\\sklearn\\utils\\validation.py:2732: UserWarning: X has feature names, but DecisionTreeRegressor was fitted without feature names\n",
      "  warnings.warn(\n",
      "C:\\Users\\dimit\\.conda\\envs\\thesis\\Lib\\site-packages\\sklearn\\utils\\validation.py:2732: UserWarning: X has feature names, but DecisionTreeRegressor was fitted without feature names\n",
      "  warnings.warn(\n",
      "C:\\Users\\dimit\\.conda\\envs\\thesis\\Lib\\site-packages\\sklearn\\utils\\validation.py:2732: UserWarning: X has feature names, but DecisionTreeRegressor was fitted without feature names\n",
      "  warnings.warn(\n",
      "C:\\Users\\dimit\\.conda\\envs\\thesis\\Lib\\site-packages\\sklearn\\utils\\validation.py:2732: UserWarning: X has feature names, but DecisionTreeRegressor was fitted without feature names\n",
      "  warnings.warn(\n",
      "C:\\Users\\dimit\\.conda\\envs\\thesis\\Lib\\site-packages\\sklearn\\utils\\validation.py:2732: UserWarning: X has feature names, but DecisionTreeRegressor was fitted without feature names\n",
      "  warnings.warn(\n",
      "C:\\Users\\dimit\\.conda\\envs\\thesis\\Lib\\site-packages\\sklearn\\utils\\validation.py:2732: UserWarning: X has feature names, but DecisionTreeRegressor was fitted without feature names\n",
      "  warnings.warn(\n",
      "C:\\Users\\dimit\\.conda\\envs\\thesis\\Lib\\site-packages\\sklearn\\utils\\validation.py:2732: UserWarning: X has feature names, but DecisionTreeRegressor was fitted without feature names\n",
      "  warnings.warn(\n",
      "C:\\Users\\dimit\\.conda\\envs\\thesis\\Lib\\site-packages\\sklearn\\utils\\validation.py:2732: UserWarning: X has feature names, but DecisionTreeRegressor was fitted without feature names\n",
      "  warnings.warn(\n",
      "C:\\Users\\dimit\\.conda\\envs\\thesis\\Lib\\site-packages\\sklearn\\utils\\validation.py:2732: UserWarning: X has feature names, but DecisionTreeRegressor was fitted without feature names\n",
      "  warnings.warn(\n",
      "C:\\Users\\dimit\\.conda\\envs\\thesis\\Lib\\site-packages\\sklearn\\utils\\validation.py:2732: UserWarning: X has feature names, but DecisionTreeRegressor was fitted without feature names\n",
      "  warnings.warn(\n",
      "C:\\Users\\dimit\\.conda\\envs\\thesis\\Lib\\site-packages\\sklearn\\utils\\validation.py:2732: UserWarning: X has feature names, but DecisionTreeRegressor was fitted without feature names\n",
      "  warnings.warn(\n",
      "C:\\Users\\dimit\\.conda\\envs\\thesis\\Lib\\site-packages\\sklearn\\utils\\validation.py:2732: UserWarning: X has feature names, but DecisionTreeRegressor was fitted without feature names\n",
      "  warnings.warn(\n",
      "C:\\Users\\dimit\\.conda\\envs\\thesis\\Lib\\site-packages\\sklearn\\utils\\validation.py:2732: UserWarning: X has feature names, but DecisionTreeRegressor was fitted without feature names\n",
      "  warnings.warn(\n",
      "C:\\Users\\dimit\\.conda\\envs\\thesis\\Lib\\site-packages\\sklearn\\utils\\validation.py:2732: UserWarning: X has feature names, but DecisionTreeRegressor was fitted without feature names\n",
      "  warnings.warn(\n",
      "C:\\Users\\dimit\\.conda\\envs\\thesis\\Lib\\site-packages\\sklearn\\utils\\validation.py:2732: UserWarning: X has feature names, but DecisionTreeRegressor was fitted without feature names\n",
      "  warnings.warn(\n",
      "C:\\Users\\dimit\\.conda\\envs\\thesis\\Lib\\site-packages\\sklearn\\utils\\validation.py:2732: UserWarning: X has feature names, but DecisionTreeRegressor was fitted without feature names\n",
      "  warnings.warn(\n",
      "C:\\Users\\dimit\\.conda\\envs\\thesis\\Lib\\site-packages\\sklearn\\utils\\validation.py:2732: UserWarning: X has feature names, but DecisionTreeRegressor was fitted without feature names\n",
      "  warnings.warn(\n",
      "C:\\Users\\dimit\\.conda\\envs\\thesis\\Lib\\site-packages\\sklearn\\utils\\validation.py:2732: UserWarning: X has feature names, but DecisionTreeRegressor was fitted without feature names\n",
      "  warnings.warn(\n",
      "C:\\Users\\dimit\\.conda\\envs\\thesis\\Lib\\site-packages\\sklearn\\utils\\validation.py:2732: UserWarning: X has feature names, but DecisionTreeRegressor was fitted without feature names\n",
      "  warnings.warn(\n",
      "C:\\Users\\dimit\\.conda\\envs\\thesis\\Lib\\site-packages\\sklearn\\utils\\validation.py:2732: UserWarning: X has feature names, but DecisionTreeRegressor was fitted without feature names\n",
      "  warnings.warn(\n",
      "C:\\Users\\dimit\\.conda\\envs\\thesis\\Lib\\site-packages\\sklearn\\utils\\validation.py:2732: UserWarning: X has feature names, but DecisionTreeRegressor was fitted without feature names\n",
      "  warnings.warn(\n",
      "C:\\Users\\dimit\\.conda\\envs\\thesis\\Lib\\site-packages\\sklearn\\utils\\validation.py:2732: UserWarning: X has feature names, but DecisionTreeRegressor was fitted without feature names\n",
      "  warnings.warn(\n",
      "C:\\Users\\dimit\\.conda\\envs\\thesis\\Lib\\site-packages\\sklearn\\utils\\validation.py:2732: UserWarning: X has feature names, but DecisionTreeRegressor was fitted without feature names\n",
      "  warnings.warn(\n",
      "C:\\Users\\dimit\\.conda\\envs\\thesis\\Lib\\site-packages\\sklearn\\utils\\validation.py:2732: UserWarning: X has feature names, but DecisionTreeRegressor was fitted without feature names\n",
      "  warnings.warn(\n",
      "C:\\Users\\dimit\\.conda\\envs\\thesis\\Lib\\site-packages\\sklearn\\utils\\validation.py:2732: UserWarning: X has feature names, but DecisionTreeRegressor was fitted without feature names\n",
      "  warnings.warn(\n"
     ]
    }
   ],
   "execution_count": 19
  },
  {
   "metadata": {
    "ExecuteTime": {
     "end_time": "2025-07-06T19:15:24.692632Z",
     "start_time": "2025-07-06T19:15:24.689366Z"
    }
   },
   "cell_type": "code",
   "source": "y_std",
   "id": "1206f7ecd996d72f",
   "outputs": [
    {
     "data": {
      "text/plain": [
       "array([56.84633585, 44.51862981, 59.03203452, 34.21735671, 34.5888349 ,\n",
       "       61.20792432, 51.5136875 , 28.14598373, 50.36117056,  8.17679644,\n",
       "       28.5229732 , 31.4354895 , 60.00606219,  5.45985348, 48.48430158,\n",
       "       57.11945028, 70.25779387, 31.21405292, 74.25932601, 55.32799924,\n",
       "       43.03193582, 50.56864147, 52.95892276, 27.02313823, 20.44131845,\n",
       "       25.34087607, 38.85469727, 59.11133901, 13.42841763, 82.77757849,\n",
       "       10.5541461 , 51.73825954, 67.25592911, 73.29520789, 32.735913  ,\n",
       "       51.09743144, 62.21864672, 44.65097983, 22.37275128, 69.00614103,\n",
       "       39.07249672, 41.01755722, 43.29503436, 26.84264331, 85.31852085,\n",
       "       34.09087121, 39.50443519, 49.31579362, 59.49789471, 73.13772966,\n",
       "       39.39860404, 26.64000751, 47.51641822, 31.37176278, 21.45990447,\n",
       "       33.67891922, 48.19157084, 65.75855458, 61.71879778, 39.60893334,\n",
       "       37.075059  , 43.87949407, 24.69635601, 47.98986872, 41.90879979,\n",
       "       53.05683274, 43.49629295, 67.43634035, 16.83775519, 51.00428511,\n",
       "       69.30762945, 46.57518116, 47.4557191 , 47.40197781, 36.11737809,\n",
       "       34.54576675, 36.08482229, 36.44570071, 57.36683362, 63.14520647,\n",
       "       51.43403542, 40.47942193, 57.50044869, 35.27857565, 15.24795068,\n",
       "       37.33916309, 38.8753135 , 47.29215051, 61.45755019, 18.59105968,\n",
       "       64.72279351, 34.5888349 , 56.04849597, 67.66010641, 32.22250766,\n",
       "       68.95675166, 32.59121814, 30.52556306, 19.35893592, 10.31637049,\n",
       "       40.7102874 , 76.31186015, 45.81539479, 48.48721481, 43.52011029,\n",
       "       39.45453079, 26.69756543, 59.13577597, 56.31957386, 31.50968105,\n",
       "       69.55350458, 53.56920757,  3.66884178, 70.47997943, 65.92943197,\n",
       "       41.16731106, 12.92439554, 49.63458875, 32.31872522, 54.36016464,\n",
       "       35.7657308 , 78.43996112, 68.82722935, 16.12846862, 47.81081363,\n",
       "       52.95753015, 72.46202523, 10.2804426 , 39.72817136, 36.02342988,\n",
       "       62.71849807, 47.14882395, 63.01783478, 49.37347466, 33.7934905 ,\n",
       "       45.83805733, 63.58418907, 28.78124389, 29.06183064, 63.38177972,\n",
       "       59.71842178, 63.97882462, 62.53127218, 23.93971595, 44.87471003,\n",
       "       43.79209404, 60.051327  , 40.73315603,  7.77110031, 52.97989807,\n",
       "       55.86202288, 51.96332842, 58.77454806, 51.37119816, 39.63013374,\n",
       "       55.73724069, 73.12530342, 70.99174248, 37.63226674, 65.59883288,\n",
       "       44.73530485, 30.6924665 , 30.36214749, 72.98073376, 41.86884283,\n",
       "       23.63239302, 12.50239977, 66.85976668, 51.80802641, 52.75357808,\n",
       "       43.17463491, 15.62522   , 34.5888349 , 40.80597383, 40.13885275,\n",
       "       29.14258053, 68.69856694, 32.00484338, 78.91468495, 12.90920214,\n",
       "       43.47214625, 56.42452924, 57.77274444, 24.78023406, 36.26637561,\n",
       "       46.07559007, 19.07380403, 58.94737427, 60.75434141, 62.30096307,\n",
       "       64.9988123 ])"
      ]
     },
     "execution_count": 22,
     "metadata": {},
     "output_type": "execute_result"
    }
   ],
   "execution_count": 22
  },
  {
   "metadata": {
    "ExecuteTime": {
     "end_time": "2025-07-06T19:31:06.059993Z",
     "start_time": "2025-07-06T19:31:06.055486Z"
    }
   },
   "cell_type": "code",
   "source": [
    "for metric, get_metric_score in metrics.items():\n",
    "    metric_score = get_metric_score(y[\"test\"][\"StartYear\"], y_pred)\n",
    "    if metric == \"rmse\": metric_score = np.sqrt(metric_score)\n",
    "    print(f\"{metric} = {metric_score}\")"
   ],
   "id": "7d6bb82962381557",
   "outputs": [
    {
     "name": "stdout",
     "output_type": "stream",
     "text": [
      "mae = 29.72931064572426\n",
      "rmse = 40.47218366658402\n",
      "r2 = 0.6095885256997997\n",
      "medae = 22.149999999999977\n",
      "maxerror: = 135.325\n"
     ]
    }
   ],
   "execution_count": 26
  },
  {
   "metadata": {
    "ExecuteTime": {
     "end_time": "2025-07-06T19:39:48.899314Z",
     "start_time": "2025-07-06T19:39:48.893435Z"
    }
   },
   "cell_type": "code",
   "source": [
    "results = pd.DataFrame({\"y_true\": y[\"test\"][\"StartYear\"], \"y_pred\": y_pred, \"y_std\": y_std})\n",
    "results"
   ],
   "id": "1c2512bdbd052f30",
   "outputs": [
    {
     "data": {
      "text/plain": [
       "     y_true      y_pred      y_std\n",
       "0    -525.0 -433.290000  56.846336\n",
       "1    -425.0 -460.460000  44.518630\n",
       "2    -375.0 -439.670000  59.032035\n",
       "3    -600.0 -508.150000  34.217357\n",
       "4    -500.0 -495.750000  34.588835\n",
       "..      ...         ...        ...\n",
       "186  -500.0 -501.300000  19.073804\n",
       "187  -500.0 -448.686667  58.947374\n",
       "188  -500.0 -482.100000  60.754341\n",
       "189  -375.0 -464.700000  62.300963\n",
       "190  -350.0 -442.120000  64.998812\n",
       "\n",
       "[191 rows x 3 columns]"
      ],
      "text/html": [
       "<div>\n",
       "<style scoped>\n",
       "    .dataframe tbody tr th:only-of-type {\n",
       "        vertical-align: middle;\n",
       "    }\n",
       "\n",
       "    .dataframe tbody tr th {\n",
       "        vertical-align: top;\n",
       "    }\n",
       "\n",
       "    .dataframe thead th {\n",
       "        text-align: right;\n",
       "    }\n",
       "</style>\n",
       "<table border=\"1\" class=\"dataframe\">\n",
       "  <thead>\n",
       "    <tr style=\"text-align: right;\">\n",
       "      <th></th>\n",
       "      <th>y_true</th>\n",
       "      <th>y_pred</th>\n",
       "      <th>y_std</th>\n",
       "    </tr>\n",
       "  </thead>\n",
       "  <tbody>\n",
       "    <tr>\n",
       "      <th>0</th>\n",
       "      <td>-525.0</td>\n",
       "      <td>-433.290000</td>\n",
       "      <td>56.846336</td>\n",
       "    </tr>\n",
       "    <tr>\n",
       "      <th>1</th>\n",
       "      <td>-425.0</td>\n",
       "      <td>-460.460000</td>\n",
       "      <td>44.518630</td>\n",
       "    </tr>\n",
       "    <tr>\n",
       "      <th>2</th>\n",
       "      <td>-375.0</td>\n",
       "      <td>-439.670000</td>\n",
       "      <td>59.032035</td>\n",
       "    </tr>\n",
       "    <tr>\n",
       "      <th>3</th>\n",
       "      <td>-600.0</td>\n",
       "      <td>-508.150000</td>\n",
       "      <td>34.217357</td>\n",
       "    </tr>\n",
       "    <tr>\n",
       "      <th>4</th>\n",
       "      <td>-500.0</td>\n",
       "      <td>-495.750000</td>\n",
       "      <td>34.588835</td>\n",
       "    </tr>\n",
       "    <tr>\n",
       "      <th>...</th>\n",
       "      <td>...</td>\n",
       "      <td>...</td>\n",
       "      <td>...</td>\n",
       "    </tr>\n",
       "    <tr>\n",
       "      <th>186</th>\n",
       "      <td>-500.0</td>\n",
       "      <td>-501.300000</td>\n",
       "      <td>19.073804</td>\n",
       "    </tr>\n",
       "    <tr>\n",
       "      <th>187</th>\n",
       "      <td>-500.0</td>\n",
       "      <td>-448.686667</td>\n",
       "      <td>58.947374</td>\n",
       "    </tr>\n",
       "    <tr>\n",
       "      <th>188</th>\n",
       "      <td>-500.0</td>\n",
       "      <td>-482.100000</td>\n",
       "      <td>60.754341</td>\n",
       "    </tr>\n",
       "    <tr>\n",
       "      <th>189</th>\n",
       "      <td>-375.0</td>\n",
       "      <td>-464.700000</td>\n",
       "      <td>62.300963</td>\n",
       "    </tr>\n",
       "    <tr>\n",
       "      <th>190</th>\n",
       "      <td>-350.0</td>\n",
       "      <td>-442.120000</td>\n",
       "      <td>64.998812</td>\n",
       "    </tr>\n",
       "  </tbody>\n",
       "</table>\n",
       "<p>191 rows × 3 columns</p>\n",
       "</div>"
      ]
     },
     "execution_count": 29,
     "metadata": {},
     "output_type": "execute_result"
    }
   ],
   "execution_count": 29
  },
  {
   "metadata": {
    "ExecuteTime": {
     "end_time": "2025-07-06T19:39:50.820118Z",
     "start_time": "2025-07-06T19:39:50.816708Z"
    }
   },
   "cell_type": "code",
   "source": [
    "from scipy.stats import norm\n",
    "\n",
    "# For 95% confidence interval\n",
    "z = norm.ppf(0.975)  # ≈ 1.96\n",
    "\n",
    "results[\"CI_lower\"] = results[\"y_pred\"] - z * results[\"y_std\"]\n",
    "results[\"CI_upper\"] = results[\"y_pred\"] + z * results[\"y_std\"]"
   ],
   "id": "27245d1a1864853b",
   "outputs": [],
   "execution_count": 30
  },
  {
   "metadata": {
    "ExecuteTime": {
     "end_time": "2025-07-06T19:43:12.634279Z",
     "start_time": "2025-07-06T19:43:12.625804Z"
    }
   },
   "cell_type": "code",
   "source": [
    "def confidence_interval_around_prediction(y_std, N=10):\n",
    "    z = N / y_std\n",
    "    confidence = norm.cdf(z) * 2\n",
    "    return min(confidence, 1.0)\n",
    "\n",
    "N = 100  # ± years window\n",
    "\n",
    "results[\"confidence_±10\"] = results[\"y_std\"].apply(\n",
    "    lambda std: confidence_interval_around_prediction(std, N)\n",
    ")"
   ],
   "id": "9dd5778ae54735a8",
   "outputs": [],
   "execution_count": 42
  },
  {
   "metadata": {
    "ExecuteTime": {
     "end_time": "2025-07-06T19:43:13.055515Z",
     "start_time": "2025-07-06T19:43:13.049882Z"
    }
   },
   "cell_type": "code",
   "source": "results",
   "id": "23f6589b6a7087af",
   "outputs": [
    {
     "data": {
      "text/plain": [
       "     y_true      y_pred      y_std    CI_lower    CI_upper  confidence_±10\n",
       "0    -525.0 -433.290000  56.846336 -544.706771 -321.873229             1.0\n",
       "1    -425.0 -460.460000  44.518630 -547.714911 -373.205089             1.0\n",
       "2    -375.0 -439.670000  59.032035 -555.370662 -323.969338             1.0\n",
       "3    -600.0 -508.150000  34.217357 -575.214787 -441.085213             1.0\n",
       "4    -500.0 -495.750000  34.588835 -563.542871 -427.957129             1.0\n",
       "..      ...         ...        ...         ...         ...             ...\n",
       "186  -500.0 -501.300000  19.073804 -538.683969 -463.916031             1.0\n",
       "187  -500.0 -448.686667  58.947374 -564.221397 -333.151936             1.0\n",
       "188  -500.0 -482.100000  60.754341 -601.176321 -363.023679             1.0\n",
       "189  -375.0 -464.700000  62.300963 -586.807644 -342.592356             1.0\n",
       "190  -350.0 -442.120000  64.998812 -569.515331 -314.724669             1.0\n",
       "\n",
       "[191 rows x 6 columns]"
      ],
      "text/html": [
       "<div>\n",
       "<style scoped>\n",
       "    .dataframe tbody tr th:only-of-type {\n",
       "        vertical-align: middle;\n",
       "    }\n",
       "\n",
       "    .dataframe tbody tr th {\n",
       "        vertical-align: top;\n",
       "    }\n",
       "\n",
       "    .dataframe thead th {\n",
       "        text-align: right;\n",
       "    }\n",
       "</style>\n",
       "<table border=\"1\" class=\"dataframe\">\n",
       "  <thead>\n",
       "    <tr style=\"text-align: right;\">\n",
       "      <th></th>\n",
       "      <th>y_true</th>\n",
       "      <th>y_pred</th>\n",
       "      <th>y_std</th>\n",
       "      <th>CI_lower</th>\n",
       "      <th>CI_upper</th>\n",
       "      <th>confidence_±10</th>\n",
       "    </tr>\n",
       "  </thead>\n",
       "  <tbody>\n",
       "    <tr>\n",
       "      <th>0</th>\n",
       "      <td>-525.0</td>\n",
       "      <td>-433.290000</td>\n",
       "      <td>56.846336</td>\n",
       "      <td>-544.706771</td>\n",
       "      <td>-321.873229</td>\n",
       "      <td>1.0</td>\n",
       "    </tr>\n",
       "    <tr>\n",
       "      <th>1</th>\n",
       "      <td>-425.0</td>\n",
       "      <td>-460.460000</td>\n",
       "      <td>44.518630</td>\n",
       "      <td>-547.714911</td>\n",
       "      <td>-373.205089</td>\n",
       "      <td>1.0</td>\n",
       "    </tr>\n",
       "    <tr>\n",
       "      <th>2</th>\n",
       "      <td>-375.0</td>\n",
       "      <td>-439.670000</td>\n",
       "      <td>59.032035</td>\n",
       "      <td>-555.370662</td>\n",
       "      <td>-323.969338</td>\n",
       "      <td>1.0</td>\n",
       "    </tr>\n",
       "    <tr>\n",
       "      <th>3</th>\n",
       "      <td>-600.0</td>\n",
       "      <td>-508.150000</td>\n",
       "      <td>34.217357</td>\n",
       "      <td>-575.214787</td>\n",
       "      <td>-441.085213</td>\n",
       "      <td>1.0</td>\n",
       "    </tr>\n",
       "    <tr>\n",
       "      <th>4</th>\n",
       "      <td>-500.0</td>\n",
       "      <td>-495.750000</td>\n",
       "      <td>34.588835</td>\n",
       "      <td>-563.542871</td>\n",
       "      <td>-427.957129</td>\n",
       "      <td>1.0</td>\n",
       "    </tr>\n",
       "    <tr>\n",
       "      <th>...</th>\n",
       "      <td>...</td>\n",
       "      <td>...</td>\n",
       "      <td>...</td>\n",
       "      <td>...</td>\n",
       "      <td>...</td>\n",
       "      <td>...</td>\n",
       "    </tr>\n",
       "    <tr>\n",
       "      <th>186</th>\n",
       "      <td>-500.0</td>\n",
       "      <td>-501.300000</td>\n",
       "      <td>19.073804</td>\n",
       "      <td>-538.683969</td>\n",
       "      <td>-463.916031</td>\n",
       "      <td>1.0</td>\n",
       "    </tr>\n",
       "    <tr>\n",
       "      <th>187</th>\n",
       "      <td>-500.0</td>\n",
       "      <td>-448.686667</td>\n",
       "      <td>58.947374</td>\n",
       "      <td>-564.221397</td>\n",
       "      <td>-333.151936</td>\n",
       "      <td>1.0</td>\n",
       "    </tr>\n",
       "    <tr>\n",
       "      <th>188</th>\n",
       "      <td>-500.0</td>\n",
       "      <td>-482.100000</td>\n",
       "      <td>60.754341</td>\n",
       "      <td>-601.176321</td>\n",
       "      <td>-363.023679</td>\n",
       "      <td>1.0</td>\n",
       "    </tr>\n",
       "    <tr>\n",
       "      <th>189</th>\n",
       "      <td>-375.0</td>\n",
       "      <td>-464.700000</td>\n",
       "      <td>62.300963</td>\n",
       "      <td>-586.807644</td>\n",
       "      <td>-342.592356</td>\n",
       "      <td>1.0</td>\n",
       "    </tr>\n",
       "    <tr>\n",
       "      <th>190</th>\n",
       "      <td>-350.0</td>\n",
       "      <td>-442.120000</td>\n",
       "      <td>64.998812</td>\n",
       "      <td>-569.515331</td>\n",
       "      <td>-314.724669</td>\n",
       "      <td>1.0</td>\n",
       "    </tr>\n",
       "  </tbody>\n",
       "</table>\n",
       "<p>191 rows × 6 columns</p>\n",
       "</div>"
      ]
     },
     "execution_count": 43,
     "metadata": {},
     "output_type": "execute_result"
    }
   ],
   "execution_count": 43
  },
  {
   "metadata": {},
   "cell_type": "code",
   "outputs": [],
   "execution_count": null,
   "source": "",
   "id": "eb8a60e2bf021acb"
  }
 ],
 "metadata": {
  "kernelspec": {
   "display_name": "Python 3",
   "language": "python",
   "name": "python3"
  },
  "language_info": {
   "codemirror_mode": {
    "name": "ipython",
    "version": 2
   },
   "file_extension": ".py",
   "mimetype": "text/x-python",
   "name": "python",
   "nbconvert_exporter": "python",
   "pygments_lexer": "ipython2",
   "version": "2.7.6"
  }
 },
 "nbformat": 4,
 "nbformat_minor": 5
}
