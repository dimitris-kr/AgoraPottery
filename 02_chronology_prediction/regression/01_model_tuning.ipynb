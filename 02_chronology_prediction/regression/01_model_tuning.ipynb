{
 "cells": [
  {
   "cell_type": "code",
   "id": "initial_id",
   "metadata": {
    "collapsed": true,
    "ExecuteTime": {
     "end_time": "2025-07-19T17:04:26.731381Z",
     "start_time": "2025-07-19T17:04:26.695012Z"
    }
   },
   "source": [
    "import sys\n",
    "import numpy as np\n",
    "import json\n",
    "import os"
   ],
   "outputs": [],
   "execution_count": 1
  },
  {
   "metadata": {
    "ExecuteTime": {
     "end_time": "2025-07-19T17:04:27.366082Z",
     "start_time": "2025-07-19T17:04:26.739494Z"
    }
   },
   "cell_type": "code",
   "source": [
    "from sklearn.model_selection import KFold, ParameterGrid\n",
    "from sklearn.linear_model import LinearRegression, Ridge, Lasso\n",
    "from sklearn.ensemble import RandomForestRegressor\n",
    "\n",
    "from xgboost import XGBRegressor\n",
    "from lightgbm import LGBMRegressor"
   ],
   "id": "d3818389bd9dfac9",
   "outputs": [],
   "execution_count": 2
  },
  {
   "metadata": {
    "ExecuteTime": {
     "end_time": "2025-07-19T17:04:28.603892Z",
     "start_time": "2025-07-19T17:04:27.453107Z"
    }
   },
   "cell_type": "code",
   "source": [
    "sys.path.append(os.path.abspath(\"..\"))\n",
    "import utils"
   ],
   "id": "372b1800932fab97",
   "outputs": [],
   "execution_count": 3
  },
  {
   "metadata": {},
   "cell_type": "markdown",
   "source": "## Read Features and Targets",
   "id": "f7db6254fc6a1596"
  },
  {
   "metadata": {
    "ExecuteTime": {
     "end_time": "2025-07-19T17:04:28.611140Z",
     "start_time": "2025-07-19T17:04:28.608253Z"
    }
   },
   "cell_type": "code",
   "source": "path = os.path.abspath(os.path.join(os.getcwd(), \"../../data/chronology_prediction\"))",
   "id": "5523bed8b295f70",
   "outputs": [],
   "execution_count": 4
  },
  {
   "metadata": {
    "ExecuteTime": {
     "end_time": "2025-07-19T17:04:29.466198Z",
     "start_time": "2025-07-19T17:04:28.619198Z"
    }
   },
   "cell_type": "code",
   "source": "X = utils.read_features(path)",
   "id": "de490dafe7b72c47",
   "outputs": [
    {
     "name": "stdout",
     "output_type": "stream",
     "text": [
      "Loaded X_train_tfidf\n",
      "Loaded X_train_bert\n",
      "Loaded X_train_cannyhog\n",
      "Loaded X_train_resnet\n",
      "Loaded X_train_vit\n",
      "Loaded X_test_tfidf\n",
      "Loaded X_test_bert\n",
      "Loaded X_test_cannyhog\n",
      "Loaded X_test_resnet\n",
      "Loaded X_test_vit\n"
     ]
    }
   ],
   "execution_count": 5
  },
  {
   "metadata": {
    "ExecuteTime": {
     "end_time": "2025-07-19T17:04:29.476278Z",
     "start_time": "2025-07-19T17:04:29.472722Z"
    }
   },
   "cell_type": "code",
   "source": [
    "print(\"X = {\")\n",
    "for subset in X.keys():\n",
    "    indent = \"\\t\"\n",
    "    print(f\"{indent}{subset}: \" + \"{\")\n",
    "    for method in X[subset].keys():\n",
    "        indent = 2 * \"\\t\"\n",
    "        print(f\"{indent}{method}: \")\n",
    "        indent = 3 * \"\\t\"\n",
    "        print(f\"{indent}{type(X[subset][method])}\")\n",
    "        print(f\"{indent}shape = {X[subset][method].shape}, \")\n",
    "    print(\"\\t},\")\n",
    "print(\"}\")"
   ],
   "id": "68e8629e30806906",
   "outputs": [
    {
     "name": "stdout",
     "output_type": "stream",
     "text": [
      "X = {\n",
      "\ttrain: {\n",
      "\t\ttfidf: \n",
      "\t\t\t<class 'pandas.core.frame.DataFrame'>\n",
      "\t\t\tshape = (1719, 300), \n",
      "\t\tbert: \n",
      "\t\t\t<class 'pandas.core.frame.DataFrame'>\n",
      "\t\t\tshape = (1719, 768), \n",
      "\t\tcannyhog: \n",
      "\t\t\t<class 'pandas.core.frame.DataFrame'>\n",
      "\t\t\tshape = (1719, 2917), \n",
      "\t\tresnet: \n",
      "\t\t\t<class 'pandas.core.frame.DataFrame'>\n",
      "\t\t\tshape = (1719, 2048), \n",
      "\t\tvit: \n",
      "\t\t\t<class 'pandas.core.frame.DataFrame'>\n",
      "\t\t\tshape = (1719, 768), \n",
      "\t},\n",
      "\ttest: {\n",
      "\t\ttfidf: \n",
      "\t\t\t<class 'pandas.core.frame.DataFrame'>\n",
      "\t\t\tshape = (191, 300), \n",
      "\t\tbert: \n",
      "\t\t\t<class 'pandas.core.frame.DataFrame'>\n",
      "\t\t\tshape = (191, 768), \n",
      "\t\tcannyhog: \n",
      "\t\t\t<class 'pandas.core.frame.DataFrame'>\n",
      "\t\t\tshape = (191, 2917), \n",
      "\t\tresnet: \n",
      "\t\t\t<class 'pandas.core.frame.DataFrame'>\n",
      "\t\t\tshape = (191, 2048), \n",
      "\t\tvit: \n",
      "\t\t\t<class 'pandas.core.frame.DataFrame'>\n",
      "\t\t\tshape = (191, 768), \n",
      "\t},\n",
      "}\n"
     ]
    }
   ],
   "execution_count": 6
  },
  {
   "metadata": {
    "ExecuteTime": {
     "end_time": "2025-07-19T17:04:29.487912Z",
     "start_time": "2025-07-19T17:04:29.482364Z"
    }
   },
   "cell_type": "code",
   "source": "y = utils.read_targets(path, [\"StartYear\", \"YearRange\"])",
   "id": "62dd54dbb3fa59fb",
   "outputs": [
    {
     "name": "stdout",
     "output_type": "stream",
     "text": [
      "Loaded y_train\n",
      "Loaded y_test\n"
     ]
    }
   ],
   "execution_count": 7
  },
  {
   "metadata": {
    "ExecuteTime": {
     "end_time": "2025-07-19T17:04:29.499946Z",
     "start_time": "2025-07-19T17:04:29.497553Z"
    }
   },
   "cell_type": "code",
   "source": [
    "print(\"y = {\")\n",
    "for subset in y.keys():\n",
    "    indent = \"\\t\"\n",
    "    print(f\"{indent}{subset}: \")\n",
    "    indent = 2 * \"\\t\"\n",
    "    print(f\"{indent}{type(y[subset])}\")\n",
    "    print(f\"{indent}shape {y[subset].shape}\")\n",
    "    print(f\"{indent}columns {list(y[subset].columns)},\")\n",
    "print(\"}\")"
   ],
   "id": "a03463fb9f478ffa",
   "outputs": [
    {
     "name": "stdout",
     "output_type": "stream",
     "text": [
      "y = {\n",
      "\ttrain: \n",
      "\t\t<class 'pandas.core.frame.DataFrame'>\n",
      "\t\tshape (1719, 2)\n",
      "\t\tcolumns ['StartYear', 'YearRange'],\n",
      "\ttest: \n",
      "\t\t<class 'pandas.core.frame.DataFrame'>\n",
      "\t\tshape (191, 2)\n",
      "\t\tcolumns ['StartYear', 'YearRange'],\n",
      "}\n"
     ]
    }
   ],
   "execution_count": 8
  },
  {
   "metadata": {},
   "cell_type": "markdown",
   "source": "## Initialize 10-Fold Cross Validation\n",
   "id": "ff6cccf5417b1081"
  },
  {
   "metadata": {
    "ExecuteTime": {
     "end_time": "2025-07-19T17:04:29.519030Z",
     "start_time": "2025-07-19T17:04:29.515939Z"
    }
   },
   "cell_type": "code",
   "source": [
    "kf = KFold(n_splits=10, shuffle=True, random_state=42)\n",
    "folds = list(kf.split(np.arange(y[\"train\"].shape[0])))"
   ],
   "id": "4e15d7145e6d1292",
   "outputs": [],
   "execution_count": 9
  },
  {
   "metadata": {},
   "cell_type": "markdown",
   "source": "## Hyperparameter Tuning Process\n",
   "id": "16ce2eaf166bcf68"
  },
  {
   "metadata": {
    "ExecuteTime": {
     "end_time": "2025-07-19T17:04:29.535134Z",
     "start_time": "2025-07-19T17:04:29.530702Z"
    }
   },
   "cell_type": "code",
   "source": [
    "def hyperparameter_tuning(model_class, param_grid, X, y, verbose=0):\n",
    "    param_mae = []\n",
    "    for params in ParameterGrid(param_grid):\n",
    "        model = model_class(**params)\n",
    "        s = utils.cross_validation(model, folds, utils.metrics_r, X, y)\n",
    "        param_mae += [(params, s[\"mae\"][0])]\n",
    "\n",
    "    best_params, best_mae = min(param_mae, key=lambda x: x[1])\n",
    "    if verbose:\n",
    "        print(f\"Best params: {best_params}\")\n",
    "        print(f\"Best MAE: {best_mae:.2f}\")\n",
    "    return best_params  #, best_mae"
   ],
   "id": "623dc01bc544b2cd",
   "outputs": [],
   "execution_count": 10
  },
  {
   "metadata": {},
   "cell_type": "markdown",
   "source": "## Run HP Tuning for All Feature Sets",
   "id": "3ec859771e2ec1b0"
  },
  {
   "metadata": {
    "ExecuteTime": {
     "end_time": "2025-07-19T17:04:29.549818Z",
     "start_time": "2025-07-19T17:04:29.547149Z"
    }
   },
   "cell_type": "code",
   "source": [
    "def run_hp_all(model_class, param_grid, X, y, verbose=0):\n",
    "    model_best_params = {}\n",
    "    for target, _y in y[\"train\"].items():\n",
    "        for method, _X in X[\"train\"].items():\n",
    "            if verbose: print(f\"\\nFeatures: {method} | Target: {target}\")\n",
    "            model_best_params[(method, target)] = hyperparameter_tuning(model_class, param_grid, _X, _y, verbose)\n",
    "\n",
    "        for text_method in utils.d_types_methods[\"text\"]:\n",
    "            for image_method in utils.d_types_methods[\"image\"]:\n",
    "                # _X = utils.combine_features(X, \"train\", [text_method, image_method])\n",
    "                _X = utils.combine_features([X[\"train\"][text_method], X[\"train\"][image_method]])\n",
    "                method = f\"{text_method} + {image_method}\"\n",
    "\n",
    "                if verbose: print(f\"\\nFeatures: {method} | Target: {target}\")\n",
    "                model_best_params[(method, target)] = hyperparameter_tuning(model_class, param_grid, _X, _y, verbose)\n",
    "\n",
    "    return model_best_params"
   ],
   "id": "3b7cfc609380a888",
   "outputs": [],
   "execution_count": 11
  },
  {
   "metadata": {},
   "cell_type": "markdown",
   "source": "## Define Parameter Grid per Model",
   "id": "8bffea108b33ba1e"
  },
  {
   "metadata": {
    "ExecuteTime": {
     "end_time": "2025-07-19T17:04:29.564152Z",
     "start_time": "2025-07-19T17:04:29.560121Z"
    }
   },
   "cell_type": "code",
   "source": [
    "model_param_grids = {\n",
    "    \"Ridge\": (\n",
    "        Ridge, {\n",
    "            \"alpha\": [0.01, 0.1, 1, 10, 100, 1000],\n",
    "            \"random_state\": [42]\n",
    "        }\n",
    "    ),\n",
    "    \"Lasso\": (\n",
    "        Lasso, {\n",
    "            \"alpha\": [0.0001, 0.001, 0.01, 0.1, 1, 10],\n",
    "            \"random_state\": [42],\n",
    "            \"max_iter\": [10000]\n",
    "        }\n",
    "    ),\n",
    "    \"RandomForest\": (\n",
    "        RandomForestRegressor, {\n",
    "            \"n_estimators\": [100],\n",
    "            \"max_depth\": [None, 20],\n",
    "            \"min_samples_split\": [2],\n",
    "            \"min_samples_leaf\": [1, 2],\n",
    "            \"random_state\": [42],\n",
    "            \"n_jobs\": [-1]\n",
    "        }\n",
    "    ),\n",
    "    \"XGBoost\": (\n",
    "        XGBRegressor,\n",
    "        {\n",
    "            \"n_estimators\": [100],\n",
    "            \"max_depth\": [3, 6],\n",
    "            \"learning_rate\": [0.05, 0.1],\n",
    "            \"subsample\": [0.8],\n",
    "            \"colsample_bytree\": [0.8],\n",
    "            \"tree_method\": [\"hist\"],\n",
    "            \"device\": [\"cuda\"],\n",
    "            \"random_state\": [42]\n",
    "        }\n",
    "    ),\n",
    "    \"LightGBM\": (\n",
    "        LGBMRegressor,\n",
    "        {\n",
    "            \"n_estimators\": [100],\n",
    "            \"max_depth\": [-1, 20],\n",
    "            \"learning_rate\": [0.05, 0.1],\n",
    "            \"num_leaves\": [31, 64],\n",
    "            \"device\": [\"gpu\"],\n",
    "            \"random_state\": [42],\n",
    "            \"verbose\": [-1]\n",
    "        }\n",
    "    )\n",
    "}"
   ],
   "id": "ca57b97a95889f70",
   "outputs": [],
   "execution_count": 12
  },
  {
   "metadata": {},
   "cell_type": "markdown",
   "source": [
    "## Load or Initialize Best Parameter Dictionary\n",
    "\n",
    "Load best_params dictionary from JSON file, if it exists, else initialize dictionary"
   ],
   "id": "a007a7a1a8ad78cc"
  },
  {
   "metadata": {
    "ExecuteTime": {
     "end_time": "2025-07-19T17:04:29.586341Z",
     "start_time": "2025-07-19T17:04:29.579886Z"
    }
   },
   "cell_type": "code",
   "source": [
    "path_params = \"best_params.json\"\n",
    "\n",
    "# Load or initialize\n",
    "if os.path.exists(path_params):\n",
    "    with open(path_params, \"r\") as f:\n",
    "        best_params = json.load(f)\n",
    "\n",
    "        # Convert stringified tuples back to tuple keys\n",
    "        best_params = {\n",
    "            model: {\n",
    "                eval(k): v for k, v in param_dict.items()\n",
    "            } for model, param_dict in best_params.items()\n",
    "        }\n",
    "else:\n",
    "    best_params = {}"
   ],
   "id": "ed843264a7447d75",
   "outputs": [],
   "execution_count": 13
  },
  {
   "metadata": {
    "ExecuteTime": {
     "end_time": "2025-07-19T17:04:29.597232Z",
     "start_time": "2025-07-19T17:04:29.594022Z"
    }
   },
   "cell_type": "code",
   "source": "len(best_params)",
   "id": "381afc42777f232d",
   "outputs": [
    {
     "data": {
      "text/plain": [
       "5"
      ]
     },
     "execution_count": 14,
     "metadata": {},
     "output_type": "execute_result"
    }
   ],
   "execution_count": 14
  },
  {
   "metadata": {},
   "cell_type": "markdown",
   "source": [
    "## Run HP Tuning for New Models\n",
    "\n",
    "Run tuning only for models missing from the saved params"
   ],
   "id": "f92f4e6b60f1aa36"
  },
  {
   "metadata": {
    "ExecuteTime": {
     "end_time": "2025-07-19T17:04:29.612653Z",
     "start_time": "2025-07-19T17:04:29.610240Z"
    }
   },
   "cell_type": "code",
   "source": [
    "verbose = True\n",
    "flag_new_model = False\n",
    "for model_name, (model_class, param_grid) in model_param_grids.items():\n",
    "\n",
    "    if model_name not in best_params:\n",
    "        flag_new_model = True\n",
    "\n",
    "        if verbose: print(f\"\\n🎚️ Hyperparameter Tuning '{model_name}' Model\")\n",
    "        best_params[model_name] = run_hp_all(model_class, param_grid, X, y, verbose)\n",
    "    else:\n",
    "        if verbose: print(f\"\\n✅ '{model_name}' Model Already Tuned\")\n"
   ],
   "id": "3d54cad1754c612e",
   "outputs": [
    {
     "name": "stdout",
     "output_type": "stream",
     "text": [
      "\n",
      "✅ 'Ridge' Model Already Tuned\n",
      "\n",
      "✅ 'Lasso' Model Already Tuned\n",
      "\n",
      "✅ 'RandomForest' Model Already Tuned\n",
      "\n",
      "✅ 'XGBoost' Model Already Tuned\n",
      "\n",
      "✅ 'LightGBM' Model Already Tuned\n"
     ]
    }
   ],
   "execution_count": 15
  },
  {
   "metadata": {
    "ExecuteTime": {
     "end_time": "2025-07-19T17:04:29.626148Z",
     "start_time": "2025-07-19T17:04:29.623968Z"
    }
   },
   "cell_type": "code",
   "source": "len(best_params)",
   "id": "ed548f4409e8c13c",
   "outputs": [
    {
     "data": {
      "text/plain": [
       "5"
      ]
     },
     "execution_count": 16,
     "metadata": {},
     "output_type": "execute_result"
    }
   ],
   "execution_count": 16
  },
  {
   "metadata": {},
   "cell_type": "markdown",
   "source": [
    "## Save Best Parameters per Model\n",
    "\n",
    "Save best params if new models added"
   ],
   "id": "c5aefd4534b18ad1"
  },
  {
   "metadata": {
    "ExecuteTime": {
     "end_time": "2025-07-19T17:04:29.637401Z",
     "start_time": "2025-07-19T17:04:29.633939Z"
    }
   },
   "cell_type": "code",
   "source": [
    "if flag_new_model:\n",
    "    # Convert tuple keys to strings to make JSON serializable\n",
    "    serializable_params = {\n",
    "        model: {\n",
    "            str(k): v for k, v in param_dict.items()\n",
    "        } for model, param_dict in best_params.items()\n",
    "    }\n",
    "\n",
    "    with open(path_params, \"w\") as f:\n",
    "        json.dump(serializable_params, f, indent=2)\n",
    "\n",
    "    print(f\"✅ Saved best parameters to {path_params}\")\n",
    "else:\n",
    "    print(\"✅ No new tuning needed — using existing parameters.\")"
   ],
   "id": "cd017e1b968938b8",
   "outputs": [
    {
     "name": "stdout",
     "output_type": "stream",
     "text": [
      "✅ No new tuning needed — using existing parameters.\n"
     ]
    }
   ],
   "execution_count": 17
  }
 ],
 "metadata": {
  "kernelspec": {
   "display_name": "Python 3",
   "language": "python",
   "name": "python3"
  },
  "language_info": {
   "codemirror_mode": {
    "name": "ipython",
    "version": 2
   },
   "file_extension": ".py",
   "mimetype": "text/x-python",
   "name": "python",
   "nbconvert_exporter": "python",
   "pygments_lexer": "ipython2",
   "version": "2.7.6"
  }
 },
 "nbformat": 4,
 "nbformat_minor": 5
}
