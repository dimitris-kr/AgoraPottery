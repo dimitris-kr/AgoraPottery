{
 "cells": [
  {
   "metadata": {
    "collapsed": true,
    "ExecuteTime": {
     "end_time": "2025-07-26T18:14:34.259722Z",
     "start_time": "2025-07-26T18:14:34.035622Z"
    }
   },
   "cell_type": "code",
   "source": [
    "import sys\n",
    "import numpy as np\n",
    "import pandas as pd\n",
    "import json\n",
    "import os"
   ],
   "id": "a401f0559624c782",
   "outputs": [],
   "execution_count": 1
  },
  {
   "metadata": {
    "ExecuteTime": {
     "end_time": "2025-07-26T18:14:34.738393Z",
     "start_time": "2025-07-26T18:14:34.269733Z"
    }
   },
   "cell_type": "code",
   "source": [
    "from sklearn.model_selection import StratifiedKFold, ParameterGrid\n",
    "from sklearn.preprocessing import LabelEncoder, StandardScaler\n",
    "\n",
    "from sklearn.ensemble import RandomForestClassifier\n",
    "from sklearn.linear_model import LogisticRegression\n",
    "from sklearn.neighbors import KNeighborsClassifier\n",
    "from xgboost import XGBClassifier\n",
    "from lightgbm import LGBMClassifier"
   ],
   "id": "a126aa5d84efa4b6",
   "outputs": [],
   "execution_count": 2
  },
  {
   "metadata": {
    "ExecuteTime": {
     "end_time": "2025-07-26T18:14:36.086388Z",
     "start_time": "2025-07-26T18:14:34.826930Z"
    }
   },
   "cell_type": "code",
   "source": [
    "sys.path.append(os.path.abspath(\"..\"))\n",
    "from utils import load_best_params, read_features, read_targets, run_hp_all, metrics_c, save_best_params, combine_features_all_txt_img, scale_feature_set, print_info_features, print_info_targets, reduce_components, d_types_methods, combine_features"
   ],
   "id": "81fc3ec20c2505aa",
   "outputs": [],
   "execution_count": 3
  },
  {
   "metadata": {},
   "cell_type": "markdown",
   "source": "## Read Features and Targets",
   "id": "e6a3bb5b1dd2f248"
  },
  {
   "metadata": {
    "ExecuteTime": {
     "end_time": "2025-07-26T18:14:36.093121Z",
     "start_time": "2025-07-26T18:14:36.090055Z"
    }
   },
   "cell_type": "code",
   "source": "path = os.path.abspath(os.path.join(os.getcwd(), \"../../data/chronology_prediction\"))",
   "id": "32a6d77d59e7ea50",
   "outputs": [],
   "execution_count": 4
  },
  {
   "metadata": {
    "ExecuteTime": {
     "end_time": "2025-07-26T18:14:36.994608Z",
     "start_time": "2025-07-26T18:14:36.097333Z"
    }
   },
   "cell_type": "code",
   "source": [
    "X = read_features(path)\n",
    "y = read_targets(path, [\"HistoricalPeriod\"])"
   ],
   "id": "2abf6b30281d4b49",
   "outputs": [
    {
     "name": "stdout",
     "output_type": "stream",
     "text": [
      "Loaded X_train_tfidf\n",
      "Loaded X_train_bert\n",
      "Loaded X_train_cannyhog\n",
      "Loaded X_train_resnet\n",
      "Loaded X_train_vit\n",
      "Loaded X_test_tfidf\n",
      "Loaded X_test_bert\n",
      "Loaded X_test_cannyhog\n",
      "Loaded X_test_resnet\n",
      "Loaded X_test_vit\n",
      "Loaded y_train\n",
      "Loaded y_test\n"
     ]
    }
   ],
   "execution_count": 5
  },
  {
   "metadata": {
    "ExecuteTime": {
     "end_time": "2025-07-26T18:14:37.005644Z",
     "start_time": "2025-07-26T18:14:37.003358Z"
    }
   },
   "cell_type": "code",
   "source": "print_info_features(X)",
   "id": "a985807b90961227",
   "outputs": [
    {
     "name": "stdout",
     "output_type": "stream",
     "text": [
      "X = {\n",
      "\ttrain: {\n",
      "\t\ttfidf: \n",
      "\t\t\t<class 'pandas.core.frame.DataFrame'>\n",
      "\t\t\tshape = (1719, 300), \n",
      "\t\tbert: \n",
      "\t\t\t<class 'pandas.core.frame.DataFrame'>\n",
      "\t\t\tshape = (1719, 768), \n",
      "\t\tcannyhog: \n",
      "\t\t\t<class 'pandas.core.frame.DataFrame'>\n",
      "\t\t\tshape = (1719, 2917), \n",
      "\t\tresnet: \n",
      "\t\t\t<class 'pandas.core.frame.DataFrame'>\n",
      "\t\t\tshape = (1719, 2048), \n",
      "\t\tvit: \n",
      "\t\t\t<class 'pandas.core.frame.DataFrame'>\n",
      "\t\t\tshape = (1719, 768), \n",
      "\t},\n",
      "\ttest: {\n",
      "\t\ttfidf: \n",
      "\t\t\t<class 'pandas.core.frame.DataFrame'>\n",
      "\t\t\tshape = (191, 300), \n",
      "\t\tbert: \n",
      "\t\t\t<class 'pandas.core.frame.DataFrame'>\n",
      "\t\t\tshape = (191, 768), \n",
      "\t\tcannyhog: \n",
      "\t\t\t<class 'pandas.core.frame.DataFrame'>\n",
      "\t\t\tshape = (191, 2917), \n",
      "\t\tresnet: \n",
      "\t\t\t<class 'pandas.core.frame.DataFrame'>\n",
      "\t\t\tshape = (191, 2048), \n",
      "\t\tvit: \n",
      "\t\t\t<class 'pandas.core.frame.DataFrame'>\n",
      "\t\t\tshape = (191, 768), \n",
      "\t},\n",
      "}\n"
     ]
    }
   ],
   "execution_count": 6
  },
  {
   "metadata": {
    "ExecuteTime": {
     "end_time": "2025-07-26T18:14:37.027568Z",
     "start_time": "2025-07-26T18:14:37.024060Z"
    }
   },
   "cell_type": "code",
   "source": "print_info_targets(y)",
   "id": "1c65efdaec4f0e0",
   "outputs": [
    {
     "name": "stdout",
     "output_type": "stream",
     "text": [
      "y = {\n",
      "\ttrain: \n",
      "\t\t<class 'pandas.core.frame.DataFrame'>\n",
      "\t\tshape (1719, 1)\n",
      "\t\tcolumns ['HistoricalPeriod'],\n",
      "\ttest: \n",
      "\t\t<class 'pandas.core.frame.DataFrame'>\n",
      "\t\tshape (191, 1)\n",
      "\t\tcolumns ['HistoricalPeriod'],\n",
      "}\n"
     ]
    }
   ],
   "execution_count": 7
  },
  {
   "metadata": {
    "ExecuteTime": {
     "end_time": "2025-07-26T18:14:37.106128Z",
     "start_time": "2025-07-26T18:14:37.100702Z"
    }
   },
   "cell_type": "code",
   "source": "y[\"train\"][\"HistoricalPeriod\"].value_counts()",
   "id": "3b962deb0a34adcb",
   "outputs": [
    {
     "data": {
      "text/plain": [
       "HistoricalPeriod\n",
       "Classical        1025\n",
       "Archaic           620\n",
       "Hellenistic        63\n",
       "Orientalizing      11\n",
       "Name: count, dtype: int64"
      ]
     },
     "execution_count": 8,
     "metadata": {},
     "output_type": "execute_result"
    }
   ],
   "execution_count": 8
  },
  {
   "metadata": {},
   "cell_type": "markdown",
   "source": [
    "## Scale and Reduce Features\n",
    "\n",
    "Use n_components=0.95 to keep enough components to preserve 95% of the variance in the data."
   ],
   "id": "b100631f0d876cdd"
  },
  {
   "metadata": {
    "ExecuteTime": {
     "end_time": "2025-07-26T18:14:41.805929Z",
     "start_time": "2025-07-26T18:14:40.399637Z"
    }
   },
   "cell_type": "code",
   "source": [
    "reducers = {}\n",
    "for method in (\"bert\",) + d_types_methods[\"image\"]:\n",
    "    X[\"train\"][method], reducers[method] = reduce_components(X[\"train\"][method], n_components=0.95)\n",
    "\n",
    "    X[\"test\"][method], _ = reduce_components(X[\"test\"][method], reducer_fitted=reducers[method])"
   ],
   "id": "197d0d65f285dbae",
   "outputs": [],
   "execution_count": 9
  },
  {
   "metadata": {
    "ExecuteTime": {
     "end_time": "2025-07-26T18:14:47.348115Z",
     "start_time": "2025-07-26T18:14:47.345472Z"
    }
   },
   "cell_type": "code",
   "source": "print_info_features(X)",
   "id": "b70ba89edb950092",
   "outputs": [
    {
     "name": "stdout",
     "output_type": "stream",
     "text": [
      "X = {\n",
      "\ttrain: {\n",
      "\t\ttfidf: \n",
      "\t\t\t<class 'pandas.core.frame.DataFrame'>\n",
      "\t\t\tshape = (1719, 300), \n",
      "\t\tbert: \n",
      "\t\t\t<class 'pandas.core.frame.DataFrame'>\n",
      "\t\t\tshape = (1719, 225), \n",
      "\t\tcannyhog: \n",
      "\t\t\t<class 'pandas.core.frame.DataFrame'>\n",
      "\t\t\tshape = (1719, 190), \n",
      "\t\tresnet: \n",
      "\t\t\t<class 'pandas.core.frame.DataFrame'>\n",
      "\t\t\tshape = (1719, 262), \n",
      "\t\tvit: \n",
      "\t\t\t<class 'pandas.core.frame.DataFrame'>\n",
      "\t\t\tshape = (1719, 177), \n",
      "\t},\n",
      "\ttest: {\n",
      "\t\ttfidf: \n",
      "\t\t\t<class 'pandas.core.frame.DataFrame'>\n",
      "\t\t\tshape = (191, 300), \n",
      "\t\tbert: \n",
      "\t\t\t<class 'pandas.core.frame.DataFrame'>\n",
      "\t\t\tshape = (191, 225), \n",
      "\t\tcannyhog: \n",
      "\t\t\t<class 'pandas.core.frame.DataFrame'>\n",
      "\t\t\tshape = (191, 190), \n",
      "\t\tresnet: \n",
      "\t\t\t<class 'pandas.core.frame.DataFrame'>\n",
      "\t\t\tshape = (191, 262), \n",
      "\t\tvit: \n",
      "\t\t\t<class 'pandas.core.frame.DataFrame'>\n",
      "\t\t\tshape = (191, 177), \n",
      "\t},\n",
      "}\n"
     ]
    }
   ],
   "execution_count": 11
  },
  {
   "metadata": {},
   "cell_type": "markdown",
   "source": "## Combine & Re-scale Text & Image Feature Sets",
   "id": "7ea963d383eed0d1"
  },
  {
   "metadata": {
    "ExecuteTime": {
     "end_time": "2025-07-26T18:15:42.457254Z",
     "start_time": "2025-07-26T18:15:42.364224Z"
    }
   },
   "cell_type": "code",
   "source": [
    "for subset in X.keys():\n",
    "    X_combos = combine_features_all_txt_img(X[subset])\n",
    "    X_combos = {combo: scale_feature_set(X_combo) for combo, X_combo in X_combos.items()}\n",
    "\n",
    "    X[subset].update(X_combos)"
   ],
   "id": "5586a5cf7e6263c4",
   "outputs": [],
   "execution_count": 12
  },
  {
   "metadata": {
    "ExecuteTime": {
     "end_time": "2025-07-26T18:16:03.758966Z",
     "start_time": "2025-07-26T18:16:03.755472Z"
    }
   },
   "cell_type": "code",
   "source": "print_info_features(X)",
   "id": "decf290e2e16f2c8",
   "outputs": [
    {
     "name": "stdout",
     "output_type": "stream",
     "text": [
      "X = {\n",
      "\ttrain: {\n",
      "\t\ttfidf: \n",
      "\t\t\t<class 'pandas.core.frame.DataFrame'>\n",
      "\t\t\tshape = (1719, 300), \n",
      "\t\tbert: \n",
      "\t\t\t<class 'pandas.core.frame.DataFrame'>\n",
      "\t\t\tshape = (1719, 225), \n",
      "\t\tcannyhog: \n",
      "\t\t\t<class 'pandas.core.frame.DataFrame'>\n",
      "\t\t\tshape = (1719, 190), \n",
      "\t\tresnet: \n",
      "\t\t\t<class 'pandas.core.frame.DataFrame'>\n",
      "\t\t\tshape = (1719, 262), \n",
      "\t\tvit: \n",
      "\t\t\t<class 'pandas.core.frame.DataFrame'>\n",
      "\t\t\tshape = (1719, 177), \n",
      "\t\ttfidf + cannyhog: \n",
      "\t\t\t<class 'pandas.core.frame.DataFrame'>\n",
      "\t\t\tshape = (1719, 490), \n",
      "\t\ttfidf + resnet: \n",
      "\t\t\t<class 'pandas.core.frame.DataFrame'>\n",
      "\t\t\tshape = (1719, 562), \n",
      "\t\ttfidf + vit: \n",
      "\t\t\t<class 'pandas.core.frame.DataFrame'>\n",
      "\t\t\tshape = (1719, 477), \n",
      "\t\tbert + cannyhog: \n",
      "\t\t\t<class 'pandas.core.frame.DataFrame'>\n",
      "\t\t\tshape = (1719, 415), \n",
      "\t\tbert + resnet: \n",
      "\t\t\t<class 'pandas.core.frame.DataFrame'>\n",
      "\t\t\tshape = (1719, 487), \n",
      "\t\tbert + vit: \n",
      "\t\t\t<class 'pandas.core.frame.DataFrame'>\n",
      "\t\t\tshape = (1719, 402), \n",
      "\t},\n",
      "\ttest: {\n",
      "\t\ttfidf: \n",
      "\t\t\t<class 'pandas.core.frame.DataFrame'>\n",
      "\t\t\tshape = (191, 300), \n",
      "\t\tbert: \n",
      "\t\t\t<class 'pandas.core.frame.DataFrame'>\n",
      "\t\t\tshape = (191, 225), \n",
      "\t\tcannyhog: \n",
      "\t\t\t<class 'pandas.core.frame.DataFrame'>\n",
      "\t\t\tshape = (191, 190), \n",
      "\t\tresnet: \n",
      "\t\t\t<class 'pandas.core.frame.DataFrame'>\n",
      "\t\t\tshape = (191, 262), \n",
      "\t\tvit: \n",
      "\t\t\t<class 'pandas.core.frame.DataFrame'>\n",
      "\t\t\tshape = (191, 177), \n",
      "\t\ttfidf + cannyhog: \n",
      "\t\t\t<class 'pandas.core.frame.DataFrame'>\n",
      "\t\t\tshape = (191, 490), \n",
      "\t\ttfidf + resnet: \n",
      "\t\t\t<class 'pandas.core.frame.DataFrame'>\n",
      "\t\t\tshape = (191, 562), \n",
      "\t\ttfidf + vit: \n",
      "\t\t\t<class 'pandas.core.frame.DataFrame'>\n",
      "\t\t\tshape = (191, 477), \n",
      "\t\tbert + cannyhog: \n",
      "\t\t\t<class 'pandas.core.frame.DataFrame'>\n",
      "\t\t\tshape = (191, 415), \n",
      "\t\tbert + resnet: \n",
      "\t\t\t<class 'pandas.core.frame.DataFrame'>\n",
      "\t\t\tshape = (191, 487), \n",
      "\t\tbert + vit: \n",
      "\t\t\t<class 'pandas.core.frame.DataFrame'>\n",
      "\t\t\tshape = (191, 402), \n",
      "\t},\n",
      "}\n"
     ]
    }
   ],
   "execution_count": 13
  },
  {
   "metadata": {},
   "cell_type": "markdown",
   "source": "## Encode Target Labels",
   "id": "5d2c4861e88858d"
  },
  {
   "metadata": {
    "ExecuteTime": {
     "end_time": "2025-07-26T18:17:39.119419Z",
     "start_time": "2025-07-26T18:17:39.115834Z"
    }
   },
   "cell_type": "code",
   "source": [
    "le = LabelEncoder()\n",
    "\n",
    "y[\"train\"][\"HistoricalPeriod_encoded\"] = le.fit_transform(y[\"train\"][\"HistoricalPeriod\"])\n",
    "y[\"test\"][\"HistoricalPeriod_encoded\"] = le.transform(y[\"test\"][\"HistoricalPeriod\"])\n",
    "\n",
    "label_mapping = dict(zip(le.classes_, le.transform(le.classes_)))\n",
    "for label, encoding in label_mapping.items():\n",
    "    print(f\"{encoding} --> {label}\")"
   ],
   "id": "163eb9b99423b378",
   "outputs": [
    {
     "name": "stdout",
     "output_type": "stream",
     "text": [
      "0 --> Archaic\n",
      "1 --> Classical\n",
      "2 --> Hellenistic\n",
      "3 --> Orientalizing\n"
     ]
    }
   ],
   "execution_count": 14
  },
  {
   "metadata": {},
   "cell_type": "markdown",
   "source": [
    "## Initialize 10-Fold Cross Validation\n",
    "\n",
    "*Stratified K-Fold:*\n",
    "- preserves label distribution\n",
    "- maintains proportion of classes in each fold\n"
   ],
   "id": "d766734a397acdf4"
  },
  {
   "metadata": {
    "ExecuteTime": {
     "end_time": "2025-07-26T18:17:40.720916Z",
     "start_time": "2025-07-26T18:17:40.717546Z"
    }
   },
   "cell_type": "code",
   "source": [
    "skf = StratifiedKFold(n_splits=10, shuffle=True, random_state=42)\n",
    "folds = list(skf.split(np.arange(y[\"train\"].shape[0]), y[\"train\"][\"HistoricalPeriod_encoded\"]))"
   ],
   "id": "f354728498a421cc",
   "outputs": [],
   "execution_count": 15
  },
  {
   "metadata": {},
   "cell_type": "markdown",
   "source": "## Define Parameter Grid per Model",
   "id": "2428e3f877f72806"
  },
  {
   "metadata": {
    "ExecuteTime": {
     "end_time": "2025-07-26T18:25:17.308908Z",
     "start_time": "2025-07-26T18:25:17.305822Z"
    }
   },
   "cell_type": "code",
   "source": [
    "model_param_grids = {\n",
    "    \"LogisticRegression\": (\n",
    "        LogisticRegression, {\n",
    "            \"C\": [0.01, 0.1, 1, 10],\n",
    "            \"solver\": [\"liblinear\", \"lbfgs\"],\n",
    "            \"max_iter\": [5000],\n",
    "            \"class_weight\": [None, \"balanced\"],\n",
    "            \"random_state\": [42]\n",
    "        }\n",
    "    ),\n",
    "    \"KNN\": (\n",
    "        KNeighborsClassifier, {\n",
    "            \"n_neighbors\": [3, 5, 7, 9, 11],\n",
    "            \"weights\": [\"uniform\", \"distance\"],\n",
    "            \"metric\": [\"euclidean\", \"manhattan\", \"cosine\"]\n",
    "        }\n",
    "    ),\n",
    "    # \"RandomForest\": (\n",
    "    #     RandomForestClassifier, {\n",
    "    #\n",
    "    #     }\n",
    "    # ),\n",
    "    # \"XGBoost\": (\n",
    "    #     XGBClassifier,\n",
    "    #     {\n",
    "    #\n",
    "    #     }\n",
    "    # ),\n",
    "    # \"LightGBM\": (\n",
    "    #     LGBMClassifier,\n",
    "    #     {\n",
    "    #\n",
    "    #     }\n",
    "    # )\n",
    "}"
   ],
   "id": "f125897d2278026e",
   "outputs": [],
   "execution_count": 29
  },
  {
   "metadata": {},
   "cell_type": "markdown",
   "source": "## Load or Initialize Best Params Dictionary",
   "id": "aff0add5185e8c0f"
  },
  {
   "metadata": {
    "ExecuteTime": {
     "end_time": "2025-07-26T18:25:21.568224Z",
     "start_time": "2025-07-26T18:25:21.564821Z"
    }
   },
   "cell_type": "code",
   "source": [
    "path_params = \"best_params.json\"\n",
    "\n",
    "best_params = load_best_params(path_params)\n",
    "print(f\"Best Params Available for {len(best_params.keys())} Models\")"
   ],
   "id": "be68eea3d226f1ea",
   "outputs": [
    {
     "name": "stdout",
     "output_type": "stream",
     "text": [
      "Best Params Available for 1 Models\n"
     ]
    }
   ],
   "execution_count": 30
  },
  {
   "metadata": {},
   "cell_type": "markdown",
   "source": [
    "## Run HP Tuning for New Models\n",
    "\n",
    "Run tuning only for models missing from the saved params"
   ],
   "id": "cdc0718a6dfb559f"
  },
  {
   "metadata": {
    "ExecuteTime": {
     "end_time": "2025-07-26T18:26:36.910284Z",
     "start_time": "2025-07-26T18:25:22.886187Z"
    }
   },
   "cell_type": "code",
   "source": [
    "verbose = True\n",
    "flag_new_model = False\n",
    "for model_name, (model_class, param_grid) in model_param_grids.items():\n",
    "\n",
    "    if model_name not in best_params:\n",
    "        flag_new_model = True\n",
    "\n",
    "        if verbose: print(f\"\\n🎚️ Hyperparameter Tuning '{model_name}' Model\")\n",
    "        best_params[model_name] = run_hp_all(\n",
    "            model_class,\n",
    "            param_grid,\n",
    "            folds,\n",
    "            metrics_c,\n",
    "            X[\"train\"],\n",
    "            y[\"train\"][[\"HistoricalPeriod_encoded\"]],\n",
    "            deciding_metric=\"accuracy\",\n",
    "            verbose=verbose\n",
    "        )\n",
    "    else:\n",
    "        if verbose: print(f\"\\n✅ '{model_name}' Model Already Tuned\")"
   ],
   "id": "78b4860744b03916",
   "outputs": [
    {
     "name": "stdout",
     "output_type": "stream",
     "text": [
      "\n",
      "✅ 'LogisticRegression' Model Already Tuned\n",
      "\n",
      "🎚️ Hyperparameter Tuning 'KNN' Model\n",
      "\n",
      "Features: tfidf | Target: HistoricalPeriod_encoded\n",
      "✅ Best params: {'metric': 'cosine', 'n_neighbors': 5, 'weights': 'distance'}\n",
      "🎯 Best ACCURACY: 0.7865\n",
      "\n",
      "Features: bert | Target: HistoricalPeriod_encoded\n",
      "✅ Best params: {'metric': 'manhattan', 'n_neighbors': 3, 'weights': 'distance'}\n",
      "🎯 Best ACCURACY: 0.7144\n",
      "\n",
      "Features: cannyhog | Target: HistoricalPeriod_encoded\n",
      "✅ Best params: {'metric': 'euclidean', 'n_neighbors': 9, 'weights': 'distance'}\n",
      "🎯 Best ACCURACY: 0.6841\n",
      "\n",
      "Features: resnet | Target: HistoricalPeriod_encoded\n",
      "✅ Best params: {'metric': 'cosine', 'n_neighbors': 7, 'weights': 'distance'}\n",
      "🎯 Best ACCURACY: 0.6789\n",
      "\n",
      "Features: vit | Target: HistoricalPeriod_encoded\n",
      "✅ Best params: {'metric': 'euclidean', 'n_neighbors': 7, 'weights': 'distance'}\n",
      "🎯 Best ACCURACY: 0.6882\n",
      "\n",
      "Features: tfidf + cannyhog | Target: HistoricalPeriod_encoded\n",
      "✅ Best params: {'metric': 'cosine', 'n_neighbors': 3, 'weights': 'distance'}\n",
      "🎯 Best ACCURACY: 0.7958\n",
      "\n",
      "Features: tfidf + resnet | Target: HistoricalPeriod_encoded\n",
      "✅ Best params: {'metric': 'cosine', 'n_neighbors': 5, 'weights': 'distance'}\n",
      "🎯 Best ACCURACY: 0.7993\n",
      "\n",
      "Features: tfidf + vit | Target: HistoricalPeriod_encoded\n",
      "✅ Best params: {'metric': 'cosine', 'n_neighbors': 5, 'weights': 'distance'}\n",
      "🎯 Best ACCURACY: 0.8045\n",
      "\n",
      "Features: bert + cannyhog | Target: HistoricalPeriod_encoded\n",
      "✅ Best params: {'metric': 'cosine', 'n_neighbors': 9, 'weights': 'distance'}\n",
      "🎯 Best ACCURACY: 0.7772\n",
      "\n",
      "Features: bert + resnet | Target: HistoricalPeriod_encoded\n",
      "✅ Best params: {'metric': 'cosine', 'n_neighbors': 7, 'weights': 'distance'}\n",
      "🎯 Best ACCURACY: 0.7761\n",
      "\n",
      "Features: bert + vit | Target: HistoricalPeriod_encoded\n",
      "✅ Best params: {'metric': 'cosine', 'n_neighbors': 7, 'weights': 'distance'}\n",
      "🎯 Best ACCURACY: 0.7801\n"
     ]
    }
   ],
   "execution_count": 31
  },
  {
   "metadata": {},
   "cell_type": "markdown",
   "source": "## Save Best Parameters per Model",
   "id": "f556c1e42e70eb54"
  },
  {
   "metadata": {
    "ExecuteTime": {
     "end_time": "2025-07-26T18:26:36.940345Z",
     "start_time": "2025-07-26T18:26:36.935848Z"
    }
   },
   "cell_type": "code",
   "source": "best_params",
   "id": "680d284c56a81122",
   "outputs": [
    {
     "data": {
      "text/plain": [
       "{'LogisticRegression': {('tfidf', 'HistoricalPeriod_encoded'): {'C': 1,\n",
       "   'class_weight': None,\n",
       "   'max_iter': 5000,\n",
       "   'random_state': 42,\n",
       "   'solver': 'lbfgs'},\n",
       "  ('bert', 'HistoricalPeriod_encoded'): {'C': 0.01,\n",
       "   'class_weight': None,\n",
       "   'max_iter': 5000,\n",
       "   'random_state': 42,\n",
       "   'solver': 'lbfgs'},\n",
       "  ('cannyhog', 'HistoricalPeriod_encoded'): {'C': 10,\n",
       "   'class_weight': None,\n",
       "   'max_iter': 5000,\n",
       "   'random_state': 42,\n",
       "   'solver': 'lbfgs'},\n",
       "  ('resnet', 'HistoricalPeriod_encoded'): {'C': 0.01,\n",
       "   'class_weight': None,\n",
       "   'max_iter': 5000,\n",
       "   'random_state': 42,\n",
       "   'solver': 'lbfgs'},\n",
       "  ('vit', 'HistoricalPeriod_encoded'): {'C': 0.01,\n",
       "   'class_weight': None,\n",
       "   'max_iter': 5000,\n",
       "   'random_state': 42,\n",
       "   'solver': 'lbfgs'},\n",
       "  ('tfidf + cannyhog', 'HistoricalPeriod_encoded'): {'C': 0.01,\n",
       "   'class_weight': None,\n",
       "   'max_iter': 5000,\n",
       "   'random_state': 42,\n",
       "   'solver': 'liblinear'},\n",
       "  ('tfidf + resnet', 'HistoricalPeriod_encoded'): {'C': 0.01,\n",
       "   'class_weight': None,\n",
       "   'max_iter': 5000,\n",
       "   'random_state': 42,\n",
       "   'solver': 'lbfgs'},\n",
       "  ('tfidf + vit', 'HistoricalPeriod_encoded'): {'C': 0.01,\n",
       "   'class_weight': None,\n",
       "   'max_iter': 5000,\n",
       "   'random_state': 42,\n",
       "   'solver': 'liblinear'},\n",
       "  ('bert + cannyhog', 'HistoricalPeriod_encoded'): {'C': 0.01,\n",
       "   'class_weight': None,\n",
       "   'max_iter': 5000,\n",
       "   'random_state': 42,\n",
       "   'solver': 'liblinear'},\n",
       "  ('bert + resnet', 'HistoricalPeriod_encoded'): {'C': 0.01,\n",
       "   'class_weight': None,\n",
       "   'max_iter': 5000,\n",
       "   'random_state': 42,\n",
       "   'solver': 'lbfgs'},\n",
       "  ('bert + vit', 'HistoricalPeriod_encoded'): {'C': 0.01,\n",
       "   'class_weight': None,\n",
       "   'max_iter': 5000,\n",
       "   'random_state': 42,\n",
       "   'solver': 'lbfgs'}},\n",
       " 'KNN': {('tfidf', 'HistoricalPeriod_encoded'): {'metric': 'cosine',\n",
       "   'n_neighbors': 5,\n",
       "   'weights': 'distance'},\n",
       "  ('bert', 'HistoricalPeriod_encoded'): {'metric': 'manhattan',\n",
       "   'n_neighbors': 3,\n",
       "   'weights': 'distance'},\n",
       "  ('cannyhog', 'HistoricalPeriod_encoded'): {'metric': 'euclidean',\n",
       "   'n_neighbors': 9,\n",
       "   'weights': 'distance'},\n",
       "  ('resnet', 'HistoricalPeriod_encoded'): {'metric': 'cosine',\n",
       "   'n_neighbors': 7,\n",
       "   'weights': 'distance'},\n",
       "  ('vit', 'HistoricalPeriod_encoded'): {'metric': 'euclidean',\n",
       "   'n_neighbors': 7,\n",
       "   'weights': 'distance'},\n",
       "  ('tfidf + cannyhog', 'HistoricalPeriod_encoded'): {'metric': 'cosine',\n",
       "   'n_neighbors': 3,\n",
       "   'weights': 'distance'},\n",
       "  ('tfidf + resnet', 'HistoricalPeriod_encoded'): {'metric': 'cosine',\n",
       "   'n_neighbors': 5,\n",
       "   'weights': 'distance'},\n",
       "  ('tfidf + vit', 'HistoricalPeriod_encoded'): {'metric': 'cosine',\n",
       "   'n_neighbors': 5,\n",
       "   'weights': 'distance'},\n",
       "  ('bert + cannyhog', 'HistoricalPeriod_encoded'): {'metric': 'cosine',\n",
       "   'n_neighbors': 9,\n",
       "   'weights': 'distance'},\n",
       "  ('bert + resnet', 'HistoricalPeriod_encoded'): {'metric': 'cosine',\n",
       "   'n_neighbors': 7,\n",
       "   'weights': 'distance'},\n",
       "  ('bert + vit', 'HistoricalPeriod_encoded'): {'metric': 'cosine',\n",
       "   'n_neighbors': 7,\n",
       "   'weights': 'distance'}}}"
      ]
     },
     "execution_count": 32,
     "metadata": {},
     "output_type": "execute_result"
    }
   ],
   "execution_count": 32
  },
  {
   "metadata": {
    "ExecuteTime": {
     "end_time": "2025-07-26T18:26:37.016187Z",
     "start_time": "2025-07-26T18:26:37.013089Z"
    }
   },
   "cell_type": "code",
   "source": "save_best_params(path_params, best_params, flag_new_model)",
   "id": "8f8162c8cceceffb",
   "outputs": [
    {
     "name": "stdout",
     "output_type": "stream",
     "text": [
      "✅ Saved best parameters to best_params.json\n"
     ]
    }
   ],
   "execution_count": 33
  },
  {
   "metadata": {
    "ExecuteTime": {
     "end_time": "2025-07-26T18:26:37.075400Z",
     "start_time": "2025-07-26T18:26:37.073276Z"
    }
   },
   "cell_type": "code",
   "source": "",
   "id": "907bd7bdff0d7ab9",
   "outputs": [],
   "execution_count": null
  },
  {
   "metadata": {},
   "cell_type": "code",
   "outputs": [],
   "execution_count": null,
   "source": "",
   "id": "b4aec40c7fdbbfc7"
  }
 ],
 "metadata": {
  "kernelspec": {
   "display_name": "Python 3",
   "language": "python",
   "name": "python3"
  },
  "language_info": {
   "codemirror_mode": {
    "name": "ipython",
    "version": 2
   },
   "file_extension": ".py",
   "mimetype": "text/x-python",
   "name": "python",
   "nbconvert_exporter": "python",
   "pygments_lexer": "ipython2",
   "version": "2.7.6"
  }
 },
 "nbformat": 4,
 "nbformat_minor": 5
}
