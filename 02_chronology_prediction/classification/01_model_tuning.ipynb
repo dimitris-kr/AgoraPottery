{
 "cells": [
  {
   "metadata": {
    "collapsed": true,
    "ExecuteTime": {
     "end_time": "2025-08-16T13:12:07.002709Z",
     "start_time": "2025-08-16T13:12:06.786185Z"
    }
   },
   "cell_type": "code",
   "source": [
    "import sys\n",
    "import numpy as np\n",
    "import pandas as pd\n",
    "import json\n",
    "import os"
   ],
   "id": "a401f0559624c782",
   "outputs": [],
   "execution_count": 1
  },
  {
   "metadata": {
    "ExecuteTime": {
     "end_time": "2025-08-16T13:12:07.479299Z",
     "start_time": "2025-08-16T13:12:07.004734Z"
    }
   },
   "cell_type": "code",
   "source": [
    "from sklearn.model_selection import StratifiedKFold, ParameterGrid\n",
    "from sklearn.preprocessing import LabelEncoder, StandardScaler\n",
    "\n",
    "from sklearn.ensemble import RandomForestClassifier\n",
    "from sklearn.linear_model import LogisticRegression\n",
    "from sklearn.neighbors import KNeighborsClassifier\n",
    "from xgboost import XGBClassifier\n",
    "from lightgbm import LGBMClassifier"
   ],
   "id": "a126aa5d84efa4b6",
   "outputs": [],
   "execution_count": 2
  },
  {
   "metadata": {
    "ExecuteTime": {
     "end_time": "2025-08-16T13:12:08.865553Z",
     "start_time": "2025-08-16T13:12:07.572212Z"
    }
   },
   "cell_type": "code",
   "source": [
    "sys.path.append(os.path.abspath(\"..\"))\n",
    "from utils import load_best_params, read_features, read_targets, metrics_c, save_best_params, print_info_features, \\\n",
    "    print_info_targets, scale_all, reduce_all, add_all_feature_combos, encode_labels, run_hp_all, \\\n",
    "    get_column_widths, print_best_params, get_execution_time"
   ],
   "id": "81fc3ec20c2505aa",
   "outputs": [],
   "execution_count": 3
  },
  {
   "metadata": {},
   "cell_type": "markdown",
   "source": "## Read Features and Targets",
   "id": "e6a3bb5b1dd2f248"
  },
  {
   "metadata": {
    "ExecuteTime": {
     "end_time": "2025-08-16T13:12:08.871835Z",
     "start_time": "2025-08-16T13:12:08.869200Z"
    }
   },
   "cell_type": "code",
   "source": "path = os.path.abspath(os.path.join(os.getcwd(), \"../../data/chronology_prediction\"))",
   "id": "32a6d77d59e7ea50",
   "outputs": [],
   "execution_count": 4
  },
  {
   "metadata": {
    "ExecuteTime": {
     "end_time": "2025-08-16T13:12:09.732624Z",
     "start_time": "2025-08-16T13:12:08.875503Z"
    }
   },
   "cell_type": "code",
   "source": [
    "X = read_features(path)\n",
    "y = read_targets(path, [\"HistoricalPeriod\"])"
   ],
   "id": "2abf6b30281d4b49",
   "outputs": [
    {
     "name": "stdout",
     "output_type": "stream",
     "text": [
      "Loaded X_train_tfidf\n",
      "Loaded X_train_bert\n",
      "Loaded X_train_cannyhog\n",
      "Loaded X_train_resnet\n",
      "Loaded X_train_vit\n",
      "Loaded X_test_tfidf\n",
      "Loaded X_test_bert\n",
      "Loaded X_test_cannyhog\n",
      "Loaded X_test_resnet\n",
      "Loaded X_test_vit\n",
      "Loaded y_train\n",
      "Loaded y_test\n"
     ]
    }
   ],
   "execution_count": 5
  },
  {
   "metadata": {
    "ExecuteTime": {
     "end_time": "2025-08-16T13:12:09.743547Z",
     "start_time": "2025-08-16T13:12:09.740245Z"
    }
   },
   "cell_type": "code",
   "source": "print_info_features(X)",
   "id": "a985807b90961227",
   "outputs": [
    {
     "name": "stdout",
     "output_type": "stream",
     "text": [
      "{\n",
      "\ttrain: {\n",
      "\t\ttfidf: \n",
      "\t\t\t<class 'pandas.core.frame.DataFrame'>\n",
      "\t\t\tshape = (1719, 300), \n",
      "\t\tbert: \n",
      "\t\t\t<class 'pandas.core.frame.DataFrame'>\n",
      "\t\t\tshape = (1719, 768), \n",
      "\t\tcannyhog: \n",
      "\t\t\t<class 'pandas.core.frame.DataFrame'>\n",
      "\t\t\tshape = (1719, 2917), \n",
      "\t\tresnet: \n",
      "\t\t\t<class 'pandas.core.frame.DataFrame'>\n",
      "\t\t\tshape = (1719, 2048), \n",
      "\t\tvit: \n",
      "\t\t\t<class 'pandas.core.frame.DataFrame'>\n",
      "\t\t\tshape = (1719, 768), \n",
      "\t},\n",
      "\ttest: {\n",
      "\t\ttfidf: \n",
      "\t\t\t<class 'pandas.core.frame.DataFrame'>\n",
      "\t\t\tshape = (191, 300), \n",
      "\t\tbert: \n",
      "\t\t\t<class 'pandas.core.frame.DataFrame'>\n",
      "\t\t\tshape = (191, 768), \n",
      "\t\tcannyhog: \n",
      "\t\t\t<class 'pandas.core.frame.DataFrame'>\n",
      "\t\t\tshape = (191, 2917), \n",
      "\t\tresnet: \n",
      "\t\t\t<class 'pandas.core.frame.DataFrame'>\n",
      "\t\t\tshape = (191, 2048), \n",
      "\t\tvit: \n",
      "\t\t\t<class 'pandas.core.frame.DataFrame'>\n",
      "\t\t\tshape = (191, 768), \n",
      "\t},\n",
      "}\n"
     ]
    }
   ],
   "execution_count": 6
  },
  {
   "metadata": {
    "ExecuteTime": {
     "end_time": "2025-08-16T13:12:09.753189Z",
     "start_time": "2025-08-16T13:12:09.750463Z"
    }
   },
   "cell_type": "code",
   "source": "print_info_targets(y)",
   "id": "1c65efdaec4f0e0",
   "outputs": [
    {
     "name": "stdout",
     "output_type": "stream",
     "text": [
      "y = {\n",
      "\ttrain: \n",
      "\t\t<class 'pandas.core.frame.DataFrame'>\n",
      "\t\tshape (1719, 1)\n",
      "\t\tcolumns ['HistoricalPeriod'],\n",
      "\ttest: \n",
      "\t\t<class 'pandas.core.frame.DataFrame'>\n",
      "\t\tshape (191, 1)\n",
      "\t\tcolumns ['HistoricalPeriod'],\n",
      "}\n"
     ]
    }
   ],
   "execution_count": 7
  },
  {
   "metadata": {
    "ExecuteTime": {
     "end_time": "2025-08-16T13:12:09.781261Z",
     "start_time": "2025-08-16T13:12:09.775832Z"
    }
   },
   "cell_type": "code",
   "source": "y[\"train\"][\"HistoricalPeriod\"].value_counts()",
   "id": "3b962deb0a34adcb",
   "outputs": [
    {
     "data": {
      "text/plain": [
       "HistoricalPeriod\n",
       "Classical        1025\n",
       "Archaic           620\n",
       "Hellenistic        63\n",
       "Orientalizing      11\n",
       "Name: count, dtype: int64"
      ]
     },
     "execution_count": 8,
     "metadata": {},
     "output_type": "execute_result"
    }
   ],
   "execution_count": 8
  },
  {
   "metadata": {},
   "cell_type": "markdown",
   "source": "## Extra Preprocessing",
   "id": "f7852d814ac01bb4"
  },
  {
   "metadata": {},
   "cell_type": "markdown",
   "source": "### Scale Features",
   "id": "75a53b5ddf3b4601"
  },
  {
   "metadata": {
    "ExecuteTime": {
     "end_time": "2025-08-16T13:12:09.963811Z",
     "start_time": "2025-08-16T13:12:09.806414Z"
    }
   },
   "cell_type": "code",
   "source": "X = scale_all(X)",
   "id": "80aa57e9b7bb343b",
   "outputs": [],
   "execution_count": 9
  },
  {
   "metadata": {},
   "cell_type": "markdown",
   "source": [
    "### Reduce Features\n",
    "\n",
    "Use n_components=0.95 to keep enough components to preserve 95% of the variance in the data."
   ],
   "id": "dbdfadd0f04e1b3"
  },
  {
   "metadata": {
    "ExecuteTime": {
     "end_time": "2025-08-16T13:12:11.389902Z",
     "start_time": "2025-08-16T13:12:09.979272Z"
    }
   },
   "cell_type": "code",
   "source": "X_reduced = reduce_all(X, n_components=0.95)",
   "id": "1329e2ea945e0feb",
   "outputs": [],
   "execution_count": 10
  },
  {
   "metadata": {},
   "cell_type": "markdown",
   "source": "### Combine & Re-scale Text & Image Feature Sets",
   "id": "6e3da6406cca4a1d"
  },
  {
   "metadata": {
    "ExecuteTime": {
     "end_time": "2025-08-16T13:12:11.921537Z",
     "start_time": "2025-08-16T13:12:11.391843Z"
    }
   },
   "cell_type": "code",
   "source": [
    "X = add_all_feature_combos(X, scale=True)\n",
    "\n",
    "X_reduced = add_all_feature_combos(X_reduced, scale=True)"
   ],
   "id": "ba5b9cbde5201f4e",
   "outputs": [],
   "execution_count": 11
  },
  {
   "metadata": {
    "ExecuteTime": {
     "end_time": "2025-08-16T13:12:11.932448Z",
     "start_time": "2025-08-16T13:12:11.929951Z"
    }
   },
   "cell_type": "code",
   "source": "models_reduced_features = [\"KNN\", \"XGBoost\", \"LightGBM\"]",
   "id": "a9cc884422bc5ccd",
   "outputs": [],
   "execution_count": 12
  },
  {
   "metadata": {},
   "cell_type": "markdown",
   "source": "### Final Feature Sets",
   "id": "60b2a26bc4df1931"
  },
  {
   "metadata": {
    "ExecuteTime": {
     "end_time": "2025-08-16T13:12:11.944944Z",
     "start_time": "2025-08-16T13:12:11.941396Z"
    }
   },
   "cell_type": "code",
   "source": "print_info_features(X)",
   "id": "b2d6deaa06dea572",
   "outputs": [
    {
     "name": "stdout",
     "output_type": "stream",
     "text": [
      "{\n",
      "\ttrain: {\n",
      "\t\ttfidf: \n",
      "\t\t\t<class 'pandas.core.frame.DataFrame'>\n",
      "\t\t\tshape = (1719, 300), \n",
      "\t\tbert: \n",
      "\t\t\t<class 'pandas.core.frame.DataFrame'>\n",
      "\t\t\tshape = (1719, 768), \n",
      "\t\tcannyhog: \n",
      "\t\t\t<class 'pandas.core.frame.DataFrame'>\n",
      "\t\t\tshape = (1719, 2917), \n",
      "\t\tresnet: \n",
      "\t\t\t<class 'pandas.core.frame.DataFrame'>\n",
      "\t\t\tshape = (1719, 2048), \n",
      "\t\tvit: \n",
      "\t\t\t<class 'pandas.core.frame.DataFrame'>\n",
      "\t\t\tshape = (1719, 768), \n",
      "\t\ttfidf + cannyhog: \n",
      "\t\t\t<class 'pandas.core.frame.DataFrame'>\n",
      "\t\t\tshape = (1719, 3217), \n",
      "\t\ttfidf + resnet: \n",
      "\t\t\t<class 'pandas.core.frame.DataFrame'>\n",
      "\t\t\tshape = (1719, 2348), \n",
      "\t\ttfidf + vit: \n",
      "\t\t\t<class 'pandas.core.frame.DataFrame'>\n",
      "\t\t\tshape = (1719, 1068), \n",
      "\t\tbert + cannyhog: \n",
      "\t\t\t<class 'pandas.core.frame.DataFrame'>\n",
      "\t\t\tshape = (1719, 3685), \n",
      "\t\tbert + resnet: \n",
      "\t\t\t<class 'pandas.core.frame.DataFrame'>\n",
      "\t\t\tshape = (1719, 2816), \n",
      "\t\tbert + vit: \n",
      "\t\t\t<class 'pandas.core.frame.DataFrame'>\n",
      "\t\t\tshape = (1719, 1536), \n",
      "\t},\n",
      "\ttest: {\n",
      "\t\ttfidf: \n",
      "\t\t\t<class 'pandas.core.frame.DataFrame'>\n",
      "\t\t\tshape = (191, 300), \n",
      "\t\tbert: \n",
      "\t\t\t<class 'pandas.core.frame.DataFrame'>\n",
      "\t\t\tshape = (191, 768), \n",
      "\t\tcannyhog: \n",
      "\t\t\t<class 'pandas.core.frame.DataFrame'>\n",
      "\t\t\tshape = (191, 2917), \n",
      "\t\tresnet: \n",
      "\t\t\t<class 'pandas.core.frame.DataFrame'>\n",
      "\t\t\tshape = (191, 2048), \n",
      "\t\tvit: \n",
      "\t\t\t<class 'pandas.core.frame.DataFrame'>\n",
      "\t\t\tshape = (191, 768), \n",
      "\t\ttfidf + cannyhog: \n",
      "\t\t\t<class 'pandas.core.frame.DataFrame'>\n",
      "\t\t\tshape = (191, 3217), \n",
      "\t\ttfidf + resnet: \n",
      "\t\t\t<class 'pandas.core.frame.DataFrame'>\n",
      "\t\t\tshape = (191, 2348), \n",
      "\t\ttfidf + vit: \n",
      "\t\t\t<class 'pandas.core.frame.DataFrame'>\n",
      "\t\t\tshape = (191, 1068), \n",
      "\t\tbert + cannyhog: \n",
      "\t\t\t<class 'pandas.core.frame.DataFrame'>\n",
      "\t\t\tshape = (191, 3685), \n",
      "\t\tbert + resnet: \n",
      "\t\t\t<class 'pandas.core.frame.DataFrame'>\n",
      "\t\t\tshape = (191, 2816), \n",
      "\t\tbert + vit: \n",
      "\t\t\t<class 'pandas.core.frame.DataFrame'>\n",
      "\t\t\tshape = (191, 1536), \n",
      "\t},\n",
      "}\n"
     ]
    }
   ],
   "execution_count": 13
  },
  {
   "metadata": {
    "ExecuteTime": {
     "end_time": "2025-08-16T13:12:11.960534Z",
     "start_time": "2025-08-16T13:12:11.956596Z"
    }
   },
   "cell_type": "code",
   "source": "print_info_features(X_reduced)",
   "id": "fd136035df9e38ca",
   "outputs": [
    {
     "name": "stdout",
     "output_type": "stream",
     "text": [
      "{\n",
      "\ttrain: {\n",
      "\t\ttfidf: \n",
      "\t\t\t<class 'pandas.core.frame.DataFrame'>\n",
      "\t\t\tshape = (1719, 300), \n",
      "\t\tbert: \n",
      "\t\t\t<class 'pandas.core.frame.DataFrame'>\n",
      "\t\t\tshape = (1719, 225), \n",
      "\t\tcannyhog: \n",
      "\t\t\t<class 'pandas.core.frame.DataFrame'>\n",
      "\t\t\tshape = (1719, 190), \n",
      "\t\tresnet: \n",
      "\t\t\t<class 'pandas.core.frame.DataFrame'>\n",
      "\t\t\tshape = (1719, 262), \n",
      "\t\tvit: \n",
      "\t\t\t<class 'pandas.core.frame.DataFrame'>\n",
      "\t\t\tshape = (1719, 177), \n",
      "\t\ttfidf + cannyhog: \n",
      "\t\t\t<class 'pandas.core.frame.DataFrame'>\n",
      "\t\t\tshape = (1719, 490), \n",
      "\t\ttfidf + resnet: \n",
      "\t\t\t<class 'pandas.core.frame.DataFrame'>\n",
      "\t\t\tshape = (1719, 562), \n",
      "\t\ttfidf + vit: \n",
      "\t\t\t<class 'pandas.core.frame.DataFrame'>\n",
      "\t\t\tshape = (1719, 477), \n",
      "\t\tbert + cannyhog: \n",
      "\t\t\t<class 'pandas.core.frame.DataFrame'>\n",
      "\t\t\tshape = (1719, 415), \n",
      "\t\tbert + resnet: \n",
      "\t\t\t<class 'pandas.core.frame.DataFrame'>\n",
      "\t\t\tshape = (1719, 487), \n",
      "\t\tbert + vit: \n",
      "\t\t\t<class 'pandas.core.frame.DataFrame'>\n",
      "\t\t\tshape = (1719, 402), \n",
      "\t},\n",
      "\ttest: {\n",
      "\t\ttfidf: \n",
      "\t\t\t<class 'pandas.core.frame.DataFrame'>\n",
      "\t\t\tshape = (191, 300), \n",
      "\t\tbert: \n",
      "\t\t\t<class 'pandas.core.frame.DataFrame'>\n",
      "\t\t\tshape = (191, 225), \n",
      "\t\tcannyhog: \n",
      "\t\t\t<class 'pandas.core.frame.DataFrame'>\n",
      "\t\t\tshape = (191, 190), \n",
      "\t\tresnet: \n",
      "\t\t\t<class 'pandas.core.frame.DataFrame'>\n",
      "\t\t\tshape = (191, 262), \n",
      "\t\tvit: \n",
      "\t\t\t<class 'pandas.core.frame.DataFrame'>\n",
      "\t\t\tshape = (191, 177), \n",
      "\t\ttfidf + cannyhog: \n",
      "\t\t\t<class 'pandas.core.frame.DataFrame'>\n",
      "\t\t\tshape = (191, 490), \n",
      "\t\ttfidf + resnet: \n",
      "\t\t\t<class 'pandas.core.frame.DataFrame'>\n",
      "\t\t\tshape = (191, 562), \n",
      "\t\ttfidf + vit: \n",
      "\t\t\t<class 'pandas.core.frame.DataFrame'>\n",
      "\t\t\tshape = (191, 477), \n",
      "\t\tbert + cannyhog: \n",
      "\t\t\t<class 'pandas.core.frame.DataFrame'>\n",
      "\t\t\tshape = (191, 415), \n",
      "\t\tbert + resnet: \n",
      "\t\t\t<class 'pandas.core.frame.DataFrame'>\n",
      "\t\t\tshape = (191, 487), \n",
      "\t\tbert + vit: \n",
      "\t\t\t<class 'pandas.core.frame.DataFrame'>\n",
      "\t\t\tshape = (191, 402), \n",
      "\t},\n",
      "}\n"
     ]
    }
   ],
   "execution_count": 14
  },
  {
   "metadata": {},
   "cell_type": "markdown",
   "source": "### Encode Target Labels",
   "id": "74b66603291b775e"
  },
  {
   "metadata": {
    "ExecuteTime": {
     "end_time": "2025-08-16T13:12:11.983983Z",
     "start_time": "2025-08-16T13:12:11.980468Z"
    }
   },
   "cell_type": "code",
   "source": "y, target_enc, le = encode_labels(y, \"HistoricalPeriod\")",
   "id": "6638e8b0b4331774",
   "outputs": [
    {
     "name": "stdout",
     "output_type": "stream",
     "text": [
      "0 --> Archaic\n",
      "1 --> Classical\n",
      "2 --> Hellenistic\n",
      "3 --> Orientalizing\n"
     ]
    }
   ],
   "execution_count": 15
  },
  {
   "metadata": {},
   "cell_type": "markdown",
   "source": [
    "## Initialize 10-Fold Cross Validation\n",
    "\n",
    "*Stratified K-Fold:*\n",
    "- preserves label distribution\n",
    "- maintains proportion of classes in each fold\n"
   ],
   "id": "d766734a397acdf4"
  },
  {
   "metadata": {
    "ExecuteTime": {
     "end_time": "2025-08-16T13:12:11.998828Z",
     "start_time": "2025-08-16T13:12:11.995417Z"
    }
   },
   "cell_type": "code",
   "source": [
    "skf = StratifiedKFold(n_splits=10, shuffle=True, random_state=42)\n",
    "folds = list(skf.split(np.arange(y[\"train\"].shape[0]), y[\"train\"][\"HistoricalPeriod_encoded\"]))"
   ],
   "id": "f354728498a421cc",
   "outputs": [],
   "execution_count": 16
  },
  {
   "metadata": {},
   "cell_type": "markdown",
   "source": "## Define Parameter Grid per Model",
   "id": "2428e3f877f72806"
  },
  {
   "metadata": {
    "ExecuteTime": {
     "end_time": "2025-08-16T13:12:12.013494Z",
     "start_time": "2025-08-16T13:12:12.009033Z"
    }
   },
   "cell_type": "code",
   "source": [
    "model_param_grids = {\n",
    "    \"LogisticRegression\": (\n",
    "        LogisticRegression, {\n",
    "            \"C\": [0.01, 0.1, 1],\n",
    "            \"solver\": [\"liblinear\", \"lbfgs\"],\n",
    "            \"max_iter\": [5000],\n",
    "            \"class_weight\": [None, \"balanced\"],\n",
    "            \"random_state\": [42]\n",
    "        }\n",
    "    ),\n",
    "    \"KNN\": (\n",
    "        KNeighborsClassifier, {\n",
    "            \"n_neighbors\": [3, 5, 7, 9, 11],\n",
    "            \"weights\": [\"uniform\", \"distance\"],\n",
    "            \"metric\": [\"euclidean\", \"manhattan\", \"cosine\"]\n",
    "        }\n",
    "    ),\n",
    "    \"RandomForest\": (\n",
    "        RandomForestClassifier, {\n",
    "            \"n_estimators\": [100],  # number of trees\n",
    "            \"max_depth\": [None, 10],  # limit depth to control overfitting\n",
    "            \"min_samples_split\": [2],  # minimum samples to split an internal node\n",
    "            \"min_samples_leaf\": [1, 2, 4],  # minimum samples at a leaf node\n",
    "            \"max_features\": [\"sqrt\"],  # number of features to consider at split\n",
    "            \"class_weight\": [None, \"balanced\"],  # handle class imbalance\n",
    "            \"n_jobs\": [-1],\n",
    "            \"random_state\": [42]\n",
    "        }\n",
    "    ),\n",
    "    \"XGBoost\": (\n",
    "        XGBClassifier,\n",
    "        {\n",
    "            \"n_estimators\": [100, 300],  # Number of boosting rounds\n",
    "            \"max_depth\": [3, 6],  # Tree depth: controls model complexity\n",
    "            \"learning_rate\": [0.05, 0.1],  # Lower = slower training, but more accurate\n",
    "            \"subsample\": [0.8, 1.0],  # Row sampling\n",
    "            \"colsample_bytree\": [0.8, 1.0],\n",
    "            \"n_jobs\": [-1],\n",
    "            \"random_state\": [42],\n",
    "        }\n",
    "    ),\n",
    "    \"LightGBM\": (\n",
    "        LGBMClassifier,\n",
    "        {\n",
    "            \"n_estimators\": [100, 300],  # Number of boosting rounds\n",
    "            \"max_depth\": [-1, 10],  # Maximum depth of tree (-1 = no limit)\n",
    "            \"learning_rate\": [0.05, 0.1],  # Lower = slower training, but more accurate\n",
    "            \"num_leaves\": [31, 63],  # Number of leaves in one tree\n",
    "            \"subsample\": [0.6, 0.8],  # Random sample ratio of training data\n",
    "            \"class_weight\": [\"balanced\"],\n",
    "            \"n_jobs\": [-1],\n",
    "            \"random_state\": [42],\n",
    "            \"verbose\": [-1],\n",
    "\n",
    "            \"device_type\": [\"gpu\"],\n",
    "            \"n_gpu\": [0],\n",
    "            \"boosting_type\": [\"gbdt\"],\n",
    "        }\n",
    "    )\n",
    "}"
   ],
   "id": "f125897d2278026e",
   "outputs": [],
   "execution_count": 17
  },
  {
   "metadata": {},
   "cell_type": "markdown",
   "source": "## Load or Initialize Best Params Dictionary",
   "id": "aff0add5185e8c0f"
  },
  {
   "metadata": {
    "ExecuteTime": {
     "end_time": "2025-08-16T13:12:12.025846Z",
     "start_time": "2025-08-16T13:12:12.022779Z"
    }
   },
   "cell_type": "code",
   "source": [
    "path_params = \"best_params.json\"\n",
    "\n",
    "best_params = load_best_params(path_params)\n",
    "print(f\"Best Params Available for {len(best_params.keys())} Models\")"
   ],
   "id": "be68eea3d226f1ea",
   "outputs": [
    {
     "name": "stdout",
     "output_type": "stream",
     "text": [
      "Best Params Available for 2 Models\n"
     ]
    }
   ],
   "execution_count": 18
  },
  {
   "metadata": {},
   "cell_type": "markdown",
   "source": [
    "## Run HP Tuning for New Models\n",
    "\n",
    "Run tuning only for models missing from the saved params"
   ],
   "id": "cdc0718a6dfb559f"
  },
  {
   "metadata": {
    "ExecuteTime": {
     "end_time": "2025-08-16T18:29:45.105882Z",
     "start_time": "2025-08-16T13:12:12.035663Z"
    }
   },
   "cell_type": "code",
   "source": [
    "verbose = True\n",
    "flag_new_model = False\n",
    "deciding_metric = \"accuracy\"\n",
    "for model_name, (model_class, param_grid) in model_param_grids.items():\n",
    "    _X = X_reduced[\"train\"] if model_name in models_reduced_features else X[\"train\"]\n",
    "    _y = y[\"train\"][[\"HistoricalPeriod_encoded\"]]\n",
    "\n",
    "    column_widths = get_column_widths(list(_y.keys()), list(_X.keys()), deciding_metric, param_grid)\n",
    "\n",
    "    if model_name not in best_params:\n",
    "        flag_new_model = True\n",
    "\n",
    "        if verbose: print(f\"\\n🔄 Hyperparameter Tuning '{model_name}' Model\")\n",
    "\n",
    "        best_params[model_name] = run_hp_all(\n",
    "            model_class,\n",
    "            param_grid,\n",
    "            folds,\n",
    "            metrics_c,\n",
    "            _X,\n",
    "            _y,\n",
    "            deciding_metric,\n",
    "            column_widths,\n",
    "            verbose=verbose\n",
    "        )\n",
    "    else:\n",
    "        if verbose:\n",
    "            print(\n",
    "                f\"\\n✅ '{model_name}' Model Already Tuned. Execution Time: {get_execution_time(best_params[model_name])}\")\n",
    "            print_best_params(column_widths, best_params[model_name], deciding_metric)"
   ],
   "id": "78b4860744b03916",
   "outputs": [
    {
     "name": "stdout",
     "output_type": "stream",
     "text": [
      "\n",
      "✅ 'LogisticRegression' Model Already Tuned. Execution Time: 41m 50s\n",
      "+--------------------------+------------------+----------+------+-----------+--------------+\n",
      "|                   target |      feature_set | accuracy |    C |    solver | class_weight |\n",
      "+--------------------------+------------------+----------+------+-----------+--------------+\n",
      "| HistoricalPeriod_encoded |            tfidf |   0.7836 |    1 |     lbfgs |         None |\n",
      "| HistoricalPeriod_encoded |             bert |   0.7178 | 0.01 |     lbfgs |         None |\n",
      "| HistoricalPeriod_encoded |         cannyhog |   0.6766 | 0.01 |     lbfgs |         None |\n",
      "| HistoricalPeriod_encoded |           resnet |   0.6835 | 0.01 |     lbfgs |         None |\n",
      "| HistoricalPeriod_encoded |              vit |   0.6928 |  0.1 |     lbfgs |         None |\n",
      "| HistoricalPeriod_encoded | tfidf + cannyhog |   0.7958 | 0.01 |     lbfgs |         None |\n",
      "| HistoricalPeriod_encoded |   tfidf + resnet |   0.8011 | 0.01 |     lbfgs |         None |\n",
      "| HistoricalPeriod_encoded |      tfidf + vit |   0.8063 | 0.01 | liblinear |         None |\n",
      "| HistoricalPeriod_encoded |  bert + cannyhog |   0.7516 | 0.01 |     lbfgs |         None |\n",
      "| HistoricalPeriod_encoded |    bert + resnet |   0.7475 | 0.01 |     lbfgs |         None |\n",
      "| HistoricalPeriod_encoded |       bert + vit |   0.7539 | 0.01 |     lbfgs |         None |\n",
      "+--------------------------+------------------+----------+------+-----------+--------------+\n",
      "\n",
      "✅ 'KNN' Model Already Tuned. Execution Time: 1m 27s\n",
      "+--------------------------+------------------+----------+-------------+----------+-----------+\n",
      "|                   target |      feature_set | accuracy | n_neighbors |  weights |    metric |\n",
      "+--------------------------+------------------+----------+-------------+----------+-----------+\n",
      "| HistoricalPeriod_encoded |            tfidf |   0.7865 |           5 | distance |    cosine |\n",
      "| HistoricalPeriod_encoded |             bert |   0.7144 |           3 | distance | manhattan |\n",
      "| HistoricalPeriod_encoded |         cannyhog |   0.6864 |           9 | distance | euclidean |\n",
      "| HistoricalPeriod_encoded |           resnet |   0.6806 |           3 | distance |    cosine |\n",
      "| HistoricalPeriod_encoded |              vit |   0.6870 |           7 | distance | euclidean |\n",
      "| HistoricalPeriod_encoded | tfidf + cannyhog |   0.7958 |           3 | distance |    cosine |\n",
      "| HistoricalPeriod_encoded |   tfidf + resnet |   0.7993 |           5 | distance |    cosine |\n",
      "| HistoricalPeriod_encoded |      tfidf + vit |   0.8045 |           5 | distance |    cosine |\n",
      "| HistoricalPeriod_encoded |  bert + cannyhog |   0.7772 |           9 | distance |    cosine |\n",
      "| HistoricalPeriod_encoded |    bert + resnet |   0.7761 |           7 | distance |    cosine |\n",
      "| HistoricalPeriod_encoded |       bert + vit |   0.7801 |           7 | distance |    cosine |\n",
      "+--------------------------+------------------+----------+-------------+----------+-----------+\n",
      "\n",
      "🔄 Hyperparameter Tuning 'RandomForest' Model\n",
      "+--------------------------+------------------+----------+-----------+------------------+--------------+\n",
      "|                   target |      feature_set | accuracy | max_depth | min_samples_leaf | class_weight |\n",
      "+--------------------------+------------------+----------+-----------+------------------+--------------+\n",
      "| HistoricalPeriod_encoded |            tfidf |   0.7882 |      None |                1 |         None |\n",
      "| HistoricalPeriod_encoded |             bert |   0.6754 |        10 |                4 |     balanced |\n",
      "| HistoricalPeriod_encoded |         cannyhog |   0.6876 |        10 |                1 |         None |\n",
      "| HistoricalPeriod_encoded |           resnet |   0.6870 |        10 |                1 |         None |\n",
      "| HistoricalPeriod_encoded |              vit |   0.6893 |        10 |                1 |         None |\n",
      "| HistoricalPeriod_encoded | tfidf + cannyhog |   0.7725 |      None |                1 |         None |\n",
      "| HistoricalPeriod_encoded |   tfidf + resnet |   0.7795 |      None |                1 |         None |\n",
      "| HistoricalPeriod_encoded |      tfidf + vit |   0.7807 |      None |                2 |         None |\n",
      "| HistoricalPeriod_encoded |  bert + cannyhog |   0.7341 |      None |                1 |         None |\n",
      "| HistoricalPeriod_encoded |    bert + resnet |   0.7278 |      None |                4 |     balanced |\n",
      "| HistoricalPeriod_encoded |       bert + vit |   0.7272 |      None |                1 |         None |\n",
      "+--------------------------+------------------+----------+-----------+------------------+--------------+\n",
      "Finished in 3m 31s\n",
      "\n",
      "🔄 Hyperparameter Tuning 'XGBoost' Model\n",
      "+--------------------------+------------------+----------+--------------+-----------+---------------+-----------+------------------+\n",
      "|                   target |      feature_set | accuracy | n_estimators | max_depth | learning_rate | subsample | colsample_bytree |\n",
      "+--------------------------+------------------+----------+--------------+-----------+---------------+-----------+------------------+\n",
      "| HistoricalPeriod_encoded |            tfidf |   0.7958 |          300 |         6 |          0.05 |       1.0 |              0.8 |\n",
      "| HistoricalPeriod_encoded |             bert |   0.7161 |          300 |         6 |           0.1 |       0.8 |              0.8 |\n",
      "| HistoricalPeriod_encoded |         cannyhog |   0.6812 |          100 |         6 |           0.1 |       0.8 |              0.8 |\n",
      "| HistoricalPeriod_encoded |           resnet |   0.6859 |          300 |         3 |          0.05 |       0.8 |              0.8 |\n",
      "| HistoricalPeriod_encoded |              vit |   0.6928 |          300 |         3 |          0.05 |       0.8 |              1.0 |\n",
      "| HistoricalPeriod_encoded | tfidf + cannyhog |   0.7941 |          300 |         6 |           0.1 |       1.0 |              1.0 |\n",
      "| HistoricalPeriod_encoded |   tfidf + resnet |   0.8010 |          100 |         6 |           0.1 |       1.0 |              1.0 |\n",
      "| HistoricalPeriod_encoded |      tfidf + vit |   0.8016 |          300 |         3 |           0.1 |       0.8 |              0.8 |\n",
      "| HistoricalPeriod_encoded |  bert + cannyhog |   0.7301 |          300 |         6 |           0.1 |       0.8 |              0.8 |\n",
      "| HistoricalPeriod_encoded |    bert + resnet |   0.7330 |          300 |         6 |          0.05 |       0.8 |              0.8 |\n",
      "| HistoricalPeriod_encoded |       bert + vit |   0.7371 |          300 |         3 |          0.05 |       0.8 |              0.8 |\n",
      "+--------------------------+------------------+----------+--------------+-----------+---------------+-----------+------------------+\n",
      "Finished in 1h 13m 6s\n",
      "\n",
      "🔄 Hyperparameter Tuning 'LightGBM' Model\n",
      "+--------------------------+------------------+----------+--------------+-----------+---------------+------------+-----------+\n",
      "|                   target |      feature_set | accuracy | n_estimators | max_depth | learning_rate | num_leaves | subsample |\n",
      "+--------------------------+------------------+----------+--------------+-----------+---------------+------------+-----------+\n",
      "| HistoricalPeriod_encoded |            tfidf |   0.7819 |          300 |        -1 |          0.05 |         63 |       0.6 |\n",
      "| HistoricalPeriod_encoded |             bert |   0.7173 |          300 |        10 |          0.05 |         31 |       0.6 |\n",
      "| HistoricalPeriod_encoded |         cannyhog |   0.6294 |          100 |        10 |           0.1 |         31 |       0.8 |\n",
      "| HistoricalPeriod_encoded |           resnet |   0.6376 |          300 |        10 |           0.1 |         31 |       0.6 |\n",
      "| HistoricalPeriod_encoded |              vit |   0.6591 |          100 |        -1 |          0.05 |         63 |       0.6 |\n",
      "| HistoricalPeriod_encoded | tfidf + cannyhog |   0.7906 |          300 |        -1 |           0.1 |         31 |       0.8 |\n",
      "| HistoricalPeriod_encoded |   tfidf + resnet |   0.7952 |          300 |        10 |           0.1 |         31 |       0.8 |\n",
      "| HistoricalPeriod_encoded |      tfidf + vit |   0.8005 |          300 |        10 |           0.1 |         31 |       0.6 |\n",
      "| HistoricalPeriod_encoded |  bert + cannyhog |   0.7435 |          300 |        -1 |           0.1 |         31 |       0.8 |\n",
      "| HistoricalPeriod_encoded |    bert + resnet |   0.7475 |          300 |        -1 |          0.05 |         63 |       0.6 |\n",
      "| HistoricalPeriod_encoded |       bert + vit |   0.7562 |          300 |        -1 |           0.1 |         63 |       0.6 |\n",
      "+--------------------------+------------------+----------+--------------+-----------+---------------+------------+-----------+\n",
      "Finished in 4h 55s\n"
     ]
    }
   ],
   "execution_count": 19
  },
  {
   "metadata": {},
   "cell_type": "markdown",
   "source": "## Save Best Parameters per Model",
   "id": "f556c1e42e70eb54"
  },
  {
   "metadata": {
    "ExecuteTime": {
     "end_time": "2025-08-16T18:29:45.159306Z",
     "start_time": "2025-08-16T18:29:45.152499Z"
    }
   },
   "cell_type": "code",
   "source": "save_best_params(path_params, best_params, flag_new_model)",
   "id": "8f8162c8cceceffb",
   "outputs": [
    {
     "name": "stdout",
     "output_type": "stream",
     "text": [
      "✅ Saved best parameters to best_params.json\n"
     ]
    }
   ],
   "execution_count": 20
  }
 ],
 "metadata": {
  "kernelspec": {
   "display_name": "Python 3",
   "language": "python",
   "name": "python3"
  },
  "language_info": {
   "codemirror_mode": {
    "name": "ipython",
    "version": 2
   },
   "file_extension": ".py",
   "mimetype": "text/x-python",
   "name": "python",
   "nbconvert_exporter": "python",
   "pygments_lexer": "ipython2",
   "version": "2.7.6"
  }
 },
 "nbformat": 4,
 "nbformat_minor": 5
}
