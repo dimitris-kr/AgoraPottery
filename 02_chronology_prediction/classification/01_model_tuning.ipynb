{
 "cells": [
  {
   "metadata": {
    "collapsed": true,
    "ExecuteTime": {
     "end_time": "2025-07-30T12:52:00.262835Z",
     "start_time": "2025-07-30T12:52:00.050437Z"
    }
   },
   "cell_type": "code",
   "source": [
    "import sys\n",
    "import numpy as np\n",
    "import pandas as pd\n",
    "import json\n",
    "import os"
   ],
   "id": "a401f0559624c782",
   "outputs": [],
   "execution_count": 1
  },
  {
   "metadata": {
    "ExecuteTime": {
     "end_time": "2025-07-30T12:52:00.716007Z",
     "start_time": "2025-07-30T12:52:00.270545Z"
    }
   },
   "cell_type": "code",
   "source": [
    "from sklearn.model_selection import StratifiedKFold, ParameterGrid\n",
    "from sklearn.preprocessing import LabelEncoder, StandardScaler\n",
    "\n",
    "from sklearn.ensemble import RandomForestClassifier\n",
    "from sklearn.linear_model import LogisticRegression\n",
    "from sklearn.neighbors import KNeighborsClassifier\n",
    "from xgboost import XGBClassifier\n",
    "from lightgbm import LGBMClassifier"
   ],
   "id": "a126aa5d84efa4b6",
   "outputs": [],
   "execution_count": 2
  },
  {
   "metadata": {
    "ExecuteTime": {
     "end_time": "2025-07-30T12:52:01.972494Z",
     "start_time": "2025-07-30T12:52:00.804485Z"
    }
   },
   "cell_type": "code",
   "source": [
    "sys.path.append(os.path.abspath(\"..\"))\n",
    "from utils import load_best_params, read_features, read_targets, run_hp_all, metrics_c, save_best_params, combine_features_all, scale_feature_set, print_info_features, print_info_targets, reduce_components, d_types_methods, combine_features"
   ],
   "id": "81fc3ec20c2505aa",
   "outputs": [],
   "execution_count": 3
  },
  {
   "metadata": {},
   "cell_type": "markdown",
   "source": "## Read Features and Targets",
   "id": "e6a3bb5b1dd2f248"
  },
  {
   "metadata": {
    "ExecuteTime": {
     "end_time": "2025-07-30T12:52:01.982124Z",
     "start_time": "2025-07-30T12:52:01.979482Z"
    }
   },
   "cell_type": "code",
   "source": "path = os.path.abspath(os.path.join(os.getcwd(), \"../../data/chronology_prediction\"))",
   "id": "32a6d77d59e7ea50",
   "outputs": [],
   "execution_count": 4
  },
  {
   "metadata": {
    "ExecuteTime": {
     "end_time": "2025-07-30T12:52:02.829042Z",
     "start_time": "2025-07-30T12:52:01.984257Z"
    }
   },
   "cell_type": "code",
   "source": [
    "X = read_features(path)\n",
    "y = read_targets(path, [\"HistoricalPeriod\"])"
   ],
   "id": "2abf6b30281d4b49",
   "outputs": [
    {
     "name": "stdout",
     "output_type": "stream",
     "text": [
      "Loaded X_train_tfidf\n",
      "Loaded X_train_bert\n",
      "Loaded X_train_cannyhog\n",
      "Loaded X_train_resnet\n",
      "Loaded X_train_vit\n",
      "Loaded X_test_tfidf\n",
      "Loaded X_test_bert\n",
      "Loaded X_test_cannyhog\n",
      "Loaded X_test_resnet\n",
      "Loaded X_test_vit\n",
      "Loaded y_train\n",
      "Loaded y_test\n"
     ]
    }
   ],
   "execution_count": 5
  },
  {
   "metadata": {
    "ExecuteTime": {
     "end_time": "2025-07-30T12:52:02.839133Z",
     "start_time": "2025-07-30T12:52:02.836395Z"
    }
   },
   "cell_type": "code",
   "source": "print_info_features(X)",
   "id": "a985807b90961227",
   "outputs": [
    {
     "name": "stdout",
     "output_type": "stream",
     "text": [
      "X = {\n",
      "\ttrain: {\n",
      "\t\ttfidf: \n",
      "\t\t\t<class 'pandas.core.frame.DataFrame'>\n",
      "\t\t\tshape = (1719, 300), \n",
      "\t\tbert: \n",
      "\t\t\t<class 'pandas.core.frame.DataFrame'>\n",
      "\t\t\tshape = (1719, 768), \n",
      "\t\tcannyhog: \n",
      "\t\t\t<class 'pandas.core.frame.DataFrame'>\n",
      "\t\t\tshape = (1719, 2917), \n",
      "\t\tresnet: \n",
      "\t\t\t<class 'pandas.core.frame.DataFrame'>\n",
      "\t\t\tshape = (1719, 2048), \n",
      "\t\tvit: \n",
      "\t\t\t<class 'pandas.core.frame.DataFrame'>\n",
      "\t\t\tshape = (1719, 768), \n",
      "\t},\n",
      "\ttest: {\n",
      "\t\ttfidf: \n",
      "\t\t\t<class 'pandas.core.frame.DataFrame'>\n",
      "\t\t\tshape = (191, 300), \n",
      "\t\tbert: \n",
      "\t\t\t<class 'pandas.core.frame.DataFrame'>\n",
      "\t\t\tshape = (191, 768), \n",
      "\t\tcannyhog: \n",
      "\t\t\t<class 'pandas.core.frame.DataFrame'>\n",
      "\t\t\tshape = (191, 2917), \n",
      "\t\tresnet: \n",
      "\t\t\t<class 'pandas.core.frame.DataFrame'>\n",
      "\t\t\tshape = (191, 2048), \n",
      "\t\tvit: \n",
      "\t\t\t<class 'pandas.core.frame.DataFrame'>\n",
      "\t\t\tshape = (191, 768), \n",
      "\t},\n",
      "}\n"
     ]
    }
   ],
   "execution_count": 6
  },
  {
   "metadata": {
    "ExecuteTime": {
     "end_time": "2025-07-30T12:52:02.848853Z",
     "start_time": "2025-07-30T12:52:02.846190Z"
    }
   },
   "cell_type": "code",
   "source": "print_info_targets(y)",
   "id": "1c65efdaec4f0e0",
   "outputs": [
    {
     "name": "stdout",
     "output_type": "stream",
     "text": [
      "y = {\n",
      "\ttrain: \n",
      "\t\t<class 'pandas.core.frame.DataFrame'>\n",
      "\t\tshape (1719, 1)\n",
      "\t\tcolumns ['HistoricalPeriod'],\n",
      "\ttest: \n",
      "\t\t<class 'pandas.core.frame.DataFrame'>\n",
      "\t\tshape (191, 1)\n",
      "\t\tcolumns ['HistoricalPeriod'],\n",
      "}\n"
     ]
    }
   ],
   "execution_count": 7
  },
  {
   "metadata": {
    "ExecuteTime": {
     "end_time": "2025-07-30T12:52:02.861460Z",
     "start_time": "2025-07-30T12:52:02.855923Z"
    }
   },
   "cell_type": "code",
   "source": "y[\"train\"][\"HistoricalPeriod\"].value_counts()",
   "id": "3b962deb0a34adcb",
   "outputs": [
    {
     "data": {
      "text/plain": [
       "HistoricalPeriod\n",
       "Classical        1025\n",
       "Archaic           620\n",
       "Hellenistic        63\n",
       "Orientalizing      11\n",
       "Name: count, dtype: int64"
      ]
     },
     "execution_count": 8,
     "metadata": {},
     "output_type": "execute_result"
    }
   ],
   "execution_count": 8
  },
  {
   "metadata": {},
   "cell_type": "markdown",
   "source": "## Scale Features",
   "id": "b100631f0d876cdd"
  },
  {
   "metadata": {
    "ExecuteTime": {
     "end_time": "2025-07-30T12:52:03.048573Z",
     "start_time": "2025-07-30T12:52:02.899867Z"
    }
   },
   "cell_type": "code",
   "source": [
    "X = {\n",
    "    subset: {\n",
    "        method: scale_feature_set(_X) if method != \"tfidf\" else _X\n",
    "        for method, _X in X[subset].items()\n",
    "    } for subset in X.keys()\n",
    "}"
   ],
   "id": "b3ab7ccd35803ab8",
   "outputs": [],
   "execution_count": 9
  },
  {
   "metadata": {},
   "cell_type": "markdown",
   "source": [
    "## Reduce Features\n",
    "\n",
    "Use n_components=0.95 to keep enough components to preserve 95% of the variance in the data."
   ],
   "id": "2704785330d65c28"
  },
  {
   "metadata": {
    "ExecuteTime": {
     "end_time": "2025-07-30T12:52:04.474945Z",
     "start_time": "2025-07-30T12:52:03.079624Z"
    }
   },
   "cell_type": "code",
   "source": [
    "reducers = {}\n",
    "X_reduced = {subset: {} for subset in X.keys()}\n",
    "for method in d_types_methods[\"text\"] + d_types_methods[\"image\"]:\n",
    "    if method == \"tfidf\":\n",
    "        for subset in X.keys(): X_reduced[subset][method] = X[subset][method]\n",
    "        continue\n",
    "\n",
    "    X_reduced[\"train\"][method], reducers[method] = reduce_components(X[\"train\"][method], n_components=0.95)\n",
    "\n",
    "    X_reduced[\"test\"][method], _ = reduce_components(X[\"test\"][method], reducer_fitted=reducers[method])"
   ],
   "id": "3482034662e8fef1",
   "outputs": [],
   "execution_count": 10
  },
  {
   "metadata": {
    "ExecuteTime": {
     "end_time": "2025-07-30T12:52:04.480628Z",
     "start_time": "2025-07-30T12:52:04.478002Z"
    }
   },
   "cell_type": "code",
   "source": "print_info_features(X)",
   "id": "b70ba89edb950092",
   "outputs": [
    {
     "name": "stdout",
     "output_type": "stream",
     "text": [
      "X = {\n",
      "\ttrain: {\n",
      "\t\ttfidf: \n",
      "\t\t\t<class 'pandas.core.frame.DataFrame'>\n",
      "\t\t\tshape = (1719, 300), \n",
      "\t\tbert: \n",
      "\t\t\t<class 'pandas.core.frame.DataFrame'>\n",
      "\t\t\tshape = (1719, 768), \n",
      "\t\tcannyhog: \n",
      "\t\t\t<class 'pandas.core.frame.DataFrame'>\n",
      "\t\t\tshape = (1719, 2917), \n",
      "\t\tresnet: \n",
      "\t\t\t<class 'pandas.core.frame.DataFrame'>\n",
      "\t\t\tshape = (1719, 2048), \n",
      "\t\tvit: \n",
      "\t\t\t<class 'pandas.core.frame.DataFrame'>\n",
      "\t\t\tshape = (1719, 768), \n",
      "\t},\n",
      "\ttest: {\n",
      "\t\ttfidf: \n",
      "\t\t\t<class 'pandas.core.frame.DataFrame'>\n",
      "\t\t\tshape = (191, 300), \n",
      "\t\tbert: \n",
      "\t\t\t<class 'pandas.core.frame.DataFrame'>\n",
      "\t\t\tshape = (191, 768), \n",
      "\t\tcannyhog: \n",
      "\t\t\t<class 'pandas.core.frame.DataFrame'>\n",
      "\t\t\tshape = (191, 2917), \n",
      "\t\tresnet: \n",
      "\t\t\t<class 'pandas.core.frame.DataFrame'>\n",
      "\t\t\tshape = (191, 2048), \n",
      "\t\tvit: \n",
      "\t\t\t<class 'pandas.core.frame.DataFrame'>\n",
      "\t\t\tshape = (191, 768), \n",
      "\t},\n",
      "}\n"
     ]
    }
   ],
   "execution_count": 11
  },
  {
   "metadata": {},
   "cell_type": "markdown",
   "source": "## Combine & Re-scale Text & Image Feature Sets",
   "id": "7ea963d383eed0d1"
  },
  {
   "metadata": {
    "ExecuteTime": {
     "end_time": "2025-07-30T12:52:05.009999Z",
     "start_time": "2025-07-30T12:52:04.489960Z"
    }
   },
   "cell_type": "code",
   "source": [
    "for subset in X.keys():\n",
    "    X[subset].update(combine_features_all(X[subset], scale=True))\n",
    "    X_reduced[subset].update(combine_features_all(X_reduced[subset], scale=True))"
   ],
   "id": "5586a5cf7e6263c4",
   "outputs": [],
   "execution_count": 12
  },
  {
   "metadata": {
    "ExecuteTime": {
     "end_time": "2025-07-30T12:52:05.022035Z",
     "start_time": "2025-07-30T12:52:05.019014Z"
    }
   },
   "cell_type": "code",
   "source": "print_info_features(X)",
   "id": "decf290e2e16f2c8",
   "outputs": [
    {
     "name": "stdout",
     "output_type": "stream",
     "text": [
      "X = {\n",
      "\ttrain: {\n",
      "\t\ttfidf: \n",
      "\t\t\t<class 'pandas.core.frame.DataFrame'>\n",
      "\t\t\tshape = (1719, 300), \n",
      "\t\tbert: \n",
      "\t\t\t<class 'pandas.core.frame.DataFrame'>\n",
      "\t\t\tshape = (1719, 768), \n",
      "\t\tcannyhog: \n",
      "\t\t\t<class 'pandas.core.frame.DataFrame'>\n",
      "\t\t\tshape = (1719, 2917), \n",
      "\t\tresnet: \n",
      "\t\t\t<class 'pandas.core.frame.DataFrame'>\n",
      "\t\t\tshape = (1719, 2048), \n",
      "\t\tvit: \n",
      "\t\t\t<class 'pandas.core.frame.DataFrame'>\n",
      "\t\t\tshape = (1719, 768), \n",
      "\t\ttfidf + cannyhog: \n",
      "\t\t\t<class 'pandas.core.frame.DataFrame'>\n",
      "\t\t\tshape = (1719, 3217), \n",
      "\t\ttfidf + resnet: \n",
      "\t\t\t<class 'pandas.core.frame.DataFrame'>\n",
      "\t\t\tshape = (1719, 2348), \n",
      "\t\ttfidf + vit: \n",
      "\t\t\t<class 'pandas.core.frame.DataFrame'>\n",
      "\t\t\tshape = (1719, 1068), \n",
      "\t\tbert + cannyhog: \n",
      "\t\t\t<class 'pandas.core.frame.DataFrame'>\n",
      "\t\t\tshape = (1719, 3685), \n",
      "\t\tbert + resnet: \n",
      "\t\t\t<class 'pandas.core.frame.DataFrame'>\n",
      "\t\t\tshape = (1719, 2816), \n",
      "\t\tbert + vit: \n",
      "\t\t\t<class 'pandas.core.frame.DataFrame'>\n",
      "\t\t\tshape = (1719, 1536), \n",
      "\t},\n",
      "\ttest: {\n",
      "\t\ttfidf: \n",
      "\t\t\t<class 'pandas.core.frame.DataFrame'>\n",
      "\t\t\tshape = (191, 300), \n",
      "\t\tbert: \n",
      "\t\t\t<class 'pandas.core.frame.DataFrame'>\n",
      "\t\t\tshape = (191, 768), \n",
      "\t\tcannyhog: \n",
      "\t\t\t<class 'pandas.core.frame.DataFrame'>\n",
      "\t\t\tshape = (191, 2917), \n",
      "\t\tresnet: \n",
      "\t\t\t<class 'pandas.core.frame.DataFrame'>\n",
      "\t\t\tshape = (191, 2048), \n",
      "\t\tvit: \n",
      "\t\t\t<class 'pandas.core.frame.DataFrame'>\n",
      "\t\t\tshape = (191, 768), \n",
      "\t\ttfidf + cannyhog: \n",
      "\t\t\t<class 'pandas.core.frame.DataFrame'>\n",
      "\t\t\tshape = (191, 3217), \n",
      "\t\ttfidf + resnet: \n",
      "\t\t\t<class 'pandas.core.frame.DataFrame'>\n",
      "\t\t\tshape = (191, 2348), \n",
      "\t\ttfidf + vit: \n",
      "\t\t\t<class 'pandas.core.frame.DataFrame'>\n",
      "\t\t\tshape = (191, 1068), \n",
      "\t\tbert + cannyhog: \n",
      "\t\t\t<class 'pandas.core.frame.DataFrame'>\n",
      "\t\t\tshape = (191, 3685), \n",
      "\t\tbert + resnet: \n",
      "\t\t\t<class 'pandas.core.frame.DataFrame'>\n",
      "\t\t\tshape = (191, 2816), \n",
      "\t\tbert + vit: \n",
      "\t\t\t<class 'pandas.core.frame.DataFrame'>\n",
      "\t\t\tshape = (191, 1536), \n",
      "\t},\n",
      "}\n"
     ]
    }
   ],
   "execution_count": 13
  },
  {
   "metadata": {},
   "cell_type": "markdown",
   "source": "## Encode Target Labels",
   "id": "5d2c4861e88858d"
  },
  {
   "metadata": {
    "ExecuteTime": {
     "end_time": "2025-07-30T12:52:05.036176Z",
     "start_time": "2025-07-30T12:52:05.031259Z"
    }
   },
   "cell_type": "code",
   "source": [
    "le = LabelEncoder()\n",
    "\n",
    "y[\"train\"][\"HistoricalPeriod_encoded\"] = le.fit_transform(y[\"train\"][\"HistoricalPeriod\"])\n",
    "y[\"test\"][\"HistoricalPeriod_encoded\"] = le.transform(y[\"test\"][\"HistoricalPeriod\"])\n",
    "\n",
    "label_mapping = dict(zip(le.classes_, le.transform(le.classes_)))\n",
    "for label, encoding in label_mapping.items():\n",
    "    print(f\"{encoding} --> {label}\")"
   ],
   "id": "163eb9b99423b378",
   "outputs": [
    {
     "name": "stdout",
     "output_type": "stream",
     "text": [
      "0 --> Archaic\n",
      "1 --> Classical\n",
      "2 --> Hellenistic\n",
      "3 --> Orientalizing\n"
     ]
    }
   ],
   "execution_count": 14
  },
  {
   "metadata": {},
   "cell_type": "markdown",
   "source": [
    "## Initialize 10-Fold Cross Validation\n",
    "\n",
    "*Stratified K-Fold:*\n",
    "- preserves label distribution\n",
    "- maintains proportion of classes in each fold\n"
   ],
   "id": "d766734a397acdf4"
  },
  {
   "metadata": {
    "ExecuteTime": {
     "end_time": "2025-07-30T12:52:05.049215Z",
     "start_time": "2025-07-30T12:52:05.045923Z"
    }
   },
   "cell_type": "code",
   "source": [
    "skf = StratifiedKFold(n_splits=10, shuffle=True, random_state=42)\n",
    "folds = list(skf.split(np.arange(y[\"train\"].shape[0]), y[\"train\"][\"HistoricalPeriod_encoded\"]))"
   ],
   "id": "f354728498a421cc",
   "outputs": [],
   "execution_count": 15
  },
  {
   "metadata": {},
   "cell_type": "markdown",
   "source": "## Define Parameter Grid per Model",
   "id": "2428e3f877f72806"
  },
  {
   "metadata": {
    "ExecuteTime": {
     "end_time": "2025-07-30T12:52:05.062702Z",
     "start_time": "2025-07-30T12:52:05.058182Z"
    }
   },
   "cell_type": "code",
   "source": [
    "model_param_grids = {\n",
    "    \"LogisticRegression\": (\n",
    "        LogisticRegression, {\n",
    "            \"C\": [0.01, 0.1, 1],\n",
    "            \"solver\": [\"liblinear\", \"lbfgs\"],\n",
    "            \"max_iter\": [5000],\n",
    "            \"class_weight\": [None, \"balanced\"],\n",
    "            \"random_state\": [42]\n",
    "        }\n",
    "    ),\n",
    "    \"KNN\": (\n",
    "        KNeighborsClassifier, {\n",
    "            \"n_neighbors\": [3, 5, 7, 9, 11],\n",
    "            \"weights\": [\"uniform\", \"distance\"],\n",
    "            \"metric\": [\"euclidean\", \"manhattan\", \"cosine\"]\n",
    "        }\n",
    "    ),\n",
    "    \"RandomForest\": (\n",
    "        RandomForestClassifier, {\n",
    "            \"n_estimators\": [100],             # number of trees\n",
    "            \"max_depth\": [None, 10],             # limit depth to control overfitting\n",
    "            \"min_samples_split\": [2],             # minimum samples to split an internal node\n",
    "            \"min_samples_leaf\": [1, 2, 4],               # minimum samples at a leaf node\n",
    "            \"max_features\": [\"sqrt\"],      # number of features to consider at split\n",
    "            \"class_weight\": [None, \"balanced\"],          # handle class imbalance\n",
    "            \"n_jobs\": [-1],\n",
    "            \"random_state\": [42]\n",
    "        }\n",
    "    ),\n",
    "    \"XGBoost\": (\n",
    "        XGBClassifier,\n",
    "        {\n",
    "            \"n_estimators\": [100, 300], # Number of boosting rounds\n",
    "            \"max_depth\": [3, 6], # Tree depth: controls model complexity\n",
    "            \"learning_rate\": [0.05, 0.1], # Lower = slower training, but more accurate\n",
    "            \"subsample\": [0.8, 1.0], # Row sampling\n",
    "            \"colsample_bytree\": [0.8, 1.0],\n",
    "            \"n_jobs\": [-1],\n",
    "            \"random_state\": [42],\n",
    "\n",
    "            \"tree_method\": [\"hist\"],\n",
    "            \"device\": [\"cuda\"]\n",
    "        }\n",
    "    ),\n",
    "    \"LightGBM\": (\n",
    "        LGBMClassifier,\n",
    "        {\n",
    "            \"n_estimators\": [100, 300], # Number of boosting rounds\n",
    "            \"max_depth\": [-1, 10], # Maximum depth of tree (-1 = no limit)\n",
    "            \"learning_rate\": [0.05, 0.1], # Lower = slower training, but more accurate\n",
    "            \"num_leaves\": [31, 63],                  # Number of leaves in one tree\n",
    "            \"subsample\": [0.6, 0.8],                 # Random sample ratio of training data\n",
    "            \"class_weight\": [\"balanced\"],\n",
    "            \"n_jobs\": [-1],\n",
    "            \"random_state\": [42],\n",
    "            \"verbose\": [-1],\n",
    "\n",
    "            \"device_type\": [\"gpu\"],\n",
    "            \"n_gpu\": [0],\n",
    "            \"boosting_type\": [\"gbdt\"],\n",
    "        }\n",
    "    )\n",
    "}"
   ],
   "id": "f125897d2278026e",
   "outputs": [],
   "execution_count": 16
  },
  {
   "metadata": {
    "ExecuteTime": {
     "end_time": "2025-07-30T12:52:05.074729Z",
     "start_time": "2025-07-30T12:52:05.072474Z"
    }
   },
   "cell_type": "code",
   "source": "models_reduced_features = [\"KNN\", \"XGBoost\", \"LightGBM\"]",
   "id": "a9cc884422bc5ccd",
   "outputs": [],
   "execution_count": 17
  },
  {
   "metadata": {},
   "cell_type": "markdown",
   "source": "## Load or Initialize Best Params Dictionary",
   "id": "aff0add5185e8c0f"
  },
  {
   "metadata": {
    "ExecuteTime": {
     "end_time": "2025-07-30T12:52:05.087421Z",
     "start_time": "2025-07-30T12:52:05.084122Z"
    }
   },
   "cell_type": "code",
   "source": [
    "path_params = \"best_params.json\"\n",
    "\n",
    "best_params = load_best_params(path_params)\n",
    "print(f\"Best Params Available for {len(best_params.keys())} Models\")"
   ],
   "id": "be68eea3d226f1ea",
   "outputs": [
    {
     "name": "stdout",
     "output_type": "stream",
     "text": [
      "Best Params Available for 3 Models\n"
     ]
    }
   ],
   "execution_count": 18
  },
  {
   "metadata": {},
   "cell_type": "markdown",
   "source": [
    "## Run HP Tuning for New Models\n",
    "\n",
    "Run tuning only for models missing from the saved params"
   ],
   "id": "cdc0718a6dfb559f"
  },
  {
   "metadata": {
    "ExecuteTime": {
     "end_time": "2025-07-30T17:51:31.088332Z",
     "start_time": "2025-07-30T12:52:05.097173Z"
    }
   },
   "cell_type": "code",
   "source": [
    "verbose = True\n",
    "flag_new_model = False\n",
    "for model_name, (model_class, param_grid) in model_param_grids.items():\n",
    "\n",
    "    if model_name not in best_params:\n",
    "        flag_new_model = True\n",
    "\n",
    "        if verbose: print(f\"\\n🎚️ Hyperparameter Tuning '{model_name}' Model\")\n",
    "\n",
    "        _X = X_reduced[\"train\"] if model_name in models_reduced_features else X[\"train\"]\n",
    "        _y = y[\"train\"][[\"HistoricalPeriod_encoded\"]]\n",
    "\n",
    "        best_params[model_name] = run_hp_all(\n",
    "            model_class,\n",
    "            param_grid,\n",
    "            folds,\n",
    "            metrics_c,\n",
    "            _X,\n",
    "            _y,\n",
    "            deciding_metric=\"accuracy\",\n",
    "            verbose=verbose\n",
    "        )\n",
    "    else:\n",
    "        if verbose: print(f\"\\n✅ '{model_name}' Model Already Tuned\")"
   ],
   "id": "78b4860744b03916",
   "outputs": [
    {
     "name": "stdout",
     "output_type": "stream",
     "text": [
      "\n",
      "✅ 'LogisticRegression' Model Already Tuned\n",
      "\n",
      "✅ 'KNN' Model Already Tuned\n",
      "\n",
      "✅ 'RandomForest' Model Already Tuned\n",
      "\n",
      "🎚️ Hyperparameter Tuning 'XGBoost' Model\n",
      "\n",
      "Features: tfidf | Target: HistoricalPeriod_encoded\n"
     ]
    },
    {
     "name": "stderr",
     "output_type": "stream",
     "text": [
      "C:\\Users\\dimit\\.conda\\envs\\thesis\\Lib\\site-packages\\xgboost\\core.py:705: UserWarning: [15:52:05] WARNING: D:\\bld\\xgboost-split_1748292846627\\work\\src\\common\\error_msg.cc:58: Falling back to prediction using DMatrix due to mismatched devices. This might lead to higher memory usage and slower performance. XGBoost is running on: cuda:0, while the input data is on: cpu.\n",
      "Potential solutions:\n",
      "- Use a data structure that matches the device ordinal in the booster.\n",
      "- Set the device for booster before call to inplace_predict.\n",
      "\n",
      "This warning will only be shown once.\n",
      "\n",
      "  return func(**kwargs)\n"
     ]
    },
    {
     "name": "stdout",
     "output_type": "stream",
     "text": [
      "✅ Best params: {'colsample_bytree': 0.8, 'device': 'cuda', 'learning_rate': 0.1, 'max_depth': 3, 'n_estimators': 300, 'n_jobs': -1, 'random_state': 42, 'subsample': 0.8, 'tree_method': 'hist'}\n",
      "🎯 Best ACCURACY: 0.7947\n",
      "\n",
      "Features: bert | Target: HistoricalPeriod_encoded\n",
      "✅ Best params: {'colsample_bytree': 1.0, 'device': 'cuda', 'learning_rate': 0.1, 'max_depth': 6, 'n_estimators': 300, 'n_jobs': -1, 'random_state': 42, 'subsample': 0.8, 'tree_method': 'hist'}\n",
      "🎯 Best ACCURACY: 0.7103\n",
      "\n",
      "Features: cannyhog | Target: HistoricalPeriod_encoded\n",
      "✅ Best params: {'colsample_bytree': 1.0, 'device': 'cuda', 'learning_rate': 0.1, 'max_depth': 6, 'n_estimators': 300, 'n_jobs': -1, 'random_state': 42, 'subsample': 0.8, 'tree_method': 'hist'}\n",
      "🎯 Best ACCURACY: 0.6859\n",
      "\n",
      "Features: resnet | Target: HistoricalPeriod_encoded\n",
      "✅ Best params: {'colsample_bytree': 1.0, 'device': 'cuda', 'learning_rate': 0.05, 'max_depth': 3, 'n_estimators': 300, 'n_jobs': -1, 'random_state': 42, 'subsample': 1.0, 'tree_method': 'hist'}\n",
      "🎯 Best ACCURACY: 0.6853\n",
      "\n",
      "Features: vit | Target: HistoricalPeriod_encoded\n",
      "✅ Best params: {'colsample_bytree': 0.8, 'device': 'cuda', 'learning_rate': 0.05, 'max_depth': 3, 'n_estimators': 100, 'n_jobs': -1, 'random_state': 42, 'subsample': 0.8, 'tree_method': 'hist'}\n",
      "🎯 Best ACCURACY: 0.6923\n",
      "\n",
      "Features: tfidf + cannyhog | Target: HistoricalPeriod_encoded\n",
      "✅ Best params: {'colsample_bytree': 0.8, 'device': 'cuda', 'learning_rate': 0.1, 'max_depth': 6, 'n_estimators': 300, 'n_jobs': -1, 'random_state': 42, 'subsample': 0.8, 'tree_method': 'hist'}\n",
      "🎯 Best ACCURACY: 0.7964\n",
      "\n",
      "Features: tfidf + resnet | Target: HistoricalPeriod_encoded\n",
      "✅ Best params: {'colsample_bytree': 1.0, 'device': 'cuda', 'learning_rate': 0.1, 'max_depth': 6, 'n_estimators': 300, 'n_jobs': -1, 'random_state': 42, 'subsample': 0.8, 'tree_method': 'hist'}\n",
      "🎯 Best ACCURACY: 0.7999\n",
      "\n",
      "Features: tfidf + vit | Target: HistoricalPeriod_encoded\n",
      "✅ Best params: {'colsample_bytree': 1.0, 'device': 'cuda', 'learning_rate': 0.1, 'max_depth': 3, 'n_estimators': 300, 'n_jobs': -1, 'random_state': 42, 'subsample': 0.8, 'tree_method': 'hist'}\n",
      "🎯 Best ACCURACY: 0.8034\n",
      "\n",
      "Features: bert + cannyhog | Target: HistoricalPeriod_encoded\n",
      "✅ Best params: {'colsample_bytree': 1.0, 'device': 'cuda', 'learning_rate': 0.1, 'max_depth': 6, 'n_estimators': 300, 'n_jobs': -1, 'random_state': 42, 'subsample': 0.8, 'tree_method': 'hist'}\n",
      "🎯 Best ACCURACY: 0.7272\n",
      "\n",
      "Features: bert + resnet | Target: HistoricalPeriod_encoded\n",
      "✅ Best params: {'colsample_bytree': 0.8, 'device': 'cuda', 'learning_rate': 0.1, 'max_depth': 6, 'n_estimators': 300, 'n_jobs': -1, 'random_state': 42, 'subsample': 0.8, 'tree_method': 'hist'}\n",
      "🎯 Best ACCURACY: 0.7342\n",
      "\n",
      "Features: bert + vit | Target: HistoricalPeriod_encoded\n",
      "✅ Best params: {'colsample_bytree': 0.8, 'device': 'cuda', 'learning_rate': 0.1, 'max_depth': 6, 'n_estimators': 300, 'n_jobs': -1, 'random_state': 42, 'subsample': 0.8, 'tree_method': 'hist'}\n",
      "🎯 Best ACCURACY: 0.7382\n",
      "\n",
      "🎚️ Hyperparameter Tuning 'LightGBM' Model\n",
      "\n",
      "Features: tfidf | Target: HistoricalPeriod_encoded\n",
      "✅ Best params: {'boosting_type': 'gbdt', 'class_weight': 'balanced', 'device_type': 'gpu', 'learning_rate': 0.05, 'max_depth': -1, 'n_estimators': 300, 'n_gpu': 0, 'n_jobs': -1, 'num_leaves': 63, 'random_state': 42, 'subsample': 0.8, 'verbose': -1}\n",
      "🎯 Best ACCURACY: 0.7819\n",
      "\n",
      "Features: bert | Target: HistoricalPeriod_encoded\n",
      "✅ Best params: {'boosting_type': 'gbdt', 'class_weight': 'balanced', 'device_type': 'gpu', 'learning_rate': 0.05, 'max_depth': 10, 'n_estimators': 300, 'n_gpu': 0, 'n_jobs': -1, 'num_leaves': 31, 'random_state': 42, 'subsample': 0.6, 'verbose': -1}\n",
      "🎯 Best ACCURACY: 0.7179\n",
      "\n",
      "Features: cannyhog | Target: HistoricalPeriod_encoded\n",
      "✅ Best params: {'boosting_type': 'gbdt', 'class_weight': 'balanced', 'device_type': 'gpu', 'learning_rate': 0.05, 'max_depth': 10, 'n_estimators': 100, 'n_gpu': 0, 'n_jobs': -1, 'num_leaves': 31, 'random_state': 42, 'subsample': 0.6, 'verbose': -1}\n",
      "🎯 Best ACCURACY: 0.6289\n",
      "\n",
      "Features: resnet | Target: HistoricalPeriod_encoded\n",
      "✅ Best params: {'boosting_type': 'gbdt', 'class_weight': 'balanced', 'device_type': 'gpu', 'learning_rate': 0.1, 'max_depth': -1, 'n_estimators': 300, 'n_gpu': 0, 'n_jobs': -1, 'num_leaves': 31, 'random_state': 42, 'subsample': 0.8, 'verbose': -1}\n",
      "🎯 Best ACCURACY: 0.6364\n",
      "\n",
      "Features: vit | Target: HistoricalPeriod_encoded\n",
      "✅ Best params: {'boosting_type': 'gbdt', 'class_weight': 'balanced', 'device_type': 'gpu', 'learning_rate': 0.05, 'max_depth': -1, 'n_estimators': 100, 'n_gpu': 0, 'n_jobs': -1, 'num_leaves': 63, 'random_state': 42, 'subsample': 0.6, 'verbose': -1}\n",
      "🎯 Best ACCURACY: 0.6579\n",
      "\n",
      "Features: tfidf + cannyhog | Target: HistoricalPeriod_encoded\n",
      "✅ Best params: {'boosting_type': 'gbdt', 'class_weight': 'balanced', 'device_type': 'gpu', 'learning_rate': 0.1, 'max_depth': -1, 'n_estimators': 300, 'n_gpu': 0, 'n_jobs': -1, 'num_leaves': 31, 'random_state': 42, 'subsample': 0.6, 'verbose': -1}\n",
      "🎯 Best ACCURACY: 0.7947\n",
      "\n",
      "Features: tfidf + resnet | Target: HistoricalPeriod_encoded\n",
      "✅ Best params: {'boosting_type': 'gbdt', 'class_weight': 'balanced', 'device_type': 'gpu', 'learning_rate': 0.1, 'max_depth': 10, 'n_estimators': 300, 'n_gpu': 0, 'n_jobs': -1, 'num_leaves': 31, 'random_state': 42, 'subsample': 0.8, 'verbose': -1}\n",
      "🎯 Best ACCURACY: 0.7929\n",
      "\n",
      "Features: tfidf + vit | Target: HistoricalPeriod_encoded\n",
      "✅ Best params: {'boosting_type': 'gbdt', 'class_weight': 'balanced', 'device_type': 'gpu', 'learning_rate': 0.1, 'max_depth': 10, 'n_estimators': 300, 'n_gpu': 0, 'n_jobs': -1, 'num_leaves': 31, 'random_state': 42, 'subsample': 0.6, 'verbose': -1}\n",
      "🎯 Best ACCURACY: 0.7999\n",
      "\n",
      "Features: bert + cannyhog | Target: HistoricalPeriod_encoded\n",
      "✅ Best params: {'boosting_type': 'gbdt', 'class_weight': 'balanced', 'device_type': 'gpu', 'learning_rate': 0.1, 'max_depth': 10, 'n_estimators': 300, 'n_gpu': 0, 'n_jobs': -1, 'num_leaves': 31, 'random_state': 42, 'subsample': 0.8, 'verbose': -1}\n",
      "🎯 Best ACCURACY: 0.7440\n",
      "\n",
      "Features: bert + resnet | Target: HistoricalPeriod_encoded\n",
      "✅ Best params: {'boosting_type': 'gbdt', 'class_weight': 'balanced', 'device_type': 'gpu', 'learning_rate': 0.1, 'max_depth': 10, 'n_estimators': 300, 'n_gpu': 0, 'n_jobs': -1, 'num_leaves': 63, 'random_state': 42, 'subsample': 0.8, 'verbose': -1}\n",
      "🎯 Best ACCURACY: 0.7464\n",
      "\n",
      "Features: bert + vit | Target: HistoricalPeriod_encoded\n",
      "✅ Best params: {'boosting_type': 'gbdt', 'class_weight': 'balanced', 'device_type': 'gpu', 'learning_rate': 0.1, 'max_depth': -1, 'n_estimators': 300, 'n_gpu': 0, 'n_jobs': -1, 'num_leaves': 63, 'random_state': 42, 'subsample': 0.6, 'verbose': -1}\n",
      "🎯 Best ACCURACY: 0.7533\n"
     ]
    }
   ],
   "execution_count": 19
  },
  {
   "metadata": {},
   "cell_type": "markdown",
   "source": "## Save Best Parameters per Model",
   "id": "f556c1e42e70eb54"
  },
  {
   "metadata": {
    "ExecuteTime": {
     "end_time": "2025-07-30T17:51:31.152684Z",
     "start_time": "2025-07-30T17:51:31.140246Z"
    }
   },
   "cell_type": "code",
   "source": "best_params",
   "id": "680d284c56a81122",
   "outputs": [
    {
     "data": {
      "text/plain": [
       "{'LogisticRegression': {('tfidf', 'HistoricalPeriod_encoded'): {'C': 1,\n",
       "   'class_weight': None,\n",
       "   'max_iter': 5000,\n",
       "   'random_state': 42,\n",
       "   'solver': 'lbfgs'},\n",
       "  ('bert', 'HistoricalPeriod_encoded'): {'C': 0.01,\n",
       "   'class_weight': None,\n",
       "   'max_iter': 5000,\n",
       "   'random_state': 42,\n",
       "   'solver': 'lbfgs'},\n",
       "  ('cannyhog', 'HistoricalPeriod_encoded'): {'C': 0.01,\n",
       "   'class_weight': None,\n",
       "   'max_iter': 5000,\n",
       "   'random_state': 42,\n",
       "   'solver': 'lbfgs'},\n",
       "  ('resnet', 'HistoricalPeriod_encoded'): {'C': 0.01,\n",
       "   'class_weight': None,\n",
       "   'max_iter': 5000,\n",
       "   'random_state': 42,\n",
       "   'solver': 'lbfgs'},\n",
       "  ('vit', 'HistoricalPeriod_encoded'): {'C': 0.1,\n",
       "   'class_weight': None,\n",
       "   'max_iter': 5000,\n",
       "   'random_state': 42,\n",
       "   'solver': 'lbfgs'},\n",
       "  ('tfidf + cannyhog', 'HistoricalPeriod_encoded'): {'C': 0.01,\n",
       "   'class_weight': None,\n",
       "   'max_iter': 5000,\n",
       "   'random_state': 42,\n",
       "   'solver': 'lbfgs'},\n",
       "  ('tfidf + resnet', 'HistoricalPeriod_encoded'): {'C': 0.01,\n",
       "   'class_weight': None,\n",
       "   'max_iter': 5000,\n",
       "   'random_state': 42,\n",
       "   'solver': 'lbfgs'},\n",
       "  ('tfidf + vit', 'HistoricalPeriod_encoded'): {'C': 0.01,\n",
       "   'class_weight': None,\n",
       "   'max_iter': 5000,\n",
       "   'random_state': 42,\n",
       "   'solver': 'liblinear'},\n",
       "  ('bert + cannyhog', 'HistoricalPeriod_encoded'): {'C': 0.01,\n",
       "   'class_weight': None,\n",
       "   'max_iter': 5000,\n",
       "   'random_state': 42,\n",
       "   'solver': 'lbfgs'},\n",
       "  ('bert + resnet', 'HistoricalPeriod_encoded'): {'C': 0.01,\n",
       "   'class_weight': None,\n",
       "   'max_iter': 5000,\n",
       "   'random_state': 42,\n",
       "   'solver': 'lbfgs'},\n",
       "  ('bert + vit', 'HistoricalPeriod_encoded'): {'C': 0.01,\n",
       "   'class_weight': None,\n",
       "   'max_iter': 5000,\n",
       "   'random_state': 42,\n",
       "   'solver': 'lbfgs'}},\n",
       " 'KNN': {('tfidf', 'HistoricalPeriod_encoded'): {'metric': 'cosine',\n",
       "   'n_neighbors': 5,\n",
       "   'weights': 'distance'},\n",
       "  ('bert', 'HistoricalPeriod_encoded'): {'metric': 'manhattan',\n",
       "   'n_neighbors': 3,\n",
       "   'weights': 'distance'},\n",
       "  ('cannyhog', 'HistoricalPeriod_encoded'): {'metric': 'euclidean',\n",
       "   'n_neighbors': 9,\n",
       "   'weights': 'distance'},\n",
       "  ('resnet', 'HistoricalPeriod_encoded'): {'metric': 'cosine',\n",
       "   'n_neighbors': 3,\n",
       "   'weights': 'distance'},\n",
       "  ('vit', 'HistoricalPeriod_encoded'): {'metric': 'euclidean',\n",
       "   'n_neighbors': 7,\n",
       "   'weights': 'distance'},\n",
       "  ('tfidf + cannyhog', 'HistoricalPeriod_encoded'): {'metric': 'cosine',\n",
       "   'n_neighbors': 3,\n",
       "   'weights': 'distance'},\n",
       "  ('tfidf + resnet', 'HistoricalPeriod_encoded'): {'metric': 'cosine',\n",
       "   'n_neighbors': 5,\n",
       "   'weights': 'distance'},\n",
       "  ('tfidf + vit', 'HistoricalPeriod_encoded'): {'metric': 'cosine',\n",
       "   'n_neighbors': 5,\n",
       "   'weights': 'distance'},\n",
       "  ('bert + cannyhog', 'HistoricalPeriod_encoded'): {'metric': 'cosine',\n",
       "   'n_neighbors': 9,\n",
       "   'weights': 'distance'},\n",
       "  ('bert + resnet', 'HistoricalPeriod_encoded'): {'metric': 'cosine',\n",
       "   'n_neighbors': 7,\n",
       "   'weights': 'distance'},\n",
       "  ('bert + vit', 'HistoricalPeriod_encoded'): {'metric': 'cosine',\n",
       "   'n_neighbors': 7,\n",
       "   'weights': 'distance'}},\n",
       " 'RandomForest': {('tfidf', 'HistoricalPeriod_encoded'): {'class_weight': None,\n",
       "   'max_depth': None,\n",
       "   'max_features': 'sqrt',\n",
       "   'min_samples_leaf': 1,\n",
       "   'min_samples_split': 2,\n",
       "   'n_estimators': 100,\n",
       "   'n_jobs': -1,\n",
       "   'random_state': 42},\n",
       "  ('bert', 'HistoricalPeriod_encoded'): {'class_weight': 'balanced',\n",
       "   'max_depth': 10,\n",
       "   'max_features': 'sqrt',\n",
       "   'min_samples_leaf': 4,\n",
       "   'min_samples_split': 2,\n",
       "   'n_estimators': 100,\n",
       "   'n_jobs': -1,\n",
       "   'random_state': 42},\n",
       "  ('cannyhog', 'HistoricalPeriod_encoded'): {'class_weight': None,\n",
       "   'max_depth': 10,\n",
       "   'max_features': 'sqrt',\n",
       "   'min_samples_leaf': 1,\n",
       "   'min_samples_split': 2,\n",
       "   'n_estimators': 100,\n",
       "   'n_jobs': -1,\n",
       "   'random_state': 42},\n",
       "  ('resnet', 'HistoricalPeriod_encoded'): {'class_weight': None,\n",
       "   'max_depth': 10,\n",
       "   'max_features': 'sqrt',\n",
       "   'min_samples_leaf': 1,\n",
       "   'min_samples_split': 2,\n",
       "   'n_estimators': 100,\n",
       "   'n_jobs': -1,\n",
       "   'random_state': 42},\n",
       "  ('vit', 'HistoricalPeriod_encoded'): {'class_weight': None,\n",
       "   'max_depth': 10,\n",
       "   'max_features': 'sqrt',\n",
       "   'min_samples_leaf': 1,\n",
       "   'min_samples_split': 2,\n",
       "   'n_estimators': 100,\n",
       "   'n_jobs': -1,\n",
       "   'random_state': 42},\n",
       "  ('tfidf + cannyhog', 'HistoricalPeriod_encoded'): {'class_weight': None,\n",
       "   'max_depth': None,\n",
       "   'max_features': 'sqrt',\n",
       "   'min_samples_leaf': 1,\n",
       "   'min_samples_split': 2,\n",
       "   'n_estimators': 100,\n",
       "   'n_jobs': -1,\n",
       "   'random_state': 42},\n",
       "  ('tfidf + resnet', 'HistoricalPeriod_encoded'): {'class_weight': None,\n",
       "   'max_depth': None,\n",
       "   'max_features': 'sqrt',\n",
       "   'min_samples_leaf': 1,\n",
       "   'min_samples_split': 2,\n",
       "   'n_estimators': 100,\n",
       "   'n_jobs': -1,\n",
       "   'random_state': 42},\n",
       "  ('tfidf + vit', 'HistoricalPeriod_encoded'): {'class_weight': None,\n",
       "   'max_depth': None,\n",
       "   'max_features': 'sqrt',\n",
       "   'min_samples_leaf': 2,\n",
       "   'min_samples_split': 2,\n",
       "   'n_estimators': 100,\n",
       "   'n_jobs': -1,\n",
       "   'random_state': 42},\n",
       "  ('bert + cannyhog', 'HistoricalPeriod_encoded'): {'class_weight': None,\n",
       "   'max_depth': None,\n",
       "   'max_features': 'sqrt',\n",
       "   'min_samples_leaf': 1,\n",
       "   'min_samples_split': 2,\n",
       "   'n_estimators': 100,\n",
       "   'n_jobs': -1,\n",
       "   'random_state': 42},\n",
       "  ('bert + resnet', 'HistoricalPeriod_encoded'): {'class_weight': 'balanced',\n",
       "   'max_depth': None,\n",
       "   'max_features': 'sqrt',\n",
       "   'min_samples_leaf': 4,\n",
       "   'min_samples_split': 2,\n",
       "   'n_estimators': 100,\n",
       "   'n_jobs': -1,\n",
       "   'random_state': 42},\n",
       "  ('bert + vit', 'HistoricalPeriod_encoded'): {'class_weight': None,\n",
       "   'max_depth': None,\n",
       "   'max_features': 'sqrt',\n",
       "   'min_samples_leaf': 1,\n",
       "   'min_samples_split': 2,\n",
       "   'n_estimators': 100,\n",
       "   'n_jobs': -1,\n",
       "   'random_state': 42}},\n",
       " 'XGBoost': {('tfidf', 'HistoricalPeriod_encoded'): {'colsample_bytree': 0.8,\n",
       "   'device': 'cuda',\n",
       "   'learning_rate': 0.1,\n",
       "   'max_depth': 3,\n",
       "   'n_estimators': 300,\n",
       "   'n_jobs': -1,\n",
       "   'random_state': 42,\n",
       "   'subsample': 0.8,\n",
       "   'tree_method': 'hist'},\n",
       "  ('bert', 'HistoricalPeriod_encoded'): {'colsample_bytree': 1.0,\n",
       "   'device': 'cuda',\n",
       "   'learning_rate': 0.1,\n",
       "   'max_depth': 6,\n",
       "   'n_estimators': 300,\n",
       "   'n_jobs': -1,\n",
       "   'random_state': 42,\n",
       "   'subsample': 0.8,\n",
       "   'tree_method': 'hist'},\n",
       "  ('cannyhog', 'HistoricalPeriod_encoded'): {'colsample_bytree': 1.0,\n",
       "   'device': 'cuda',\n",
       "   'learning_rate': 0.1,\n",
       "   'max_depth': 6,\n",
       "   'n_estimators': 300,\n",
       "   'n_jobs': -1,\n",
       "   'random_state': 42,\n",
       "   'subsample': 0.8,\n",
       "   'tree_method': 'hist'},\n",
       "  ('resnet', 'HistoricalPeriod_encoded'): {'colsample_bytree': 1.0,\n",
       "   'device': 'cuda',\n",
       "   'learning_rate': 0.05,\n",
       "   'max_depth': 3,\n",
       "   'n_estimators': 300,\n",
       "   'n_jobs': -1,\n",
       "   'random_state': 42,\n",
       "   'subsample': 1.0,\n",
       "   'tree_method': 'hist'},\n",
       "  ('vit', 'HistoricalPeriod_encoded'): {'colsample_bytree': 0.8,\n",
       "   'device': 'cuda',\n",
       "   'learning_rate': 0.05,\n",
       "   'max_depth': 3,\n",
       "   'n_estimators': 100,\n",
       "   'n_jobs': -1,\n",
       "   'random_state': 42,\n",
       "   'subsample': 0.8,\n",
       "   'tree_method': 'hist'},\n",
       "  ('tfidf + cannyhog', 'HistoricalPeriod_encoded'): {'colsample_bytree': 0.8,\n",
       "   'device': 'cuda',\n",
       "   'learning_rate': 0.1,\n",
       "   'max_depth': 6,\n",
       "   'n_estimators': 300,\n",
       "   'n_jobs': -1,\n",
       "   'random_state': 42,\n",
       "   'subsample': 0.8,\n",
       "   'tree_method': 'hist'},\n",
       "  ('tfidf + resnet', 'HistoricalPeriod_encoded'): {'colsample_bytree': 1.0,\n",
       "   'device': 'cuda',\n",
       "   'learning_rate': 0.1,\n",
       "   'max_depth': 6,\n",
       "   'n_estimators': 300,\n",
       "   'n_jobs': -1,\n",
       "   'random_state': 42,\n",
       "   'subsample': 0.8,\n",
       "   'tree_method': 'hist'},\n",
       "  ('tfidf + vit', 'HistoricalPeriod_encoded'): {'colsample_bytree': 1.0,\n",
       "   'device': 'cuda',\n",
       "   'learning_rate': 0.1,\n",
       "   'max_depth': 3,\n",
       "   'n_estimators': 300,\n",
       "   'n_jobs': -1,\n",
       "   'random_state': 42,\n",
       "   'subsample': 0.8,\n",
       "   'tree_method': 'hist'},\n",
       "  ('bert + cannyhog', 'HistoricalPeriod_encoded'): {'colsample_bytree': 1.0,\n",
       "   'device': 'cuda',\n",
       "   'learning_rate': 0.1,\n",
       "   'max_depth': 6,\n",
       "   'n_estimators': 300,\n",
       "   'n_jobs': -1,\n",
       "   'random_state': 42,\n",
       "   'subsample': 0.8,\n",
       "   'tree_method': 'hist'},\n",
       "  ('bert + resnet', 'HistoricalPeriod_encoded'): {'colsample_bytree': 0.8,\n",
       "   'device': 'cuda',\n",
       "   'learning_rate': 0.1,\n",
       "   'max_depth': 6,\n",
       "   'n_estimators': 300,\n",
       "   'n_jobs': -1,\n",
       "   'random_state': 42,\n",
       "   'subsample': 0.8,\n",
       "   'tree_method': 'hist'},\n",
       "  ('bert + vit', 'HistoricalPeriod_encoded'): {'colsample_bytree': 0.8,\n",
       "   'device': 'cuda',\n",
       "   'learning_rate': 0.1,\n",
       "   'max_depth': 6,\n",
       "   'n_estimators': 300,\n",
       "   'n_jobs': -1,\n",
       "   'random_state': 42,\n",
       "   'subsample': 0.8,\n",
       "   'tree_method': 'hist'}},\n",
       " 'LightGBM': {('tfidf', 'HistoricalPeriod_encoded'): {'boosting_type': 'gbdt',\n",
       "   'class_weight': 'balanced',\n",
       "   'device_type': 'gpu',\n",
       "   'learning_rate': 0.05,\n",
       "   'max_depth': -1,\n",
       "   'n_estimators': 300,\n",
       "   'n_gpu': 0,\n",
       "   'n_jobs': -1,\n",
       "   'num_leaves': 63,\n",
       "   'random_state': 42,\n",
       "   'subsample': 0.8,\n",
       "   'verbose': -1},\n",
       "  ('bert', 'HistoricalPeriod_encoded'): {'boosting_type': 'gbdt',\n",
       "   'class_weight': 'balanced',\n",
       "   'device_type': 'gpu',\n",
       "   'learning_rate': 0.05,\n",
       "   'max_depth': 10,\n",
       "   'n_estimators': 300,\n",
       "   'n_gpu': 0,\n",
       "   'n_jobs': -1,\n",
       "   'num_leaves': 31,\n",
       "   'random_state': 42,\n",
       "   'subsample': 0.6,\n",
       "   'verbose': -1},\n",
       "  ('cannyhog', 'HistoricalPeriod_encoded'): {'boosting_type': 'gbdt',\n",
       "   'class_weight': 'balanced',\n",
       "   'device_type': 'gpu',\n",
       "   'learning_rate': 0.05,\n",
       "   'max_depth': 10,\n",
       "   'n_estimators': 100,\n",
       "   'n_gpu': 0,\n",
       "   'n_jobs': -1,\n",
       "   'num_leaves': 31,\n",
       "   'random_state': 42,\n",
       "   'subsample': 0.6,\n",
       "   'verbose': -1},\n",
       "  ('resnet', 'HistoricalPeriod_encoded'): {'boosting_type': 'gbdt',\n",
       "   'class_weight': 'balanced',\n",
       "   'device_type': 'gpu',\n",
       "   'learning_rate': 0.1,\n",
       "   'max_depth': -1,\n",
       "   'n_estimators': 300,\n",
       "   'n_gpu': 0,\n",
       "   'n_jobs': -1,\n",
       "   'num_leaves': 31,\n",
       "   'random_state': 42,\n",
       "   'subsample': 0.8,\n",
       "   'verbose': -1},\n",
       "  ('vit', 'HistoricalPeriod_encoded'): {'boosting_type': 'gbdt',\n",
       "   'class_weight': 'balanced',\n",
       "   'device_type': 'gpu',\n",
       "   'learning_rate': 0.05,\n",
       "   'max_depth': -1,\n",
       "   'n_estimators': 100,\n",
       "   'n_gpu': 0,\n",
       "   'n_jobs': -1,\n",
       "   'num_leaves': 63,\n",
       "   'random_state': 42,\n",
       "   'subsample': 0.6,\n",
       "   'verbose': -1},\n",
       "  ('tfidf + cannyhog', 'HistoricalPeriod_encoded'): {'boosting_type': 'gbdt',\n",
       "   'class_weight': 'balanced',\n",
       "   'device_type': 'gpu',\n",
       "   'learning_rate': 0.1,\n",
       "   'max_depth': -1,\n",
       "   'n_estimators': 300,\n",
       "   'n_gpu': 0,\n",
       "   'n_jobs': -1,\n",
       "   'num_leaves': 31,\n",
       "   'random_state': 42,\n",
       "   'subsample': 0.6,\n",
       "   'verbose': -1},\n",
       "  ('tfidf + resnet', 'HistoricalPeriod_encoded'): {'boosting_type': 'gbdt',\n",
       "   'class_weight': 'balanced',\n",
       "   'device_type': 'gpu',\n",
       "   'learning_rate': 0.1,\n",
       "   'max_depth': 10,\n",
       "   'n_estimators': 300,\n",
       "   'n_gpu': 0,\n",
       "   'n_jobs': -1,\n",
       "   'num_leaves': 31,\n",
       "   'random_state': 42,\n",
       "   'subsample': 0.8,\n",
       "   'verbose': -1},\n",
       "  ('tfidf + vit', 'HistoricalPeriod_encoded'): {'boosting_type': 'gbdt',\n",
       "   'class_weight': 'balanced',\n",
       "   'device_type': 'gpu',\n",
       "   'learning_rate': 0.1,\n",
       "   'max_depth': 10,\n",
       "   'n_estimators': 300,\n",
       "   'n_gpu': 0,\n",
       "   'n_jobs': -1,\n",
       "   'num_leaves': 31,\n",
       "   'random_state': 42,\n",
       "   'subsample': 0.6,\n",
       "   'verbose': -1},\n",
       "  ('bert + cannyhog', 'HistoricalPeriod_encoded'): {'boosting_type': 'gbdt',\n",
       "   'class_weight': 'balanced',\n",
       "   'device_type': 'gpu',\n",
       "   'learning_rate': 0.1,\n",
       "   'max_depth': 10,\n",
       "   'n_estimators': 300,\n",
       "   'n_gpu': 0,\n",
       "   'n_jobs': -1,\n",
       "   'num_leaves': 31,\n",
       "   'random_state': 42,\n",
       "   'subsample': 0.8,\n",
       "   'verbose': -1},\n",
       "  ('bert + resnet', 'HistoricalPeriod_encoded'): {'boosting_type': 'gbdt',\n",
       "   'class_weight': 'balanced',\n",
       "   'device_type': 'gpu',\n",
       "   'learning_rate': 0.1,\n",
       "   'max_depth': 10,\n",
       "   'n_estimators': 300,\n",
       "   'n_gpu': 0,\n",
       "   'n_jobs': -1,\n",
       "   'num_leaves': 63,\n",
       "   'random_state': 42,\n",
       "   'subsample': 0.8,\n",
       "   'verbose': -1},\n",
       "  ('bert + vit', 'HistoricalPeriod_encoded'): {'boosting_type': 'gbdt',\n",
       "   'class_weight': 'balanced',\n",
       "   'device_type': 'gpu',\n",
       "   'learning_rate': 0.1,\n",
       "   'max_depth': -1,\n",
       "   'n_estimators': 300,\n",
       "   'n_gpu': 0,\n",
       "   'n_jobs': -1,\n",
       "   'num_leaves': 63,\n",
       "   'random_state': 42,\n",
       "   'subsample': 0.6,\n",
       "   'verbose': -1}}}"
      ]
     },
     "execution_count": 20,
     "metadata": {},
     "output_type": "execute_result"
    }
   ],
   "execution_count": 20
  },
  {
   "metadata": {
    "ExecuteTime": {
     "end_time": "2025-07-30T17:51:31.168595Z",
     "start_time": "2025-07-30T17:51:31.163206Z"
    }
   },
   "cell_type": "code",
   "source": "save_best_params(path_params, best_params, flag_new_model)",
   "id": "8f8162c8cceceffb",
   "outputs": [
    {
     "name": "stdout",
     "output_type": "stream",
     "text": [
      "✅ Saved best parameters to best_params.json\n"
     ]
    }
   ],
   "execution_count": 21
  },
  {
   "metadata": {
    "ExecuteTime": {
     "end_time": "2025-07-30T17:51:31.195124Z",
     "start_time": "2025-07-30T17:51:31.192855Z"
    }
   },
   "cell_type": "code",
   "source": "",
   "id": "907bd7bdff0d7ab9",
   "outputs": [],
   "execution_count": null
  },
  {
   "metadata": {
    "ExecuteTime": {
     "end_time": "2025-07-30T17:51:31.221656Z",
     "start_time": "2025-07-30T17:51:31.219147Z"
    }
   },
   "cell_type": "code",
   "source": "",
   "id": "b4aec40c7fdbbfc7",
   "outputs": [],
   "execution_count": null
  }
 ],
 "metadata": {
  "kernelspec": {
   "display_name": "Python 3",
   "language": "python",
   "name": "python3"
  },
  "language_info": {
   "codemirror_mode": {
    "name": "ipython",
    "version": 2
   },
   "file_extension": ".py",
   "mimetype": "text/x-python",
   "name": "python",
   "nbconvert_exporter": "python",
   "pygments_lexer": "ipython2",
   "version": "2.7.6"
  }
 },
 "nbformat": 4,
 "nbformat_minor": 5
}
