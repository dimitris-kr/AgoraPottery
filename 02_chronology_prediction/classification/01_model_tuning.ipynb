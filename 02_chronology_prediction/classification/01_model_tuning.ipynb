{
 "cells": [
  {
   "metadata": {
    "collapsed": true,
    "ExecuteTime": {
     "end_time": "2025-07-27T16:45:04.689987Z",
     "start_time": "2025-07-27T16:45:04.465065Z"
    }
   },
   "cell_type": "code",
   "source": [
    "import sys\n",
    "import numpy as np\n",
    "import pandas as pd\n",
    "import json\n",
    "import os"
   ],
   "id": "a401f0559624c782",
   "outputs": [],
   "execution_count": 1
  },
  {
   "metadata": {
    "ExecuteTime": {
     "end_time": "2025-07-27T16:45:05.162585Z",
     "start_time": "2025-07-27T16:45:04.698325Z"
    }
   },
   "cell_type": "code",
   "source": [
    "from sklearn.model_selection import StratifiedKFold, ParameterGrid\n",
    "from sklearn.preprocessing import LabelEncoder, StandardScaler\n",
    "\n",
    "from sklearn.ensemble import RandomForestClassifier\n",
    "from sklearn.linear_model import LogisticRegression\n",
    "from sklearn.neighbors import KNeighborsClassifier\n",
    "from xgboost import XGBClassifier\n",
    "from lightgbm import LGBMClassifier"
   ],
   "id": "a126aa5d84efa4b6",
   "outputs": [],
   "execution_count": 2
  },
  {
   "metadata": {
    "ExecuteTime": {
     "end_time": "2025-07-27T16:45:06.442354Z",
     "start_time": "2025-07-27T16:45:05.249391Z"
    }
   },
   "cell_type": "code",
   "source": [
    "sys.path.append(os.path.abspath(\"..\"))\n",
    "from utils import load_best_params, read_features, read_targets, run_hp_all, metrics_c, save_best_params, combine_features_all_txt_img, scale_feature_set, print_info_features, print_info_targets, reduce_components, d_types_methods, combine_features"
   ],
   "id": "81fc3ec20c2505aa",
   "outputs": [],
   "execution_count": 3
  },
  {
   "metadata": {},
   "cell_type": "markdown",
   "source": "## Read Features and Targets",
   "id": "e6a3bb5b1dd2f248"
  },
  {
   "metadata": {
    "ExecuteTime": {
     "end_time": "2025-07-27T16:45:06.448893Z",
     "start_time": "2025-07-27T16:45:06.445834Z"
    }
   },
   "cell_type": "code",
   "source": "path = os.path.abspath(os.path.join(os.getcwd(), \"../../data/chronology_prediction\"))",
   "id": "32a6d77d59e7ea50",
   "outputs": [],
   "execution_count": 4
  },
  {
   "metadata": {
    "ExecuteTime": {
     "end_time": "2025-07-27T16:45:07.291047Z",
     "start_time": "2025-07-27T16:45:06.452011Z"
    }
   },
   "cell_type": "code",
   "source": [
    "X = read_features(path)\n",
    "y = read_targets(path, [\"HistoricalPeriod\"])"
   ],
   "id": "2abf6b30281d4b49",
   "outputs": [
    {
     "name": "stdout",
     "output_type": "stream",
     "text": [
      "Loaded X_train_tfidf\n",
      "Loaded X_train_bert\n",
      "Loaded X_train_cannyhog\n",
      "Loaded X_train_resnet\n",
      "Loaded X_train_vit\n",
      "Loaded X_test_tfidf\n",
      "Loaded X_test_bert\n",
      "Loaded X_test_cannyhog\n",
      "Loaded X_test_resnet\n",
      "Loaded X_test_vit\n",
      "Loaded y_train\n",
      "Loaded y_test\n"
     ]
    }
   ],
   "execution_count": 5
  },
  {
   "metadata": {
    "ExecuteTime": {
     "end_time": "2025-07-27T16:45:07.301552Z",
     "start_time": "2025-07-27T16:45:07.298740Z"
    }
   },
   "cell_type": "code",
   "source": "print_info_features(X)",
   "id": "a985807b90961227",
   "outputs": [
    {
     "name": "stdout",
     "output_type": "stream",
     "text": [
      "X = {\n",
      "\ttrain: {\n",
      "\t\ttfidf: \n",
      "\t\t\t<class 'pandas.core.frame.DataFrame'>\n",
      "\t\t\tshape = (1719, 300), \n",
      "\t\tbert: \n",
      "\t\t\t<class 'pandas.core.frame.DataFrame'>\n",
      "\t\t\tshape = (1719, 768), \n",
      "\t\tcannyhog: \n",
      "\t\t\t<class 'pandas.core.frame.DataFrame'>\n",
      "\t\t\tshape = (1719, 2917), \n",
      "\t\tresnet: \n",
      "\t\t\t<class 'pandas.core.frame.DataFrame'>\n",
      "\t\t\tshape = (1719, 2048), \n",
      "\t\tvit: \n",
      "\t\t\t<class 'pandas.core.frame.DataFrame'>\n",
      "\t\t\tshape = (1719, 768), \n",
      "\t},\n",
      "\ttest: {\n",
      "\t\ttfidf: \n",
      "\t\t\t<class 'pandas.core.frame.DataFrame'>\n",
      "\t\t\tshape = (191, 300), \n",
      "\t\tbert: \n",
      "\t\t\t<class 'pandas.core.frame.DataFrame'>\n",
      "\t\t\tshape = (191, 768), \n",
      "\t\tcannyhog: \n",
      "\t\t\t<class 'pandas.core.frame.DataFrame'>\n",
      "\t\t\tshape = (191, 2917), \n",
      "\t\tresnet: \n",
      "\t\t\t<class 'pandas.core.frame.DataFrame'>\n",
      "\t\t\tshape = (191, 2048), \n",
      "\t\tvit: \n",
      "\t\t\t<class 'pandas.core.frame.DataFrame'>\n",
      "\t\t\tshape = (191, 768), \n",
      "\t},\n",
      "}\n"
     ]
    }
   ],
   "execution_count": 6
  },
  {
   "metadata": {
    "ExecuteTime": {
     "end_time": "2025-07-27T16:45:07.322684Z",
     "start_time": "2025-07-27T16:45:07.320669Z"
    }
   },
   "cell_type": "code",
   "source": "print_info_targets(y)",
   "id": "1c65efdaec4f0e0",
   "outputs": [
    {
     "name": "stdout",
     "output_type": "stream",
     "text": [
      "y = {\n",
      "\ttrain: \n",
      "\t\t<class 'pandas.core.frame.DataFrame'>\n",
      "\t\tshape (1719, 1)\n",
      "\t\tcolumns ['HistoricalPeriod'],\n",
      "\ttest: \n",
      "\t\t<class 'pandas.core.frame.DataFrame'>\n",
      "\t\tshape (191, 1)\n",
      "\t\tcolumns ['HistoricalPeriod'],\n",
      "}\n"
     ]
    }
   ],
   "execution_count": 7
  },
  {
   "metadata": {
    "ExecuteTime": {
     "end_time": "2025-07-27T16:45:07.354746Z",
     "start_time": "2025-07-27T16:45:07.349497Z"
    }
   },
   "cell_type": "code",
   "source": "y[\"train\"][\"HistoricalPeriod\"].value_counts()",
   "id": "3b962deb0a34adcb",
   "outputs": [
    {
     "data": {
      "text/plain": [
       "HistoricalPeriod\n",
       "Classical        1025\n",
       "Archaic           620\n",
       "Hellenistic        63\n",
       "Orientalizing      11\n",
       "Name: count, dtype: int64"
      ]
     },
     "execution_count": 8,
     "metadata": {},
     "output_type": "execute_result"
    }
   ],
   "execution_count": 8
  },
  {
   "metadata": {},
   "cell_type": "markdown",
   "source": "## Scale Features",
   "id": "b100631f0d876cdd"
  },
  {
   "metadata": {
    "ExecuteTime": {
     "end_time": "2025-07-27T16:45:07.540341Z",
     "start_time": "2025-07-27T16:45:07.381875Z"
    }
   },
   "cell_type": "code",
   "source": [
    "X = {\n",
    "    subset: {\n",
    "        method: scale_feature_set(_X) if method != \"tfidf\" else _X\n",
    "        for method, _X in X[subset].items()\n",
    "    } for subset in X.keys()\n",
    "}"
   ],
   "id": "b3ab7ccd35803ab8",
   "outputs": [],
   "execution_count": 9
  },
  {
   "metadata": {},
   "cell_type": "markdown",
   "source": [
    "## Reduce Features\n",
    "\n",
    "Use n_components=0.95 to keep enough components to preserve 95% of the variance in the data."
   ],
   "id": "2704785330d65c28"
  },
  {
   "metadata": {
    "ExecuteTime": {
     "end_time": "2025-07-27T16:45:08.966791Z",
     "start_time": "2025-07-27T16:45:07.555653Z"
    }
   },
   "cell_type": "code",
   "source": [
    "reducers = {}\n",
    "X_reduced = {subset: {} for subset in X.keys()}\n",
    "for method in d_types_methods[\"text\"] + d_types_methods[\"image\"]:\n",
    "    if method == \"tfidf\":\n",
    "        for subset in X.keys(): X_reduced[subset][method] = X[subset][method]\n",
    "        continue\n",
    "\n",
    "    X_reduced[\"train\"][method], reducers[method] = reduce_components(X[\"train\"][method], n_components=0.95)\n",
    "\n",
    "    X_reduced[\"test\"][method], _ = reduce_components(X[\"test\"][method], reducer_fitted=reducers[method])"
   ],
   "id": "3482034662e8fef1",
   "outputs": [],
   "execution_count": 10
  },
  {
   "metadata": {
    "ExecuteTime": {
     "end_time": "2025-07-27T16:45:08.972313Z",
     "start_time": "2025-07-27T16:45:08.969803Z"
    }
   },
   "cell_type": "code",
   "source": "print_info_features(X)",
   "id": "b70ba89edb950092",
   "outputs": [
    {
     "name": "stdout",
     "output_type": "stream",
     "text": [
      "X = {\n",
      "\ttrain: {\n",
      "\t\ttfidf: \n",
      "\t\t\t<class 'pandas.core.frame.DataFrame'>\n",
      "\t\t\tshape = (1719, 300), \n",
      "\t\tbert: \n",
      "\t\t\t<class 'pandas.core.frame.DataFrame'>\n",
      "\t\t\tshape = (1719, 768), \n",
      "\t\tcannyhog: \n",
      "\t\t\t<class 'pandas.core.frame.DataFrame'>\n",
      "\t\t\tshape = (1719, 2917), \n",
      "\t\tresnet: \n",
      "\t\t\t<class 'pandas.core.frame.DataFrame'>\n",
      "\t\t\tshape = (1719, 2048), \n",
      "\t\tvit: \n",
      "\t\t\t<class 'pandas.core.frame.DataFrame'>\n",
      "\t\t\tshape = (1719, 768), \n",
      "\t},\n",
      "\ttest: {\n",
      "\t\ttfidf: \n",
      "\t\t\t<class 'pandas.core.frame.DataFrame'>\n",
      "\t\t\tshape = (191, 300), \n",
      "\t\tbert: \n",
      "\t\t\t<class 'pandas.core.frame.DataFrame'>\n",
      "\t\t\tshape = (191, 768), \n",
      "\t\tcannyhog: \n",
      "\t\t\t<class 'pandas.core.frame.DataFrame'>\n",
      "\t\t\tshape = (191, 2917), \n",
      "\t\tresnet: \n",
      "\t\t\t<class 'pandas.core.frame.DataFrame'>\n",
      "\t\t\tshape = (191, 2048), \n",
      "\t\tvit: \n",
      "\t\t\t<class 'pandas.core.frame.DataFrame'>\n",
      "\t\t\tshape = (191, 768), \n",
      "\t},\n",
      "}\n"
     ]
    }
   ],
   "execution_count": 11
  },
  {
   "metadata": {},
   "cell_type": "markdown",
   "source": "## Combine & Re-scale Text & Image Feature Sets",
   "id": "7ea963d383eed0d1"
  },
  {
   "metadata": {
    "ExecuteTime": {
     "end_time": "2025-07-27T16:45:09.596387Z",
     "start_time": "2025-07-27T16:45:09.059648Z"
    }
   },
   "cell_type": "code",
   "source": [
    "for subset in X.keys():\n",
    "    X[subset].update(combine_features_all_txt_img(X[subset], scale=True))\n",
    "    X_reduced[subset].update(combine_features_all_txt_img(X_reduced[subset], scale=True))"
   ],
   "id": "5586a5cf7e6263c4",
   "outputs": [],
   "execution_count": 12
  },
  {
   "metadata": {
    "ExecuteTime": {
     "end_time": "2025-07-27T16:45:09.608721Z",
     "start_time": "2025-07-27T16:45:09.605861Z"
    }
   },
   "cell_type": "code",
   "source": "print_info_features(X)",
   "id": "decf290e2e16f2c8",
   "outputs": [
    {
     "name": "stdout",
     "output_type": "stream",
     "text": [
      "X = {\n",
      "\ttrain: {\n",
      "\t\ttfidf: \n",
      "\t\t\t<class 'pandas.core.frame.DataFrame'>\n",
      "\t\t\tshape = (1719, 300), \n",
      "\t\tbert: \n",
      "\t\t\t<class 'pandas.core.frame.DataFrame'>\n",
      "\t\t\tshape = (1719, 768), \n",
      "\t\tcannyhog: \n",
      "\t\t\t<class 'pandas.core.frame.DataFrame'>\n",
      "\t\t\tshape = (1719, 2917), \n",
      "\t\tresnet: \n",
      "\t\t\t<class 'pandas.core.frame.DataFrame'>\n",
      "\t\t\tshape = (1719, 2048), \n",
      "\t\tvit: \n",
      "\t\t\t<class 'pandas.core.frame.DataFrame'>\n",
      "\t\t\tshape = (1719, 768), \n",
      "\t\ttfidf + cannyhog: \n",
      "\t\t\t<class 'pandas.core.frame.DataFrame'>\n",
      "\t\t\tshape = (1719, 3217), \n",
      "\t\ttfidf + resnet: \n",
      "\t\t\t<class 'pandas.core.frame.DataFrame'>\n",
      "\t\t\tshape = (1719, 2348), \n",
      "\t\ttfidf + vit: \n",
      "\t\t\t<class 'pandas.core.frame.DataFrame'>\n",
      "\t\t\tshape = (1719, 1068), \n",
      "\t\tbert + cannyhog: \n",
      "\t\t\t<class 'pandas.core.frame.DataFrame'>\n",
      "\t\t\tshape = (1719, 3685), \n",
      "\t\tbert + resnet: \n",
      "\t\t\t<class 'pandas.core.frame.DataFrame'>\n",
      "\t\t\tshape = (1719, 2816), \n",
      "\t\tbert + vit: \n",
      "\t\t\t<class 'pandas.core.frame.DataFrame'>\n",
      "\t\t\tshape = (1719, 1536), \n",
      "\t},\n",
      "\ttest: {\n",
      "\t\ttfidf: \n",
      "\t\t\t<class 'pandas.core.frame.DataFrame'>\n",
      "\t\t\tshape = (191, 300), \n",
      "\t\tbert: \n",
      "\t\t\t<class 'pandas.core.frame.DataFrame'>\n",
      "\t\t\tshape = (191, 768), \n",
      "\t\tcannyhog: \n",
      "\t\t\t<class 'pandas.core.frame.DataFrame'>\n",
      "\t\t\tshape = (191, 2917), \n",
      "\t\tresnet: \n",
      "\t\t\t<class 'pandas.core.frame.DataFrame'>\n",
      "\t\t\tshape = (191, 2048), \n",
      "\t\tvit: \n",
      "\t\t\t<class 'pandas.core.frame.DataFrame'>\n",
      "\t\t\tshape = (191, 768), \n",
      "\t\ttfidf + cannyhog: \n",
      "\t\t\t<class 'pandas.core.frame.DataFrame'>\n",
      "\t\t\tshape = (191, 3217), \n",
      "\t\ttfidf + resnet: \n",
      "\t\t\t<class 'pandas.core.frame.DataFrame'>\n",
      "\t\t\tshape = (191, 2348), \n",
      "\t\ttfidf + vit: \n",
      "\t\t\t<class 'pandas.core.frame.DataFrame'>\n",
      "\t\t\tshape = (191, 1068), \n",
      "\t\tbert + cannyhog: \n",
      "\t\t\t<class 'pandas.core.frame.DataFrame'>\n",
      "\t\t\tshape = (191, 3685), \n",
      "\t\tbert + resnet: \n",
      "\t\t\t<class 'pandas.core.frame.DataFrame'>\n",
      "\t\t\tshape = (191, 2816), \n",
      "\t\tbert + vit: \n",
      "\t\t\t<class 'pandas.core.frame.DataFrame'>\n",
      "\t\t\tshape = (191, 1536), \n",
      "\t},\n",
      "}\n"
     ]
    }
   ],
   "execution_count": 13
  },
  {
   "metadata": {},
   "cell_type": "markdown",
   "source": "## Encode Target Labels",
   "id": "5d2c4861e88858d"
  },
  {
   "metadata": {
    "ExecuteTime": {
     "end_time": "2025-07-27T16:45:09.623411Z",
     "start_time": "2025-07-27T16:45:09.619950Z"
    }
   },
   "cell_type": "code",
   "source": [
    "le = LabelEncoder()\n",
    "\n",
    "y[\"train\"][\"HistoricalPeriod_encoded\"] = le.fit_transform(y[\"train\"][\"HistoricalPeriod\"])\n",
    "y[\"test\"][\"HistoricalPeriod_encoded\"] = le.transform(y[\"test\"][\"HistoricalPeriod\"])\n",
    "\n",
    "label_mapping = dict(zip(le.classes_, le.transform(le.classes_)))\n",
    "for label, encoding in label_mapping.items():\n",
    "    print(f\"{encoding} --> {label}\")"
   ],
   "id": "163eb9b99423b378",
   "outputs": [
    {
     "name": "stdout",
     "output_type": "stream",
     "text": [
      "0 --> Archaic\n",
      "1 --> Classical\n",
      "2 --> Hellenistic\n",
      "3 --> Orientalizing\n"
     ]
    }
   ],
   "execution_count": 14
  },
  {
   "metadata": {},
   "cell_type": "markdown",
   "source": [
    "## Initialize 10-Fold Cross Validation\n",
    "\n",
    "*Stratified K-Fold:*\n",
    "- preserves label distribution\n",
    "- maintains proportion of classes in each fold\n"
   ],
   "id": "d766734a397acdf4"
  },
  {
   "metadata": {
    "ExecuteTime": {
     "end_time": "2025-07-27T16:45:09.639768Z",
     "start_time": "2025-07-27T16:45:09.636168Z"
    }
   },
   "cell_type": "code",
   "source": [
    "skf = StratifiedKFold(n_splits=10, shuffle=True, random_state=42)\n",
    "folds = list(skf.split(np.arange(y[\"train\"].shape[0]), y[\"train\"][\"HistoricalPeriod_encoded\"]))"
   ],
   "id": "f354728498a421cc",
   "outputs": [],
   "execution_count": 15
  },
  {
   "metadata": {},
   "cell_type": "markdown",
   "source": "## Define Parameter Grid per Model",
   "id": "2428e3f877f72806"
  },
  {
   "metadata": {
    "ExecuteTime": {
     "end_time": "2025-07-27T16:45:09.673459Z",
     "start_time": "2025-07-27T16:45:09.670754Z"
    }
   },
   "cell_type": "code",
   "source": [
    "model_param_grids = {\n",
    "    \"LogisticRegression\": (\n",
    "        LogisticRegression, {\n",
    "            \"C\": [0.01, 0.1, 1],\n",
    "            \"solver\": [\"liblinear\", \"lbfgs\"],\n",
    "            \"max_iter\": [5000],\n",
    "            \"class_weight\": [None, \"balanced\"],\n",
    "            \"random_state\": [42]\n",
    "        }\n",
    "    ),\n",
    "    \"KNN\": (\n",
    "        KNeighborsClassifier, {\n",
    "            \"n_neighbors\": [3, 5, 7, 9, 11],\n",
    "            \"weights\": [\"uniform\", \"distance\"],\n",
    "            \"metric\": [\"euclidean\", \"manhattan\", \"cosine\"]\n",
    "        }\n",
    "    ),\n",
    "    \"RandomForest\": (\n",
    "        RandomForestClassifier, {\n",
    "            \"n_estimators\": [100],             # number of trees\n",
    "            \"max_depth\": [None, 10],             # limit depth to control overfitting\n",
    "            \"min_samples_split\": [2],             # minimum samples to split an internal node\n",
    "            \"min_samples_leaf\": [1, 2, 4],               # minimum samples at a leaf node\n",
    "            \"max_features\": [\"sqrt\"],      # number of features to consider at split\n",
    "            \"class_weight\": [None, \"balanced\"],          # handle class imbalance\n",
    "            \"n_jobs\": [-1],\n",
    "            \"random_state\": [42]                         # for reproducibility\n",
    "        }\n",
    "    ),\n",
    "    # \"XGBoost\": (\n",
    "    #     XGBClassifier,\n",
    "    #     {\n",
    "    #\n",
    "    #     }\n",
    "    # ),\n",
    "    # \"LightGBM\": (\n",
    "    #     LGBMClassifier,\n",
    "    #     {\n",
    "    #\n",
    "    #     }\n",
    "    # )\n",
    "}"
   ],
   "id": "f125897d2278026e",
   "outputs": [],
   "execution_count": 16
  },
  {
   "metadata": {},
   "cell_type": "markdown",
   "source": "## Load or Initialize Best Params Dictionary",
   "id": "aff0add5185e8c0f"
  },
  {
   "metadata": {
    "ExecuteTime": {
     "end_time": "2025-07-27T16:45:09.702108Z",
     "start_time": "2025-07-27T16:45:09.699602Z"
    }
   },
   "cell_type": "code",
   "source": [
    "path_params = \"best_params.json\"\n",
    "\n",
    "best_params = load_best_params(path_params)\n",
    "print(f\"Best Params Available for {len(best_params.keys())} Models\")"
   ],
   "id": "be68eea3d226f1ea",
   "outputs": [
    {
     "name": "stdout",
     "output_type": "stream",
     "text": [
      "Best Params Available for 0 Models\n"
     ]
    }
   ],
   "execution_count": 17
  },
  {
   "metadata": {},
   "cell_type": "markdown",
   "source": [
    "## Run HP Tuning for New Models\n",
    "\n",
    "Run tuning only for models missing from the saved params"
   ],
   "id": "cdc0718a6dfb559f"
  },
  {
   "metadata": {
    "ExecuteTime": {
     "end_time": "2025-07-27T17:29:49.742053Z",
     "start_time": "2025-07-27T16:45:09.723303Z"
    }
   },
   "cell_type": "code",
   "source": [
    "verbose = True\n",
    "flag_new_model = False\n",
    "for model_name, (model_class, param_grid) in model_param_grids.items():\n",
    "\n",
    "    if model_name not in best_params:\n",
    "        flag_new_model = True\n",
    "\n",
    "        if verbose: print(f\"\\n🎚️ Hyperparameter Tuning '{model_name}' Model\")\n",
    "        best_params[model_name] = run_hp_all(\n",
    "            model_class,\n",
    "            param_grid,\n",
    "            folds,\n",
    "            metrics_c,\n",
    "            X[\"train\"] if model_name != \"KNN\" else X_reduced[\"train\"],\n",
    "            y[\"train\"][[\"HistoricalPeriod_encoded\"]],\n",
    "            deciding_metric=\"accuracy\",\n",
    "            verbose=verbose\n",
    "        )\n",
    "    else:\n",
    "        if verbose: print(f\"\\n✅ '{model_name}' Model Already Tuned\")"
   ],
   "id": "78b4860744b03916",
   "outputs": [
    {
     "name": "stdout",
     "output_type": "stream",
     "text": [
      "\n",
      "🎚️ Hyperparameter Tuning 'LogisticRegression' Model\n",
      "\n",
      "Features: tfidf | Target: HistoricalPeriod_encoded\n",
      "✅ Best params: {'C': 1, 'class_weight': None, 'max_iter': 5000, 'random_state': 42, 'solver': 'lbfgs'}\n",
      "🎯 Best ACCURACY: 0.7836\n",
      "\n",
      "Features: bert | Target: HistoricalPeriod_encoded\n",
      "✅ Best params: {'C': 0.01, 'class_weight': None, 'max_iter': 5000, 'random_state': 42, 'solver': 'lbfgs'}\n",
      "🎯 Best ACCURACY: 0.7178\n",
      "\n",
      "Features: cannyhog | Target: HistoricalPeriod_encoded\n",
      "✅ Best params: {'C': 0.01, 'class_weight': None, 'max_iter': 5000, 'random_state': 42, 'solver': 'lbfgs'}\n",
      "🎯 Best ACCURACY: 0.6766\n",
      "\n",
      "Features: resnet | Target: HistoricalPeriod_encoded\n",
      "✅ Best params: {'C': 0.01, 'class_weight': None, 'max_iter': 5000, 'random_state': 42, 'solver': 'lbfgs'}\n",
      "🎯 Best ACCURACY: 0.6835\n",
      "\n",
      "Features: vit | Target: HistoricalPeriod_encoded\n",
      "✅ Best params: {'C': 0.1, 'class_weight': None, 'max_iter': 5000, 'random_state': 42, 'solver': 'lbfgs'}\n",
      "🎯 Best ACCURACY: 0.6928\n",
      "\n",
      "Features: tfidf + cannyhog | Target: HistoricalPeriod_encoded\n",
      "✅ Best params: {'C': 0.01, 'class_weight': None, 'max_iter': 5000, 'random_state': 42, 'solver': 'lbfgs'}\n",
      "🎯 Best ACCURACY: 0.7958\n",
      "\n",
      "Features: tfidf + resnet | Target: HistoricalPeriod_encoded\n",
      "✅ Best params: {'C': 0.01, 'class_weight': None, 'max_iter': 5000, 'random_state': 42, 'solver': 'lbfgs'}\n",
      "🎯 Best ACCURACY: 0.8011\n",
      "\n",
      "Features: tfidf + vit | Target: HistoricalPeriod_encoded\n",
      "✅ Best params: {'C': 0.01, 'class_weight': None, 'max_iter': 5000, 'random_state': 42, 'solver': 'liblinear'}\n",
      "🎯 Best ACCURACY: 0.8063\n",
      "\n",
      "Features: bert + cannyhog | Target: HistoricalPeriod_encoded\n",
      "✅ Best params: {'C': 0.01, 'class_weight': None, 'max_iter': 5000, 'random_state': 42, 'solver': 'lbfgs'}\n",
      "🎯 Best ACCURACY: 0.7516\n",
      "\n",
      "Features: bert + resnet | Target: HistoricalPeriod_encoded\n",
      "✅ Best params: {'C': 0.01, 'class_weight': None, 'max_iter': 5000, 'random_state': 42, 'solver': 'lbfgs'}\n",
      "🎯 Best ACCURACY: 0.7475\n",
      "\n",
      "Features: bert + vit | Target: HistoricalPeriod_encoded\n",
      "✅ Best params: {'C': 0.01, 'class_weight': None, 'max_iter': 5000, 'random_state': 42, 'solver': 'lbfgs'}\n",
      "🎯 Best ACCURACY: 0.7539\n",
      "\n",
      "🎚️ Hyperparameter Tuning 'KNN' Model\n",
      "\n",
      "Features: tfidf | Target: HistoricalPeriod_encoded\n",
      "✅ Best params: {'metric': 'cosine', 'n_neighbors': 5, 'weights': 'distance'}\n",
      "🎯 Best ACCURACY: 0.7865\n",
      "\n",
      "Features: bert | Target: HistoricalPeriod_encoded\n",
      "✅ Best params: {'metric': 'manhattan', 'n_neighbors': 3, 'weights': 'distance'}\n",
      "🎯 Best ACCURACY: 0.7144\n",
      "\n",
      "Features: cannyhog | Target: HistoricalPeriod_encoded\n",
      "✅ Best params: {'metric': 'euclidean', 'n_neighbors': 9, 'weights': 'distance'}\n",
      "🎯 Best ACCURACY: 0.6864\n",
      "\n",
      "Features: resnet | Target: HistoricalPeriod_encoded\n",
      "✅ Best params: {'metric': 'cosine', 'n_neighbors': 3, 'weights': 'distance'}\n",
      "🎯 Best ACCURACY: 0.6806\n",
      "\n",
      "Features: vit | Target: HistoricalPeriod_encoded\n",
      "✅ Best params: {'metric': 'euclidean', 'n_neighbors': 7, 'weights': 'distance'}\n",
      "🎯 Best ACCURACY: 0.6870\n",
      "\n",
      "Features: tfidf + cannyhog | Target: HistoricalPeriod_encoded\n",
      "✅ Best params: {'metric': 'cosine', 'n_neighbors': 3, 'weights': 'distance'}\n",
      "🎯 Best ACCURACY: 0.7958\n",
      "\n",
      "Features: tfidf + resnet | Target: HistoricalPeriod_encoded\n",
      "✅ Best params: {'metric': 'cosine', 'n_neighbors': 5, 'weights': 'distance'}\n",
      "🎯 Best ACCURACY: 0.7993\n",
      "\n",
      "Features: tfidf + vit | Target: HistoricalPeriod_encoded\n",
      "✅ Best params: {'metric': 'cosine', 'n_neighbors': 5, 'weights': 'distance'}\n",
      "🎯 Best ACCURACY: 0.8045\n",
      "\n",
      "Features: bert + cannyhog | Target: HistoricalPeriod_encoded\n",
      "✅ Best params: {'metric': 'cosine', 'n_neighbors': 9, 'weights': 'distance'}\n",
      "🎯 Best ACCURACY: 0.7772\n",
      "\n",
      "Features: bert + resnet | Target: HistoricalPeriod_encoded\n",
      "✅ Best params: {'metric': 'cosine', 'n_neighbors': 7, 'weights': 'distance'}\n",
      "🎯 Best ACCURACY: 0.7761\n",
      "\n",
      "Features: bert + vit | Target: HistoricalPeriod_encoded\n",
      "✅ Best params: {'metric': 'cosine', 'n_neighbors': 7, 'weights': 'distance'}\n",
      "🎯 Best ACCURACY: 0.7801\n",
      "\n",
      "🎚️ Hyperparameter Tuning 'RandomForest' Model\n",
      "\n",
      "Features: tfidf | Target: HistoricalPeriod_encoded\n",
      "✅ Best params: {'class_weight': None, 'max_depth': None, 'max_features': 'sqrt', 'min_samples_leaf': 1, 'min_samples_split': 2, 'n_estimators': 100, 'n_jobs': -1, 'random_state': 42}\n",
      "🎯 Best ACCURACY: 0.7882\n",
      "\n",
      "Features: bert | Target: HistoricalPeriod_encoded\n",
      "✅ Best params: {'class_weight': 'balanced', 'max_depth': 10, 'max_features': 'sqrt', 'min_samples_leaf': 4, 'min_samples_split': 2, 'n_estimators': 100, 'n_jobs': -1, 'random_state': 42}\n",
      "🎯 Best ACCURACY: 0.6754\n",
      "\n",
      "Features: cannyhog | Target: HistoricalPeriod_encoded\n",
      "✅ Best params: {'class_weight': None, 'max_depth': 10, 'max_features': 'sqrt', 'min_samples_leaf': 1, 'min_samples_split': 2, 'n_estimators': 100, 'n_jobs': -1, 'random_state': 42}\n",
      "🎯 Best ACCURACY: 0.6876\n",
      "\n",
      "Features: resnet | Target: HistoricalPeriod_encoded\n",
      "✅ Best params: {'class_weight': None, 'max_depth': 10, 'max_features': 'sqrt', 'min_samples_leaf': 1, 'min_samples_split': 2, 'n_estimators': 100, 'n_jobs': -1, 'random_state': 42}\n",
      "🎯 Best ACCURACY: 0.6870\n",
      "\n",
      "Features: vit | Target: HistoricalPeriod_encoded\n",
      "✅ Best params: {'class_weight': None, 'max_depth': 10, 'max_features': 'sqrt', 'min_samples_leaf': 1, 'min_samples_split': 2, 'n_estimators': 100, 'n_jobs': -1, 'random_state': 42}\n",
      "🎯 Best ACCURACY: 0.6893\n",
      "\n",
      "Features: tfidf + cannyhog | Target: HistoricalPeriod_encoded\n",
      "✅ Best params: {'class_weight': None, 'max_depth': None, 'max_features': 'sqrt', 'min_samples_leaf': 1, 'min_samples_split': 2, 'n_estimators': 100, 'n_jobs': -1, 'random_state': 42}\n",
      "🎯 Best ACCURACY: 0.7725\n",
      "\n",
      "Features: tfidf + resnet | Target: HistoricalPeriod_encoded\n",
      "✅ Best params: {'class_weight': None, 'max_depth': None, 'max_features': 'sqrt', 'min_samples_leaf': 1, 'min_samples_split': 2, 'n_estimators': 100, 'n_jobs': -1, 'random_state': 42}\n",
      "🎯 Best ACCURACY: 0.7795\n",
      "\n",
      "Features: tfidf + vit | Target: HistoricalPeriod_encoded\n",
      "✅ Best params: {'class_weight': None, 'max_depth': None, 'max_features': 'sqrt', 'min_samples_leaf': 2, 'min_samples_split': 2, 'n_estimators': 100, 'n_jobs': -1, 'random_state': 42}\n",
      "🎯 Best ACCURACY: 0.7807\n",
      "\n",
      "Features: bert + cannyhog | Target: HistoricalPeriod_encoded\n",
      "✅ Best params: {'class_weight': None, 'max_depth': None, 'max_features': 'sqrt', 'min_samples_leaf': 1, 'min_samples_split': 2, 'n_estimators': 100, 'n_jobs': -1, 'random_state': 42}\n",
      "🎯 Best ACCURACY: 0.7341\n",
      "\n",
      "Features: bert + resnet | Target: HistoricalPeriod_encoded\n",
      "✅ Best params: {'class_weight': 'balanced', 'max_depth': None, 'max_features': 'sqrt', 'min_samples_leaf': 4, 'min_samples_split': 2, 'n_estimators': 100, 'n_jobs': -1, 'random_state': 42}\n",
      "🎯 Best ACCURACY: 0.7278\n",
      "\n",
      "Features: bert + vit | Target: HistoricalPeriod_encoded\n",
      "✅ Best params: {'class_weight': None, 'max_depth': None, 'max_features': 'sqrt', 'min_samples_leaf': 1, 'min_samples_split': 2, 'n_estimators': 100, 'n_jobs': -1, 'random_state': 42}\n",
      "🎯 Best ACCURACY: 0.7272\n"
     ]
    }
   ],
   "execution_count": 18
  },
  {
   "metadata": {},
   "cell_type": "markdown",
   "source": "## Save Best Parameters per Model",
   "id": "f556c1e42e70eb54"
  },
  {
   "metadata": {
    "ExecuteTime": {
     "end_time": "2025-07-27T17:29:49.777138Z",
     "start_time": "2025-07-27T17:29:49.771546Z"
    }
   },
   "cell_type": "code",
   "source": "best_params",
   "id": "680d284c56a81122",
   "outputs": [
    {
     "data": {
      "text/plain": [
       "{'LogisticRegression': {('tfidf', 'HistoricalPeriod_encoded'): {'C': 1,\n",
       "   'class_weight': None,\n",
       "   'max_iter': 5000,\n",
       "   'random_state': 42,\n",
       "   'solver': 'lbfgs'},\n",
       "  ('bert', 'HistoricalPeriod_encoded'): {'C': 0.01,\n",
       "   'class_weight': None,\n",
       "   'max_iter': 5000,\n",
       "   'random_state': 42,\n",
       "   'solver': 'lbfgs'},\n",
       "  ('cannyhog', 'HistoricalPeriod_encoded'): {'C': 0.01,\n",
       "   'class_weight': None,\n",
       "   'max_iter': 5000,\n",
       "   'random_state': 42,\n",
       "   'solver': 'lbfgs'},\n",
       "  ('resnet', 'HistoricalPeriod_encoded'): {'C': 0.01,\n",
       "   'class_weight': None,\n",
       "   'max_iter': 5000,\n",
       "   'random_state': 42,\n",
       "   'solver': 'lbfgs'},\n",
       "  ('vit', 'HistoricalPeriod_encoded'): {'C': 0.1,\n",
       "   'class_weight': None,\n",
       "   'max_iter': 5000,\n",
       "   'random_state': 42,\n",
       "   'solver': 'lbfgs'},\n",
       "  ('tfidf + cannyhog', 'HistoricalPeriod_encoded'): {'C': 0.01,\n",
       "   'class_weight': None,\n",
       "   'max_iter': 5000,\n",
       "   'random_state': 42,\n",
       "   'solver': 'lbfgs'},\n",
       "  ('tfidf + resnet', 'HistoricalPeriod_encoded'): {'C': 0.01,\n",
       "   'class_weight': None,\n",
       "   'max_iter': 5000,\n",
       "   'random_state': 42,\n",
       "   'solver': 'lbfgs'},\n",
       "  ('tfidf + vit', 'HistoricalPeriod_encoded'): {'C': 0.01,\n",
       "   'class_weight': None,\n",
       "   'max_iter': 5000,\n",
       "   'random_state': 42,\n",
       "   'solver': 'liblinear'},\n",
       "  ('bert + cannyhog', 'HistoricalPeriod_encoded'): {'C': 0.01,\n",
       "   'class_weight': None,\n",
       "   'max_iter': 5000,\n",
       "   'random_state': 42,\n",
       "   'solver': 'lbfgs'},\n",
       "  ('bert + resnet', 'HistoricalPeriod_encoded'): {'C': 0.01,\n",
       "   'class_weight': None,\n",
       "   'max_iter': 5000,\n",
       "   'random_state': 42,\n",
       "   'solver': 'lbfgs'},\n",
       "  ('bert + vit', 'HistoricalPeriod_encoded'): {'C': 0.01,\n",
       "   'class_weight': None,\n",
       "   'max_iter': 5000,\n",
       "   'random_state': 42,\n",
       "   'solver': 'lbfgs'}},\n",
       " 'KNN': {('tfidf', 'HistoricalPeriod_encoded'): {'metric': 'cosine',\n",
       "   'n_neighbors': 5,\n",
       "   'weights': 'distance'},\n",
       "  ('bert', 'HistoricalPeriod_encoded'): {'metric': 'manhattan',\n",
       "   'n_neighbors': 3,\n",
       "   'weights': 'distance'},\n",
       "  ('cannyhog', 'HistoricalPeriod_encoded'): {'metric': 'euclidean',\n",
       "   'n_neighbors': 9,\n",
       "   'weights': 'distance'},\n",
       "  ('resnet', 'HistoricalPeriod_encoded'): {'metric': 'cosine',\n",
       "   'n_neighbors': 3,\n",
       "   'weights': 'distance'},\n",
       "  ('vit', 'HistoricalPeriod_encoded'): {'metric': 'euclidean',\n",
       "   'n_neighbors': 7,\n",
       "   'weights': 'distance'},\n",
       "  ('tfidf + cannyhog', 'HistoricalPeriod_encoded'): {'metric': 'cosine',\n",
       "   'n_neighbors': 3,\n",
       "   'weights': 'distance'},\n",
       "  ('tfidf + resnet', 'HistoricalPeriod_encoded'): {'metric': 'cosine',\n",
       "   'n_neighbors': 5,\n",
       "   'weights': 'distance'},\n",
       "  ('tfidf + vit', 'HistoricalPeriod_encoded'): {'metric': 'cosine',\n",
       "   'n_neighbors': 5,\n",
       "   'weights': 'distance'},\n",
       "  ('bert + cannyhog', 'HistoricalPeriod_encoded'): {'metric': 'cosine',\n",
       "   'n_neighbors': 9,\n",
       "   'weights': 'distance'},\n",
       "  ('bert + resnet', 'HistoricalPeriod_encoded'): {'metric': 'cosine',\n",
       "   'n_neighbors': 7,\n",
       "   'weights': 'distance'},\n",
       "  ('bert + vit', 'HistoricalPeriod_encoded'): {'metric': 'cosine',\n",
       "   'n_neighbors': 7,\n",
       "   'weights': 'distance'}},\n",
       " 'RandomForest': {('tfidf', 'HistoricalPeriod_encoded'): {'class_weight': None,\n",
       "   'max_depth': None,\n",
       "   'max_features': 'sqrt',\n",
       "   'min_samples_leaf': 1,\n",
       "   'min_samples_split': 2,\n",
       "   'n_estimators': 100,\n",
       "   'n_jobs': -1,\n",
       "   'random_state': 42},\n",
       "  ('bert', 'HistoricalPeriod_encoded'): {'class_weight': 'balanced',\n",
       "   'max_depth': 10,\n",
       "   'max_features': 'sqrt',\n",
       "   'min_samples_leaf': 4,\n",
       "   'min_samples_split': 2,\n",
       "   'n_estimators': 100,\n",
       "   'n_jobs': -1,\n",
       "   'random_state': 42},\n",
       "  ('cannyhog', 'HistoricalPeriod_encoded'): {'class_weight': None,\n",
       "   'max_depth': 10,\n",
       "   'max_features': 'sqrt',\n",
       "   'min_samples_leaf': 1,\n",
       "   'min_samples_split': 2,\n",
       "   'n_estimators': 100,\n",
       "   'n_jobs': -1,\n",
       "   'random_state': 42},\n",
       "  ('resnet', 'HistoricalPeriod_encoded'): {'class_weight': None,\n",
       "   'max_depth': 10,\n",
       "   'max_features': 'sqrt',\n",
       "   'min_samples_leaf': 1,\n",
       "   'min_samples_split': 2,\n",
       "   'n_estimators': 100,\n",
       "   'n_jobs': -1,\n",
       "   'random_state': 42},\n",
       "  ('vit', 'HistoricalPeriod_encoded'): {'class_weight': None,\n",
       "   'max_depth': 10,\n",
       "   'max_features': 'sqrt',\n",
       "   'min_samples_leaf': 1,\n",
       "   'min_samples_split': 2,\n",
       "   'n_estimators': 100,\n",
       "   'n_jobs': -1,\n",
       "   'random_state': 42},\n",
       "  ('tfidf + cannyhog', 'HistoricalPeriod_encoded'): {'class_weight': None,\n",
       "   'max_depth': None,\n",
       "   'max_features': 'sqrt',\n",
       "   'min_samples_leaf': 1,\n",
       "   'min_samples_split': 2,\n",
       "   'n_estimators': 100,\n",
       "   'n_jobs': -1,\n",
       "   'random_state': 42},\n",
       "  ('tfidf + resnet', 'HistoricalPeriod_encoded'): {'class_weight': None,\n",
       "   'max_depth': None,\n",
       "   'max_features': 'sqrt',\n",
       "   'min_samples_leaf': 1,\n",
       "   'min_samples_split': 2,\n",
       "   'n_estimators': 100,\n",
       "   'n_jobs': -1,\n",
       "   'random_state': 42},\n",
       "  ('tfidf + vit', 'HistoricalPeriod_encoded'): {'class_weight': None,\n",
       "   'max_depth': None,\n",
       "   'max_features': 'sqrt',\n",
       "   'min_samples_leaf': 2,\n",
       "   'min_samples_split': 2,\n",
       "   'n_estimators': 100,\n",
       "   'n_jobs': -1,\n",
       "   'random_state': 42},\n",
       "  ('bert + cannyhog', 'HistoricalPeriod_encoded'): {'class_weight': None,\n",
       "   'max_depth': None,\n",
       "   'max_features': 'sqrt',\n",
       "   'min_samples_leaf': 1,\n",
       "   'min_samples_split': 2,\n",
       "   'n_estimators': 100,\n",
       "   'n_jobs': -1,\n",
       "   'random_state': 42},\n",
       "  ('bert + resnet', 'HistoricalPeriod_encoded'): {'class_weight': 'balanced',\n",
       "   'max_depth': None,\n",
       "   'max_features': 'sqrt',\n",
       "   'min_samples_leaf': 4,\n",
       "   'min_samples_split': 2,\n",
       "   'n_estimators': 100,\n",
       "   'n_jobs': -1,\n",
       "   'random_state': 42},\n",
       "  ('bert + vit', 'HistoricalPeriod_encoded'): {'class_weight': None,\n",
       "   'max_depth': None,\n",
       "   'max_features': 'sqrt',\n",
       "   'min_samples_leaf': 1,\n",
       "   'min_samples_split': 2,\n",
       "   'n_estimators': 100,\n",
       "   'n_jobs': -1,\n",
       "   'random_state': 42}}}"
      ]
     },
     "execution_count": 19,
     "metadata": {},
     "output_type": "execute_result"
    }
   ],
   "execution_count": 19
  },
  {
   "metadata": {
    "ExecuteTime": {
     "end_time": "2025-07-27T17:29:49.803987Z",
     "start_time": "2025-07-27T17:29:49.799749Z"
    }
   },
   "cell_type": "code",
   "source": "save_best_params(path_params, best_params, flag_new_model)",
   "id": "8f8162c8cceceffb",
   "outputs": [
    {
     "name": "stdout",
     "output_type": "stream",
     "text": [
      "✅ Saved best parameters to best_params.json\n"
     ]
    }
   ],
   "execution_count": 20
  },
  {
   "metadata": {
    "ExecuteTime": {
     "end_time": "2025-07-27T17:29:49.829644Z",
     "start_time": "2025-07-27T17:29:49.828135Z"
    }
   },
   "cell_type": "code",
   "source": "",
   "id": "907bd7bdff0d7ab9",
   "outputs": [],
   "execution_count": null
  },
  {
   "metadata": {
    "ExecuteTime": {
     "end_time": "2025-07-27T17:29:49.846680Z",
     "start_time": "2025-07-27T17:29:49.844760Z"
    }
   },
   "cell_type": "code",
   "source": "",
   "id": "b4aec40c7fdbbfc7",
   "outputs": [],
   "execution_count": null
  }
 ],
 "metadata": {
  "kernelspec": {
   "display_name": "Python 3",
   "language": "python",
   "name": "python3"
  },
  "language_info": {
   "codemirror_mode": {
    "name": "ipython",
    "version": 2
   },
   "file_extension": ".py",
   "mimetype": "text/x-python",
   "name": "python",
   "nbconvert_exporter": "python",
   "pygments_lexer": "ipython2",
   "version": "2.7.6"
  }
 },
 "nbformat": 4,
 "nbformat_minor": 5
}
