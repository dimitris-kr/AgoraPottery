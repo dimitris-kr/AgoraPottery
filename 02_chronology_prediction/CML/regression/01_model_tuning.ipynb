{
 "cells": [
  {
   "cell_type": "code",
   "id": "initial_id",
   "metadata": {
    "collapsed": true,
    "ExecuteTime": {
     "end_time": "2025-08-20T09:36:30.260268Z",
     "start_time": "2025-08-20T09:36:29.909566Z"
    }
   },
   "source": [
    "import sys\n",
    "import numpy as np\n",
    "import json\n",
    "import os"
   ],
   "outputs": [],
   "execution_count": 1
  },
  {
   "metadata": {
    "ExecuteTime": {
     "end_time": "2025-08-20T09:36:36.371412Z",
     "start_time": "2025-08-20T09:36:30.271362Z"
    }
   },
   "cell_type": "code",
   "source": [
    "from sklearn.model_selection import KFold, ParameterGrid\n",
    "from sklearn.linear_model import LinearRegression, Ridge, Lasso\n",
    "from sklearn.ensemble import RandomForestRegressor\n",
    "\n",
    "from xgboost import XGBRegressor\n",
    "from lightgbm import LGBMRegressor"
   ],
   "id": "d3818389bd9dfac9",
   "outputs": [],
   "execution_count": 2
  },
  {
   "metadata": {
    "ExecuteTime": {
     "end_time": "2025-08-20T09:36:40.453552Z",
     "start_time": "2025-08-20T09:36:36.511301Z"
    }
   },
   "cell_type": "code",
   "source": [
    "sys.path.append(os.path.abspath(\"../..\"))\n",
    "from utils import read_features, read_targets, print_info_features, print_info_targets, metrics_r, cross_validation, \\\n",
    "    d_types_methods, combine_features, load_best_params, add_all_feature_combos, save_best_params, get_column_widths, \\\n",
    "    run_hp_all, get_execution_time, print_best_params, scale_all, reduce_all"
   ],
   "id": "372b1800932fab97",
   "outputs": [],
   "execution_count": 3
  },
  {
   "metadata": {},
   "cell_type": "markdown",
   "source": "## Read Features and Targets",
   "id": "f7db6254fc6a1596"
  },
  {
   "metadata": {
    "ExecuteTime": {
     "end_time": "2025-08-20T09:36:40.459583Z",
     "start_time": "2025-08-20T09:36:40.457061Z"
    }
   },
   "cell_type": "code",
   "source": "path = os.path.abspath(os.path.join(os.getcwd(), \"../../../data/chronology_prediction\"))",
   "id": "5523bed8b295f70",
   "outputs": [],
   "execution_count": 4
  },
  {
   "metadata": {
    "ExecuteTime": {
     "end_time": "2025-08-20T09:36:41.329746Z",
     "start_time": "2025-08-20T09:36:40.466749Z"
    }
   },
   "cell_type": "code",
   "source": [
    "X = read_features(path)\n",
    "y = read_targets(path, [\"StartYear\", \"YearRange\"])"
   ],
   "id": "de490dafe7b72c47",
   "outputs": [
    {
     "name": "stdout",
     "output_type": "stream",
     "text": [
      "Loaded X_train_tfidf\n",
      "Loaded X_train_bert\n",
      "Loaded X_train_cannyhog\n",
      "Loaded X_train_resnet\n",
      "Loaded X_train_vit\n",
      "Loaded X_test_tfidf\n",
      "Loaded X_test_bert\n",
      "Loaded X_test_cannyhog\n",
      "Loaded X_test_resnet\n",
      "Loaded X_test_vit\n",
      "Loaded y_train\n",
      "Loaded y_test\n"
     ]
    }
   ],
   "execution_count": 5
  },
  {
   "metadata": {
    "ExecuteTime": {
     "end_time": "2025-08-20T09:36:41.335674Z",
     "start_time": "2025-08-20T09:36:41.333305Z"
    }
   },
   "cell_type": "code",
   "source": "print_info_features(X)",
   "id": "f262f934077e2d8d",
   "outputs": [
    {
     "name": "stdout",
     "output_type": "stream",
     "text": [
      "{\n",
      "\ttrain: {\n",
      "\t\ttfidf: \n",
      "\t\t\t<class 'pandas.core.frame.DataFrame'>\n",
      "\t\t\tshape = (1719, 300), \n",
      "\t\tbert: \n",
      "\t\t\t<class 'pandas.core.frame.DataFrame'>\n",
      "\t\t\tshape = (1719, 768), \n",
      "\t\tcannyhog: \n",
      "\t\t\t<class 'pandas.core.frame.DataFrame'>\n",
      "\t\t\tshape = (1719, 2917), \n",
      "\t\tresnet: \n",
      "\t\t\t<class 'pandas.core.frame.DataFrame'>\n",
      "\t\t\tshape = (1719, 2048), \n",
      "\t\tvit: \n",
      "\t\t\t<class 'pandas.core.frame.DataFrame'>\n",
      "\t\t\tshape = (1719, 768), \n",
      "\t},\n",
      "\ttest: {\n",
      "\t\ttfidf: \n",
      "\t\t\t<class 'pandas.core.frame.DataFrame'>\n",
      "\t\t\tshape = (191, 300), \n",
      "\t\tbert: \n",
      "\t\t\t<class 'pandas.core.frame.DataFrame'>\n",
      "\t\t\tshape = (191, 768), \n",
      "\t\tcannyhog: \n",
      "\t\t\t<class 'pandas.core.frame.DataFrame'>\n",
      "\t\t\tshape = (191, 2917), \n",
      "\t\tresnet: \n",
      "\t\t\t<class 'pandas.core.frame.DataFrame'>\n",
      "\t\t\tshape = (191, 2048), \n",
      "\t\tvit: \n",
      "\t\t\t<class 'pandas.core.frame.DataFrame'>\n",
      "\t\t\tshape = (191, 768), \n",
      "\t},\n",
      "}\n"
     ]
    }
   ],
   "execution_count": 6
  },
  {
   "metadata": {
    "ExecuteTime": {
     "end_time": "2025-08-20T09:36:41.361161Z",
     "start_time": "2025-08-20T09:36:41.358955Z"
    }
   },
   "cell_type": "code",
   "source": "print_info_targets(y)",
   "id": "e83f2d35e6f5b28",
   "outputs": [
    {
     "name": "stdout",
     "output_type": "stream",
     "text": [
      "y = {\n",
      "\ttrain: \n",
      "\t\t<class 'pandas.core.frame.DataFrame'>\n",
      "\t\tshape (1719, 2)\n",
      "\t\tcolumns ['StartYear', 'YearRange'],\n",
      "\ttest: \n",
      "\t\t<class 'pandas.core.frame.DataFrame'>\n",
      "\t\tshape (191, 2)\n",
      "\t\tcolumns ['StartYear', 'YearRange'],\n",
      "}\n"
     ]
    }
   ],
   "execution_count": 7
  },
  {
   "metadata": {},
   "cell_type": "markdown",
   "source": "## Extra Preprocessing\n",
   "id": "6306a70cf21d04b7"
  },
  {
   "metadata": {},
   "cell_type": "markdown",
   "source": "### Scale Features",
   "id": "710c7af4653f8ed2"
  },
  {
   "metadata": {
    "ExecuteTime": {
     "end_time": "2025-08-20T09:36:41.532784Z",
     "start_time": "2025-08-20T09:36:41.383321Z"
    }
   },
   "cell_type": "code",
   "source": "X_scaled = scale_all(X)",
   "id": "b2cefc286e38ea28",
   "outputs": [],
   "execution_count": 8
  },
  {
   "metadata": {},
   "cell_type": "markdown",
   "source": [
    "### Reduce Features\n",
    "\n",
    "Use n_components=0.95 to keep enough components to preserve 95% of the variance in the data."
   ],
   "id": "5d720fbfbfdbdc03"
  },
  {
   "metadata": {
    "ExecuteTime": {
     "end_time": "2025-08-20T09:36:43.008767Z",
     "start_time": "2025-08-20T09:36:41.542484Z"
    }
   },
   "cell_type": "code",
   "source": "X_reduced = reduce_all(X_scaled, n_components=0.95)",
   "id": "5484be7d33be275d",
   "outputs": [],
   "execution_count": 9
  },
  {
   "metadata": {},
   "cell_type": "markdown",
   "source": "### Combine & Re-scale Text & Image Feature Sets",
   "id": "d5454db6b44ba061"
  },
  {
   "metadata": {
    "ExecuteTime": {
     "end_time": "2025-08-20T09:36:43.149172Z",
     "start_time": "2025-08-20T09:36:43.019336Z"
    }
   },
   "cell_type": "code",
   "source": [
    "X = add_all_feature_combos(X, scale=False)\n",
    "X_reduced = add_all_feature_combos(X_reduced, scale=True)"
   ],
   "id": "733d159e6f39efda",
   "outputs": [],
   "execution_count": 10
  },
  {
   "metadata": {
    "ExecuteTime": {
     "end_time": "2025-08-20T09:36:43.165193Z",
     "start_time": "2025-08-20T09:36:43.162175Z"
    }
   },
   "cell_type": "code",
   "source": "print_info_features(X)",
   "id": "31f28b8bf49edc41",
   "outputs": [
    {
     "name": "stdout",
     "output_type": "stream",
     "text": [
      "{\n",
      "\ttrain: {\n",
      "\t\ttfidf: \n",
      "\t\t\t<class 'pandas.core.frame.DataFrame'>\n",
      "\t\t\tshape = (1719, 300), \n",
      "\t\tbert: \n",
      "\t\t\t<class 'pandas.core.frame.DataFrame'>\n",
      "\t\t\tshape = (1719, 768), \n",
      "\t\tcannyhog: \n",
      "\t\t\t<class 'pandas.core.frame.DataFrame'>\n",
      "\t\t\tshape = (1719, 2917), \n",
      "\t\tresnet: \n",
      "\t\t\t<class 'pandas.core.frame.DataFrame'>\n",
      "\t\t\tshape = (1719, 2048), \n",
      "\t\tvit: \n",
      "\t\t\t<class 'pandas.core.frame.DataFrame'>\n",
      "\t\t\tshape = (1719, 768), \n",
      "\t\ttfidf + cannyhog: \n",
      "\t\t\t<class 'pandas.core.frame.DataFrame'>\n",
      "\t\t\tshape = (1719, 3217), \n",
      "\t\ttfidf + resnet: \n",
      "\t\t\t<class 'pandas.core.frame.DataFrame'>\n",
      "\t\t\tshape = (1719, 2348), \n",
      "\t\ttfidf + vit: \n",
      "\t\t\t<class 'pandas.core.frame.DataFrame'>\n",
      "\t\t\tshape = (1719, 1068), \n",
      "\t\tbert + cannyhog: \n",
      "\t\t\t<class 'pandas.core.frame.DataFrame'>\n",
      "\t\t\tshape = (1719, 3685), \n",
      "\t\tbert + resnet: \n",
      "\t\t\t<class 'pandas.core.frame.DataFrame'>\n",
      "\t\t\tshape = (1719, 2816), \n",
      "\t\tbert + vit: \n",
      "\t\t\t<class 'pandas.core.frame.DataFrame'>\n",
      "\t\t\tshape = (1719, 1536), \n",
      "\t},\n",
      "\ttest: {\n",
      "\t\ttfidf: \n",
      "\t\t\t<class 'pandas.core.frame.DataFrame'>\n",
      "\t\t\tshape = (191, 300), \n",
      "\t\tbert: \n",
      "\t\t\t<class 'pandas.core.frame.DataFrame'>\n",
      "\t\t\tshape = (191, 768), \n",
      "\t\tcannyhog: \n",
      "\t\t\t<class 'pandas.core.frame.DataFrame'>\n",
      "\t\t\tshape = (191, 2917), \n",
      "\t\tresnet: \n",
      "\t\t\t<class 'pandas.core.frame.DataFrame'>\n",
      "\t\t\tshape = (191, 2048), \n",
      "\t\tvit: \n",
      "\t\t\t<class 'pandas.core.frame.DataFrame'>\n",
      "\t\t\tshape = (191, 768), \n",
      "\t\ttfidf + cannyhog: \n",
      "\t\t\t<class 'pandas.core.frame.DataFrame'>\n",
      "\t\t\tshape = (191, 3217), \n",
      "\t\ttfidf + resnet: \n",
      "\t\t\t<class 'pandas.core.frame.DataFrame'>\n",
      "\t\t\tshape = (191, 2348), \n",
      "\t\ttfidf + vit: \n",
      "\t\t\t<class 'pandas.core.frame.DataFrame'>\n",
      "\t\t\tshape = (191, 1068), \n",
      "\t\tbert + cannyhog: \n",
      "\t\t\t<class 'pandas.core.frame.DataFrame'>\n",
      "\t\t\tshape = (191, 3685), \n",
      "\t\tbert + resnet: \n",
      "\t\t\t<class 'pandas.core.frame.DataFrame'>\n",
      "\t\t\tshape = (191, 2816), \n",
      "\t\tbert + vit: \n",
      "\t\t\t<class 'pandas.core.frame.DataFrame'>\n",
      "\t\t\tshape = (191, 1536), \n",
      "\t},\n",
      "}\n"
     ]
    }
   ],
   "execution_count": 11
  },
  {
   "metadata": {},
   "cell_type": "markdown",
   "source": "## Initialize 10-Fold Cross Validation\n",
   "id": "ff6cccf5417b1081"
  },
  {
   "metadata": {
    "ExecuteTime": {
     "end_time": "2025-08-20T09:36:43.191158Z",
     "start_time": "2025-08-20T09:36:43.188292Z"
    }
   },
   "cell_type": "code",
   "source": [
    "kf = KFold(n_splits=10, shuffle=True, random_state=42)\n",
    "folds = list(kf.split(np.arange(y[\"train\"].shape[0])))"
   ],
   "id": "4e15d7145e6d1292",
   "outputs": [],
   "execution_count": 12
  },
  {
   "metadata": {},
   "cell_type": "markdown",
   "source": "## Define Parameter Grid per Model",
   "id": "8bffea108b33ba1e"
  },
  {
   "metadata": {
    "ExecuteTime": {
     "end_time": "2025-08-20T09:36:43.196124Z",
     "start_time": "2025-08-20T09:36:43.193166Z"
    }
   },
   "cell_type": "code",
   "source": [
    "model_param_grids = {\n",
    "    \"Ridge\": (\n",
    "        Ridge, {\n",
    "            \"alpha\": [0.01, 0.1, 1, 10, 100, 1000, 10000, 100000],\n",
    "            \"random_state\": [42]\n",
    "        }\n",
    "    ),\n",
    "    \"Lasso\": (\n",
    "        Lasso, {\n",
    "            \"alpha\": [0.001, 0.01, 0.1, 1, 10, 100],\n",
    "            \"max_iter\": [10000],\n",
    "            \"random_state\": [42]\n",
    "        }\n",
    "    ),\n",
    "    \"RandomForest\": (\n",
    "        RandomForestRegressor, {\n",
    "            \"n_estimators\": [100],\n",
    "            \"max_depth\": [None, 20],\n",
    "            \"min_samples_split\": [2],\n",
    "            \"min_samples_leaf\": [1, 2],\n",
    "            \"random_state\": [42],\n",
    "            \"n_jobs\": [-1]\n",
    "        }\n",
    "    ),\n",
    "    \"XGBoost\": (\n",
    "        XGBRegressor,\n",
    "        {\n",
    "            \"n_estimators\": [100],\n",
    "            \"max_depth\": [3, 6],\n",
    "            \"learning_rate\": [0.05, 0.1],\n",
    "            \"subsample\": [0.8],\n",
    "            \"colsample_bytree\": [0.8],\n",
    "            \"random_state\": [42]\n",
    "        }\n",
    "    ),\n",
    "    \"LightGBM\": (\n",
    "        LGBMRegressor,\n",
    "        {\n",
    "            \"n_estimators\": [100],\n",
    "            \"max_depth\": [-1, 20],\n",
    "            \"learning_rate\": [0.05, 0.1],\n",
    "            \"num_leaves\": [31, 64],\n",
    "            \"device\": [\"gpu\"],\n",
    "            \"random_state\": [42],\n",
    "            \"verbose\": [-1]\n",
    "        }\n",
    "    )\n",
    "}"
   ],
   "id": "ca57b97a95889f70",
   "outputs": [],
   "execution_count": 13
  },
  {
   "metadata": {
    "ExecuteTime": {
     "end_time": "2025-08-20T09:36:43.210393Z",
     "start_time": "2025-08-20T09:36:43.208002Z"
    }
   },
   "cell_type": "code",
   "source": "models_reduced_features = [\"Ridge\", \"Lasso\"]",
   "id": "ee2c04f7ecbf3002",
   "outputs": [],
   "execution_count": 14
  },
  {
   "metadata": {},
   "cell_type": "markdown",
   "source": [
    "## Load or Initialize Best Parameter Dictionary\n",
    "\n",
    "Load best_params dictionary from JSON file, if it exists, else initialize dictionary"
   ],
   "id": "a007a7a1a8ad78cc"
  },
  {
   "metadata": {
    "ExecuteTime": {
     "end_time": "2025-08-20T09:36:43.238593Z",
     "start_time": "2025-08-20T09:36:43.235587Z"
    }
   },
   "cell_type": "code",
   "source": [
    "## Load or Initialize Best Params Dictionary\n",
    "path_params = \"best_params.json\"\n",
    "\n",
    "best_params = load_best_params(path_params)\n",
    "print(f\"Best Params Available for {len(best_params.keys())} Models\")"
   ],
   "id": "ed843264a7447d75",
   "outputs": [
    {
     "name": "stdout",
     "output_type": "stream",
     "text": [
      "Best Params Available for 3 Models\n"
     ]
    }
   ],
   "execution_count": 15
  },
  {
   "metadata": {},
   "cell_type": "markdown",
   "source": [
    "## Run HP Tuning for New Models\n",
    "\n",
    "Run tuning only for models missing from the saved params"
   ],
   "id": "f92f4e6b60f1aa36"
  },
  {
   "metadata": {
    "ExecuteTime": {
     "end_time": "2025-08-20T10:57:14.526792Z",
     "start_time": "2025-08-20T09:36:43.243111Z"
    }
   },
   "cell_type": "code",
   "source": [
    "verbose = True\n",
    "flag_new_model = False\n",
    "deciding_metric = \"mae\"\n",
    "\n",
    "for model_name, (model_class, param_grid) in model_param_grids.items():\n",
    "    _X = X_reduced[\"train\"] if model_name in models_reduced_features else X[\"train\"]\n",
    "    _y = y[\"train\"]\n",
    "\n",
    "    column_widths = get_column_widths(list(_y.keys()), list(_X.keys()), deciding_metric, param_grid)\n",
    "\n",
    "    if model_name not in best_params:\n",
    "        flag_new_model = True\n",
    "\n",
    "        if verbose: print(f\"\\n🔄 Hyperparameter Tuning '{model_name}' Model\")\n",
    "\n",
    "        best_params[model_name] = run_hp_all(\n",
    "            model_class,\n",
    "            param_grid,\n",
    "            folds,\n",
    "            metrics_r,\n",
    "            _X,\n",
    "            _y,\n",
    "            deciding_metric,\n",
    "            column_widths,\n",
    "            verbose=verbose\n",
    "        )\n",
    "    else:\n",
    "        if verbose:\n",
    "            print(f\"\\n✅ '{model_name}' Model Already Tuned. Execution Time: {get_execution_time(best_params[model_name])}\")\n",
    "            print_best_params(column_widths, best_params[model_name], deciding_metric)"
   ],
   "id": "f118228ab1afd99f",
   "outputs": [
    {
     "name": "stdout",
     "output_type": "stream",
     "text": [
      "\n",
      "✅ 'Ridge' Model Already Tuned. Execution Time: 14s\n",
      "+-----------+------------------+-----------+--------+\n",
      "|    target |      feature_set |       mae |  alpha |\n",
      "+-----------+------------------+-----------+--------+\n",
      "| StartYear |            tfidf |   38.2985 |      1 |\n",
      "| StartYear |             bert |   45.6488 |   1000 |\n",
      "| StartYear |         cannyhog |   53.7347 |   1000 |\n",
      "| StartYear |           resnet |   51.5910 |   1000 |\n",
      "| StartYear |              vit |   51.6154 |   1000 |\n",
      "| StartYear | tfidf + cannyhog |   37.9784 |   1000 |\n",
      "| StartYear |   tfidf + resnet |   37.3392 |   1000 |\n",
      "| StartYear |      tfidf + vit |   37.7850 |   1000 |\n",
      "| StartYear |  bert + cannyhog |   45.8785 |   1000 |\n",
      "| StartYear |    bert + resnet |   44.8105 |   1000 |\n",
      "| StartYear |       bert + vit |   45.3821 |   1000 |\n",
      "+-----------+------------------+-----------+--------+\n",
      "| YearRange |            tfidf |   10.9017 |      1 |\n",
      "| YearRange |             bert |   11.1748 |   1000 |\n",
      "| YearRange |         cannyhog |   12.0825 |  10000 |\n",
      "| YearRange |           resnet |   11.8929 |  10000 |\n",
      "| YearRange |              vit |   11.8621 |   1000 |\n",
      "| YearRange | tfidf + cannyhog |   10.9747 |   1000 |\n",
      "| YearRange |   tfidf + resnet |   10.8704 |   1000 |\n",
      "| YearRange |      tfidf + vit |   10.8708 |   1000 |\n",
      "| YearRange |  bert + cannyhog |   11.4206 |   1000 |\n",
      "| YearRange |    bert + resnet |   11.3440 |   1000 |\n",
      "| YearRange |       bert + vit |   11.2871 |   1000 |\n",
      "+-----------+------------------+-----------+--------+\n",
      "\n",
      "✅ 'Lasso' Model Already Tuned. Execution Time: 55s\n",
      "+-----------+------------------+-----------+-------+\n",
      "|    target |      feature_set |       mae | alpha |\n",
      "+-----------+------------------+-----------+-------+\n",
      "| StartYear |            tfidf |   39.1375 |  0.01 |\n",
      "| StartYear |             bert |   45.8053 |     1 |\n",
      "| StartYear |         cannyhog |   53.5922 |     1 |\n",
      "| StartYear |           resnet |   52.2081 |     1 |\n",
      "| StartYear |              vit |   51.6640 |     1 |\n",
      "| StartYear | tfidf + cannyhog |   37.8503 |     1 |\n",
      "| StartYear |   tfidf + resnet |   37.7788 |     1 |\n",
      "| StartYear |      tfidf + vit |   37.8997 |     1 |\n",
      "| StartYear |  bert + cannyhog |   45.2586 |     1 |\n",
      "| StartYear |    bert + resnet |   45.0916 |     1 |\n",
      "| StartYear |       bert + vit |   45.0691 |     1 |\n",
      "+-----------+------------------+-----------+-------+\n",
      "| YearRange |            tfidf |   10.7487 |  0.01 |\n",
      "| YearRange |             bert |   11.2702 |   0.1 |\n",
      "| YearRange |         cannyhog |   12.1265 |     1 |\n",
      "| YearRange |           resnet |   11.9933 |     1 |\n",
      "| YearRange |              vit |   11.9235 |     1 |\n",
      "| YearRange | tfidf + cannyhog |   11.1217 |   0.1 |\n",
      "| YearRange |   tfidf + resnet |   11.0618 |   0.1 |\n",
      "| YearRange |      tfidf + vit |   10.9720 |   0.1 |\n",
      "| YearRange |  bert + cannyhog |   11.5154 |   0.1 |\n",
      "| YearRange |    bert + resnet |   11.6618 |   0.1 |\n",
      "| YearRange |       bert + vit |   11.3762 |   0.1 |\n",
      "+-----------+------------------+-----------+-------+\n",
      "\n",
      "✅ 'RandomForest' Model Already Tuned. Execution Time: 1h 16m 16s\n",
      "+-----------+------------------+-----------+-----------+------------------+\n",
      "|    target |      feature_set |       mae | max_depth | min_samples_leaf |\n",
      "+-----------+------------------+-----------+-----------+------------------+\n",
      "| StartYear |            tfidf |   35.6389 |      None |                1 |\n",
      "| StartYear |             bert |   48.3783 |        20 |                1 |\n",
      "| StartYear |         cannyhog |   48.1877 |      None |                1 |\n",
      "| StartYear |           resnet |   48.0857 |        20 |                1 |\n",
      "| StartYear |              vit |   48.1738 |        20 |                1 |\n",
      "| StartYear | tfidf + cannyhog |   35.7194 |      None |                1 |\n",
      "| StartYear |   tfidf + resnet |   35.5870 |      None |                1 |\n",
      "| StartYear |      tfidf + vit |   35.3345 |      None |                1 |\n",
      "| StartYear |  bert + cannyhog |   47.4231 |        20 |                1 |\n",
      "| StartYear |    bert + resnet |   46.8241 |        20 |                2 |\n",
      "| StartYear |       bert + vit |   46.8615 |        20 |                2 |\n",
      "+-----------+------------------+-----------+-----------+------------------+\n",
      "| YearRange |            tfidf |   10.5475 |        20 |                1 |\n",
      "| YearRange |             bert |   11.2090 |      None |                1 |\n",
      "| YearRange |         cannyhog |   11.9860 |        20 |                2 |\n",
      "| YearRange |           resnet |   11.8950 |        20 |                2 |\n",
      "| YearRange |              vit |   11.8607 |      None |                2 |\n",
      "| YearRange | tfidf + cannyhog |   10.5625 |        20 |                2 |\n",
      "| YearRange |   tfidf + resnet |   10.5004 |      None |                2 |\n",
      "| YearRange |      tfidf + vit |   10.5232 |      None |                2 |\n",
      "| YearRange |  bert + cannyhog |   11.2102 |      None |                1 |\n",
      "| YearRange |    bert + resnet |   11.2216 |        20 |                2 |\n",
      "| YearRange |       bert + vit |   11.1949 |      None |                1 |\n",
      "+-----------+------------------+-----------+-----------+------------------+\n",
      "\n",
      "🔄 Hyperparameter Tuning 'XGBoost' Model\n",
      "+-----------+------------------+-----------+-----------+---------------+\n",
      "|    target |      feature_set |       mae | max_depth | learning_rate |\n",
      "+-----------+------------------+-----------+-----------+---------------+\n",
      "| StartYear |            tfidf |   36.3363 |         6 |           0.1 |\n",
      "| StartYear |             bert |   46.2605 |         6 |           0.1 |\n",
      "| StartYear |         cannyhog |   47.1868 |         6 |           0.1 |\n",
      "| StartYear |           resnet |   47.2257 |         6 |           0.1 |\n",
      "| StartYear |              vit |   47.1184 |         6 |           0.1 |\n",
      "| StartYear | tfidf + cannyhog |   35.8510 |         6 |           0.1 |\n",
      "| StartYear |   tfidf + resnet |   35.8541 |         6 |           0.1 |\n",
      "| StartYear |      tfidf + vit |   35.3404 |         6 |           0.1 |\n",
      "| StartYear |  bert + cannyhog |   44.6678 |         6 |          0.05 |\n",
      "| StartYear |    bert + resnet |   44.6878 |         6 |           0.1 |\n",
      "| StartYear |       bert + vit |   44.7602 |         6 |           0.1 |\n",
      "+-----------+------------------+-----------+-----------+---------------+\n",
      "| YearRange |            tfidf |   10.7249 |         6 |          0.05 |\n",
      "| YearRange |             bert |   11.0799 |         6 |          0.05 |\n",
      "| YearRange |         cannyhog |   11.9383 |         3 |          0.05 |\n",
      "| YearRange |           resnet |   11.8920 |         3 |          0.05 |\n",
      "| YearRange |              vit |   11.8314 |         3 |          0.05 |\n",
      "| YearRange | tfidf + cannyhog |   10.6903 |         6 |           0.1 |\n",
      "| YearRange |   tfidf + resnet |   10.7110 |         6 |          0.05 |\n",
      "| YearRange |      tfidf + vit |   10.7189 |         6 |          0.05 |\n",
      "| YearRange |  bert + cannyhog |   11.0949 |         6 |           0.1 |\n",
      "| YearRange |    bert + resnet |   11.0998 |         6 |          0.05 |\n",
      "| YearRange |       bert + vit |   11.0072 |         6 |          0.05 |\n",
      "+-----------+------------------+-----------+-----------+---------------+\n",
      "Finished in 25m 50s\n",
      "\n",
      "🔄 Hyperparameter Tuning 'LightGBM' Model\n",
      "+-----------+------------------+-----------+-----------+---------------+------------+\n",
      "|    target |      feature_set |       mae | max_depth | learning_rate | num_leaves |\n",
      "+-----------+------------------+-----------+-----------+---------------+------------+\n",
      "| StartYear |            tfidf |   36.1171 |        20 |           0.1 |         31 |\n",
      "| StartYear |             bert |   46.2658 |        -1 |           0.1 |         31 |\n",
      "| StartYear |         cannyhog |   47.1466 |        20 |           0.1 |         64 |\n",
      "| StartYear |           resnet |   46.9517 |        -1 |           0.1 |         31 |\n",
      "| StartYear |              vit |   46.5112 |        -1 |           0.1 |         64 |\n",
      "| StartYear | tfidf + cannyhog |   35.0652 |        20 |          0.05 |         64 |\n",
      "| StartYear |   tfidf + resnet |   34.8843 |        20 |           0.1 |         64 |\n",
      "| StartYear |      tfidf + vit |   34.7558 |        20 |           0.1 |         31 |\n",
      "| StartYear |  bert + cannyhog |   43.8597 |        20 |           0.1 |         31 |\n",
      "| StartYear |    bert + resnet |   43.8325 |        -1 |          0.05 |         64 |\n",
      "| StartYear |       bert + vit |   43.8043 |        20 |          0.05 |         64 |\n",
      "+-----------+------------------+-----------+-----------+---------------+------------+\n",
      "| YearRange |            tfidf |   10.7189 |        -1 |          0.05 |         31 |\n",
      "| YearRange |             bert |   11.1568 |        20 |           0.1 |         64 |\n",
      "| YearRange |         cannyhog |   12.0071 |        20 |          0.05 |         31 |\n",
      "| YearRange |           resnet |   11.9117 |        -1 |           0.1 |         64 |\n",
      "| YearRange |              vit |   11.9311 |        -1 |          0.05 |         64 |\n",
      "| YearRange | tfidf + cannyhog |   10.6490 |        -1 |          0.05 |         31 |\n",
      "| YearRange |   tfidf + resnet |   10.6883 |        20 |          0.05 |         64 |\n",
      "| YearRange |      tfidf + vit |   10.6522 |        -1 |          0.05 |         31 |\n",
      "| YearRange |  bert + cannyhog |   11.1620 |        20 |          0.05 |         64 |\n",
      "| YearRange |    bert + resnet |   10.9960 |        -1 |          0.05 |         31 |\n",
      "| YearRange |       bert + vit |   11.0995 |        -1 |          0.05 |         31 |\n",
      "+-----------+------------------+-----------+-----------+---------------+------------+\n",
      "Finished in 54m 40s\n"
     ]
    }
   ],
   "execution_count": 16
  },
  {
   "metadata": {},
   "cell_type": "markdown",
   "source": [
    "## Save Best Parameters per Model\n",
    "\n",
    "Save best params if new models added"
   ],
   "id": "c5aefd4534b18ad1"
  },
  {
   "metadata": {
    "ExecuteTime": {
     "end_time": "2025-08-20T10:57:14.580197Z",
     "start_time": "2025-08-20T10:57:14.573200Z"
    }
   },
   "cell_type": "code",
   "source": "save_best_params(path_params, best_params, flag_new_model)",
   "id": "cd017e1b968938b8",
   "outputs": [
    {
     "name": "stdout",
     "output_type": "stream",
     "text": [
      "✅ Saved best parameters to best_params.json\n"
     ]
    }
   ],
   "execution_count": 17
  }
 ],
 "metadata": {
  "kernelspec": {
   "display_name": "Python 3",
   "language": "python",
   "name": "python3"
  },
  "language_info": {
   "codemirror_mode": {
    "name": "ipython",
    "version": 2
   },
   "file_extension": ".py",
   "mimetype": "text/x-python",
   "name": "python",
   "nbconvert_exporter": "python",
   "pygments_lexer": "ipython2",
   "version": "2.7.6"
  }
 },
 "nbformat": 4,
 "nbformat_minor": 5
}
