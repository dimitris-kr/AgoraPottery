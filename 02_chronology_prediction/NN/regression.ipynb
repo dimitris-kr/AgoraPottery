{
 "cells": [
  {
   "metadata": {
    "ExecuteTime": {
     "end_time": "2025-09-14T20:41:16.393872Z",
     "start_time": "2025-09-14T20:41:16.356422Z"
    }
   },
   "cell_type": "code",
   "source": [
    "import itertools\n",
    "import sys\n",
    "import os\n",
    "import numpy as np"
   ],
   "id": "e68f91afa2b0f236",
   "outputs": [],
   "execution_count": 1
  },
  {
   "metadata": {
    "ExecuteTime": {
     "end_time": "2025-09-14T20:41:16.894884Z",
     "start_time": "2025-09-14T20:41:16.401309Z"
    }
   },
   "cell_type": "code",
   "source": "from sklearn.model_selection import train_test_split",
   "id": "bfcde03b1fd21c5d",
   "outputs": [],
   "execution_count": 2
  },
  {
   "metadata": {
    "ExecuteTime": {
     "end_time": "2025-09-14T21:08:35.485917Z",
     "start_time": "2025-09-14T21:08:35.481159Z"
    }
   },
   "cell_type": "code",
   "source": [
    "import torch\n",
    "import torch.nn as nn\n",
    "from torch.utils.data import Dataset, DataLoader\n",
    "from torchsummary import summary\n",
    "import torchinfo"
   ],
   "id": "42517ee4fccad69f",
   "outputs": [],
   "execution_count": 41
  },
  {
   "metadata": {
    "collapsed": true,
    "ExecuteTime": {
     "end_time": "2025-09-14T20:41:18.436618Z",
     "start_time": "2025-09-14T20:41:18.028832Z"
    }
   },
   "cell_type": "code",
   "source": [
    "sys.path.append(os.path.abspath(\"..\"))\n",
    "from utils import read_features, read_targets, print_info_features, print_info_targets, d_types_methods"
   ],
   "id": "initial_id",
   "outputs": [],
   "execution_count": 4
  },
  {
   "metadata": {},
   "cell_type": "markdown",
   "source": "## Read Features and Targets",
   "id": "cf589df8516ba49"
  },
  {
   "metadata": {
    "ExecuteTime": {
     "end_time": "2025-09-14T20:41:18.446227Z",
     "start_time": "2025-09-14T20:41:18.444221Z"
    }
   },
   "cell_type": "code",
   "source": "path = os.path.abspath(os.path.join(os.getcwd(), \"../../data/chronology_prediction\"))",
   "id": "d5c3de52cb75fc9f",
   "outputs": [],
   "execution_count": 5
  },
  {
   "metadata": {
    "ExecuteTime": {
     "end_time": "2025-09-14T20:41:18.458800Z",
     "start_time": "2025-09-14T20:41:18.456885Z"
    }
   },
   "cell_type": "code",
   "source": "targets = [\"StartYear\", \"YearRange\"]",
   "id": "e24989b5be0c179a",
   "outputs": [],
   "execution_count": 6
  },
  {
   "metadata": {
    "ExecuteTime": {
     "end_time": "2025-09-14T20:41:18.575614Z",
     "start_time": "2025-09-14T20:41:18.472168Z"
    }
   },
   "cell_type": "code",
   "source": [
    "X = read_features(path, f_type=\"tensors\")\n",
    "y = read_targets(path, targets, f_type=\"tensors\")"
   ],
   "id": "3cb9c96837211e40",
   "outputs": [
    {
     "name": "stdout",
     "output_type": "stream",
     "text": [
      "Loaded X_train_tfidf\n",
      "Loaded X_train_bert\n",
      "Loaded X_train_cannyhog\n",
      "Loaded X_train_resnet\n",
      "Loaded X_train_vit\n",
      "Loaded X_test_tfidf\n",
      "Loaded X_test_bert\n",
      "Loaded X_test_cannyhog\n",
      "Loaded X_test_resnet\n",
      "Loaded X_test_vit\n",
      "Loaded y_train\n",
      "Loaded y_test\n"
     ]
    }
   ],
   "execution_count": 7
  },
  {
   "metadata": {
    "ExecuteTime": {
     "end_time": "2025-09-14T20:41:18.580428Z",
     "start_time": "2025-09-14T20:41:18.578486Z"
    }
   },
   "cell_type": "code",
   "source": "print_info_features(X)",
   "id": "1b9b7b6ee32502e0",
   "outputs": [
    {
     "name": "stdout",
     "output_type": "stream",
     "text": [
      "{\n",
      "\ttrain: {\n",
      "\t\ttfidf: \n",
      "\t\t\t<class 'torch.Tensor'>\n",
      "\t\t\tshape = torch.Size([1719, 300]), \n",
      "\t\tbert: \n",
      "\t\t\t<class 'torch.Tensor'>\n",
      "\t\t\tshape = torch.Size([1719, 768]), \n",
      "\t\tcannyhog: \n",
      "\t\t\t<class 'torch.Tensor'>\n",
      "\t\t\tshape = torch.Size([1719, 2917]), \n",
      "\t\tresnet: \n",
      "\t\t\t<class 'torch.Tensor'>\n",
      "\t\t\tshape = torch.Size([1719, 2048]), \n",
      "\t\tvit: \n",
      "\t\t\t<class 'torch.Tensor'>\n",
      "\t\t\tshape = torch.Size([1719, 768]), \n",
      "\t},\n",
      "\ttest: {\n",
      "\t\ttfidf: \n",
      "\t\t\t<class 'torch.Tensor'>\n",
      "\t\t\tshape = torch.Size([191, 300]), \n",
      "\t\tbert: \n",
      "\t\t\t<class 'torch.Tensor'>\n",
      "\t\t\tshape = torch.Size([191, 768]), \n",
      "\t\tcannyhog: \n",
      "\t\t\t<class 'torch.Tensor'>\n",
      "\t\t\tshape = torch.Size([191, 2917]), \n",
      "\t\tresnet: \n",
      "\t\t\t<class 'torch.Tensor'>\n",
      "\t\t\tshape = torch.Size([191, 2048]), \n",
      "\t\tvit: \n",
      "\t\t\t<class 'torch.Tensor'>\n",
      "\t\t\tshape = torch.Size([191, 768]), \n",
      "\t},\n",
      "}\n"
     ]
    }
   ],
   "execution_count": 8
  },
  {
   "metadata": {
    "ExecuteTime": {
     "end_time": "2025-09-14T20:41:18.651393Z",
     "start_time": "2025-09-14T20:41:18.649449Z"
    }
   },
   "cell_type": "code",
   "source": "print_info_targets(y)",
   "id": "eba891e983ff4b82",
   "outputs": [
    {
     "name": "stdout",
     "output_type": "stream",
     "text": [
      "{\n",
      "\ttrain: \n",
      "\t\t<class 'torch.Tensor'>\n",
      "\t\tshape   = torch.Size([1719, 2])\n",
      "\ttest: \n",
      "\t\t<class 'torch.Tensor'>\n",
      "\t\tshape   = torch.Size([191, 2])\n",
      "}\n"
     ]
    }
   ],
   "execution_count": 9
  },
  {
   "metadata": {},
   "cell_type": "markdown",
   "source": "## Train-Validation Split",
   "id": "8675df19ec88dcf8"
  },
  {
   "metadata": {
    "ExecuteTime": {
     "end_time": "2025-09-14T20:41:18.683057Z",
     "start_time": "2025-09-14T20:41:18.680426Z"
    }
   },
   "cell_type": "code",
   "source": [
    "indices = np.arange(y[\"train\"].shape[0])\n",
    "train_idx, val_idx = train_test_split(indices, test_size=0.1, random_state=42)\n",
    "\n",
    "train_idx = torch.tensor(train_idx, dtype=torch.int64)\n",
    "val_idx = torch.tensor(val_idx, dtype=torch.int64)"
   ],
   "id": "c136092e17852741",
   "outputs": [],
   "execution_count": 10
  },
  {
   "metadata": {
    "ExecuteTime": {
     "end_time": "2025-09-14T20:41:18.722167Z",
     "start_time": "2025-09-14T20:41:18.713572Z"
    }
   },
   "cell_type": "code",
   "source": [
    "X = {\n",
    "    \"train\": {method: tensors[train_idx] for method, tensors in X[\"train\"].items()},\n",
    "    \"val\": {method: tensors[val_idx] for method, tensors in X[\"train\"].items()},\n",
    "    \"test\": X[\"test\"]\n",
    "}\n",
    "\n",
    "print_info_features(X)"
   ],
   "id": "94e1483d6bf27c14",
   "outputs": [
    {
     "name": "stdout",
     "output_type": "stream",
     "text": [
      "{\n",
      "\ttrain: {\n",
      "\t\ttfidf: \n",
      "\t\t\t<class 'torch.Tensor'>\n",
      "\t\t\tshape = torch.Size([1547, 300]), \n",
      "\t\tbert: \n",
      "\t\t\t<class 'torch.Tensor'>\n",
      "\t\t\tshape = torch.Size([1547, 768]), \n",
      "\t\tcannyhog: \n",
      "\t\t\t<class 'torch.Tensor'>\n",
      "\t\t\tshape = torch.Size([1547, 2917]), \n",
      "\t\tresnet: \n",
      "\t\t\t<class 'torch.Tensor'>\n",
      "\t\t\tshape = torch.Size([1547, 2048]), \n",
      "\t\tvit: \n",
      "\t\t\t<class 'torch.Tensor'>\n",
      "\t\t\tshape = torch.Size([1547, 768]), \n",
      "\t},\n",
      "\tval: {\n",
      "\t\ttfidf: \n",
      "\t\t\t<class 'torch.Tensor'>\n",
      "\t\t\tshape = torch.Size([172, 300]), \n",
      "\t\tbert: \n",
      "\t\t\t<class 'torch.Tensor'>\n",
      "\t\t\tshape = torch.Size([172, 768]), \n",
      "\t\tcannyhog: \n",
      "\t\t\t<class 'torch.Tensor'>\n",
      "\t\t\tshape = torch.Size([172, 2917]), \n",
      "\t\tresnet: \n",
      "\t\t\t<class 'torch.Tensor'>\n",
      "\t\t\tshape = torch.Size([172, 2048]), \n",
      "\t\tvit: \n",
      "\t\t\t<class 'torch.Tensor'>\n",
      "\t\t\tshape = torch.Size([172, 768]), \n",
      "\t},\n",
      "\ttest: {\n",
      "\t\ttfidf: \n",
      "\t\t\t<class 'torch.Tensor'>\n",
      "\t\t\tshape = torch.Size([191, 300]), \n",
      "\t\tbert: \n",
      "\t\t\t<class 'torch.Tensor'>\n",
      "\t\t\tshape = torch.Size([191, 768]), \n",
      "\t\tcannyhog: \n",
      "\t\t\t<class 'torch.Tensor'>\n",
      "\t\t\tshape = torch.Size([191, 2917]), \n",
      "\t\tresnet: \n",
      "\t\t\t<class 'torch.Tensor'>\n",
      "\t\t\tshape = torch.Size([191, 2048]), \n",
      "\t\tvit: \n",
      "\t\t\t<class 'torch.Tensor'>\n",
      "\t\t\tshape = torch.Size([191, 768]), \n",
      "\t},\n",
      "}\n"
     ]
    }
   ],
   "execution_count": 11
  },
  {
   "metadata": {
    "ExecuteTime": {
     "end_time": "2025-09-14T20:41:18.757643Z",
     "start_time": "2025-09-14T20:41:18.754899Z"
    }
   },
   "cell_type": "code",
   "source": [
    "y = {\n",
    "    \"train\": y[\"train\"][train_idx],\n",
    "    \"val\": y[\"train\"][val_idx],\n",
    "    \"test\": y[\"test\"]\n",
    "}\n",
    "\n",
    "print_info_targets(y)"
   ],
   "id": "e53c4ca01ee838c9",
   "outputs": [
    {
     "name": "stdout",
     "output_type": "stream",
     "text": [
      "{\n",
      "\ttrain: \n",
      "\t\t<class 'torch.Tensor'>\n",
      "\t\tshape   = torch.Size([1547, 2])\n",
      "\tval: \n",
      "\t\t<class 'torch.Tensor'>\n",
      "\t\tshape   = torch.Size([172, 2])\n",
      "\ttest: \n",
      "\t\t<class 'torch.Tensor'>\n",
      "\t\tshape   = torch.Size([191, 2])\n",
      "}\n"
     ]
    }
   ],
   "execution_count": 12
  },
  {
   "metadata": {},
   "cell_type": "markdown",
   "source": "## Torch Datasets and Dataloaders",
   "id": "cdd1f460614fac56"
  },
  {
   "metadata": {
    "ExecuteTime": {
     "end_time": "2025-09-14T20:41:18.805161Z",
     "start_time": "2025-09-14T20:41:18.802593Z"
    }
   },
   "cell_type": "code",
   "source": [
    "class PotteryDataset(Dataset):\n",
    "    def __init__(self, X_list, y):\n",
    "        \"\"\"\n",
    "        X_list: list of tensors, each [N, d] (can be 1 or more feature sets)\n",
    "        y: tensor of targets [N] or [N, t] (t = number of targets)\n",
    "        \"\"\"\n",
    "        self.X_list = X_list\n",
    "        self.y = y\n",
    "\n",
    "    def __len__(self):\n",
    "        # Return number of samples in dataset\n",
    "        return self.y.shape[0]\n",
    "\n",
    "    def __getitem__(self, idx):\n",
    "        # Return one sample (features and target) at position idx\n",
    "        return [X[idx] for X in self.X_list], self.y[idx]"
   ],
   "id": "74bd434fcc6af5ea",
   "outputs": [],
   "execution_count": 13
  },
  {
   "metadata": {
    "ExecuteTime": {
     "end_time": "2025-09-14T20:41:18.851295Z",
     "start_time": "2025-09-14T20:41:18.848342Z"
    }
   },
   "cell_type": "code",
   "source": [
    "feature_types = d_types_methods[\"text\"] + d_types_methods[\"image\"]\n",
    "feature_type_combos = tuple(itertools.product(d_types_methods[\"text\"], d_types_methods[\"image\"]))\n",
    "\n",
    "datasets = {\n",
    "    subset: {\n",
    "                ft:\n",
    "                    PotteryDataset([X[subset][ft]], y[subset])\n",
    "                for ft in feature_types\n",
    "            } | {\n",
    "                f\"{ft_txt} + {ft_img}\":\n",
    "                    PotteryDataset([X[subset][ft_txt], X[subset][ft_img]], y[subset])\n",
    "                for ft_txt, ft_img in feature_type_combos\n",
    "            }\n",
    "    for subset in X.keys()\n",
    "}"
   ],
   "id": "c2195f52f5e69104",
   "outputs": [],
   "execution_count": 14
  },
  {
   "metadata": {
    "ExecuteTime": {
     "end_time": "2025-09-14T20:41:18.899938Z",
     "start_time": "2025-09-14T20:41:18.897343Z"
    }
   },
   "cell_type": "code",
   "source": [
    "loaders = {\n",
    "    subset: {\n",
    "        ft:\n",
    "            DataLoader(dataset, batch_size=64, shuffle=(subset == \"train\"))\n",
    "        for ft, dataset in datasets[subset].items()\n",
    "    }\n",
    "    for subset in datasets.keys()\n",
    "}"
   ],
   "id": "be13b57a76c68bab",
   "outputs": [],
   "execution_count": 15
  },
  {
   "metadata": {
    "ExecuteTime": {
     "end_time": "2025-09-14T20:41:18.959548Z",
     "start_time": "2025-09-14T20:41:18.945601Z"
    }
   },
   "cell_type": "code",
   "source": "datasets[\"train\"][\"bert\"].__getitem__(0)",
   "id": "2467d368592542e",
   "outputs": [
    {
     "data": {
      "text/plain": [
       "([tensor([-8.6254e-01,  2.2365e-02, -2.1014e-01, -1.2335e-02, -2.8407e-01,\n",
       "           7.0454e-01, -1.7067e-01,  1.1946e+00, -5.3572e-01, -5.8065e-02,\n",
       "          -1.8781e-01, -2.9218e-01, -5.4114e-01,  5.1873e-01, -2.3959e-01,\n",
       "           4.4317e-01, -4.1814e-03,  1.0288e-01,  3.6834e-01,  4.6326e-01,\n",
       "           2.9681e-01, -7.2920e-01,  9.1575e-02, -2.3819e-01, -3.1571e-01,\n",
       "          -2.7823e-01, -4.8755e-01, -2.1281e-01, -1.8366e-01, -2.2698e-01,\n",
       "          -1.8676e-01,  8.1518e-01, -2.9955e-01, -1.2661e+00,  7.4185e-01,\n",
       "          -3.0797e-01,  5.2518e-01,  1.5000e-01,  9.3622e-02,  3.7078e-01,\n",
       "          -1.2061e-01,  4.2290e-01,  4.4087e-01, -3.8067e-01, -4.4775e-01,\n",
       "           5.3737e-02, -4.0323e+00, -3.2970e-01, -9.8180e-01, -5.4768e-01,\n",
       "           5.4878e-01, -3.0711e-01,  1.1223e-02,  5.3643e-01,  4.5783e-01,\n",
       "           9.5549e-01, -8.7916e-01,  8.3941e-02,  1.0419e+00,  8.1601e-01,\n",
       "           1.6511e-01,  5.0036e-02, -3.4703e-01,  4.4456e-02,  5.2390e-02,\n",
       "           6.2310e-01, -2.1515e-01,  5.8314e-01, -2.3740e-01,  7.5542e-01,\n",
       "          -8.8410e-01, -4.4521e-01,  7.3637e-01, -3.5059e-02, -2.8630e-01,\n",
       "          -2.3158e-01, -1.2355e-02,  1.7057e-01, -5.3908e-01, -6.1117e-01,\n",
       "          -8.7655e-02,  3.7614e-01,  5.5688e-01, -5.5563e-02, -2.5963e-01,\n",
       "           9.0225e-01, -6.7058e-01, -9.8047e-01, -8.6829e-02,  8.4058e-01,\n",
       "          -1.1508e-01,  8.9470e-02,  5.6382e-01,  3.9580e-01, -4.8487e-01,\n",
       "           2.5429e-01,  3.2098e-01,  3.4223e-01,  4.2662e-01,  4.5585e-01,\n",
       "           2.0441e-01, -4.0978e-01, -6.1239e-02, -1.0704e+00,  6.2977e-02,\n",
       "           1.2589e-01, -3.3078e-01, -2.4836e-01, -3.5141e-01, -1.9117e+00,\n",
       "           6.2923e-01,  2.0090e-01,  1.3368e-01, -8.7000e-02, -2.9290e-01,\n",
       "           1.3843e-01,  8.9491e-01, -1.4632e-01, -4.0166e-01, -3.0965e-02,\n",
       "          -7.6733e-02,  4.0015e-01, -5.4879e-01,  1.9595e-01, -2.1780e-01,\n",
       "           6.2500e-01, -2.3131e-02,  1.2576e-01,  7.2948e-01,  7.7241e-01,\n",
       "           4.4242e-01,  6.5955e-01, -2.5883e-01, -1.6585e-01, -6.0827e-01,\n",
       "          -2.7764e-01,  1.7270e-02,  3.7181e-01,  1.1483e-01, -9.0117e-02,\n",
       "          -6.1154e-01, -7.9845e-01, -2.4484e+00,  3.7891e-02,  7.1515e-01,\n",
       "           2.5142e-01, -4.8945e-01,  1.4471e-01, -4.8962e-01,  2.4872e-01,\n",
       "           6.4574e-01, -3.8914e-01,  1.3934e-03, -9.5229e-02, -5.3169e-01,\n",
       "           1.0681e-01, -1.0483e-01, -9.2419e-04,  1.6636e-01,  3.6315e-01,\n",
       "           2.4134e-01,  1.4298e-01,  1.2617e-01,  9.1479e-01, -4.8816e-02,\n",
       "           3.1643e-02,  6.7533e-01, -9.9371e-02, -1.2832e-01,  1.0463e-01,\n",
       "          -1.4448e-01,  6.7485e-02,  9.3869e-01, -1.9877e-02,  2.1202e-01,\n",
       "          -1.4512e-01, -1.4497e-01,  7.5872e-01,  6.1713e-01, -2.6020e-01,\n",
       "          -4.4151e-01,  4.1419e-01,  2.4895e-01, -1.7813e-01,  7.1634e-01,\n",
       "          -4.5120e-02,  5.5058e-02, -1.0913e-01, -5.6713e-01, -4.2806e-01,\n",
       "          -1.8385e-01, -3.2514e-01, -1.1628e-01,  1.3223e-01,  3.6415e-01,\n",
       "           1.0256e-01,  1.9188e-01, -5.0426e-01,  2.9222e-01,  2.5265e-01,\n",
       "           3.5022e-01,  2.2048e-01, -8.7347e-02, -2.2940e-02, -6.0536e-03,\n",
       "           4.0373e+00, -3.3594e-02, -4.8403e-01,  4.2095e-01,  7.5455e-01,\n",
       "           7.8724e-02, -1.5627e-01,  1.7453e-01,  5.8936e-02,  1.6070e-01,\n",
       "           2.2682e-01,  7.0869e-01, -7.3603e-02, -1.7003e-01, -2.9180e-01,\n",
       "          -7.1670e-02,  2.0072e-01, -3.2237e-01,  5.1151e-01, -2.5551e-01,\n",
       "          -7.5952e-03,  3.5364e-01,  1.2313e-01,  4.2667e-02, -1.6053e+00,\n",
       "           7.4893e-01,  1.0836e-01,  2.0789e-01,  4.9952e-01, -5.3441e-02,\n",
       "          -3.0951e-01, -1.5514e-01, -3.4761e-01,  4.1481e-01, -4.0460e-01,\n",
       "           9.2952e-02,  2.9699e-01,  7.7328e-01, -2.8034e-02,  1.1880e-01,\n",
       "           3.6053e-01,  5.7720e-01, -6.1237e-01, -1.0187e-03, -1.2896e-01,\n",
       "          -3.7806e-02,  2.4569e-02,  1.1208e-01, -4.5465e-01, -2.1457e-02,\n",
       "          -8.4603e-02,  3.1240e-01,  1.9131e-01, -8.0445e-01, -3.4364e-01,\n",
       "          -8.8766e-01, -2.2007e-02,  5.0880e-01, -2.3745e-01, -2.7626e-01,\n",
       "          -6.8437e-01,  7.4936e-02, -6.9228e-01, -4.8025e-01, -5.1486e-01,\n",
       "           3.0522e-01, -1.9853e-02, -5.5202e-01, -2.1981e+00,  4.0528e-02,\n",
       "           5.5300e-01, -2.8332e-01, -2.4248e-01, -4.2088e-01, -5.3448e-02,\n",
       "          -2.0234e-01,  7.6137e-01, -2.0899e-01,  6.4859e-01, -8.0747e-02,\n",
       "           4.7288e-01,  2.8889e-01, -7.3584e-01,  3.5805e-01, -4.8807e-01,\n",
       "          -2.4772e-01, -1.2531e-01, -7.0376e-01,  3.4489e-01, -1.2442e-01,\n",
       "          -4.6935e-02, -6.5145e-01,  2.5113e-01, -2.0190e-01, -4.4563e-01,\n",
       "          -9.7848e-01,  7.9377e-01,  1.8662e-01,  3.2591e-01, -1.8012e-01,\n",
       "          -2.9923e-01, -6.9677e-02, -4.9849e-01, -2.6319e+00, -5.9579e-02,\n",
       "           5.7416e-03, -1.2000e-01,  2.5114e-01,  2.5634e-01,  8.3422e-01,\n",
       "          -4.5819e-01, -1.0015e-02,  1.7350e-01,  5.4691e-02, -6.1300e-01,\n",
       "           3.3704e-01,  9.3830e-01,  5.4034e-01,  1.1144e+00,  1.8566e-01,\n",
       "           2.7349e-01,  1.4903e-01, -7.2944e-01, -3.1510e-01, -3.8118e-01,\n",
       "          -2.1517e-03, -1.1522e-01,  2.9918e-01, -2.2023e-01, -3.4050e-01,\n",
       "          -4.9483e-02, -4.1912e-01, -5.7764e-01, -3.7337e-02, -3.3999e-01,\n",
       "          -3.6796e-01,  3.9736e-02, -3.2206e-01, -5.9013e-02, -3.1463e-02,\n",
       "           5.2101e-01,  3.8219e-01, -9.1677e-02,  1.3727e-01,  5.2024e-01,\n",
       "          -6.2984e-02,  6.2329e-01,  1.2797e+00, -7.8979e-02,  1.1372e+00,\n",
       "          -3.0638e-01, -2.4425e-01,  8.2942e-01,  1.6842e-01,  2.2791e-01,\n",
       "           1.0852e+00, -5.6242e-02, -1.8852e-01, -2.3704e-01,  5.7675e-01,\n",
       "          -2.8562e-01, -3.0148e-01,  3.1670e-01,  9.6864e-01, -4.6831e-01,\n",
       "          -6.9775e-01, -5.7597e-01,  1.0290e-01, -8.4656e-01,  4.0343e-01,\n",
       "          -4.5770e-01,  4.3025e-02,  4.3468e-01, -8.2942e-01,  8.7293e-01,\n",
       "          -6.1386e-01, -8.6311e-01, -1.4106e-01, -4.2460e-01,  1.9546e-01,\n",
       "           3.8936e-02,  2.0656e-01, -7.2332e-02, -6.6559e-02,  1.0685e-02,\n",
       "           3.8923e-01,  6.3426e-01,  1.9053e-01,  6.7448e-01,  3.9519e-01,\n",
       "          -5.6112e-02, -1.4003e+00, -3.0864e-01, -1.5347e-01,  2.7243e-01,\n",
       "          -4.4008e-02,  2.6052e-01, -5.0949e-01,  6.0334e-01,  6.3433e-01,\n",
       "          -9.8835e-01,  9.1197e-01, -4.9289e-01, -3.2445e-02, -6.6950e-01,\n",
       "          -2.6790e-01, -3.6010e-01, -7.1853e-01, -5.9793e-01, -2.1782e-01,\n",
       "           5.9753e-02, -3.4242e-01, -8.0046e-02,  8.0354e-02,  1.1804e-02,\n",
       "          -1.4826e-01,  6.1414e-01,  1.3788e+00,  6.3874e-02, -4.7098e-02,\n",
       "           5.9117e-01,  5.2034e-01,  3.0680e-01,  4.0664e-01,  6.0952e-01,\n",
       "           4.1535e-01, -2.6782e-01, -2.8859e-01, -1.4655e-01,  2.5082e-01,\n",
       "          -2.5754e-02, -1.3754e+00,  2.0972e-01, -1.5301e-01, -7.8030e-01,\n",
       "          -8.4467e-01, -2.4051e-01, -2.4514e-02, -6.0472e-02, -3.8292e-01,\n",
       "           2.5899e-01, -1.5668e-01, -1.8308e-01,  1.4488e-01, -4.5557e-01,\n",
       "          -9.5683e-01,  3.8255e-01, -7.7272e-01,  1.3779e+00,  3.8823e-01,\n",
       "           9.0208e-02,  3.3758e-03,  5.9418e-01,  7.5893e-02, -2.3215e-01,\n",
       "          -4.6826e-01, -2.0671e-01,  2.6500e-04, -5.0235e-01, -4.6927e-01,\n",
       "          -4.4526e-02, -7.3561e-03, -1.6696e-01, -2.9345e-01,  2.8368e-01,\n",
       "          -1.6362e+00,  1.1565e-01,  6.6874e-02,  3.5396e-02, -5.9610e-02,\n",
       "          -8.0942e-01, -2.2811e-01,  5.7128e-01,  4.8737e-01,  1.8468e-01,\n",
       "          -3.1667e-01, -3.2003e-02, -3.3462e-01,  5.4252e-03,  4.9572e-01,\n",
       "          -4.2944e-02, -2.0762e-01,  2.2338e-01, -4.6046e-01,  3.4371e-01,\n",
       "          -3.6037e-01,  5.7708e-01,  1.7362e-01, -1.0776e-01, -1.0192e-01,\n",
       "          -4.6414e-01, -2.8280e-01,  6.8869e-01,  1.5772e-01,  2.7485e-01,\n",
       "          -4.8137e-01, -2.5045e-01, -3.5404e-01, -4.3225e-01,  1.1075e+00,\n",
       "           6.7860e-01,  8.6778e-02, -4.1855e-01,  4.5274e-01,  4.7105e-01,\n",
       "          -2.4670e-01,  3.7740e-01,  5.4719e-01, -6.8016e-01,  1.1513e+00,\n",
       "           4.3556e-01, -1.5893e-01,  3.7186e-01,  3.2235e-01,  6.2276e-02,\n",
       "          -1.2221e-01, -3.9870e-01, -9.9320e-01, -1.9372e-01,  6.8460e-01,\n",
       "           9.3590e-02,  2.2447e-01,  3.7486e-01,  2.8748e-01,  5.2371e-03,\n",
       "           3.0947e-01, -5.6817e-01, -8.7634e-01,  6.6972e-01, -4.1956e-02,\n",
       "          -7.6455e-01,  5.6128e-03, -3.1144e-01,  2.4054e-01,  6.2975e-01,\n",
       "           6.5432e-01,  3.6836e-01, -1.9036e-01,  3.2990e-01, -1.6236e-01,\n",
       "           3.5985e-01, -6.2454e-01,  1.4412e-02,  6.3286e-01, -4.1234e-01,\n",
       "           4.0573e-01, -7.0195e-01, -5.9169e-01,  4.4222e-01,  2.0192e-01,\n",
       "           4.8306e-01, -6.6554e-02, -8.7095e-02, -1.2891e-01, -4.1491e-01,\n",
       "          -1.1768e+00, -1.5760e+00,  1.3698e-01, -2.2467e-01,  1.4255e-01,\n",
       "           2.2228e-01, -3.1508e-01,  3.4400e-01,  2.7167e-01,  1.0096e-01,\n",
       "           1.4131e-01,  2.4225e-01,  7.1998e-01,  2.1129e-01,  1.1677e-01,\n",
       "           1.5761e-01,  2.9502e-01, -2.2007e-01, -2.9180e-01,  1.0750e-01,\n",
       "           8.0209e-02, -9.4630e-02,  3.3607e-02, -4.4769e-04,  8.2469e-01,\n",
       "          -8.7290e-01,  1.5590e-01, -8.3098e-01,  9.5508e-01,  1.1778e-01,\n",
       "           3.4522e-01,  5.2607e-01,  4.8580e-01, -1.7021e-01, -4.8069e-01,\n",
       "          -2.0574e-01,  2.1983e-03,  2.3813e-01,  1.6587e-03,  1.6825e-01,\n",
       "          -6.6940e-01,  7.4541e-01,  3.6531e-01,  7.8085e-01, -1.1084e+00,\n",
       "          -2.1729e-01, -7.1359e-01,  1.0286e+00, -7.6793e-01,  5.3154e-02,\n",
       "           1.0066e-01,  1.3101e-01, -1.3344e-01,  4.1084e-01, -3.9029e-01,\n",
       "           3.2402e-02,  2.3678e-01,  9.7743e-01, -4.6990e-01, -4.5586e-01,\n",
       "           9.0361e-01,  3.2868e-01, -7.1805e-01, -1.2462e-01,  1.8427e-01,\n",
       "          -6.6071e-01, -2.0453e-01,  2.0584e-01,  3.6416e-01, -2.4205e-01,\n",
       "           9.9404e-01,  1.8664e-01, -4.6357e-02,  8.5649e-01, -5.1658e-01,\n",
       "          -2.4752e-01,  5.9677e-01,  7.7883e-01,  2.4234e-01,  1.2286e-01,\n",
       "          -6.5199e-01,  1.2273e-01, -2.7608e-01, -3.5288e-01, -4.2386e-01,\n",
       "          -5.2652e-01,  2.3508e-01,  5.5546e-01, -1.6892e-01,  6.3994e-01,\n",
       "           1.4488e-01, -8.9592e-01, -1.0848e-01,  9.2403e-01, -1.8397e-01,\n",
       "          -3.9816e-01,  8.5947e-01, -6.1449e-01, -1.6387e-01,  1.8406e-01,\n",
       "           2.2088e-01,  6.2645e-01, -2.3094e-01,  1.0407e-01,  3.3554e-01,\n",
       "           1.4211e-01, -3.5848e-01, -1.4716e+00,  1.3347e-02,  3.6071e-01,\n",
       "           1.6471e-01,  5.3720e-02, -3.2280e-01,  1.4840e-01, -2.6665e-01,\n",
       "          -3.1768e-03, -1.9923e-01,  3.4295e-01,  6.9254e-01, -1.4824e-01,\n",
       "           1.4785e-01,  3.6038e-01,  1.8217e-01,  4.8446e-02,  8.8409e-02,\n",
       "           4.0778e-01, -3.3353e-02, -1.9581e-02, -6.5311e-02, -2.3388e-01,\n",
       "          -4.5220e-01, -9.5316e-01,  8.7298e-02,  1.5966e-01, -3.1667e-01,\n",
       "           7.8212e-01,  9.3684e-02, -1.3557e-01, -2.4010e-02,  2.1768e-01,\n",
       "          -1.1922e-01,  2.0779e-01, -1.0954e+00, -3.7098e-01,  1.6324e-01,\n",
       "          -1.2979e-01, -1.1002e-01, -2.2010e-01,  1.0657e+00,  1.4000e-01,\n",
       "           9.6960e-02, -6.5278e-02, -2.6947e-01,  6.1456e-01, -6.8800e-01,\n",
       "           9.9083e-01,  3.1211e-02, -1.1994e-01, -1.2691e-01,  5.3507e-01,\n",
       "           1.1953e-01, -1.0794e-01,  4.4676e-01, -1.9121e-01, -2.3823e-01,\n",
       "           2.9702e-01, -8.1129e-01,  2.4689e-01,  7.2853e-01, -6.8929e-01,\n",
       "           3.9171e-01,  1.6312e-02, -3.3079e-01, -7.8909e-01,  7.2723e-02,\n",
       "          -1.6128e-01,  1.6524e-01, -3.6585e-01, -2.2590e-02,  2.5384e-01,\n",
       "          -1.8379e-01, -2.6755e-01,  1.8994e-01, -2.5701e-02, -3.1752e-02,\n",
       "           4.3956e-01, -1.4405e-01, -8.1882e-01,  4.0872e-01, -2.2148e-01,\n",
       "           9.2910e-02,  5.7170e-01, -5.2898e+00, -2.0682e-01, -4.3203e-01,\n",
       "          -4.6138e-01,  1.9554e-01, -7.1655e-01,  6.1618e-01,  7.6947e-02,\n",
       "           4.1279e-01, -1.5741e-01, -1.8405e-01, -5.1287e-01, -4.7261e-01,\n",
       "          -4.0010e-01,  4.1961e-01,  1.8319e-01], device='cuda:0')],\n",
       " tensor([-482.,    0.], device='cuda:0'))"
      ]
     },
     "execution_count": 16,
     "metadata": {},
     "output_type": "execute_result"
    }
   ],
   "execution_count": 16
  },
  {
   "metadata": {},
   "cell_type": "markdown",
   "source": [
    "## MLP NN Architecture\n",
    "\n",
    "Hidden Layer Block:\n",
    "\n",
    "Linear → Activation → Dropout\n",
    "\n"
   ],
   "id": "e8a106c06324bec0"
  },
  {
   "metadata": {
    "ExecuteTime": {
     "end_time": "2025-09-14T21:22:02.042793Z",
     "start_time": "2025-09-14T21:22:02.037472Z"
    }
   },
   "cell_type": "code",
   "source": [
    "class PotteryChronologyPredictor(nn.Module):\n",
    "    def __init__(self,\n",
    "                 input_sizes,\n",
    "                 hidden_size,\n",
    "                 output_size,\n",
    "                 activation=nn.ReLU,\n",
    "                 dropout=0.3,\n",
    "                 blocks=3,\n",
    "                 hidden_size_pattern=\"decreasing\",\n",
    "                 output_type=\"years\"\n",
    "                 ):\n",
    "\n",
    "        super(PotteryChronologyPredictor, self).__init__()\n",
    "\n",
    "        self.input_sizes = input_sizes\n",
    "        self.hidden_size = hidden_size\n",
    "        self.output_size = output_size\n",
    "        self.output_type = output_type\n",
    "\n",
    "        self.device = torch.device(\"cuda\" if torch.cuda.is_available() else \"cpu\")\n",
    "\n",
    "        n_inputs = len(input_sizes)\n",
    "\n",
    "        # Per-modality encoders\n",
    "        self.encoders = nn.ModuleList([\n",
    "            nn.Sequential(\n",
    "                nn.Linear(input_size, hidden_size),\n",
    "                activation(),\n",
    "                nn.Dropout(dropout),\n",
    "            ) for input_size in input_sizes\n",
    "        ])\n",
    "\n",
    "        # Fusion network\n",
    "\n",
    "        self.model_input_size = hidden_size * n_inputs\n",
    "\n",
    "        block_input_size = self.model_input_size\n",
    "        block_output_size = hidden_size\n",
    "\n",
    "        self.model = nn.Sequential()\n",
    "\n",
    "        for i in range(blocks):\n",
    "            self.model.add_module(f\"dense{i+1}\", nn.Linear(block_input_size, block_output_size))\n",
    "            self.model.add_module(f\"activation{i+1}\", activation())\n",
    "            self.model.add_module(f\"dropout{i+1}\", nn.Dropout(dropout))\n",
    "\n",
    "            block_input_size = block_output_size\n",
    "            if hidden_size_pattern == \"decreasing\" and block_output_size > 8:\n",
    "                block_output_size //= 2\n",
    "\n",
    "        self.model.add_module(\"output\", nn.Linear(block_input_size, output_size))\n",
    "\n",
    "        self.to(self.device)\n",
    "\n",
    "    def forward(self, inputs):\n",
    "        \"\"\"\n",
    "        inputs: list of tensors, one per modality\n",
    "                e.g. [X_text, X_image, ...]\n",
    "                each of shape [batch_size, input_size_i]\n",
    "        \"\"\"\n",
    "        if not isinstance(inputs, list):\n",
    "            inputs = [inputs]\n",
    "\n",
    "        # Pass each modality through its encoder\n",
    "        encoded_inputs = [encoder(X) for X, encoder in zip(inputs, self.encoders)]\n",
    "\n",
    "        # Concatenate encoded modalities\n",
    "        X = torch.cat(encoded_inputs, dim=1)  # [batch_size, hidden_size * n_inputs]\n",
    "\n",
    "        # Pass through fusion network\n",
    "        y = self.model(X)\n",
    "\n",
    "        return y\n",
    "\n",
    "    def summary(self):\n",
    "        # for idx, encoder in enumerate(self.encoders):\n",
    "        #     print(f\"Encoder #{idx + 1}\")\n",
    "        #     summary(encoder, input_size=(self.encoder_input_sizes[idx],), device=self.device.type)\n",
    "        #     print()\n",
    "        # print(\"\\nMain Model\")\n",
    "        # summary(self.model, input_size=(self.model_input_size,), device=self.device.type)\n",
    "        # dummy_inputs = [torch.zeros(1, size).to(self.device) for size in self.input_sizes]\n",
    "        # print(\"\\nFull Model\")\n",
    "        # summary(self, input_size=self.input_sizes, device=self.device.type)\n",
    "        print(torchinfo.summary(self, input_size=[(input_size,) for input_size in self.input_sizes], batch_dim = 0, device=self.device, col_names=(\"input_size\", \"output_size\", \"num_params\", \"mult_adds\")))"
   ],
   "id": "d7d6bc5e0a1794e9",
   "outputs": [],
   "execution_count": 66
  },
  {
   "metadata": {
    "ExecuteTime": {
     "end_time": "2025-09-14T21:23:35.529974Z",
     "start_time": "2025-09-14T21:23:35.524164Z"
    }
   },
   "cell_type": "code",
   "source": "test = PotteryChronologyPredictor([X[\"train\"][\"bert\"].shape[1]], 512, y[\"train\"].shape[1], output_type=\"years\")",
   "id": "e79f7f889ff6e471",
   "outputs": [],
   "execution_count": 71
  },
  {
   "metadata": {
    "ExecuteTime": {
     "end_time": "2025-09-14T21:23:35.776691Z",
     "start_time": "2025-09-14T21:23:35.771129Z"
    }
   },
   "cell_type": "code",
   "source": "test.summary()",
   "id": "a34cf6e4deba08cb",
   "outputs": [
    {
     "name": "stdout",
     "output_type": "stream",
     "text": [
      "============================================================================================================================================\n",
      "Layer (type:depth-idx)                   Input Shape               Output Shape              Param #                   Mult-Adds\n",
      "============================================================================================================================================\n",
      "PotteryChronologyPredictor               [1, 768]                  [1, 2]                    --                        --\n",
      "├─ModuleList: 1-1                        --                        --                        --                        --\n",
      "│    └─Sequential: 2-1                   [1, 768]                  [1, 512]                  --                        --\n",
      "│    │    └─Linear: 3-1                  [1, 768]                  [1, 512]                  393,728                   393,728\n",
      "│    │    └─ReLU: 3-2                    [1, 512]                  [1, 512]                  --                        --\n",
      "│    │    └─Dropout: 3-3                 [1, 512]                  [1, 512]                  --                        --\n",
      "├─Sequential: 1-2                        [1, 512]                  [1, 2]                    --                        --\n",
      "│    └─Linear: 2-2                       [1, 512]                  [1, 512]                  262,656                   262,656\n",
      "│    └─ReLU: 2-3                         [1, 512]                  [1, 512]                  --                        --\n",
      "│    └─Dropout: 2-4                      [1, 512]                  [1, 512]                  --                        --\n",
      "│    └─Linear: 2-5                       [1, 512]                  [1, 256]                  131,328                   131,328\n",
      "│    └─ReLU: 2-6                         [1, 256]                  [1, 256]                  --                        --\n",
      "│    └─Dropout: 2-7                      [1, 256]                  [1, 256]                  --                        --\n",
      "│    └─Linear: 2-8                       [1, 256]                  [1, 128]                  32,896                    32,896\n",
      "│    └─ReLU: 2-9                         [1, 128]                  [1, 128]                  --                        --\n",
      "│    └─Dropout: 2-10                     [1, 128]                  [1, 128]                  --                        --\n",
      "│    └─Linear: 2-11                      [1, 128]                  [1, 2]                    258                       258\n",
      "============================================================================================================================================\n",
      "Total params: 820,866\n",
      "Trainable params: 820,866\n",
      "Non-trainable params: 0\n",
      "Total mult-adds (Units.MEGABYTES): 0.82\n",
      "============================================================================================================================================\n",
      "Input size (MB): 0.00\n",
      "Forward/backward pass size (MB): 0.01\n",
      "Params size (MB): 3.28\n",
      "Estimated Total Size (MB): 3.30\n",
      "============================================================================================================================================\n"
     ]
    }
   ],
   "execution_count": 72
  }
 ],
 "metadata": {
  "kernelspec": {
   "display_name": "Python 3",
   "language": "python",
   "name": "python3"
  },
  "language_info": {
   "codemirror_mode": {
    "name": "ipython",
    "version": 2
   },
   "file_extension": ".py",
   "mimetype": "text/x-python",
   "name": "python",
   "nbconvert_exporter": "python",
   "pygments_lexer": "ipython2",
   "version": "2.7.6"
  }
 },
 "nbformat": 4,
 "nbformat_minor": 5
}
