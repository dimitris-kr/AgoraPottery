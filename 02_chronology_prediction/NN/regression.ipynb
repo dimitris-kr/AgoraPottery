{
 "cells": [
  {
   "metadata": {
    "ExecuteTime": {
     "end_time": "2025-09-23T22:01:00.294642Z",
     "start_time": "2025-09-23T22:01:00.258632Z"
    }
   },
   "cell_type": "code",
   "source": [
    "import itertools\n",
    "import sys\n",
    "import os\n",
    "import numpy as np"
   ],
   "id": "e68f91afa2b0f236",
   "outputs": [],
   "execution_count": 1
  },
  {
   "metadata": {
    "ExecuteTime": {
     "end_time": "2025-09-23T22:01:00.784025Z",
     "start_time": "2025-09-23T22:01:00.301862Z"
    }
   },
   "cell_type": "code",
   "source": "from sklearn.model_selection import train_test_split",
   "id": "bfcde03b1fd21c5d",
   "outputs": [],
   "execution_count": 2
  },
  {
   "metadata": {
    "ExecuteTime": {
     "end_time": "2025-09-23T22:01:01.872022Z",
     "start_time": "2025-09-23T22:01:00.889071Z"
    }
   },
   "cell_type": "code",
   "source": [
    "import torch\n",
    "import torch.nn as nn\n",
    "from torch.utils.data import Dataset, DataLoader\n",
    "import torchinfo"
   ],
   "id": "42517ee4fccad69f",
   "outputs": [],
   "execution_count": 3
  },
  {
   "metadata": {
    "collapsed": true,
    "ExecuteTime": {
     "end_time": "2025-09-23T22:01:02.263432Z",
     "start_time": "2025-09-23T22:01:01.876354Z"
    }
   },
   "cell_type": "code",
   "source": [
    "from PotteryDataset import create_pottery_dataloaders, create_pottery_datasets, feature_types, feature_type_combos\n",
    "from PotteryChronologyPredictor import PotteryChronologyPredictor, train\n",
    "\n",
    "sys.path.append(os.path.abspath(\"..\"))\n",
    "from utils import read_features, read_targets, print_info_features, print_info_targets, train_val_split, get_dimensions, \\\n",
    "    metrics_r"
   ],
   "id": "initial_id",
   "outputs": [],
   "execution_count": 4
  },
  {
   "metadata": {},
   "cell_type": "markdown",
   "source": "## Read Features and Targets",
   "id": "cf589df8516ba49"
  },
  {
   "metadata": {
    "ExecuteTime": {
     "end_time": "2025-09-23T22:01:02.273147Z",
     "start_time": "2025-09-23T22:01:02.271139Z"
    }
   },
   "cell_type": "code",
   "source": "path = os.path.abspath(os.path.join(os.getcwd(), \"../../data/chronology_prediction\"))",
   "id": "d5c3de52cb75fc9f",
   "outputs": [],
   "execution_count": 5
  },
  {
   "metadata": {
    "ExecuteTime": {
     "end_time": "2025-09-23T22:01:02.278735Z",
     "start_time": "2025-09-23T22:01:02.276709Z"
    }
   },
   "cell_type": "code",
   "source": "targets = [\"StartYear\", \"YearRange\"]",
   "id": "e24989b5be0c179a",
   "outputs": [],
   "execution_count": 6
  },
  {
   "metadata": {
    "ExecuteTime": {
     "end_time": "2025-09-23T22:01:02.382290Z",
     "start_time": "2025-09-23T22:01:02.282913Z"
    }
   },
   "cell_type": "code",
   "source": [
    "X = read_features(path, f_type=\"tensors\")\n",
    "y = read_targets(path, targets, f_type=\"tensors\")"
   ],
   "id": "3cb9c96837211e40",
   "outputs": [
    {
     "name": "stdout",
     "output_type": "stream",
     "text": [
      "Loaded X_train_tfidf\n",
      "Loaded X_train_bert\n",
      "Loaded X_train_cannyhog\n",
      "Loaded X_train_resnet\n",
      "Loaded X_train_vit\n",
      "Loaded X_test_tfidf\n",
      "Loaded X_test_bert\n",
      "Loaded X_test_cannyhog\n",
      "Loaded X_test_resnet\n",
      "Loaded X_test_vit\n",
      "Loaded y_train\n",
      "Loaded y_test\n"
     ]
    }
   ],
   "execution_count": 7
  },
  {
   "metadata": {
    "ExecuteTime": {
     "end_time": "2025-09-23T22:01:02.450908Z",
     "start_time": "2025-09-23T22:01:02.448217Z"
    }
   },
   "cell_type": "code",
   "source": "print_info_features(X)",
   "id": "1b9b7b6ee32502e0",
   "outputs": [
    {
     "name": "stdout",
     "output_type": "stream",
     "text": [
      "{\n",
      "\ttrain: {\n",
      "\t\ttfidf: \n",
      "\t\t\t<class 'torch.Tensor'>\n",
      "\t\t\tshape = torch.Size([1719, 300]), \n",
      "\t\tbert: \n",
      "\t\t\t<class 'torch.Tensor'>\n",
      "\t\t\tshape = torch.Size([1719, 768]), \n",
      "\t\tcannyhog: \n",
      "\t\t\t<class 'torch.Tensor'>\n",
      "\t\t\tshape = torch.Size([1719, 2917]), \n",
      "\t\tresnet: \n",
      "\t\t\t<class 'torch.Tensor'>\n",
      "\t\t\tshape = torch.Size([1719, 2048]), \n",
      "\t\tvit: \n",
      "\t\t\t<class 'torch.Tensor'>\n",
      "\t\t\tshape = torch.Size([1719, 768]), \n",
      "\t},\n",
      "\ttest: {\n",
      "\t\ttfidf: \n",
      "\t\t\t<class 'torch.Tensor'>\n",
      "\t\t\tshape = torch.Size([191, 300]), \n",
      "\t\tbert: \n",
      "\t\t\t<class 'torch.Tensor'>\n",
      "\t\t\tshape = torch.Size([191, 768]), \n",
      "\t\tcannyhog: \n",
      "\t\t\t<class 'torch.Tensor'>\n",
      "\t\t\tshape = torch.Size([191, 2917]), \n",
      "\t\tresnet: \n",
      "\t\t\t<class 'torch.Tensor'>\n",
      "\t\t\tshape = torch.Size([191, 2048]), \n",
      "\t\tvit: \n",
      "\t\t\t<class 'torch.Tensor'>\n",
      "\t\t\tshape = torch.Size([191, 768]), \n",
      "\t},\n",
      "}\n"
     ]
    }
   ],
   "execution_count": 8
  },
  {
   "metadata": {
    "ExecuteTime": {
     "end_time": "2025-09-23T22:01:02.483534Z",
     "start_time": "2025-09-23T22:01:02.481022Z"
    }
   },
   "cell_type": "code",
   "source": "print_info_targets(y)",
   "id": "eba891e983ff4b82",
   "outputs": [
    {
     "name": "stdout",
     "output_type": "stream",
     "text": [
      "{\n",
      "\ttrain: \n",
      "\t\t<class 'torch.Tensor'>\n",
      "\t\tshape   = torch.Size([1719, 2])\n",
      "\ttest: \n",
      "\t\t<class 'torch.Tensor'>\n",
      "\t\tshape   = torch.Size([191, 2])\n",
      "}\n"
     ]
    }
   ],
   "execution_count": 9
  },
  {
   "metadata": {},
   "cell_type": "markdown",
   "source": "## Train-Validation Split",
   "id": "8675df19ec88dcf8"
  },
  {
   "metadata": {
    "ExecuteTime": {
     "end_time": "2025-09-23T22:01:02.521838Z",
     "start_time": "2025-09-23T22:01:02.513385Z"
    }
   },
   "cell_type": "code",
   "source": "X, y = train_val_split(X, y)",
   "id": "c136092e17852741",
   "outputs": [],
   "execution_count": 10
  },
  {
   "metadata": {
    "ExecuteTime": {
     "end_time": "2025-09-23T22:01:02.587550Z",
     "start_time": "2025-09-23T22:01:02.584698Z"
    }
   },
   "cell_type": "code",
   "source": "print_info_features(X)",
   "id": "94e1483d6bf27c14",
   "outputs": [
    {
     "name": "stdout",
     "output_type": "stream",
     "text": [
      "{\n",
      "\ttrain: {\n",
      "\t\ttfidf: \n",
      "\t\t\t<class 'torch.Tensor'>\n",
      "\t\t\tshape = torch.Size([1547, 300]), \n",
      "\t\tbert: \n",
      "\t\t\t<class 'torch.Tensor'>\n",
      "\t\t\tshape = torch.Size([1547, 768]), \n",
      "\t\tcannyhog: \n",
      "\t\t\t<class 'torch.Tensor'>\n",
      "\t\t\tshape = torch.Size([1547, 2917]), \n",
      "\t\tresnet: \n",
      "\t\t\t<class 'torch.Tensor'>\n",
      "\t\t\tshape = torch.Size([1547, 2048]), \n",
      "\t\tvit: \n",
      "\t\t\t<class 'torch.Tensor'>\n",
      "\t\t\tshape = torch.Size([1547, 768]), \n",
      "\t},\n",
      "\tval: {\n",
      "\t\ttfidf: \n",
      "\t\t\t<class 'torch.Tensor'>\n",
      "\t\t\tshape = torch.Size([172, 300]), \n",
      "\t\tbert: \n",
      "\t\t\t<class 'torch.Tensor'>\n",
      "\t\t\tshape = torch.Size([172, 768]), \n",
      "\t\tcannyhog: \n",
      "\t\t\t<class 'torch.Tensor'>\n",
      "\t\t\tshape = torch.Size([172, 2917]), \n",
      "\t\tresnet: \n",
      "\t\t\t<class 'torch.Tensor'>\n",
      "\t\t\tshape = torch.Size([172, 2048]), \n",
      "\t\tvit: \n",
      "\t\t\t<class 'torch.Tensor'>\n",
      "\t\t\tshape = torch.Size([172, 768]), \n",
      "\t},\n",
      "\ttest: {\n",
      "\t\ttfidf: \n",
      "\t\t\t<class 'torch.Tensor'>\n",
      "\t\t\tshape = torch.Size([191, 300]), \n",
      "\t\tbert: \n",
      "\t\t\t<class 'torch.Tensor'>\n",
      "\t\t\tshape = torch.Size([191, 768]), \n",
      "\t\tcannyhog: \n",
      "\t\t\t<class 'torch.Tensor'>\n",
      "\t\t\tshape = torch.Size([191, 2917]), \n",
      "\t\tresnet: \n",
      "\t\t\t<class 'torch.Tensor'>\n",
      "\t\t\tshape = torch.Size([191, 2048]), \n",
      "\t\tvit: \n",
      "\t\t\t<class 'torch.Tensor'>\n",
      "\t\t\tshape = torch.Size([191, 768]), \n",
      "\t},\n",
      "}\n"
     ]
    }
   ],
   "execution_count": 11
  },
  {
   "metadata": {
    "ExecuteTime": {
     "end_time": "2025-09-23T22:01:02.632553Z",
     "start_time": "2025-09-23T22:01:02.630461Z"
    }
   },
   "cell_type": "code",
   "source": "print_info_targets(y)",
   "id": "e53c4ca01ee838c9",
   "outputs": [
    {
     "name": "stdout",
     "output_type": "stream",
     "text": [
      "{\n",
      "\ttrain: \n",
      "\t\t<class 'torch.Tensor'>\n",
      "\t\tshape   = torch.Size([1547, 2])\n",
      "\tval: \n",
      "\t\t<class 'torch.Tensor'>\n",
      "\t\tshape   = torch.Size([172, 2])\n",
      "\ttest: \n",
      "\t\t<class 'torch.Tensor'>\n",
      "\t\tshape   = torch.Size([191, 2])\n",
      "}\n"
     ]
    }
   ],
   "execution_count": 12
  },
  {
   "metadata": {},
   "cell_type": "markdown",
   "source": "## Dimensions",
   "id": "6202dd55b35be168"
  },
  {
   "metadata": {
    "ExecuteTime": {
     "end_time": "2025-09-23T22:01:02.683937Z",
     "start_time": "2025-09-23T22:01:02.681873Z"
    }
   },
   "cell_type": "code",
   "source": "X_dim, y_dim = get_dimensions(X, y)\n",
   "id": "d5b6e4922a011ce9",
   "outputs": [
    {
     "name": "stdout",
     "output_type": "stream",
     "text": [
      "X Dimensions: {'tfidf': 300, 'bert': 768, 'cannyhog': 2917, 'resnet': 2048, 'vit': 768}\n",
      "y Dimensions: 2\n"
     ]
    }
   ],
   "execution_count": 13
  },
  {
   "metadata": {},
   "cell_type": "markdown",
   "source": "## Torch Datasets and Dataloaders",
   "id": "cdd1f460614fac56"
  },
  {
   "metadata": {
    "ExecuteTime": {
     "end_time": "2025-09-23T22:01:02.730003Z",
     "start_time": "2025-09-23T22:01:02.727622Z"
    }
   },
   "cell_type": "code",
   "source": [
    "datasets = create_pottery_datasets(X, y)\n",
    "loaders = create_pottery_dataloaders(datasets)"
   ],
   "id": "74bd434fcc6af5ea",
   "outputs": [],
   "execution_count": 14
  },
  {
   "metadata": {},
   "cell_type": "markdown",
   "source": [
    "## Initialize Model\n",
    "\n"
   ],
   "id": "e8a106c06324bec0"
  },
  {
   "metadata": {
    "ExecuteTime": {
     "end_time": "2025-09-23T22:01:02.779043Z",
     "start_time": "2025-09-23T22:01:02.777129Z"
    }
   },
   "cell_type": "code",
   "source": "hidden_size = 512",
   "id": "cba85578924ce17d",
   "outputs": [],
   "execution_count": 15
  },
  {
   "metadata": {
    "ExecuteTime": {
     "end_time": "2025-09-23T22:01:02.875456Z",
     "start_time": "2025-09-23T22:01:02.822702Z"
    }
   },
   "cell_type": "code",
   "source": [
    "models = {\n",
    "             ft: PotteryChronologyPredictor([X_dim[ft]], y_dim, hidden_size, chronology_target=\"years\")\n",
    "             for ft in feature_types\n",
    "         } | {\n",
    "             ft_txt + \" + \" + ft_img: PotteryChronologyPredictor([X_dim[ft_txt], X_dim[ft_img]], y_dim, hidden_size, chronology_target=\"years\")\n",
    "             for ft_txt, ft_img in feature_type_combos\n",
    "         }"
   ],
   "id": "e91824ec57742936",
   "outputs": [],
   "execution_count": 16
  },
  {
   "metadata": {
    "ExecuteTime": {
     "end_time": "2025-09-23T22:01:02.984434Z",
     "start_time": "2025-09-23T22:01:02.921382Z"
    }
   },
   "cell_type": "code",
   "source": [
    "for ft, model in models.items():\n",
    "    print(f\"\\n\\nMODEL SUMMARY - FEATURE TYPE: {ft.upper()}\")\n",
    "    model.summary()"
   ],
   "id": "821188713f313f95",
   "outputs": [
    {
     "name": "stdout",
     "output_type": "stream",
     "text": [
      "\n",
      "\n",
      "MODEL SUMMARY - FEATURE TYPE: TFIDF\n",
      "============================================================================================================================================\n",
      "Layer (type:depth-idx)                   Input Shape               Output Shape              Param #                   Mult-Adds\n",
      "============================================================================================================================================\n",
      "PotteryChronologyPredictor               [1, 300]                  [1, 2]                    --                        --\n",
      "├─ModuleList: 1-1                        --                        --                        --                        --\n",
      "│    └─Sequential: 2-1                   [1, 300]                  [1, 512]                  --                        --\n",
      "│    │    └─Linear: 3-1                  [1, 300]                  [1, 512]                  154,112                   154,112\n",
      "│    │    └─ReLU: 3-2                    [1, 512]                  [1, 512]                  --                        --\n",
      "│    │    └─Dropout: 3-3                 [1, 512]                  [1, 512]                  --                        --\n",
      "├─Sequential: 1-2                        [1, 512]                  [1, 2]                    --                        --\n",
      "│    └─Linear: 2-2                       [1, 512]                  [1, 512]                  262,656                   262,656\n",
      "│    └─ReLU: 2-3                         [1, 512]                  [1, 512]                  --                        --\n",
      "│    └─Dropout: 2-4                      [1, 512]                  [1, 512]                  --                        --\n",
      "│    └─Linear: 2-5                       [1, 512]                  [1, 256]                  131,328                   131,328\n",
      "│    └─ReLU: 2-6                         [1, 256]                  [1, 256]                  --                        --\n",
      "│    └─Dropout: 2-7                      [1, 256]                  [1, 256]                  --                        --\n",
      "│    └─Linear: 2-8                       [1, 256]                  [1, 128]                  32,896                    32,896\n",
      "│    └─ReLU: 2-9                         [1, 128]                  [1, 128]                  --                        --\n",
      "│    └─Dropout: 2-10                     [1, 128]                  [1, 128]                  --                        --\n",
      "│    └─Linear: 2-11                      [1, 128]                  [1, 2]                    258                       258\n",
      "============================================================================================================================================\n",
      "Total params: 581,250\n",
      "Trainable params: 581,250\n",
      "Non-trainable params: 0\n",
      "Total mult-adds (Units.MEGABYTES): 0.58\n",
      "============================================================================================================================================\n",
      "Input size (MB): 0.00\n",
      "Forward/backward pass size (MB): 0.01\n",
      "Params size (MB): 2.33\n",
      "Estimated Total Size (MB): 2.34\n",
      "============================================================================================================================================\n",
      "\n",
      "\n",
      "MODEL SUMMARY - FEATURE TYPE: BERT\n",
      "============================================================================================================================================\n",
      "Layer (type:depth-idx)                   Input Shape               Output Shape              Param #                   Mult-Adds\n",
      "============================================================================================================================================\n",
      "PotteryChronologyPredictor               [1, 768]                  [1, 2]                    --                        --\n",
      "├─ModuleList: 1-1                        --                        --                        --                        --\n",
      "│    └─Sequential: 2-1                   [1, 768]                  [1, 512]                  --                        --\n",
      "│    │    └─Linear: 3-1                  [1, 768]                  [1, 512]                  393,728                   393,728\n",
      "│    │    └─ReLU: 3-2                    [1, 512]                  [1, 512]                  --                        --\n",
      "│    │    └─Dropout: 3-3                 [1, 512]                  [1, 512]                  --                        --\n",
      "├─Sequential: 1-2                        [1, 512]                  [1, 2]                    --                        --\n",
      "│    └─Linear: 2-2                       [1, 512]                  [1, 512]                  262,656                   262,656\n",
      "│    └─ReLU: 2-3                         [1, 512]                  [1, 512]                  --                        --\n",
      "│    └─Dropout: 2-4                      [1, 512]                  [1, 512]                  --                        --\n",
      "│    └─Linear: 2-5                       [1, 512]                  [1, 256]                  131,328                   131,328\n",
      "│    └─ReLU: 2-6                         [1, 256]                  [1, 256]                  --                        --\n",
      "│    └─Dropout: 2-7                      [1, 256]                  [1, 256]                  --                        --\n",
      "│    └─Linear: 2-8                       [1, 256]                  [1, 128]                  32,896                    32,896\n",
      "│    └─ReLU: 2-9                         [1, 128]                  [1, 128]                  --                        --\n",
      "│    └─Dropout: 2-10                     [1, 128]                  [1, 128]                  --                        --\n",
      "│    └─Linear: 2-11                      [1, 128]                  [1, 2]                    258                       258\n",
      "============================================================================================================================================\n",
      "Total params: 820,866\n",
      "Trainable params: 820,866\n",
      "Non-trainable params: 0\n",
      "Total mult-adds (Units.MEGABYTES): 0.82\n",
      "============================================================================================================================================\n",
      "Input size (MB): 0.00\n",
      "Forward/backward pass size (MB): 0.01\n",
      "Params size (MB): 3.28\n",
      "Estimated Total Size (MB): 3.30\n",
      "============================================================================================================================================\n",
      "\n",
      "\n",
      "MODEL SUMMARY - FEATURE TYPE: CANNYHOG\n",
      "============================================================================================================================================\n",
      "Layer (type:depth-idx)                   Input Shape               Output Shape              Param #                   Mult-Adds\n",
      "============================================================================================================================================\n",
      "PotteryChronologyPredictor               [1, 2917]                 [1, 2]                    --                        --\n",
      "├─ModuleList: 1-1                        --                        --                        --                        --\n",
      "│    └─Sequential: 2-1                   [1, 2917]                 [1, 512]                  --                        --\n",
      "│    │    └─Linear: 3-1                  [1, 2917]                 [1, 512]                  1,494,016                 1,494,016\n",
      "│    │    └─ReLU: 3-2                    [1, 512]                  [1, 512]                  --                        --\n",
      "│    │    └─Dropout: 3-3                 [1, 512]                  [1, 512]                  --                        --\n",
      "├─Sequential: 1-2                        [1, 512]                  [1, 2]                    --                        --\n",
      "│    └─Linear: 2-2                       [1, 512]                  [1, 512]                  262,656                   262,656\n",
      "│    └─ReLU: 2-3                         [1, 512]                  [1, 512]                  --                        --\n",
      "│    └─Dropout: 2-4                      [1, 512]                  [1, 512]                  --                        --\n",
      "│    └─Linear: 2-5                       [1, 512]                  [1, 256]                  131,328                   131,328\n",
      "│    └─ReLU: 2-6                         [1, 256]                  [1, 256]                  --                        --\n",
      "│    └─Dropout: 2-7                      [1, 256]                  [1, 256]                  --                        --\n",
      "│    └─Linear: 2-8                       [1, 256]                  [1, 128]                  32,896                    32,896\n",
      "│    └─ReLU: 2-9                         [1, 128]                  [1, 128]                  --                        --\n",
      "│    └─Dropout: 2-10                     [1, 128]                  [1, 128]                  --                        --\n",
      "│    └─Linear: 2-11                      [1, 128]                  [1, 2]                    258                       258\n",
      "============================================================================================================================================\n",
      "Total params: 1,921,154\n",
      "Trainable params: 1,921,154\n",
      "Non-trainable params: 0\n",
      "Total mult-adds (Units.MEGABYTES): 1.92\n",
      "============================================================================================================================================\n",
      "Input size (MB): 0.01\n",
      "Forward/backward pass size (MB): 0.01\n",
      "Params size (MB): 7.68\n",
      "Estimated Total Size (MB): 7.71\n",
      "============================================================================================================================================\n",
      "\n",
      "\n",
      "MODEL SUMMARY - FEATURE TYPE: RESNET\n",
      "============================================================================================================================================\n",
      "Layer (type:depth-idx)                   Input Shape               Output Shape              Param #                   Mult-Adds\n",
      "============================================================================================================================================\n",
      "PotteryChronologyPredictor               [1, 2048]                 [1, 2]                    --                        --\n",
      "├─ModuleList: 1-1                        --                        --                        --                        --\n",
      "│    └─Sequential: 2-1                   [1, 2048]                 [1, 512]                  --                        --\n",
      "│    │    └─Linear: 3-1                  [1, 2048]                 [1, 512]                  1,049,088                 1,049,088\n",
      "│    │    └─ReLU: 3-2                    [1, 512]                  [1, 512]                  --                        --\n",
      "│    │    └─Dropout: 3-3                 [1, 512]                  [1, 512]                  --                        --\n",
      "├─Sequential: 1-2                        [1, 512]                  [1, 2]                    --                        --\n",
      "│    └─Linear: 2-2                       [1, 512]                  [1, 512]                  262,656                   262,656\n",
      "│    └─ReLU: 2-3                         [1, 512]                  [1, 512]                  --                        --\n",
      "│    └─Dropout: 2-4                      [1, 512]                  [1, 512]                  --                        --\n",
      "│    └─Linear: 2-5                       [1, 512]                  [1, 256]                  131,328                   131,328\n",
      "│    └─ReLU: 2-6                         [1, 256]                  [1, 256]                  --                        --\n",
      "│    └─Dropout: 2-7                      [1, 256]                  [1, 256]                  --                        --\n",
      "│    └─Linear: 2-8                       [1, 256]                  [1, 128]                  32,896                    32,896\n",
      "│    └─ReLU: 2-9                         [1, 128]                  [1, 128]                  --                        --\n",
      "│    └─Dropout: 2-10                     [1, 128]                  [1, 128]                  --                        --\n",
      "│    └─Linear: 2-11                      [1, 128]                  [1, 2]                    258                       258\n",
      "============================================================================================================================================\n",
      "Total params: 1,476,226\n",
      "Trainable params: 1,476,226\n",
      "Non-trainable params: 0\n",
      "Total mult-adds (Units.MEGABYTES): 1.48\n",
      "============================================================================================================================================\n",
      "Input size (MB): 0.01\n",
      "Forward/backward pass size (MB): 0.01\n",
      "Params size (MB): 5.90\n",
      "Estimated Total Size (MB): 5.92\n",
      "============================================================================================================================================\n",
      "\n",
      "\n",
      "MODEL SUMMARY - FEATURE TYPE: VIT\n",
      "============================================================================================================================================\n",
      "Layer (type:depth-idx)                   Input Shape               Output Shape              Param #                   Mult-Adds\n",
      "============================================================================================================================================\n",
      "PotteryChronologyPredictor               [1, 768]                  [1, 2]                    --                        --\n",
      "├─ModuleList: 1-1                        --                        --                        --                        --\n",
      "│    └─Sequential: 2-1                   [1, 768]                  [1, 512]                  --                        --\n",
      "│    │    └─Linear: 3-1                  [1, 768]                  [1, 512]                  393,728                   393,728\n",
      "│    │    └─ReLU: 3-2                    [1, 512]                  [1, 512]                  --                        --\n",
      "│    │    └─Dropout: 3-3                 [1, 512]                  [1, 512]                  --                        --\n",
      "├─Sequential: 1-2                        [1, 512]                  [1, 2]                    --                        --\n",
      "│    └─Linear: 2-2                       [1, 512]                  [1, 512]                  262,656                   262,656\n",
      "│    └─ReLU: 2-3                         [1, 512]                  [1, 512]                  --                        --\n",
      "│    └─Dropout: 2-4                      [1, 512]                  [1, 512]                  --                        --\n",
      "│    └─Linear: 2-5                       [1, 512]                  [1, 256]                  131,328                   131,328\n",
      "│    └─ReLU: 2-6                         [1, 256]                  [1, 256]                  --                        --\n",
      "│    └─Dropout: 2-7                      [1, 256]                  [1, 256]                  --                        --\n",
      "│    └─Linear: 2-8                       [1, 256]                  [1, 128]                  32,896                    32,896\n",
      "│    └─ReLU: 2-9                         [1, 128]                  [1, 128]                  --                        --\n",
      "│    └─Dropout: 2-10                     [1, 128]                  [1, 128]                  --                        --\n",
      "│    └─Linear: 2-11                      [1, 128]                  [1, 2]                    258                       258\n",
      "============================================================================================================================================\n",
      "Total params: 820,866\n",
      "Trainable params: 820,866\n",
      "Non-trainable params: 0\n",
      "Total mult-adds (Units.MEGABYTES): 0.82\n",
      "============================================================================================================================================\n",
      "Input size (MB): 0.00\n",
      "Forward/backward pass size (MB): 0.01\n",
      "Params size (MB): 3.28\n",
      "Estimated Total Size (MB): 3.30\n",
      "============================================================================================================================================\n",
      "\n",
      "\n",
      "MODEL SUMMARY - FEATURE TYPE: TFIDF + CANNYHOG\n",
      "============================================================================================================================================\n",
      "Layer (type:depth-idx)                   Input Shape               Output Shape              Param #                   Mult-Adds\n",
      "============================================================================================================================================\n",
      "PotteryChronologyPredictor               [1, 300]                  [1, 2]                    --                        --\n",
      "├─ModuleList: 1-1                        --                        --                        --                        --\n",
      "│    └─Sequential: 2-1                   [1, 300]                  [1, 512]                  --                        --\n",
      "│    │    └─Linear: 3-1                  [1, 300]                  [1, 512]                  154,112                   154,112\n",
      "│    │    └─ReLU: 3-2                    [1, 512]                  [1, 512]                  --                        --\n",
      "│    │    └─Dropout: 3-3                 [1, 512]                  [1, 512]                  --                        --\n",
      "│    └─Sequential: 2-2                   [1, 2917]                 [1, 512]                  --                        --\n",
      "│    │    └─Linear: 3-4                  [1, 2917]                 [1, 512]                  1,494,016                 1,494,016\n",
      "│    │    └─ReLU: 3-5                    [1, 512]                  [1, 512]                  --                        --\n",
      "│    │    └─Dropout: 3-6                 [1, 512]                  [1, 512]                  --                        --\n",
      "├─Sequential: 1-2                        [1, 1024]                 [1, 2]                    --                        --\n",
      "│    └─Linear: 2-3                       [1, 1024]                 [1, 512]                  524,800                   524,800\n",
      "│    └─ReLU: 2-4                         [1, 512]                  [1, 512]                  --                        --\n",
      "│    └─Dropout: 2-5                      [1, 512]                  [1, 512]                  --                        --\n",
      "│    └─Linear: 2-6                       [1, 512]                  [1, 256]                  131,328                   131,328\n",
      "│    └─ReLU: 2-7                         [1, 256]                  [1, 256]                  --                        --\n",
      "│    └─Dropout: 2-8                      [1, 256]                  [1, 256]                  --                        --\n",
      "│    └─Linear: 2-9                       [1, 256]                  [1, 128]                  32,896                    32,896\n",
      "│    └─ReLU: 2-10                        [1, 128]                  [1, 128]                  --                        --\n",
      "│    └─Dropout: 2-11                     [1, 128]                  [1, 128]                  --                        --\n",
      "│    └─Linear: 2-12                      [1, 128]                  [1, 2]                    258                       258\n",
      "============================================================================================================================================\n",
      "Total params: 2,337,410\n",
      "Trainable params: 2,337,410\n",
      "Non-trainable params: 0\n",
      "Total mult-adds (Units.MEGABYTES): 2.34\n",
      "============================================================================================================================================\n",
      "Input size (MB): 0.01\n",
      "Forward/backward pass size (MB): 0.02\n",
      "Params size (MB): 9.35\n",
      "Estimated Total Size (MB): 9.38\n",
      "============================================================================================================================================\n",
      "\n",
      "\n",
      "MODEL SUMMARY - FEATURE TYPE: TFIDF + RESNET\n",
      "============================================================================================================================================\n",
      "Layer (type:depth-idx)                   Input Shape               Output Shape              Param #                   Mult-Adds\n",
      "============================================================================================================================================\n",
      "PotteryChronologyPredictor               [1, 300]                  [1, 2]                    --                        --\n",
      "├─ModuleList: 1-1                        --                        --                        --                        --\n",
      "│    └─Sequential: 2-1                   [1, 300]                  [1, 512]                  --                        --\n",
      "│    │    └─Linear: 3-1                  [1, 300]                  [1, 512]                  154,112                   154,112\n",
      "│    │    └─ReLU: 3-2                    [1, 512]                  [1, 512]                  --                        --\n",
      "│    │    └─Dropout: 3-3                 [1, 512]                  [1, 512]                  --                        --\n",
      "│    └─Sequential: 2-2                   [1, 2048]                 [1, 512]                  --                        --\n",
      "│    │    └─Linear: 3-4                  [1, 2048]                 [1, 512]                  1,049,088                 1,049,088\n",
      "│    │    └─ReLU: 3-5                    [1, 512]                  [1, 512]                  --                        --\n",
      "│    │    └─Dropout: 3-6                 [1, 512]                  [1, 512]                  --                        --\n",
      "├─Sequential: 1-2                        [1, 1024]                 [1, 2]                    --                        --\n",
      "│    └─Linear: 2-3                       [1, 1024]                 [1, 512]                  524,800                   524,800\n",
      "│    └─ReLU: 2-4                         [1, 512]                  [1, 512]                  --                        --\n",
      "│    └─Dropout: 2-5                      [1, 512]                  [1, 512]                  --                        --\n",
      "│    └─Linear: 2-6                       [1, 512]                  [1, 256]                  131,328                   131,328\n",
      "│    └─ReLU: 2-7                         [1, 256]                  [1, 256]                  --                        --\n",
      "│    └─Dropout: 2-8                      [1, 256]                  [1, 256]                  --                        --\n",
      "│    └─Linear: 2-9                       [1, 256]                  [1, 128]                  32,896                    32,896\n",
      "│    └─ReLU: 2-10                        [1, 128]                  [1, 128]                  --                        --\n",
      "│    └─Dropout: 2-11                     [1, 128]                  [1, 128]                  --                        --\n",
      "│    └─Linear: 2-12                      [1, 128]                  [1, 2]                    258                       258\n",
      "============================================================================================================================================\n",
      "Total params: 1,892,482\n",
      "Trainable params: 1,892,482\n",
      "Non-trainable params: 0\n",
      "Total mult-adds (Units.MEGABYTES): 1.89\n",
      "============================================================================================================================================\n",
      "Input size (MB): 0.01\n",
      "Forward/backward pass size (MB): 0.02\n",
      "Params size (MB): 7.57\n",
      "Estimated Total Size (MB): 7.59\n",
      "============================================================================================================================================\n",
      "\n",
      "\n",
      "MODEL SUMMARY - FEATURE TYPE: TFIDF + VIT\n",
      "============================================================================================================================================\n",
      "Layer (type:depth-idx)                   Input Shape               Output Shape              Param #                   Mult-Adds\n",
      "============================================================================================================================================\n",
      "PotteryChronologyPredictor               [1, 300]                  [1, 2]                    --                        --\n",
      "├─ModuleList: 1-1                        --                        --                        --                        --\n",
      "│    └─Sequential: 2-1                   [1, 300]                  [1, 512]                  --                        --\n",
      "│    │    └─Linear: 3-1                  [1, 300]                  [1, 512]                  154,112                   154,112\n",
      "│    │    └─ReLU: 3-2                    [1, 512]                  [1, 512]                  --                        --\n",
      "│    │    └─Dropout: 3-3                 [1, 512]                  [1, 512]                  --                        --\n",
      "│    └─Sequential: 2-2                   [1, 768]                  [1, 512]                  --                        --\n",
      "│    │    └─Linear: 3-4                  [1, 768]                  [1, 512]                  393,728                   393,728\n",
      "│    │    └─ReLU: 3-5                    [1, 512]                  [1, 512]                  --                        --\n",
      "│    │    └─Dropout: 3-6                 [1, 512]                  [1, 512]                  --                        --\n",
      "├─Sequential: 1-2                        [1, 1024]                 [1, 2]                    --                        --\n",
      "│    └─Linear: 2-3                       [1, 1024]                 [1, 512]                  524,800                   524,800\n",
      "│    └─ReLU: 2-4                         [1, 512]                  [1, 512]                  --                        --\n",
      "│    └─Dropout: 2-5                      [1, 512]                  [1, 512]                  --                        --\n",
      "│    └─Linear: 2-6                       [1, 512]                  [1, 256]                  131,328                   131,328\n",
      "│    └─ReLU: 2-7                         [1, 256]                  [1, 256]                  --                        --\n",
      "│    └─Dropout: 2-8                      [1, 256]                  [1, 256]                  --                        --\n",
      "│    └─Linear: 2-9                       [1, 256]                  [1, 128]                  32,896                    32,896\n",
      "│    └─ReLU: 2-10                        [1, 128]                  [1, 128]                  --                        --\n",
      "│    └─Dropout: 2-11                     [1, 128]                  [1, 128]                  --                        --\n",
      "│    └─Linear: 2-12                      [1, 128]                  [1, 2]                    258                       258\n",
      "============================================================================================================================================\n",
      "Total params: 1,237,122\n",
      "Trainable params: 1,237,122\n",
      "Non-trainable params: 0\n",
      "Total mult-adds (Units.MEGABYTES): 1.24\n",
      "============================================================================================================================================\n",
      "Input size (MB): 0.00\n",
      "Forward/backward pass size (MB): 0.02\n",
      "Params size (MB): 4.95\n",
      "Estimated Total Size (MB): 4.97\n",
      "============================================================================================================================================\n",
      "\n",
      "\n",
      "MODEL SUMMARY - FEATURE TYPE: BERT + CANNYHOG\n",
      "============================================================================================================================================\n",
      "Layer (type:depth-idx)                   Input Shape               Output Shape              Param #                   Mult-Adds\n",
      "============================================================================================================================================\n",
      "PotteryChronologyPredictor               [1, 768]                  [1, 2]                    --                        --\n",
      "├─ModuleList: 1-1                        --                        --                        --                        --\n",
      "│    └─Sequential: 2-1                   [1, 768]                  [1, 512]                  --                        --\n",
      "│    │    └─Linear: 3-1                  [1, 768]                  [1, 512]                  393,728                   393,728\n",
      "│    │    └─ReLU: 3-2                    [1, 512]                  [1, 512]                  --                        --\n",
      "│    │    └─Dropout: 3-3                 [1, 512]                  [1, 512]                  --                        --\n",
      "│    └─Sequential: 2-2                   [1, 2917]                 [1, 512]                  --                        --\n",
      "│    │    └─Linear: 3-4                  [1, 2917]                 [1, 512]                  1,494,016                 1,494,016\n",
      "│    │    └─ReLU: 3-5                    [1, 512]                  [1, 512]                  --                        --\n",
      "│    │    └─Dropout: 3-6                 [1, 512]                  [1, 512]                  --                        --\n",
      "├─Sequential: 1-2                        [1, 1024]                 [1, 2]                    --                        --\n",
      "│    └─Linear: 2-3                       [1, 1024]                 [1, 512]                  524,800                   524,800\n",
      "│    └─ReLU: 2-4                         [1, 512]                  [1, 512]                  --                        --\n",
      "│    └─Dropout: 2-5                      [1, 512]                  [1, 512]                  --                        --\n",
      "│    └─Linear: 2-6                       [1, 512]                  [1, 256]                  131,328                   131,328\n",
      "│    └─ReLU: 2-7                         [1, 256]                  [1, 256]                  --                        --\n",
      "│    └─Dropout: 2-8                      [1, 256]                  [1, 256]                  --                        --\n",
      "│    └─Linear: 2-9                       [1, 256]                  [1, 128]                  32,896                    32,896\n",
      "│    └─ReLU: 2-10                        [1, 128]                  [1, 128]                  --                        --\n",
      "│    └─Dropout: 2-11                     [1, 128]                  [1, 128]                  --                        --\n",
      "│    └─Linear: 2-12                      [1, 128]                  [1, 2]                    258                       258\n",
      "============================================================================================================================================\n",
      "Total params: 2,577,026\n",
      "Trainable params: 2,577,026\n",
      "Non-trainable params: 0\n",
      "Total mult-adds (Units.MEGABYTES): 2.58\n",
      "============================================================================================================================================\n",
      "Input size (MB): 0.01\n",
      "Forward/backward pass size (MB): 0.02\n",
      "Params size (MB): 10.31\n",
      "Estimated Total Size (MB): 10.34\n",
      "============================================================================================================================================\n",
      "\n",
      "\n",
      "MODEL SUMMARY - FEATURE TYPE: BERT + RESNET\n",
      "============================================================================================================================================\n",
      "Layer (type:depth-idx)                   Input Shape               Output Shape              Param #                   Mult-Adds\n",
      "============================================================================================================================================\n",
      "PotteryChronologyPredictor               [1, 768]                  [1, 2]                    --                        --\n",
      "├─ModuleList: 1-1                        --                        --                        --                        --\n",
      "│    └─Sequential: 2-1                   [1, 768]                  [1, 512]                  --                        --\n",
      "│    │    └─Linear: 3-1                  [1, 768]                  [1, 512]                  393,728                   393,728\n",
      "│    │    └─ReLU: 3-2                    [1, 512]                  [1, 512]                  --                        --\n",
      "│    │    └─Dropout: 3-3                 [1, 512]                  [1, 512]                  --                        --\n",
      "│    └─Sequential: 2-2                   [1, 2048]                 [1, 512]                  --                        --\n",
      "│    │    └─Linear: 3-4                  [1, 2048]                 [1, 512]                  1,049,088                 1,049,088\n",
      "│    │    └─ReLU: 3-5                    [1, 512]                  [1, 512]                  --                        --\n",
      "│    │    └─Dropout: 3-6                 [1, 512]                  [1, 512]                  --                        --\n",
      "├─Sequential: 1-2                        [1, 1024]                 [1, 2]                    --                        --\n",
      "│    └─Linear: 2-3                       [1, 1024]                 [1, 512]                  524,800                   524,800\n",
      "│    └─ReLU: 2-4                         [1, 512]                  [1, 512]                  --                        --\n",
      "│    └─Dropout: 2-5                      [1, 512]                  [1, 512]                  --                        --\n",
      "│    └─Linear: 2-6                       [1, 512]                  [1, 256]                  131,328                   131,328\n",
      "│    └─ReLU: 2-7                         [1, 256]                  [1, 256]                  --                        --\n",
      "│    └─Dropout: 2-8                      [1, 256]                  [1, 256]                  --                        --\n",
      "│    └─Linear: 2-9                       [1, 256]                  [1, 128]                  32,896                    32,896\n",
      "│    └─ReLU: 2-10                        [1, 128]                  [1, 128]                  --                        --\n",
      "│    └─Dropout: 2-11                     [1, 128]                  [1, 128]                  --                        --\n",
      "│    └─Linear: 2-12                      [1, 128]                  [1, 2]                    258                       258\n",
      "============================================================================================================================================\n",
      "Total params: 2,132,098\n",
      "Trainable params: 2,132,098\n",
      "Non-trainable params: 0\n",
      "Total mult-adds (Units.MEGABYTES): 2.13\n",
      "============================================================================================================================================\n",
      "Input size (MB): 0.01\n",
      "Forward/backward pass size (MB): 0.02\n",
      "Params size (MB): 8.53\n",
      "Estimated Total Size (MB): 8.56\n",
      "============================================================================================================================================\n",
      "\n",
      "\n",
      "MODEL SUMMARY - FEATURE TYPE: BERT + VIT\n",
      "============================================================================================================================================\n",
      "Layer (type:depth-idx)                   Input Shape               Output Shape              Param #                   Mult-Adds\n",
      "============================================================================================================================================\n",
      "PotteryChronologyPredictor               [1, 768]                  [1, 2]                    --                        --\n",
      "├─ModuleList: 1-1                        --                        --                        --                        --\n",
      "│    └─Sequential: 2-1                   [1, 768]                  [1, 512]                  --                        --\n",
      "│    │    └─Linear: 3-1                  [1, 768]                  [1, 512]                  393,728                   393,728\n",
      "│    │    └─ReLU: 3-2                    [1, 512]                  [1, 512]                  --                        --\n",
      "│    │    └─Dropout: 3-3                 [1, 512]                  [1, 512]                  --                        --\n",
      "│    └─Sequential: 2-2                   [1, 768]                  [1, 512]                  --                        --\n",
      "│    │    └─Linear: 3-4                  [1, 768]                  [1, 512]                  393,728                   393,728\n",
      "│    │    └─ReLU: 3-5                    [1, 512]                  [1, 512]                  --                        --\n",
      "│    │    └─Dropout: 3-6                 [1, 512]                  [1, 512]                  --                        --\n",
      "├─Sequential: 1-2                        [1, 1024]                 [1, 2]                    --                        --\n",
      "│    └─Linear: 2-3                       [1, 1024]                 [1, 512]                  524,800                   524,800\n",
      "│    └─ReLU: 2-4                         [1, 512]                  [1, 512]                  --                        --\n",
      "│    └─Dropout: 2-5                      [1, 512]                  [1, 512]                  --                        --\n",
      "│    └─Linear: 2-6                       [1, 512]                  [1, 256]                  131,328                   131,328\n",
      "│    └─ReLU: 2-7                         [1, 256]                  [1, 256]                  --                        --\n",
      "│    └─Dropout: 2-8                      [1, 256]                  [1, 256]                  --                        --\n",
      "│    └─Linear: 2-9                       [1, 256]                  [1, 128]                  32,896                    32,896\n",
      "│    └─ReLU: 2-10                        [1, 128]                  [1, 128]                  --                        --\n",
      "│    └─Dropout: 2-11                     [1, 128]                  [1, 128]                  --                        --\n",
      "│    └─Linear: 2-12                      [1, 128]                  [1, 2]                    258                       258\n",
      "============================================================================================================================================\n",
      "Total params: 1,476,738\n",
      "Trainable params: 1,476,738\n",
      "Non-trainable params: 0\n",
      "Total mult-adds (Units.MEGABYTES): 1.48\n",
      "============================================================================================================================================\n",
      "Input size (MB): 0.01\n",
      "Forward/backward pass size (MB): 0.02\n",
      "Params size (MB): 5.91\n",
      "Estimated Total Size (MB): 5.93\n",
      "============================================================================================================================================\n"
     ]
    }
   ],
   "execution_count": 17
  },
  {
   "metadata": {},
   "cell_type": "markdown",
   "source": "## Model Training",
   "id": "e15c291d3be90cda"
  },
  {
   "metadata": {
    "ExecuteTime": {
     "end_time": "2025-09-23T22:01:03.047Z",
     "start_time": "2025-09-23T22:01:03.044003Z"
    }
   },
   "cell_type": "code",
   "source": [
    "criterion = nn.MSELoss()\n",
    "metrics = {m: metrics_r[m] for m in metrics_r.keys() if m in [\"mae\", \"r2\", \"medae\"] }"
   ],
   "id": "aca34c18917965e4",
   "outputs": [],
   "execution_count": 18
  },
  {
   "metadata": {
    "ExecuteTime": {
     "end_time": "2025-09-23T22:01:04.572857Z",
     "start_time": "2025-09-23T22:01:03.096481Z"
    }
   },
   "cell_type": "code",
   "source": [
    "for ft, model in models.items():\n",
    "    if ft != \"bert\": continue\n",
    "    models[ft] = train(model, loaders[\"train\"][ft], loaders[\"val\"][ft], criterion, metrics)"
   ],
   "id": "27091fc970b6a2df",
   "outputs": [
    {
     "name": "stdout",
     "output_type": "stream",
     "text": [
      "Epoch 001 | Train Loss: 56270.3576 | Val. Loss: 16575.0605 | mae: 93.9986 | r2: -4.9168 | medae: 103.1483\n",
      "Epoch 002 | Train Loss: 7868.3684 | Val. Loss: 3868.3706 | mae: 43.7998 | r2: -0.2102 | medae: 40.7829\n",
      "Epoch 003 | Train Loss: 4950.1287 | Val. Loss: 3934.1294 | mae: 44.1706 | r2: -0.1989 | medae: 43.6453\n",
      "Epoch 004 | Train Loss: 4764.5494 | Val. Loss: 3581.2771 | mae: 42.5111 | r2: -0.1215 | medae: 37.2968\n",
      "Epoch 005 | Train Loss: 4120.6580 | Val. Loss: 3528.0732 | mae: 41.8559 | r2: -0.0769 | medae: 37.8410\n",
      "Epoch 006 | Train Loss: 4213.9272 | Val. Loss: 3420.5710 | mae: 40.7167 | r2: -0.0578 | medae: 33.1485\n",
      "Epoch 007 | Train Loss: 4050.6586 | Val. Loss: 3497.8779 | mae: 41.5961 | r2: -0.0962 | medae: 40.8312\n",
      "Epoch 008 | Train Loss: 3923.0477 | Val. Loss: 3194.4341 | mae: 39.6375 | r2: -0.0178 | medae: 32.0437\n",
      "Epoch 009 | Train Loss: 3571.4920 | Val. Loss: 3748.9880 | mae: 41.8721 | r2: -0.1283 | medae: 39.2939\n",
      "Epoch 010 | Train Loss: 3577.7723 | Val. Loss: 3034.5662 | mae: 38.8581 | r2: 0.0106 | medae: 34.6001\n",
      "Epoch 011 | Train Loss: 3507.8702 | Val. Loss: 2919.9888 | mae: 38.1713 | r2: 0.0260 | medae: 35.1977\n",
      "Epoch 012 | Train Loss: 3303.5098 | Val. Loss: 2924.5020 | mae: 38.5052 | r2: 0.0323 | medae: 34.3845\n",
      "Epoch 013 | Train Loss: 3664.2218 | Val. Loss: 2806.8074 | mae: 36.5087 | r2: 0.0420 | medae: 28.8949\n",
      "Epoch 014 | Train Loss: 3271.6734 | Val. Loss: 3057.0481 | mae: 37.9831 | r2: 0.0151 | medae: 32.9826\n",
      "Epoch 015 | Train Loss: 3566.1182 | Val. Loss: 2663.4668 | mae: 35.9021 | r2: 0.0745 | medae: 30.9310\n",
      "Epoch 016 | Train Loss: 3072.6362 | Val. Loss: 3457.9180 | mae: 38.2312 | r2: -0.0834 | medae: 31.5929\n",
      "Epoch 017 | Train Loss: 3696.5275 | Val. Loss: 2491.1482 | mae: 35.4333 | r2: 0.0602 | medae: 32.6222\n",
      "Epoch 018 | Train Loss: 3188.8092 | Val. Loss: 2496.4187 | mae: 34.8170 | r2: 0.0936 | medae: 31.0584\n",
      "Epoch 019 | Train Loss: 3191.2846 | Val. Loss: 2416.0859 | mae: 35.2509 | r2: 0.0969 | medae: 31.9462\n",
      "Epoch 020 | Train Loss: 3126.5523 | Val. Loss: 2290.0442 | mae: 33.2599 | r2: 0.1354 | medae: 30.9553\n",
      "Epoch 021 | Train Loss: 3125.4566 | Val. Loss: 2294.3130 | mae: 33.2967 | r2: 0.1333 | medae: 31.0929\n",
      "Epoch 022 | Train Loss: 3293.4829 | Val. Loss: 2268.6885 | mae: 33.7544 | r2: 0.1251 | medae: 29.2052\n",
      "Epoch 023 | Train Loss: 2933.5086 | Val. Loss: 2549.3345 | mae: 35.6804 | r2: 0.0504 | medae: 32.8330\n",
      "Epoch 024 | Train Loss: 3003.3393 | Val. Loss: 2076.4851 | mae: 32.5629 | r2: 0.1474 | medae: 31.1831\n",
      "Epoch 025 | Train Loss: 3046.0962 | Val. Loss: 2096.5715 | mae: 31.9686 | r2: 0.1598 | medae: 31.1472\n",
      "Epoch 026 | Train Loss: 3014.3677 | Val. Loss: 2388.8206 | mae: 34.4582 | r2: 0.1212 | medae: 28.0039\n",
      "Epoch 027 | Train Loss: 3080.5675 | Val. Loss: 2188.3770 | mae: 33.4889 | r2: 0.1302 | medae: 32.1176\n",
      "Epoch 028 | Train Loss: 2712.2353 | Val. Loss: 2085.2100 | mae: 31.7189 | r2: 0.1726 | medae: 32.8550\n",
      "Epoch 029 | Train Loss: 2927.7516 | Val. Loss: 2081.0234 | mae: 32.0344 | r2: 0.1753 | medae: 29.0915\n",
      "** Early Stopping **\n"
     ]
    }
   ],
   "execution_count": 19
  }
 ],
 "metadata": {
  "kernelspec": {
   "display_name": "Python 3",
   "language": "python",
   "name": "python3"
  },
  "language_info": {
   "codemirror_mode": {
    "name": "ipython",
    "version": 2
   },
   "file_extension": ".py",
   "mimetype": "text/x-python",
   "name": "python",
   "nbconvert_exporter": "python",
   "pygments_lexer": "ipython2",
   "version": "2.7.6"
  }
 },
 "nbformat": 4,
 "nbformat_minor": 5
}
