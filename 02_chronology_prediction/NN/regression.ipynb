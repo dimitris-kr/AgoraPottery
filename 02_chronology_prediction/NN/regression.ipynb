{
 "cells": [
  {
   "metadata": {
    "ExecuteTime": {
     "end_time": "2025-09-10T21:44:35.112944Z",
     "start_time": "2025-09-10T21:44:35.110511Z"
    }
   },
   "cell_type": "code",
   "source": [
    "import sys\n",
    "import os"
   ],
   "id": "e68f91afa2b0f236",
   "outputs": [],
   "execution_count": 1
  },
  {
   "metadata": {
    "ExecuteTime": {
     "end_time": "2025-09-10T21:44:36.134921Z",
     "start_time": "2025-09-10T21:44:35.126322Z"
    }
   },
   "cell_type": "code",
   "source": [
    "import torch\n",
    "from torch.utils.data import Dataset, DataLoader"
   ],
   "id": "42517ee4fccad69f",
   "outputs": [],
   "execution_count": 2
  },
  {
   "metadata": {
    "collapsed": true,
    "ExecuteTime": {
     "end_time": "2025-09-10T21:44:37.124303Z",
     "start_time": "2025-09-10T21:44:36.225051Z"
    }
   },
   "cell_type": "code",
   "source": [
    "sys.path.append(os.path.abspath(\"..\"))\n",
    "from utils import read_features, read_targets, print_info_features, print_info_targets"
   ],
   "id": "initial_id",
   "outputs": [],
   "execution_count": 3
  },
  {
   "metadata": {},
   "cell_type": "markdown",
   "source": "## Read Features and Targets",
   "id": "cf589df8516ba49"
  },
  {
   "metadata": {
    "ExecuteTime": {
     "end_time": "2025-09-10T21:44:37.130615Z",
     "start_time": "2025-09-10T21:44:37.128627Z"
    }
   },
   "cell_type": "code",
   "source": "path = os.path.abspath(os.path.join(os.getcwd(), \"../../data/chronology_prediction\"))",
   "id": "d5c3de52cb75fc9f",
   "outputs": [],
   "execution_count": 4
  },
  {
   "metadata": {
    "ExecuteTime": {
     "end_time": "2025-09-10T21:59:17.344615Z",
     "start_time": "2025-09-10T21:59:17.342468Z"
    }
   },
   "cell_type": "code",
   "source": "targets = [\"StartYear\", \"YearRange\"]",
   "id": "e24989b5be0c179a",
   "outputs": [],
   "execution_count": 15
  },
  {
   "metadata": {
    "ExecuteTime": {
     "end_time": "2025-09-10T21:44:37.259540Z",
     "start_time": "2025-09-10T21:44:37.138426Z"
    }
   },
   "cell_type": "code",
   "source": [
    "X = read_features(path, f_type=\"tensors\")\n",
    "y = read_targets(path, targets, f_type=\"tensors\")"
   ],
   "id": "3cb9c96837211e40",
   "outputs": [
    {
     "name": "stdout",
     "output_type": "stream",
     "text": [
      "Loaded X_train_tfidf\n",
      "Loaded X_train_bert\n",
      "Loaded X_train_cannyhog\n",
      "Loaded X_train_resnet\n",
      "Loaded X_train_vit\n",
      "Loaded X_test_tfidf\n",
      "Loaded X_test_bert\n",
      "Loaded X_test_cannyhog\n",
      "Loaded X_test_resnet\n",
      "Loaded X_test_vit\n",
      "Loaded y_train\n",
      "Loaded y_test\n"
     ]
    }
   ],
   "execution_count": 5
  },
  {
   "metadata": {
    "ExecuteTime": {
     "end_time": "2025-09-10T21:44:37.338348Z",
     "start_time": "2025-09-10T21:44:37.335515Z"
    }
   },
   "cell_type": "code",
   "source": "print_info_features(X)",
   "id": "1b9b7b6ee32502e0",
   "outputs": [
    {
     "name": "stdout",
     "output_type": "stream",
     "text": [
      "{\n",
      "\ttrain: {\n",
      "\t\ttfidf: \n",
      "\t\t\t<class 'torch.Tensor'>\n",
      "\t\t\tshape = torch.Size([1719, 300]), \n",
      "\t\tbert: \n",
      "\t\t\t<class 'torch.Tensor'>\n",
      "\t\t\tshape = torch.Size([1719, 768]), \n",
      "\t\tcannyhog: \n",
      "\t\t\t<class 'torch.Tensor'>\n",
      "\t\t\tshape = torch.Size([1719, 2917]), \n",
      "\t\tresnet: \n",
      "\t\t\t<class 'torch.Tensor'>\n",
      "\t\t\tshape = torch.Size([1719, 2048]), \n",
      "\t\tvit: \n",
      "\t\t\t<class 'torch.Tensor'>\n",
      "\t\t\tshape = torch.Size([1719, 768]), \n",
      "\t},\n",
      "\ttest: {\n",
      "\t\ttfidf: \n",
      "\t\t\t<class 'torch.Tensor'>\n",
      "\t\t\tshape = torch.Size([191, 300]), \n",
      "\t\tbert: \n",
      "\t\t\t<class 'torch.Tensor'>\n",
      "\t\t\tshape = torch.Size([191, 768]), \n",
      "\t\tcannyhog: \n",
      "\t\t\t<class 'torch.Tensor'>\n",
      "\t\t\tshape = torch.Size([191, 2917]), \n",
      "\t\tresnet: \n",
      "\t\t\t<class 'torch.Tensor'>\n",
      "\t\t\tshape = torch.Size([191, 2048]), \n",
      "\t\tvit: \n",
      "\t\t\t<class 'torch.Tensor'>\n",
      "\t\t\tshape = torch.Size([191, 768]), \n",
      "\t},\n",
      "}\n"
     ]
    }
   ],
   "execution_count": 6
  },
  {
   "metadata": {
    "ExecuteTime": {
     "end_time": "2025-09-10T21:44:37.413689Z",
     "start_time": "2025-09-10T21:44:37.410548Z"
    }
   },
   "cell_type": "code",
   "source": "print_info_targets(y)",
   "id": "eba891e983ff4b82",
   "outputs": [
    {
     "name": "stdout",
     "output_type": "stream",
     "text": [
      "{\n",
      "\ttrain: {\n",
      "\t\tStartYear: \n",
      "\t\t\t<class 'torch.Tensor'>\n",
      "\t\t\tshape = torch.Size([1719])\n",
      "\t\tYearRange: \n",
      "\t\t\t<class 'torch.Tensor'>\n",
      "\t\t\tshape = torch.Size([1719])\n",
      "\t},\n",
      "\ttest: {\n",
      "\t\tStartYear: \n",
      "\t\t\t<class 'torch.Tensor'>\n",
      "\t\t\tshape = torch.Size([191])\n",
      "\t\tYearRange: \n",
      "\t\t\t<class 'torch.Tensor'>\n",
      "\t\t\tshape = torch.Size([191])\n",
      "\t},\n",
      "}\n"
     ]
    }
   ],
   "execution_count": 7
  },
  {
   "metadata": {
    "ExecuteTime": {
     "end_time": "2025-09-10T21:46:15.851291Z",
     "start_time": "2025-09-10T21:46:15.847787Z"
    }
   },
   "cell_type": "code",
   "source": [
    "class PotteryDataset(Dataset):\n",
    "    def __init__(self, X, y):\n",
    "        # Save inputs (features) and outputs (targets)\n",
    "        # If X is not already a tensor, convert it\n",
    "        self.X = torch.tensor(X, dtype=torch.float32) if not torch.is_tensor(X) else X\n",
    "        self.y = y\n",
    "\n",
    "    def __len__(self):\n",
    "        # Return number of samples in dataset\n",
    "        return len(self.X)\n",
    "\n",
    "    def __getitem__(self, idx):\n",
    "        # Return one sample (features and target) at position idx\n",
    "        return self.X[idx], self.y[idx]"
   ],
   "id": "74bd434fcc6af5ea",
   "outputs": [],
   "execution_count": 8
  },
  {
   "metadata": {
    "ExecuteTime": {
     "end_time": "2025-09-10T21:59:23.079850Z",
     "start_time": "2025-09-10T21:59:23.077502Z"
    }
   },
   "cell_type": "code",
   "source": [
    "datasets = {\n",
    "    target: {\n",
    "        subset: {\n",
    "            feature_set:\n",
    "                PotteryDataset(X_tensor, y[subset][target])\n",
    "            for feature_set, X_tensor in X[subset].items()\n",
    "        }\n",
    "        for subset in X.keys()\n",
    "    }\n",
    "    for target in targets\n",
    "}"
   ],
   "id": "c2195f52f5e69104",
   "outputs": [],
   "execution_count": 16
  },
  {
   "metadata": {
    "ExecuteTime": {
     "end_time": "2025-09-10T22:03:49.934779Z",
     "start_time": "2025-09-10T22:03:49.931873Z"
    }
   },
   "cell_type": "code",
   "source": [
    "loaders = {\n",
    "    target: {\n",
    "        subset: {\n",
    "            feature_set:\n",
    "                DataLoader(datasets[target][subset][feature_set], batch_size=64, shuffle=(subset == \"train\"))\n",
    "            for feature_set, X_tensor in X[subset].items()\n",
    "        }\n",
    "        for subset in X.keys()\n",
    "    }\n",
    "    for target in targets\n",
    "}"
   ],
   "id": "be13b57a76c68bab",
   "outputs": [],
   "execution_count": 19
  }
 ],
 "metadata": {
  "kernelspec": {
   "display_name": "Python 3",
   "language": "python",
   "name": "python3"
  },
  "language_info": {
   "codemirror_mode": {
    "name": "ipython",
    "version": 2
   },
   "file_extension": ".py",
   "mimetype": "text/x-python",
   "name": "python",
   "nbconvert_exporter": "python",
   "pygments_lexer": "ipython2",
   "version": "2.7.6"
  }
 },
 "nbformat": 4,
 "nbformat_minor": 5
}
