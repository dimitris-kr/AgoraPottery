{
 "cells": [
  {
   "cell_type": "code",
   "id": "initial_id",
   "metadata": {
    "collapsed": true,
    "ExecuteTime": {
     "end_time": "2025-09-23T19:12:04.155182Z",
     "start_time": "2025-09-23T19:12:04.152629Z"
    }
   },
   "source": [
    "import sys\n",
    "import os"
   ],
   "outputs": [],
   "execution_count": 15
  },
  {
   "metadata": {
    "ExecuteTime": {
     "end_time": "2025-09-23T19:12:04.175589Z",
     "start_time": "2025-09-23T19:12:04.173313Z"
    }
   },
   "cell_type": "code",
   "source": "import torch",
   "id": "a99c0ad828f92032",
   "outputs": [],
   "execution_count": 16
  },
  {
   "metadata": {
    "ExecuteTime": {
     "end_time": "2025-09-23T19:12:04.181091Z",
     "start_time": "2025-09-23T19:12:04.179145Z"
    }
   },
   "cell_type": "code",
   "source": [
    "from PotteryDataset import create_pottery_dataloaders, create_pottery_datasets, feature_types, feature_type_combos\n",
    "from PotteryChronologyPredictor import PotteryChronologyPredictor\n",
    "\n",
    "sys.path.append(os.path.abspath(\"..\"))\n",
    "from utils import read_features, read_targets, print_info_features, print_info_targets, encode_labels, train_val_split, \\\n",
    "    get_dimensions\n"
   ],
   "id": "71cd0a03103a5247",
   "outputs": [],
   "execution_count": 17
  },
  {
   "metadata": {
    "ExecuteTime": {
     "end_time": "2025-09-23T19:12:04.196085Z",
     "start_time": "2025-09-23T19:12:04.193820Z"
    }
   },
   "cell_type": "code",
   "source": "device = torch.device(\"cuda\" if torch.cuda.is_available() else \"cpu\")",
   "id": "701324cf1d4b7c6b",
   "outputs": [],
   "execution_count": 18
  },
  {
   "metadata": {},
   "cell_type": "markdown",
   "source": "## Read Features and Targets",
   "id": "cf461c16c2018342"
  },
  {
   "metadata": {
    "ExecuteTime": {
     "end_time": "2025-09-23T19:12:04.208276Z",
     "start_time": "2025-09-23T19:12:04.206268Z"
    }
   },
   "cell_type": "code",
   "source": "path = os.path.abspath(os.path.join(os.getcwd(), \"../../data/chronology_prediction\"))",
   "id": "7dfd51b15202baae",
   "outputs": [],
   "execution_count": 19
  },
  {
   "metadata": {
    "ExecuteTime": {
     "end_time": "2025-09-23T19:12:04.220643Z",
     "start_time": "2025-09-23T19:12:04.218800Z"
    }
   },
   "cell_type": "code",
   "source": "target = \"HistoricalPeriod\"",
   "id": "e2373e793755a3d6",
   "outputs": [],
   "execution_count": 20
  },
  {
   "metadata": {
    "ExecuteTime": {
     "end_time": "2025-09-23T19:12:04.252484Z",
     "start_time": "2025-09-23T19:12:04.231403Z"
    }
   },
   "cell_type": "code",
   "source": [
    "X = read_features(path, f_type=\"tensors\")\n",
    "y = read_targets(path, [target])"
   ],
   "id": "d6b44b660efee1a0",
   "outputs": [
    {
     "name": "stdout",
     "output_type": "stream",
     "text": [
      "Loaded X_train_tfidf\n",
      "Loaded X_train_bert\n",
      "Loaded X_train_cannyhog\n",
      "Loaded X_train_resnet\n",
      "Loaded X_train_vit\n",
      "Loaded X_test_tfidf\n",
      "Loaded X_test_bert\n",
      "Loaded X_test_cannyhog\n",
      "Loaded X_test_resnet\n",
      "Loaded X_test_vit\n",
      "Loaded y_train\n",
      "Loaded y_test\n"
     ]
    }
   ],
   "execution_count": 21
  },
  {
   "metadata": {
    "ExecuteTime": {
     "end_time": "2025-09-23T19:12:04.262816Z",
     "start_time": "2025-09-23T19:12:04.260701Z"
    }
   },
   "cell_type": "code",
   "source": "print_info_features(X)",
   "id": "e3e29bbdfa78fc82",
   "outputs": [
    {
     "name": "stdout",
     "output_type": "stream",
     "text": [
      "{\n",
      "\ttrain: {\n",
      "\t\ttfidf: \n",
      "\t\t\t<class 'torch.Tensor'>\n",
      "\t\t\tshape = torch.Size([1719, 300]), \n",
      "\t\tbert: \n",
      "\t\t\t<class 'torch.Tensor'>\n",
      "\t\t\tshape = torch.Size([1719, 768]), \n",
      "\t\tcannyhog: \n",
      "\t\t\t<class 'torch.Tensor'>\n",
      "\t\t\tshape = torch.Size([1719, 2917]), \n",
      "\t\tresnet: \n",
      "\t\t\t<class 'torch.Tensor'>\n",
      "\t\t\tshape = torch.Size([1719, 2048]), \n",
      "\t\tvit: \n",
      "\t\t\t<class 'torch.Tensor'>\n",
      "\t\t\tshape = torch.Size([1719, 768]), \n",
      "\t},\n",
      "\ttest: {\n",
      "\t\ttfidf: \n",
      "\t\t\t<class 'torch.Tensor'>\n",
      "\t\t\tshape = torch.Size([191, 300]), \n",
      "\t\tbert: \n",
      "\t\t\t<class 'torch.Tensor'>\n",
      "\t\t\tshape = torch.Size([191, 768]), \n",
      "\t\tcannyhog: \n",
      "\t\t\t<class 'torch.Tensor'>\n",
      "\t\t\tshape = torch.Size([191, 2917]), \n",
      "\t\tresnet: \n",
      "\t\t\t<class 'torch.Tensor'>\n",
      "\t\t\tshape = torch.Size([191, 2048]), \n",
      "\t\tvit: \n",
      "\t\t\t<class 'torch.Tensor'>\n",
      "\t\t\tshape = torch.Size([191, 768]), \n",
      "\t},\n",
      "}\n"
     ]
    }
   ],
   "execution_count": 22
  },
  {
   "metadata": {
    "ExecuteTime": {
     "end_time": "2025-09-23T19:12:04.272862Z",
     "start_time": "2025-09-23T19:12:04.270463Z"
    }
   },
   "cell_type": "code",
   "source": "print_info_targets(y)",
   "id": "4202cf98f206763",
   "outputs": [
    {
     "name": "stdout",
     "output_type": "stream",
     "text": [
      "{\n",
      "\ttrain: \n",
      "\t\t<class 'pandas.core.frame.DataFrame'>\n",
      "\t\tshape   = (1719, 1)\n",
      "\t\tcolumns = ['HistoricalPeriod'],\n",
      "\ttest: \n",
      "\t\t<class 'pandas.core.frame.DataFrame'>\n",
      "\t\tshape   = (191, 1)\n",
      "\t\tcolumns = ['HistoricalPeriod'],\n",
      "}\n"
     ]
    }
   ],
   "execution_count": 23
  },
  {
   "metadata": {},
   "cell_type": "markdown",
   "source": "## Encode Target Labels",
   "id": "bf4f515e21a6d266"
  },
  {
   "metadata": {
    "ExecuteTime": {
     "end_time": "2025-09-23T19:12:04.286243Z",
     "start_time": "2025-09-23T19:12:04.282978Z"
    }
   },
   "cell_type": "code",
   "source": "y, target_enc, le = encode_labels(y, target)",
   "id": "f10eeb6108d09a5d",
   "outputs": [
    {
     "name": "stdout",
     "output_type": "stream",
     "text": [
      "0 --> Archaic\n",
      "1 --> Classical\n",
      "2 --> Hellenistic\n",
      "3 --> Orientalizing\n"
     ]
    }
   ],
   "execution_count": 24
  },
  {
   "metadata": {
    "ExecuteTime": {
     "end_time": "2025-09-23T19:12:04.298189Z",
     "start_time": "2025-09-23T19:12:04.295423Z"
    }
   },
   "cell_type": "code",
   "source": [
    "y = {\n",
    "    subset: torch.tensor(_y[target_enc].values, dtype=torch.long, device=device)\n",
    "    for subset, _y in y.items()\n",
    "}\n",
    "print_info_targets(y)"
   ],
   "id": "cbfb04421a5bb51e",
   "outputs": [
    {
     "name": "stdout",
     "output_type": "stream",
     "text": [
      "{\n",
      "\ttrain: \n",
      "\t\t<class 'torch.Tensor'>\n",
      "\t\tshape   = torch.Size([1719])\n",
      "\ttest: \n",
      "\t\t<class 'torch.Tensor'>\n",
      "\t\tshape   = torch.Size([191])\n",
      "}\n"
     ]
    }
   ],
   "execution_count": 25
  },
  {
   "metadata": {},
   "cell_type": "markdown",
   "source": "## Train-Validation Split\n",
   "id": "40c771b9bafb1818"
  },
  {
   "metadata": {
    "ExecuteTime": {
     "end_time": "2025-09-23T19:12:04.321136Z",
     "start_time": "2025-09-23T19:12:04.315023Z"
    }
   },
   "cell_type": "code",
   "source": "X, y = train_val_split(X, y)",
   "id": "1e8c4575d5d20a7",
   "outputs": [],
   "execution_count": 26
  },
  {
   "metadata": {
    "ExecuteTime": {
     "end_time": "2025-09-23T19:12:04.335172Z",
     "start_time": "2025-09-23T19:12:04.332470Z"
    }
   },
   "cell_type": "code",
   "source": "print_info_features(X)",
   "id": "3394f1985ae38b7c",
   "outputs": [
    {
     "name": "stdout",
     "output_type": "stream",
     "text": [
      "{\n",
      "\ttrain: {\n",
      "\t\ttfidf: \n",
      "\t\t\t<class 'torch.Tensor'>\n",
      "\t\t\tshape = torch.Size([1547, 300]), \n",
      "\t\tbert: \n",
      "\t\t\t<class 'torch.Tensor'>\n",
      "\t\t\tshape = torch.Size([1547, 768]), \n",
      "\t\tcannyhog: \n",
      "\t\t\t<class 'torch.Tensor'>\n",
      "\t\t\tshape = torch.Size([1547, 2917]), \n",
      "\t\tresnet: \n",
      "\t\t\t<class 'torch.Tensor'>\n",
      "\t\t\tshape = torch.Size([1547, 2048]), \n",
      "\t\tvit: \n",
      "\t\t\t<class 'torch.Tensor'>\n",
      "\t\t\tshape = torch.Size([1547, 768]), \n",
      "\t},\n",
      "\tval: {\n",
      "\t\ttfidf: \n",
      "\t\t\t<class 'torch.Tensor'>\n",
      "\t\t\tshape = torch.Size([172, 300]), \n",
      "\t\tbert: \n",
      "\t\t\t<class 'torch.Tensor'>\n",
      "\t\t\tshape = torch.Size([172, 768]), \n",
      "\t\tcannyhog: \n",
      "\t\t\t<class 'torch.Tensor'>\n",
      "\t\t\tshape = torch.Size([172, 2917]), \n",
      "\t\tresnet: \n",
      "\t\t\t<class 'torch.Tensor'>\n",
      "\t\t\tshape = torch.Size([172, 2048]), \n",
      "\t\tvit: \n",
      "\t\t\t<class 'torch.Tensor'>\n",
      "\t\t\tshape = torch.Size([172, 768]), \n",
      "\t},\n",
      "\ttest: {\n",
      "\t\ttfidf: \n",
      "\t\t\t<class 'torch.Tensor'>\n",
      "\t\t\tshape = torch.Size([191, 300]), \n",
      "\t\tbert: \n",
      "\t\t\t<class 'torch.Tensor'>\n",
      "\t\t\tshape = torch.Size([191, 768]), \n",
      "\t\tcannyhog: \n",
      "\t\t\t<class 'torch.Tensor'>\n",
      "\t\t\tshape = torch.Size([191, 2917]), \n",
      "\t\tresnet: \n",
      "\t\t\t<class 'torch.Tensor'>\n",
      "\t\t\tshape = torch.Size([191, 2048]), \n",
      "\t\tvit: \n",
      "\t\t\t<class 'torch.Tensor'>\n",
      "\t\t\tshape = torch.Size([191, 768]), \n",
      "\t},\n",
      "}\n"
     ]
    }
   ],
   "execution_count": 27
  },
  {
   "metadata": {
    "ExecuteTime": {
     "end_time": "2025-09-23T19:12:04.348531Z",
     "start_time": "2025-09-23T19:12:04.346024Z"
    }
   },
   "cell_type": "code",
   "source": "print_info_targets(y)",
   "id": "d64dfa95c0bffc63",
   "outputs": [
    {
     "name": "stdout",
     "output_type": "stream",
     "text": [
      "{\n",
      "\ttrain: \n",
      "\t\t<class 'torch.Tensor'>\n",
      "\t\tshape   = torch.Size([1547])\n",
      "\tval: \n",
      "\t\t<class 'torch.Tensor'>\n",
      "\t\tshape   = torch.Size([172])\n",
      "\ttest: \n",
      "\t\t<class 'torch.Tensor'>\n",
      "\t\tshape   = torch.Size([191])\n",
      "}\n"
     ]
    }
   ],
   "execution_count": 28
  },
  {
   "metadata": {},
   "cell_type": "markdown",
   "source": "## Dimensions",
   "id": "d56e2fe43c849d1b"
  },
  {
   "metadata": {
    "ExecuteTime": {
     "end_time": "2025-09-23T19:12:04.361508Z",
     "start_time": "2025-09-23T19:12:04.359538Z"
    }
   },
   "cell_type": "code",
   "source": "X_dim, y_dim = get_dimensions(X, y, le)",
   "id": "29e7fb46b14de243",
   "outputs": [
    {
     "name": "stdout",
     "output_type": "stream",
     "text": [
      "X Dimensions: {'tfidf': 300, 'bert': 768, 'cannyhog': 2917, 'resnet': 2048, 'vit': 768}\n",
      "y Dimensions: 4\n"
     ]
    }
   ],
   "execution_count": 29
  },
  {
   "metadata": {},
   "cell_type": "markdown",
   "source": "## Torch Datasets and Dataloaders",
   "id": "9dfca368bb7a9da8"
  },
  {
   "metadata": {
    "ExecuteTime": {
     "end_time": "2025-09-23T19:12:04.375119Z",
     "start_time": "2025-09-23T19:12:04.372346Z"
    }
   },
   "cell_type": "code",
   "source": [
    "datasets = create_pottery_datasets(X, y)\n",
    "loaders = create_pottery_dataloaders(datasets)"
   ],
   "id": "4fc04a4ed421d770",
   "outputs": [],
   "execution_count": 30
  },
  {
   "metadata": {},
   "cell_type": "markdown",
   "source": "## Initialize Model",
   "id": "46ad5e863465d384"
  },
  {
   "metadata": {
    "ExecuteTime": {
     "end_time": "2025-09-23T19:12:04.393470Z",
     "start_time": "2025-09-23T19:12:04.391177Z"
    }
   },
   "cell_type": "code",
   "source": "hidden_size = 512",
   "id": "322c48c009bf4acf",
   "outputs": [],
   "execution_count": 31
  },
  {
   "metadata": {
    "ExecuteTime": {
     "end_time": "2025-09-23T19:12:04.471173Z",
     "start_time": "2025-09-23T19:12:04.416963Z"
    }
   },
   "cell_type": "code",
   "source": [
    "models = {\n",
    "             ft: PotteryChronologyPredictor([X_dim[ft]], y_dim, hidden_size)\n",
    "             for ft in feature_types\n",
    "         } | {\n",
    "             ft_txt + \" + \" + ft_img: PotteryChronologyPredictor([X_dim[ft_txt], X_dim[ft_img]], y_dim, hidden_size)\n",
    "             for ft_txt, ft_img in feature_type_combos\n",
    "         }"
   ],
   "id": "700579b2f014d720",
   "outputs": [],
   "execution_count": 32
  },
  {
   "metadata": {
    "ExecuteTime": {
     "end_time": "2025-09-23T19:12:04.601855Z",
     "start_time": "2025-09-23T19:12:04.474693Z"
    }
   },
   "cell_type": "code",
   "source": [
    "for ft, model in models.items():\n",
    "    print(f\"\\n\\nMODEL SUMMARY - FEATURE TYPE: {ft.upper()}\")\n",
    "    model.summary()"
   ],
   "id": "cab48e9a6bf61233",
   "outputs": [
    {
     "name": "stdout",
     "output_type": "stream",
     "text": [
      "\n",
      "\n",
      "MODEL SUMMARY - FEATURE TYPE: TFIDF\n",
      "============================================================================================================================================\n",
      "Layer (type:depth-idx)                   Input Shape               Output Shape              Param #                   Mult-Adds\n",
      "============================================================================================================================================\n",
      "PotteryChronologyPredictor               [1, 300]                  [1, 4]                    --                        --\n",
      "├─ModuleList: 1-1                        --                        --                        --                        --\n",
      "│    └─Sequential: 2-1                   [1, 300]                  [1, 512]                  --                        --\n",
      "│    │    └─Linear: 3-1                  [1, 300]                  [1, 512]                  154,112                   154,112\n",
      "│    │    └─ReLU: 3-2                    [1, 512]                  [1, 512]                  --                        --\n",
      "│    │    └─Dropout: 3-3                 [1, 512]                  [1, 512]                  --                        --\n",
      "├─Sequential: 1-2                        [1, 512]                  [1, 4]                    --                        --\n",
      "│    └─Linear: 2-2                       [1, 512]                  [1, 512]                  262,656                   262,656\n",
      "│    └─ReLU: 2-3                         [1, 512]                  [1, 512]                  --                        --\n",
      "│    └─Dropout: 2-4                      [1, 512]                  [1, 512]                  --                        --\n",
      "│    └─Linear: 2-5                       [1, 512]                  [1, 256]                  131,328                   131,328\n",
      "│    └─ReLU: 2-6                         [1, 256]                  [1, 256]                  --                        --\n",
      "│    └─Dropout: 2-7                      [1, 256]                  [1, 256]                  --                        --\n",
      "│    └─Linear: 2-8                       [1, 256]                  [1, 128]                  32,896                    32,896\n",
      "│    └─ReLU: 2-9                         [1, 128]                  [1, 128]                  --                        --\n",
      "│    └─Dropout: 2-10                     [1, 128]                  [1, 128]                  --                        --\n",
      "│    └─Linear: 2-11                      [1, 128]                  [1, 4]                    516                       516\n",
      "============================================================================================================================================\n",
      "Total params: 581,508\n",
      "Trainable params: 581,508\n",
      "Non-trainable params: 0\n",
      "Total mult-adds (Units.MEGABYTES): 0.58\n",
      "============================================================================================================================================\n",
      "Input size (MB): 0.00\n",
      "Forward/backward pass size (MB): 0.01\n",
      "Params size (MB): 2.33\n",
      "Estimated Total Size (MB): 2.34\n",
      "============================================================================================================================================\n",
      "\n",
      "\n",
      "MODEL SUMMARY - FEATURE TYPE: BERT\n",
      "============================================================================================================================================\n",
      "Layer (type:depth-idx)                   Input Shape               Output Shape              Param #                   Mult-Adds\n",
      "============================================================================================================================================\n",
      "PotteryChronologyPredictor               [1, 768]                  [1, 4]                    --                        --\n",
      "├─ModuleList: 1-1                        --                        --                        --                        --\n",
      "│    └─Sequential: 2-1                   [1, 768]                  [1, 512]                  --                        --\n",
      "│    │    └─Linear: 3-1                  [1, 768]                  [1, 512]                  393,728                   393,728\n",
      "│    │    └─ReLU: 3-2                    [1, 512]                  [1, 512]                  --                        --\n",
      "│    │    └─Dropout: 3-3                 [1, 512]                  [1, 512]                  --                        --\n",
      "├─Sequential: 1-2                        [1, 512]                  [1, 4]                    --                        --\n",
      "│    └─Linear: 2-2                       [1, 512]                  [1, 512]                  262,656                   262,656\n",
      "│    └─ReLU: 2-3                         [1, 512]                  [1, 512]                  --                        --\n",
      "│    └─Dropout: 2-4                      [1, 512]                  [1, 512]                  --                        --\n",
      "│    └─Linear: 2-5                       [1, 512]                  [1, 256]                  131,328                   131,328\n",
      "│    └─ReLU: 2-6                         [1, 256]                  [1, 256]                  --                        --\n",
      "│    └─Dropout: 2-7                      [1, 256]                  [1, 256]                  --                        --\n",
      "│    └─Linear: 2-8                       [1, 256]                  [1, 128]                  32,896                    32,896\n",
      "│    └─ReLU: 2-9                         [1, 128]                  [1, 128]                  --                        --\n",
      "│    └─Dropout: 2-10                     [1, 128]                  [1, 128]                  --                        --\n",
      "│    └─Linear: 2-11                      [1, 128]                  [1, 4]                    516                       516\n",
      "============================================================================================================================================\n",
      "Total params: 821,124\n",
      "Trainable params: 821,124\n",
      "Non-trainable params: 0\n",
      "Total mult-adds (Units.MEGABYTES): 0.82\n",
      "============================================================================================================================================\n",
      "Input size (MB): 0.00\n",
      "Forward/backward pass size (MB): 0.01\n",
      "Params size (MB): 3.28\n",
      "Estimated Total Size (MB): 3.30\n",
      "============================================================================================================================================\n",
      "\n",
      "\n",
      "MODEL SUMMARY - FEATURE TYPE: CANNYHOG\n",
      "============================================================================================================================================\n",
      "Layer (type:depth-idx)                   Input Shape               Output Shape              Param #                   Mult-Adds\n",
      "============================================================================================================================================\n",
      "PotteryChronologyPredictor               [1, 2917]                 [1, 4]                    --                        --\n",
      "├─ModuleList: 1-1                        --                        --                        --                        --\n",
      "│    └─Sequential: 2-1                   [1, 2917]                 [1, 512]                  --                        --\n",
      "│    │    └─Linear: 3-1                  [1, 2917]                 [1, 512]                  1,494,016                 1,494,016\n",
      "│    │    └─ReLU: 3-2                    [1, 512]                  [1, 512]                  --                        --\n",
      "│    │    └─Dropout: 3-3                 [1, 512]                  [1, 512]                  --                        --\n",
      "├─Sequential: 1-2                        [1, 512]                  [1, 4]                    --                        --\n",
      "│    └─Linear: 2-2                       [1, 512]                  [1, 512]                  262,656                   262,656\n",
      "│    └─ReLU: 2-3                         [1, 512]                  [1, 512]                  --                        --\n",
      "│    └─Dropout: 2-4                      [1, 512]                  [1, 512]                  --                        --\n",
      "│    └─Linear: 2-5                       [1, 512]                  [1, 256]                  131,328                   131,328\n",
      "│    └─ReLU: 2-6                         [1, 256]                  [1, 256]                  --                        --\n",
      "│    └─Dropout: 2-7                      [1, 256]                  [1, 256]                  --                        --\n",
      "│    └─Linear: 2-8                       [1, 256]                  [1, 128]                  32,896                    32,896\n",
      "│    └─ReLU: 2-9                         [1, 128]                  [1, 128]                  --                        --\n",
      "│    └─Dropout: 2-10                     [1, 128]                  [1, 128]                  --                        --\n",
      "│    └─Linear: 2-11                      [1, 128]                  [1, 4]                    516                       516\n",
      "============================================================================================================================================\n",
      "Total params: 1,921,412\n",
      "Trainable params: 1,921,412\n",
      "Non-trainable params: 0\n",
      "Total mult-adds (Units.MEGABYTES): 1.92\n",
      "============================================================================================================================================\n",
      "Input size (MB): 0.01\n",
      "Forward/backward pass size (MB): 0.01\n",
      "Params size (MB): 7.69\n",
      "Estimated Total Size (MB): 7.71\n",
      "============================================================================================================================================\n",
      "\n",
      "\n",
      "MODEL SUMMARY - FEATURE TYPE: RESNET\n",
      "============================================================================================================================================\n",
      "Layer (type:depth-idx)                   Input Shape               Output Shape              Param #                   Mult-Adds\n",
      "============================================================================================================================================\n",
      "PotteryChronologyPredictor               [1, 2048]                 [1, 4]                    --                        --\n",
      "├─ModuleList: 1-1                        --                        --                        --                        --\n",
      "│    └─Sequential: 2-1                   [1, 2048]                 [1, 512]                  --                        --\n",
      "│    │    └─Linear: 3-1                  [1, 2048]                 [1, 512]                  1,049,088                 1,049,088\n",
      "│    │    └─ReLU: 3-2                    [1, 512]                  [1, 512]                  --                        --\n",
      "│    │    └─Dropout: 3-3                 [1, 512]                  [1, 512]                  --                        --\n",
      "├─Sequential: 1-2                        [1, 512]                  [1, 4]                    --                        --\n",
      "│    └─Linear: 2-2                       [1, 512]                  [1, 512]                  262,656                   262,656\n",
      "│    └─ReLU: 2-3                         [1, 512]                  [1, 512]                  --                        --\n",
      "│    └─Dropout: 2-4                      [1, 512]                  [1, 512]                  --                        --\n",
      "│    └─Linear: 2-5                       [1, 512]                  [1, 256]                  131,328                   131,328\n",
      "│    └─ReLU: 2-6                         [1, 256]                  [1, 256]                  --                        --\n",
      "│    └─Dropout: 2-7                      [1, 256]                  [1, 256]                  --                        --\n",
      "│    └─Linear: 2-8                       [1, 256]                  [1, 128]                  32,896                    32,896\n",
      "│    └─ReLU: 2-9                         [1, 128]                  [1, 128]                  --                        --\n",
      "│    └─Dropout: 2-10                     [1, 128]                  [1, 128]                  --                        --\n",
      "│    └─Linear: 2-11                      [1, 128]                  [1, 4]                    516                       516\n",
      "============================================================================================================================================\n",
      "Total params: 1,476,484\n",
      "Trainable params: 1,476,484\n",
      "Non-trainable params: 0\n",
      "Total mult-adds (Units.MEGABYTES): 1.48\n",
      "============================================================================================================================================\n",
      "Input size (MB): 0.01\n",
      "Forward/backward pass size (MB): 0.01\n",
      "Params size (MB): 5.91\n",
      "Estimated Total Size (MB): 5.93\n",
      "============================================================================================================================================\n",
      "\n",
      "\n",
      "MODEL SUMMARY - FEATURE TYPE: VIT\n",
      "============================================================================================================================================\n",
      "Layer (type:depth-idx)                   Input Shape               Output Shape              Param #                   Mult-Adds\n",
      "============================================================================================================================================\n",
      "PotteryChronologyPredictor               [1, 768]                  [1, 4]                    --                        --\n",
      "├─ModuleList: 1-1                        --                        --                        --                        --\n",
      "│    └─Sequential: 2-1                   [1, 768]                  [1, 512]                  --                        --\n",
      "│    │    └─Linear: 3-1                  [1, 768]                  [1, 512]                  393,728                   393,728\n",
      "│    │    └─ReLU: 3-2                    [1, 512]                  [1, 512]                  --                        --\n",
      "│    │    └─Dropout: 3-3                 [1, 512]                  [1, 512]                  --                        --\n",
      "├─Sequential: 1-2                        [1, 512]                  [1, 4]                    --                        --\n",
      "│    └─Linear: 2-2                       [1, 512]                  [1, 512]                  262,656                   262,656\n",
      "│    └─ReLU: 2-3                         [1, 512]                  [1, 512]                  --                        --\n",
      "│    └─Dropout: 2-4                      [1, 512]                  [1, 512]                  --                        --\n",
      "│    └─Linear: 2-5                       [1, 512]                  [1, 256]                  131,328                   131,328\n",
      "│    └─ReLU: 2-6                         [1, 256]                  [1, 256]                  --                        --\n",
      "│    └─Dropout: 2-7                      [1, 256]                  [1, 256]                  --                        --\n",
      "│    └─Linear: 2-8                       [1, 256]                  [1, 128]                  32,896                    32,896\n",
      "│    └─ReLU: 2-9                         [1, 128]                  [1, 128]                  --                        --\n",
      "│    └─Dropout: 2-10                     [1, 128]                  [1, 128]                  --                        --\n",
      "│    └─Linear: 2-11                      [1, 128]                  [1, 4]                    516                       516\n",
      "============================================================================================================================================\n",
      "Total params: 821,124\n",
      "Trainable params: 821,124\n",
      "Non-trainable params: 0\n",
      "Total mult-adds (Units.MEGABYTES): 0.82\n",
      "============================================================================================================================================\n",
      "Input size (MB): 0.00\n",
      "Forward/backward pass size (MB): 0.01\n",
      "Params size (MB): 3.28\n",
      "Estimated Total Size (MB): 3.30\n",
      "============================================================================================================================================\n",
      "\n",
      "\n",
      "MODEL SUMMARY - FEATURE TYPE: TFIDF + CANNYHOG\n",
      "============================================================================================================================================\n",
      "Layer (type:depth-idx)                   Input Shape               Output Shape              Param #                   Mult-Adds\n",
      "============================================================================================================================================\n",
      "PotteryChronologyPredictor               [1, 300]                  [1, 4]                    --                        --\n",
      "├─ModuleList: 1-1                        --                        --                        --                        --\n",
      "│    └─Sequential: 2-1                   [1, 300]                  [1, 512]                  --                        --\n",
      "│    │    └─Linear: 3-1                  [1, 300]                  [1, 512]                  154,112                   154,112\n",
      "│    │    └─ReLU: 3-2                    [1, 512]                  [1, 512]                  --                        --\n",
      "│    │    └─Dropout: 3-3                 [1, 512]                  [1, 512]                  --                        --\n",
      "│    └─Sequential: 2-2                   [1, 2917]                 [1, 512]                  --                        --\n",
      "│    │    └─Linear: 3-4                  [1, 2917]                 [1, 512]                  1,494,016                 1,494,016\n",
      "│    │    └─ReLU: 3-5                    [1, 512]                  [1, 512]                  --                        --\n",
      "│    │    └─Dropout: 3-6                 [1, 512]                  [1, 512]                  --                        --\n",
      "├─Sequential: 1-2                        [1, 1024]                 [1, 4]                    --                        --\n",
      "│    └─Linear: 2-3                       [1, 1024]                 [1, 512]                  524,800                   524,800\n",
      "│    └─ReLU: 2-4                         [1, 512]                  [1, 512]                  --                        --\n",
      "│    └─Dropout: 2-5                      [1, 512]                  [1, 512]                  --                        --\n",
      "│    └─Linear: 2-6                       [1, 512]                  [1, 256]                  131,328                   131,328\n",
      "│    └─ReLU: 2-7                         [1, 256]                  [1, 256]                  --                        --\n",
      "│    └─Dropout: 2-8                      [1, 256]                  [1, 256]                  --                        --\n",
      "│    └─Linear: 2-9                       [1, 256]                  [1, 128]                  32,896                    32,896\n",
      "│    └─ReLU: 2-10                        [1, 128]                  [1, 128]                  --                        --\n",
      "│    └─Dropout: 2-11                     [1, 128]                  [1, 128]                  --                        --\n",
      "│    └─Linear: 2-12                      [1, 128]                  [1, 4]                    516                       516\n",
      "============================================================================================================================================\n",
      "Total params: 2,337,668\n",
      "Trainable params: 2,337,668\n",
      "Non-trainable params: 0\n",
      "Total mult-adds (Units.MEGABYTES): 2.34\n",
      "============================================================================================================================================\n",
      "Input size (MB): 0.01\n",
      "Forward/backward pass size (MB): 0.02\n",
      "Params size (MB): 9.35\n",
      "Estimated Total Size (MB): 9.38\n",
      "============================================================================================================================================\n",
      "\n",
      "\n",
      "MODEL SUMMARY - FEATURE TYPE: TFIDF + RESNET\n",
      "============================================================================================================================================\n",
      "Layer (type:depth-idx)                   Input Shape               Output Shape              Param #                   Mult-Adds\n",
      "============================================================================================================================================\n",
      "PotteryChronologyPredictor               [1, 300]                  [1, 4]                    --                        --\n",
      "├─ModuleList: 1-1                        --                        --                        --                        --\n",
      "│    └─Sequential: 2-1                   [1, 300]                  [1, 512]                  --                        --\n",
      "│    │    └─Linear: 3-1                  [1, 300]                  [1, 512]                  154,112                   154,112\n",
      "│    │    └─ReLU: 3-2                    [1, 512]                  [1, 512]                  --                        --\n",
      "│    │    └─Dropout: 3-3                 [1, 512]                  [1, 512]                  --                        --\n",
      "│    └─Sequential: 2-2                   [1, 2048]                 [1, 512]                  --                        --\n",
      "│    │    └─Linear: 3-4                  [1, 2048]                 [1, 512]                  1,049,088                 1,049,088\n",
      "│    │    └─ReLU: 3-5                    [1, 512]                  [1, 512]                  --                        --\n",
      "│    │    └─Dropout: 3-6                 [1, 512]                  [1, 512]                  --                        --\n",
      "├─Sequential: 1-2                        [1, 1024]                 [1, 4]                    --                        --\n",
      "│    └─Linear: 2-3                       [1, 1024]                 [1, 512]                  524,800                   524,800\n",
      "│    └─ReLU: 2-4                         [1, 512]                  [1, 512]                  --                        --\n",
      "│    └─Dropout: 2-5                      [1, 512]                  [1, 512]                  --                        --\n",
      "│    └─Linear: 2-6                       [1, 512]                  [1, 256]                  131,328                   131,328\n",
      "│    └─ReLU: 2-7                         [1, 256]                  [1, 256]                  --                        --\n",
      "│    └─Dropout: 2-8                      [1, 256]                  [1, 256]                  --                        --\n",
      "│    └─Linear: 2-9                       [1, 256]                  [1, 128]                  32,896                    32,896\n",
      "│    └─ReLU: 2-10                        [1, 128]                  [1, 128]                  --                        --\n",
      "│    └─Dropout: 2-11                     [1, 128]                  [1, 128]                  --                        --\n",
      "│    └─Linear: 2-12                      [1, 128]                  [1, 4]                    516                       516\n",
      "============================================================================================================================================\n",
      "Total params: 1,892,740\n",
      "Trainable params: 1,892,740\n",
      "Non-trainable params: 0\n",
      "Total mult-adds (Units.MEGABYTES): 1.89\n",
      "============================================================================================================================================\n",
      "Input size (MB): 0.01\n",
      "Forward/backward pass size (MB): 0.02\n",
      "Params size (MB): 7.57\n",
      "Estimated Total Size (MB): 7.60\n",
      "============================================================================================================================================\n",
      "\n",
      "\n",
      "MODEL SUMMARY - FEATURE TYPE: TFIDF + VIT\n",
      "============================================================================================================================================\n",
      "Layer (type:depth-idx)                   Input Shape               Output Shape              Param #                   Mult-Adds\n",
      "============================================================================================================================================\n",
      "PotteryChronologyPredictor               [1, 300]                  [1, 4]                    --                        --\n",
      "├─ModuleList: 1-1                        --                        --                        --                        --\n",
      "│    └─Sequential: 2-1                   [1, 300]                  [1, 512]                  --                        --\n",
      "│    │    └─Linear: 3-1                  [1, 300]                  [1, 512]                  154,112                   154,112\n",
      "│    │    └─ReLU: 3-2                    [1, 512]                  [1, 512]                  --                        --\n",
      "│    │    └─Dropout: 3-3                 [1, 512]                  [1, 512]                  --                        --\n",
      "│    └─Sequential: 2-2                   [1, 768]                  [1, 512]                  --                        --\n",
      "│    │    └─Linear: 3-4                  [1, 768]                  [1, 512]                  393,728                   393,728\n",
      "│    │    └─ReLU: 3-5                    [1, 512]                  [1, 512]                  --                        --\n",
      "│    │    └─Dropout: 3-6                 [1, 512]                  [1, 512]                  --                        --\n",
      "├─Sequential: 1-2                        [1, 1024]                 [1, 4]                    --                        --\n",
      "│    └─Linear: 2-3                       [1, 1024]                 [1, 512]                  524,800                   524,800\n",
      "│    └─ReLU: 2-4                         [1, 512]                  [1, 512]                  --                        --\n",
      "│    └─Dropout: 2-5                      [1, 512]                  [1, 512]                  --                        --\n",
      "│    └─Linear: 2-6                       [1, 512]                  [1, 256]                  131,328                   131,328\n",
      "│    └─ReLU: 2-7                         [1, 256]                  [1, 256]                  --                        --\n",
      "│    └─Dropout: 2-8                      [1, 256]                  [1, 256]                  --                        --\n",
      "│    └─Linear: 2-9                       [1, 256]                  [1, 128]                  32,896                    32,896\n",
      "│    └─ReLU: 2-10                        [1, 128]                  [1, 128]                  --                        --\n",
      "│    └─Dropout: 2-11                     [1, 128]                  [1, 128]                  --                        --\n",
      "│    └─Linear: 2-12                      [1, 128]                  [1, 4]                    516                       516\n",
      "============================================================================================================================================\n",
      "Total params: 1,237,380\n",
      "Trainable params: 1,237,380\n",
      "Non-trainable params: 0\n",
      "Total mult-adds (Units.MEGABYTES): 1.24\n",
      "============================================================================================================================================\n",
      "Input size (MB): 0.00\n",
      "Forward/backward pass size (MB): 0.02\n",
      "Params size (MB): 4.95\n",
      "Estimated Total Size (MB): 4.97\n",
      "============================================================================================================================================\n",
      "\n",
      "\n",
      "MODEL SUMMARY - FEATURE TYPE: BERT + CANNYHOG\n",
      "============================================================================================================================================\n",
      "Layer (type:depth-idx)                   Input Shape               Output Shape              Param #                   Mult-Adds\n",
      "============================================================================================================================================\n",
      "PotteryChronologyPredictor               [1, 768]                  [1, 4]                    --                        --\n",
      "├─ModuleList: 1-1                        --                        --                        --                        --\n",
      "│    └─Sequential: 2-1                   [1, 768]                  [1, 512]                  --                        --\n",
      "│    │    └─Linear: 3-1                  [1, 768]                  [1, 512]                  393,728                   393,728\n",
      "│    │    └─ReLU: 3-2                    [1, 512]                  [1, 512]                  --                        --\n",
      "│    │    └─Dropout: 3-3                 [1, 512]                  [1, 512]                  --                        --\n",
      "│    └─Sequential: 2-2                   [1, 2917]                 [1, 512]                  --                        --\n",
      "│    │    └─Linear: 3-4                  [1, 2917]                 [1, 512]                  1,494,016                 1,494,016\n",
      "│    │    └─ReLU: 3-5                    [1, 512]                  [1, 512]                  --                        --\n",
      "│    │    └─Dropout: 3-6                 [1, 512]                  [1, 512]                  --                        --\n",
      "├─Sequential: 1-2                        [1, 1024]                 [1, 4]                    --                        --\n",
      "│    └─Linear: 2-3                       [1, 1024]                 [1, 512]                  524,800                   524,800\n",
      "│    └─ReLU: 2-4                         [1, 512]                  [1, 512]                  --                        --\n",
      "│    └─Dropout: 2-5                      [1, 512]                  [1, 512]                  --                        --\n",
      "│    └─Linear: 2-6                       [1, 512]                  [1, 256]                  131,328                   131,328\n",
      "│    └─ReLU: 2-7                         [1, 256]                  [1, 256]                  --                        --\n",
      "│    └─Dropout: 2-8                      [1, 256]                  [1, 256]                  --                        --\n",
      "│    └─Linear: 2-9                       [1, 256]                  [1, 128]                  32,896                    32,896\n",
      "│    └─ReLU: 2-10                        [1, 128]                  [1, 128]                  --                        --\n",
      "│    └─Dropout: 2-11                     [1, 128]                  [1, 128]                  --                        --\n",
      "│    └─Linear: 2-12                      [1, 128]                  [1, 4]                    516                       516\n",
      "============================================================================================================================================\n",
      "Total params: 2,577,284\n",
      "Trainable params: 2,577,284\n",
      "Non-trainable params: 0\n",
      "Total mult-adds (Units.MEGABYTES): 2.58\n",
      "============================================================================================================================================\n",
      "Input size (MB): 0.01\n",
      "Forward/backward pass size (MB): 0.02\n",
      "Params size (MB): 10.31\n",
      "Estimated Total Size (MB): 10.34\n",
      "============================================================================================================================================\n",
      "\n",
      "\n",
      "MODEL SUMMARY - FEATURE TYPE: BERT + RESNET\n",
      "============================================================================================================================================\n",
      "Layer (type:depth-idx)                   Input Shape               Output Shape              Param #                   Mult-Adds\n",
      "============================================================================================================================================\n",
      "PotteryChronologyPredictor               [1, 768]                  [1, 4]                    --                        --\n",
      "├─ModuleList: 1-1                        --                        --                        --                        --\n",
      "│    └─Sequential: 2-1                   [1, 768]                  [1, 512]                  --                        --\n",
      "│    │    └─Linear: 3-1                  [1, 768]                  [1, 512]                  393,728                   393,728\n",
      "│    │    └─ReLU: 3-2                    [1, 512]                  [1, 512]                  --                        --\n",
      "│    │    └─Dropout: 3-3                 [1, 512]                  [1, 512]                  --                        --\n",
      "│    └─Sequential: 2-2                   [1, 2048]                 [1, 512]                  --                        --\n",
      "│    │    └─Linear: 3-4                  [1, 2048]                 [1, 512]                  1,049,088                 1,049,088\n",
      "│    │    └─ReLU: 3-5                    [1, 512]                  [1, 512]                  --                        --\n",
      "│    │    └─Dropout: 3-6                 [1, 512]                  [1, 512]                  --                        --\n",
      "├─Sequential: 1-2                        [1, 1024]                 [1, 4]                    --                        --\n",
      "│    └─Linear: 2-3                       [1, 1024]                 [1, 512]                  524,800                   524,800\n",
      "│    └─ReLU: 2-4                         [1, 512]                  [1, 512]                  --                        --\n",
      "│    └─Dropout: 2-5                      [1, 512]                  [1, 512]                  --                        --\n",
      "│    └─Linear: 2-6                       [1, 512]                  [1, 256]                  131,328                   131,328\n",
      "│    └─ReLU: 2-7                         [1, 256]                  [1, 256]                  --                        --\n",
      "│    └─Dropout: 2-8                      [1, 256]                  [1, 256]                  --                        --\n",
      "│    └─Linear: 2-9                       [1, 256]                  [1, 128]                  32,896                    32,896\n",
      "│    └─ReLU: 2-10                        [1, 128]                  [1, 128]                  --                        --\n",
      "│    └─Dropout: 2-11                     [1, 128]                  [1, 128]                  --                        --\n",
      "│    └─Linear: 2-12                      [1, 128]                  [1, 4]                    516                       516\n",
      "============================================================================================================================================\n",
      "Total params: 2,132,356\n",
      "Trainable params: 2,132,356\n",
      "Non-trainable params: 0\n",
      "Total mult-adds (Units.MEGABYTES): 2.13\n",
      "============================================================================================================================================\n",
      "Input size (MB): 0.01\n",
      "Forward/backward pass size (MB): 0.02\n",
      "Params size (MB): 8.53\n",
      "Estimated Total Size (MB): 8.56\n",
      "============================================================================================================================================\n",
      "\n",
      "\n",
      "MODEL SUMMARY - FEATURE TYPE: BERT + VIT\n",
      "============================================================================================================================================\n",
      "Layer (type:depth-idx)                   Input Shape               Output Shape              Param #                   Mult-Adds\n",
      "============================================================================================================================================\n",
      "PotteryChronologyPredictor               [1, 768]                  [1, 4]                    --                        --\n",
      "├─ModuleList: 1-1                        --                        --                        --                        --\n",
      "│    └─Sequential: 2-1                   [1, 768]                  [1, 512]                  --                        --\n",
      "│    │    └─Linear: 3-1                  [1, 768]                  [1, 512]                  393,728                   393,728\n",
      "│    │    └─ReLU: 3-2                    [1, 512]                  [1, 512]                  --                        --\n",
      "│    │    └─Dropout: 3-3                 [1, 512]                  [1, 512]                  --                        --\n",
      "│    └─Sequential: 2-2                   [1, 768]                  [1, 512]                  --                        --\n",
      "│    │    └─Linear: 3-4                  [1, 768]                  [1, 512]                  393,728                   393,728\n",
      "│    │    └─ReLU: 3-5                    [1, 512]                  [1, 512]                  --                        --\n",
      "│    │    └─Dropout: 3-6                 [1, 512]                  [1, 512]                  --                        --\n",
      "├─Sequential: 1-2                        [1, 1024]                 [1, 4]                    --                        --\n",
      "│    └─Linear: 2-3                       [1, 1024]                 [1, 512]                  524,800                   524,800\n",
      "│    └─ReLU: 2-4                         [1, 512]                  [1, 512]                  --                        --\n",
      "│    └─Dropout: 2-5                      [1, 512]                  [1, 512]                  --                        --\n",
      "│    └─Linear: 2-6                       [1, 512]                  [1, 256]                  131,328                   131,328\n",
      "│    └─ReLU: 2-7                         [1, 256]                  [1, 256]                  --                        --\n",
      "│    └─Dropout: 2-8                      [1, 256]                  [1, 256]                  --                        --\n",
      "│    └─Linear: 2-9                       [1, 256]                  [1, 128]                  32,896                    32,896\n",
      "│    └─ReLU: 2-10                        [1, 128]                  [1, 128]                  --                        --\n",
      "│    └─Dropout: 2-11                     [1, 128]                  [1, 128]                  --                        --\n",
      "│    └─Linear: 2-12                      [1, 128]                  [1, 4]                    516                       516\n",
      "============================================================================================================================================\n",
      "Total params: 1,476,996\n",
      "Trainable params: 1,476,996\n",
      "Non-trainable params: 0\n",
      "Total mult-adds (Units.MEGABYTES): 1.48\n",
      "============================================================================================================================================\n",
      "Input size (MB): 0.01\n",
      "Forward/backward pass size (MB): 0.02\n",
      "Params size (MB): 5.91\n",
      "Estimated Total Size (MB): 5.93\n",
      "============================================================================================================================================\n"
     ]
    }
   ],
   "execution_count": 33
  }
 ],
 "metadata": {
  "kernelspec": {
   "display_name": "Python 3",
   "language": "python",
   "name": "python3"
  },
  "language_info": {
   "codemirror_mode": {
    "name": "ipython",
    "version": 2
   },
   "file_extension": ".py",
   "mimetype": "text/x-python",
   "name": "python",
   "nbconvert_exporter": "python",
   "pygments_lexer": "ipython2",
   "version": "2.7.6"
  }
 },
 "nbformat": 4,
 "nbformat_minor": 5
}
