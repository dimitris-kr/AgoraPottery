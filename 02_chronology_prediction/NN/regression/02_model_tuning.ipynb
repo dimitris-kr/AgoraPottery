{
 "cells": [
  {
   "cell_type": "code",
   "id": "e68f91afa2b0f236",
   "metadata": {
    "ExecuteTime": {
     "end_time": "2025-10-03T21:52:28.369592Z",
     "start_time": "2025-10-03T21:52:28.366560Z"
    }
   },
   "source": [
    "import sys\n",
    "import os"
   ],
   "outputs": [],
   "execution_count": 1
  },
  {
   "cell_type": "code",
   "id": "42517ee4fccad69f",
   "metadata": {
    "ExecuteTime": {
     "end_time": "2025-10-03T21:52:29.379026Z",
     "start_time": "2025-10-03T21:52:28.385391Z"
    }
   },
   "source": [
    "import torch\n",
    "import torch.nn as nn"
   ],
   "outputs": [],
   "execution_count": 2
  },
  {
   "metadata": {
    "ExecuteTime": {
     "end_time": "2025-10-03T21:52:30.354314Z",
     "start_time": "2025-10-03T21:52:29.465965Z"
    }
   },
   "cell_type": "code",
   "source": [
    "sys.path.append(os.path.abspath(\"../..\"))\n",
    "from utils import read_features, read_targets, print_info_features, print_info_targets, train_val_split, get_dimensions, scale, \\\n",
    "    metrics_r, get_device, plot_history"
   ],
   "id": "7f7dbb3428229c8b",
   "outputs": [],
   "execution_count": 3
  },
  {
   "cell_type": "code",
   "id": "initial_id",
   "metadata": {
    "ExecuteTime": {
     "end_time": "2025-10-03T21:52:30.370031Z",
     "start_time": "2025-10-03T21:52:30.361115Z"
    }
   },
   "source": [
    "sys.path.append(os.path.abspath(\"..\"))\n",
    "from PotteryDataset import create_pottery_dataloaders, create_pottery_datasets, feature_types, feature_type_combos\n",
    "from PotteryChronologyPredictor import PotteryChronologyPredictor, train, tune"
   ],
   "outputs": [],
   "execution_count": 4
  },
  {
   "cell_type": "markdown",
   "id": "46ea642887520f09",
   "metadata": {},
   "source": [
    "## Set Working Device"
   ]
  },
  {
   "cell_type": "code",
   "id": "f150f18243caa87e",
   "metadata": {
    "ExecuteTime": {
     "end_time": "2025-10-03T21:52:30.389243Z",
     "start_time": "2025-10-03T21:52:30.373899Z"
    }
   },
   "source": [
    "device = get_device()"
   ],
   "outputs": [
    {
     "name": "stdout",
     "output_type": "stream",
     "text": [
      "PyTorch Version: 2.5.1\n",
      "CUDA is available\n",
      "GPU: NVIDIA GeForce RTX 4080\n",
      "Using Device: cuda\n"
     ]
    }
   ],
   "execution_count": 5
  },
  {
   "cell_type": "markdown",
   "id": "cf589df8516ba49",
   "metadata": {},
   "source": [
    "## Read Features and Targets"
   ]
  },
  {
   "cell_type": "code",
   "id": "d5c3de52cb75fc9f",
   "metadata": {
    "ExecuteTime": {
     "end_time": "2025-10-03T21:52:30.410928Z",
     "start_time": "2025-10-03T21:52:30.408234Z"
    }
   },
   "source": "path = os.path.abspath(os.path.join(os.getcwd(), \"../../../data/chronology_prediction\"))",
   "outputs": [],
   "execution_count": 6
  },
  {
   "cell_type": "code",
   "id": "e24989b5be0c179a",
   "metadata": {
    "ExecuteTime": {
     "end_time": "2025-10-03T21:52:30.421411Z",
     "start_time": "2025-10-03T21:52:30.419575Z"
    }
   },
   "source": [
    "targets = [\"StartYear\", \"YearRange\"]"
   ],
   "outputs": [],
   "execution_count": 7
  },
  {
   "cell_type": "code",
   "id": "3cb9c96837211e40",
   "metadata": {
    "ExecuteTime": {
     "end_time": "2025-10-03T21:52:30.529671Z",
     "start_time": "2025-10-03T21:52:30.423414Z"
    }
   },
   "source": [
    "X = read_features(path, f_type=\"tensors\")\n",
    "y = read_targets(path, targets, f_type=\"np\")"
   ],
   "outputs": [
    {
     "name": "stdout",
     "output_type": "stream",
     "text": [
      "Loaded X_train_tfidf\n",
      "Loaded X_train_bert\n",
      "Loaded X_train_cannyhog\n",
      "Loaded X_train_resnet\n",
      "Loaded X_train_vit\n",
      "Loaded X_test_tfidf\n",
      "Loaded X_test_bert\n",
      "Loaded X_test_cannyhog\n",
      "Loaded X_test_resnet\n",
      "Loaded X_test_vit\n",
      "Loaded y_train\n",
      "Loaded y_test\n"
     ]
    }
   ],
   "execution_count": 8
  },
  {
   "cell_type": "markdown",
   "id": "8675df19ec88dcf8",
   "metadata": {},
   "source": [
    "## Train-Validation Split"
   ]
  },
  {
   "cell_type": "code",
   "id": "c136092e17852741",
   "metadata": {
    "ExecuteTime": {
     "end_time": "2025-10-03T21:52:30.603513Z",
     "start_time": "2025-10-03T21:52:30.594204Z"
    }
   },
   "source": [
    "X, y = train_val_split(X, y)"
   ],
   "outputs": [],
   "execution_count": 9
  },
  {
   "cell_type": "markdown",
   "id": "cdcefeb60f74dffd",
   "metadata": {},
   "source": [
    "## Scale Regression Targets"
   ]
  },
  {
   "metadata": {
    "ExecuteTime": {
     "end_time": "2025-10-03T21:52:30.614195Z",
     "start_time": "2025-10-03T21:52:30.611123Z"
    }
   },
   "cell_type": "code",
   "source": "y, y_scaler = scale(y)",
   "id": "2bdc90092138edc1",
   "outputs": [],
   "execution_count": 10
  },
  {
   "metadata": {
    "ExecuteTime": {
     "end_time": "2025-10-03T21:52:30.625481Z",
     "start_time": "2025-10-03T21:52:30.623438Z"
    }
   },
   "cell_type": "code",
   "source": "y = {subset: torch.tensor(_y, dtype=torch.float32, device=device) for subset, _y in y.items()}",
   "id": "3337f2ef27d59fbc",
   "outputs": [],
   "execution_count": 11
  },
  {
   "cell_type": "markdown",
   "id": "6202dd55b35be168",
   "metadata": {},
   "source": [
    "## Dimensions"
   ]
  },
  {
   "cell_type": "code",
   "id": "d5b6e4922a011ce9",
   "metadata": {
    "ExecuteTime": {
     "end_time": "2025-10-03T21:52:30.654402Z",
     "start_time": "2025-10-03T21:52:30.651713Z"
    }
   },
   "source": [
    "X_dim, y_dim = get_dimensions(X, y)"
   ],
   "outputs": [
    {
     "name": "stdout",
     "output_type": "stream",
     "text": [
      "X Dimensions: {'tfidf': 300, 'bert': 768, 'cannyhog': 2917, 'resnet': 2048, 'vit': 768}\n",
      "y Dimensions: 2\n"
     ]
    }
   ],
   "execution_count": 12
  },
  {
   "cell_type": "markdown",
   "id": "cdd1f460614fac56",
   "metadata": {},
   "source": [
    "## Torch Datasets and Dataloaders"
   ]
  },
  {
   "cell_type": "code",
   "id": "74bd434fcc6af5ea",
   "metadata": {
    "ExecuteTime": {
     "end_time": "2025-10-03T21:52:30.683742Z",
     "start_time": "2025-10-03T21:52:30.681464Z"
    }
   },
   "source": [
    "datasets = create_pottery_datasets(X, y)\n",
    "loaders = create_pottery_dataloaders(datasets, batch_size=64)"
   ],
   "outputs": [],
   "execution_count": 13
  },
  {
   "cell_type": "markdown",
   "id": "e8a106c06324bec0",
   "metadata": {},
   "source": [
    "## Tune Model\n",
    "\n"
   ]
  },
  {
   "metadata": {
    "ExecuteTime": {
     "end_time": "2025-10-03T21:52:30.711162Z",
     "start_time": "2025-10-03T21:52:30.708564Z"
    }
   },
   "cell_type": "code",
   "source": [
    "criterion = nn.MSELoss()\n",
    "metrics = metrics_r\n",
    "\n",
    "param_grid = {\n",
    "    # Architecture Params\n",
    "    # \"hidden_size\": [128, 256, 512, 1024],\n",
    "    \"hidden_size\": [256, 512],\n",
    "    \"activation\": [\"relu\", \"gelu\"],\n",
    "    # \"dropout\": [0, 0.1, 0.3, 0.5],\n",
    "    \"dropout\": [0.1, 0.3],\n",
    "    # \"blocks\": [1, 2, 3, 5, 10],\n",
    "    \"blocks\": [1, 3, 5],\n",
    "    \"hidden_size_pattern\": [\"decreasing\", \"constant\"],\n",
    "\n",
    "    # Training Params\n",
    "    # \"lr\": [1e-2, 1e-3, 1e-4, 1e-5],\n",
    "    \"lr\": [1e-3, 1e-4],\n",
    "    # \"weight_decay\": [1e-5, 1e-6, 1e-7],\n",
    "    \"weight_decay\": [1e-5, 1e-6],\n",
    "}"
   ],
   "id": "4d42c65bf21f9db4",
   "outputs": [],
   "execution_count": 14
  },
  {
   "metadata": {
    "ExecuteTime": {
     "end_time": "2025-10-03T21:54:45.696141Z",
     "start_time": "2025-10-03T21:52:30.738564Z"
    }
   },
   "cell_type": "code",
   "source": "results, best_result = tune(param_grid, [X_dim[\"tfidf\"]], y_dim, loaders[\"train\"][\"tfidf\"], loaders[\"val\"][\"tfidf\"], criterion, metrics, device, [\"mae\"], y_scaler, chronology_target=\"years\")",
   "id": "817b0004708a41bd",
   "outputs": [
    {
     "name": "stdout",
     "output_type": "stream",
     "text": [
      "+-----------+-------------+------------+---------+--------+---------------------+--------+--------------+-----------+-----------+-----------+\n",
      "| combo_idx | hidden_size | activation | dropout | blocks | hidden_size_pattern |     lr | weight_decay |  val_loss |     mae_0 |     mae_1 |\n",
      "+-----------+-------------+------------+---------+--------+---------------------+--------+--------------+-----------+-----------+-----------+\n",
      "|   001/192 |         256 |       relu |     0.1 |      1 |          decreasing |  0.001 |        1e-05 |    0.6989 |   39.3670 |   10.3009 |\n",
      "|   002/192 |         256 |       relu |     0.1 |      1 |          decreasing |  0.001 |        1e-06 |    0.6982 |   39.1106 |   10.2933 |\n",
      "|   003/192 |         256 |       relu |     0.1 |      1 |          decreasing | 0.0001 |        1e-05 |    0.6933 |   39.8462 |   10.3249 |\n",
      "|   004/192 |         256 |       relu |     0.1 |      1 |          decreasing | 0.0001 |        1e-06 |    0.7050 |   40.0092 |   10.4330 |\n",
      "|   005/192 |         256 |       relu |     0.1 |      1 |            constant |  0.001 |        1e-05 |    0.7040 |   38.8562 |   10.3358 |\n",
      "/////////////////////////////////////////////\n",
      "|   051/192 |         256 |       relu |     0.3 |      3 |          decreasing | 0.0001 |        1e-05 |    0.6978 |   38.5560 |   10.5652 |\n",
      "|   052/192 |         256 |       relu |     0.3 |      3 |          decreasing | 0.0001 |        1e-06 |    0.7021 |   37.9302 |   10.5232 |\n",
      "|   053/192 |         256 |       relu |     0.3 |      3 |            constant |  0.001 |        1e-05 |    0.7120 |   38.9372 |   10.5312 |\n",
      "|   054/192 |         256 |       relu |     0.3 |      3 |            constant |  0.001 |        1e-06 |    0.6920 |   34.8878 |   10.4340 |\n",
      "|   055/192 |         256 |       relu |     0.3 |      3 |            constant | 0.0001 |        1e-05 |    0.6985 |   38.5267 |   10.5205 |\n",
      "/////////////////////////////////////////////\n",
      "|   101/192 |         256 |       gelu |     0.1 |      1 |            constant |  0.001 |        1e-05 |    0.7143 |   40.4136 |   10.3933 |\n",
      "|   102/192 |         256 |       gelu |     0.1 |      1 |            constant |  0.001 |        1e-06 |    0.7122 |   40.7963 |   10.3068 |\n",
      "|   103/192 |         256 |       gelu |     0.1 |      1 |            constant | 0.0001 |        1e-05 |    0.7124 |   40.4945 |   10.4418 |\n",
      "|   104/192 |         256 |       gelu |     0.1 |      1 |            constant | 0.0001 |        1e-06 |    0.7157 |   40.8194 |   10.4300 |\n",
      "|   105/192 |         512 |       gelu |     0.1 |      1 |          decreasing |  0.001 |        1e-05 |    0.7191 |   41.0956 |   10.2732 |\n",
      "/////////////////////////////////////////////\n",
      "|   151/192 |         256 |       gelu |     0.3 |      3 |            constant | 0.0001 |        1e-05 |    0.7146 |   41.0429 |   10.3455 |\n",
      "|   152/192 |         256 |       gelu |     0.3 |      3 |            constant | 0.0001 |        1e-06 |    0.7102 |   40.6643 |   10.2990 |\n",
      "|   153/192 |         512 |       gelu |     0.3 |      3 |          decreasing |  0.001 |        1e-05 |    0.7159 |   40.0411 |   10.5158 |\n",
      "|   154/192 |         512 |       gelu |     0.3 |      3 |          decreasing |  0.001 |        1e-06 |    0.7157 |   40.9976 |   10.2488 |\n",
      "|   155/192 |         512 |       gelu |     0.3 |      3 |          decreasing | 0.0001 |        1e-05 |    0.7117 |   40.7017 |   10.4508 |\n",
      "/////////////////////////////////////\n",
      "+-----------+-------------+------------+---------+--------+---------------------+--------+--------------+-----------+-----------+-----------+\n",
      "|      BEST |         256 |       relu |     0.3 |      5 |            constant |  0.001 |        1e-05 |    0.6658 |   34.9903 |   10.3634 |\n",
      "+-----------+-------------+------------+---------+--------+---------------------+--------+--------------+-----------+-----------+-----------+\n"
     ]
    }
   ],
   "execution_count": 15
  },
  {
   "metadata": {
    "ExecuteTime": {
     "end_time": "2025-10-03T21:54:45.778866Z",
     "start_time": "2025-10-03T21:54:45.769829Z"
    }
   },
   "cell_type": "code",
   "source": "results",
   "id": "c481d852d7212154",
   "outputs": [
    {
     "data": {
      "text/plain": [
       "    activation  blocks  dropout  hidden_size hidden_size_pattern      lr  \\\n",
       "0         relu       1      0.1          256          decreasing  0.0010   \n",
       "1         relu       1      0.1          256          decreasing  0.0010   \n",
       "2         relu       1      0.1          256          decreasing  0.0001   \n",
       "3         relu       1      0.1          256          decreasing  0.0001   \n",
       "4         relu       1      0.1          256            constant  0.0010   \n",
       "..         ...     ...      ...          ...                 ...     ...   \n",
       "187       gelu       5      0.3          512          decreasing  0.0001   \n",
       "188       gelu       5      0.3          512            constant  0.0010   \n",
       "189       gelu       5      0.3          512            constant  0.0010   \n",
       "190       gelu       5      0.3          512            constant  0.0001   \n",
       "191       gelu       5      0.3          512            constant  0.0001   \n",
       "\n",
       "     weight_decay  train_loss  val_loss      mae_0      mae_1     rmse_0  \\\n",
       "0        0.000010    0.522023  0.698869  39.367023  10.300889  51.193939   \n",
       "1        0.000001    0.517046  0.698203  39.110558  10.293305  50.627907   \n",
       "2        0.000010    0.536878  0.693303  39.846188  10.324909  50.945854   \n",
       "3        0.000001    0.536639  0.705013  40.009163  10.433044  51.314739   \n",
       "4        0.000010    0.473692  0.703977  38.856178  10.335842  50.318436   \n",
       "..            ...         ...       ...        ...        ...        ...   \n",
       "187      0.000001    0.719363  0.817804  40.860920  12.180607  52.299404   \n",
       "188      0.000010    0.624552  0.737823  40.929306  10.468419  53.317257   \n",
       "189      0.000001    0.563985  0.739436  40.902794  10.329735  53.090523   \n",
       "190      0.000010    0.762742  0.827137  42.253788  12.132495  53.383808   \n",
       "191      0.000001    0.734298  0.825224  41.979771  12.107667  53.334850   \n",
       "\n",
       "        rmse_1      r2_0      r2_1    medae_0    medae_1  \n",
       "0    12.628751  0.475412  0.207795  29.236832   9.547012  \n",
       "1    12.682905  0.486948  0.200986  28.037323   9.509384  \n",
       "2    12.588129  0.480484  0.212883  30.815109   9.927046  \n",
       "3    12.718434  0.472934  0.196503  29.053375  10.400080  \n",
       "4    12.809311  0.493202  0.184980  27.403519   9.425718  \n",
       "..         ...       ...       ...        ...        ...  \n",
       "187  14.220887  0.452512 -0.004547  30.999985  11.025905  \n",
       "188  12.836107  0.430994  0.181566  28.804153   9.941649  \n",
       "189  12.902822  0.435823  0.173037  30.947601   9.709642  \n",
       "190  14.211568  0.429573 -0.003231  34.998215  10.111308  \n",
       "191  14.183058  0.430619  0.000791  34.940689  10.424205  \n",
       "\n",
       "[192 rows x 17 columns]"
      ],
      "text/html": [
       "<div>\n",
       "<style scoped>\n",
       "    .dataframe tbody tr th:only-of-type {\n",
       "        vertical-align: middle;\n",
       "    }\n",
       "\n",
       "    .dataframe tbody tr th {\n",
       "        vertical-align: top;\n",
       "    }\n",
       "\n",
       "    .dataframe thead th {\n",
       "        text-align: right;\n",
       "    }\n",
       "</style>\n",
       "<table border=\"1\" class=\"dataframe\">\n",
       "  <thead>\n",
       "    <tr style=\"text-align: right;\">\n",
       "      <th></th>\n",
       "      <th>activation</th>\n",
       "      <th>blocks</th>\n",
       "      <th>dropout</th>\n",
       "      <th>hidden_size</th>\n",
       "      <th>hidden_size_pattern</th>\n",
       "      <th>lr</th>\n",
       "      <th>weight_decay</th>\n",
       "      <th>train_loss</th>\n",
       "      <th>val_loss</th>\n",
       "      <th>mae_0</th>\n",
       "      <th>mae_1</th>\n",
       "      <th>rmse_0</th>\n",
       "      <th>rmse_1</th>\n",
       "      <th>r2_0</th>\n",
       "      <th>r2_1</th>\n",
       "      <th>medae_0</th>\n",
       "      <th>medae_1</th>\n",
       "    </tr>\n",
       "  </thead>\n",
       "  <tbody>\n",
       "    <tr>\n",
       "      <th>0</th>\n",
       "      <td>relu</td>\n",
       "      <td>1</td>\n",
       "      <td>0.1</td>\n",
       "      <td>256</td>\n",
       "      <td>decreasing</td>\n",
       "      <td>0.0010</td>\n",
       "      <td>0.000010</td>\n",
       "      <td>0.522023</td>\n",
       "      <td>0.698869</td>\n",
       "      <td>39.367023</td>\n",
       "      <td>10.300889</td>\n",
       "      <td>51.193939</td>\n",
       "      <td>12.628751</td>\n",
       "      <td>0.475412</td>\n",
       "      <td>0.207795</td>\n",
       "      <td>29.236832</td>\n",
       "      <td>9.547012</td>\n",
       "    </tr>\n",
       "    <tr>\n",
       "      <th>1</th>\n",
       "      <td>relu</td>\n",
       "      <td>1</td>\n",
       "      <td>0.1</td>\n",
       "      <td>256</td>\n",
       "      <td>decreasing</td>\n",
       "      <td>0.0010</td>\n",
       "      <td>0.000001</td>\n",
       "      <td>0.517046</td>\n",
       "      <td>0.698203</td>\n",
       "      <td>39.110558</td>\n",
       "      <td>10.293305</td>\n",
       "      <td>50.627907</td>\n",
       "      <td>12.682905</td>\n",
       "      <td>0.486948</td>\n",
       "      <td>0.200986</td>\n",
       "      <td>28.037323</td>\n",
       "      <td>9.509384</td>\n",
       "    </tr>\n",
       "    <tr>\n",
       "      <th>2</th>\n",
       "      <td>relu</td>\n",
       "      <td>1</td>\n",
       "      <td>0.1</td>\n",
       "      <td>256</td>\n",
       "      <td>decreasing</td>\n",
       "      <td>0.0001</td>\n",
       "      <td>0.000010</td>\n",
       "      <td>0.536878</td>\n",
       "      <td>0.693303</td>\n",
       "      <td>39.846188</td>\n",
       "      <td>10.324909</td>\n",
       "      <td>50.945854</td>\n",
       "      <td>12.588129</td>\n",
       "      <td>0.480484</td>\n",
       "      <td>0.212883</td>\n",
       "      <td>30.815109</td>\n",
       "      <td>9.927046</td>\n",
       "    </tr>\n",
       "    <tr>\n",
       "      <th>3</th>\n",
       "      <td>relu</td>\n",
       "      <td>1</td>\n",
       "      <td>0.1</td>\n",
       "      <td>256</td>\n",
       "      <td>decreasing</td>\n",
       "      <td>0.0001</td>\n",
       "      <td>0.000001</td>\n",
       "      <td>0.536639</td>\n",
       "      <td>0.705013</td>\n",
       "      <td>40.009163</td>\n",
       "      <td>10.433044</td>\n",
       "      <td>51.314739</td>\n",
       "      <td>12.718434</td>\n",
       "      <td>0.472934</td>\n",
       "      <td>0.196503</td>\n",
       "      <td>29.053375</td>\n",
       "      <td>10.400080</td>\n",
       "    </tr>\n",
       "    <tr>\n",
       "      <th>4</th>\n",
       "      <td>relu</td>\n",
       "      <td>1</td>\n",
       "      <td>0.1</td>\n",
       "      <td>256</td>\n",
       "      <td>constant</td>\n",
       "      <td>0.0010</td>\n",
       "      <td>0.000010</td>\n",
       "      <td>0.473692</td>\n",
       "      <td>0.703977</td>\n",
       "      <td>38.856178</td>\n",
       "      <td>10.335842</td>\n",
       "      <td>50.318436</td>\n",
       "      <td>12.809311</td>\n",
       "      <td>0.493202</td>\n",
       "      <td>0.184980</td>\n",
       "      <td>27.403519</td>\n",
       "      <td>9.425718</td>\n",
       "    </tr>\n",
       "    <tr>\n",
       "      <th>...</th>\n",
       "      <td>...</td>\n",
       "      <td>...</td>\n",
       "      <td>...</td>\n",
       "      <td>...</td>\n",
       "      <td>...</td>\n",
       "      <td>...</td>\n",
       "      <td>...</td>\n",
       "      <td>...</td>\n",
       "      <td>...</td>\n",
       "      <td>...</td>\n",
       "      <td>...</td>\n",
       "      <td>...</td>\n",
       "      <td>...</td>\n",
       "      <td>...</td>\n",
       "      <td>...</td>\n",
       "      <td>...</td>\n",
       "      <td>...</td>\n",
       "    </tr>\n",
       "    <tr>\n",
       "      <th>187</th>\n",
       "      <td>gelu</td>\n",
       "      <td>5</td>\n",
       "      <td>0.3</td>\n",
       "      <td>512</td>\n",
       "      <td>decreasing</td>\n",
       "      <td>0.0001</td>\n",
       "      <td>0.000001</td>\n",
       "      <td>0.719363</td>\n",
       "      <td>0.817804</td>\n",
       "      <td>40.860920</td>\n",
       "      <td>12.180607</td>\n",
       "      <td>52.299404</td>\n",
       "      <td>14.220887</td>\n",
       "      <td>0.452512</td>\n",
       "      <td>-0.004547</td>\n",
       "      <td>30.999985</td>\n",
       "      <td>11.025905</td>\n",
       "    </tr>\n",
       "    <tr>\n",
       "      <th>188</th>\n",
       "      <td>gelu</td>\n",
       "      <td>5</td>\n",
       "      <td>0.3</td>\n",
       "      <td>512</td>\n",
       "      <td>constant</td>\n",
       "      <td>0.0010</td>\n",
       "      <td>0.000010</td>\n",
       "      <td>0.624552</td>\n",
       "      <td>0.737823</td>\n",
       "      <td>40.929306</td>\n",
       "      <td>10.468419</td>\n",
       "      <td>53.317257</td>\n",
       "      <td>12.836107</td>\n",
       "      <td>0.430994</td>\n",
       "      <td>0.181566</td>\n",
       "      <td>28.804153</td>\n",
       "      <td>9.941649</td>\n",
       "    </tr>\n",
       "    <tr>\n",
       "      <th>189</th>\n",
       "      <td>gelu</td>\n",
       "      <td>5</td>\n",
       "      <td>0.3</td>\n",
       "      <td>512</td>\n",
       "      <td>constant</td>\n",
       "      <td>0.0010</td>\n",
       "      <td>0.000001</td>\n",
       "      <td>0.563985</td>\n",
       "      <td>0.739436</td>\n",
       "      <td>40.902794</td>\n",
       "      <td>10.329735</td>\n",
       "      <td>53.090523</td>\n",
       "      <td>12.902822</td>\n",
       "      <td>0.435823</td>\n",
       "      <td>0.173037</td>\n",
       "      <td>30.947601</td>\n",
       "      <td>9.709642</td>\n",
       "    </tr>\n",
       "    <tr>\n",
       "      <th>190</th>\n",
       "      <td>gelu</td>\n",
       "      <td>5</td>\n",
       "      <td>0.3</td>\n",
       "      <td>512</td>\n",
       "      <td>constant</td>\n",
       "      <td>0.0001</td>\n",
       "      <td>0.000010</td>\n",
       "      <td>0.762742</td>\n",
       "      <td>0.827137</td>\n",
       "      <td>42.253788</td>\n",
       "      <td>12.132495</td>\n",
       "      <td>53.383808</td>\n",
       "      <td>14.211568</td>\n",
       "      <td>0.429573</td>\n",
       "      <td>-0.003231</td>\n",
       "      <td>34.998215</td>\n",
       "      <td>10.111308</td>\n",
       "    </tr>\n",
       "    <tr>\n",
       "      <th>191</th>\n",
       "      <td>gelu</td>\n",
       "      <td>5</td>\n",
       "      <td>0.3</td>\n",
       "      <td>512</td>\n",
       "      <td>constant</td>\n",
       "      <td>0.0001</td>\n",
       "      <td>0.000001</td>\n",
       "      <td>0.734298</td>\n",
       "      <td>0.825224</td>\n",
       "      <td>41.979771</td>\n",
       "      <td>12.107667</td>\n",
       "      <td>53.334850</td>\n",
       "      <td>14.183058</td>\n",
       "      <td>0.430619</td>\n",
       "      <td>0.000791</td>\n",
       "      <td>34.940689</td>\n",
       "      <td>10.424205</td>\n",
       "    </tr>\n",
       "  </tbody>\n",
       "</table>\n",
       "<p>192 rows × 17 columns</p>\n",
       "</div>"
      ]
     },
     "execution_count": 16,
     "metadata": {},
     "output_type": "execute_result"
    }
   ],
   "execution_count": 16
  },
  {
   "metadata": {
    "ExecuteTime": {
     "end_time": "2025-10-03T21:54:45.805634Z",
     "start_time": "2025-10-03T21:54:45.799680Z"
    }
   },
   "cell_type": "code",
   "source": "results.sort_values(\"val_loss\").head(1)",
   "id": "e892371e0242ce35",
   "outputs": [
    {
     "data": {
      "text/plain": [
       "   activation  blocks  dropout  hidden_size hidden_size_pattern     lr  \\\n",
       "84       relu       5      0.3          256            constant  0.001   \n",
       "\n",
       "    weight_decay  train_loss  val_loss      mae_0      mae_1     rmse_0  \\\n",
       "84       0.00001    0.408783  0.665797  34.990295  10.363354  46.973461   \n",
       "\n",
       "       rmse_1      r2_0      r2_1    medae_0   medae_1  \n",
       "84  12.888397  0.558342  0.174885  25.417358  9.503178  "
      ],
      "text/html": [
       "<div>\n",
       "<style scoped>\n",
       "    .dataframe tbody tr th:only-of-type {\n",
       "        vertical-align: middle;\n",
       "    }\n",
       "\n",
       "    .dataframe tbody tr th {\n",
       "        vertical-align: top;\n",
       "    }\n",
       "\n",
       "    .dataframe thead th {\n",
       "        text-align: right;\n",
       "    }\n",
       "</style>\n",
       "<table border=\"1\" class=\"dataframe\">\n",
       "  <thead>\n",
       "    <tr style=\"text-align: right;\">\n",
       "      <th></th>\n",
       "      <th>activation</th>\n",
       "      <th>blocks</th>\n",
       "      <th>dropout</th>\n",
       "      <th>hidden_size</th>\n",
       "      <th>hidden_size_pattern</th>\n",
       "      <th>lr</th>\n",
       "      <th>weight_decay</th>\n",
       "      <th>train_loss</th>\n",
       "      <th>val_loss</th>\n",
       "      <th>mae_0</th>\n",
       "      <th>mae_1</th>\n",
       "      <th>rmse_0</th>\n",
       "      <th>rmse_1</th>\n",
       "      <th>r2_0</th>\n",
       "      <th>r2_1</th>\n",
       "      <th>medae_0</th>\n",
       "      <th>medae_1</th>\n",
       "    </tr>\n",
       "  </thead>\n",
       "  <tbody>\n",
       "    <tr>\n",
       "      <th>84</th>\n",
       "      <td>relu</td>\n",
       "      <td>5</td>\n",
       "      <td>0.3</td>\n",
       "      <td>256</td>\n",
       "      <td>constant</td>\n",
       "      <td>0.001</td>\n",
       "      <td>0.00001</td>\n",
       "      <td>0.408783</td>\n",
       "      <td>0.665797</td>\n",
       "      <td>34.990295</td>\n",
       "      <td>10.363354</td>\n",
       "      <td>46.973461</td>\n",
       "      <td>12.888397</td>\n",
       "      <td>0.558342</td>\n",
       "      <td>0.174885</td>\n",
       "      <td>25.417358</td>\n",
       "      <td>9.503178</td>\n",
       "    </tr>\n",
       "  </tbody>\n",
       "</table>\n",
       "</div>"
      ]
     },
     "execution_count": 17,
     "metadata": {},
     "output_type": "execute_result"
    }
   ],
   "execution_count": 17
  },
  {
   "metadata": {
    "ExecuteTime": {
     "end_time": "2025-10-03T21:54:45.831941Z",
     "start_time": "2025-10-03T21:54:45.825090Z"
    }
   },
   "cell_type": "code",
   "source": "results.sort_values(\"mae_0\").head()",
   "id": "6d34073d0dc4de44",
   "outputs": [
    {
     "data": {
      "text/plain": [
       "   activation  blocks  dropout  hidden_size hidden_size_pattern     lr  \\\n",
       "88       relu       5      0.3          512          decreasing  0.001   \n",
       "77       relu       5      0.1          512            constant  0.001   \n",
       "53       relu       3      0.3          256            constant  0.001   \n",
       "84       relu       5      0.3          256            constant  0.001   \n",
       "64       relu       5      0.1          256          decreasing  0.001   \n",
       "\n",
       "    weight_decay  train_loss  val_loss      mae_0      mae_1     rmse_0  \\\n",
       "88      0.000010    0.378869  0.669857  34.234901  10.174505  47.100307   \n",
       "77      0.000001    0.313494  0.690476  34.640507  10.384533  47.853043   \n",
       "53      0.000001    0.284399  0.691974  34.887783  10.434025  47.856220   \n",
       "84      0.000010    0.408783  0.665797  34.990295  10.363354  46.973461   \n",
       "64      0.000010    0.442005  0.676297  35.891453  10.347416  50.224258   \n",
       "\n",
       "       rmse_1      r2_0      r2_1    medae_0    medae_1  \n",
       "88  12.714995  0.555953  0.196938  23.516068   8.998859  \n",
       "77  12.937171  0.541647  0.168628  22.753494   9.562515  \n",
       "53  12.956754  0.541586  0.166109  24.237122   8.834621  \n",
       "84  12.888397  0.558342  0.174885  25.417358   9.503178  \n",
       "64  12.499561  0.495097  0.223920  26.430099  10.197212  "
      ],
      "text/html": [
       "<div>\n",
       "<style scoped>\n",
       "    .dataframe tbody tr th:only-of-type {\n",
       "        vertical-align: middle;\n",
       "    }\n",
       "\n",
       "    .dataframe tbody tr th {\n",
       "        vertical-align: top;\n",
       "    }\n",
       "\n",
       "    .dataframe thead th {\n",
       "        text-align: right;\n",
       "    }\n",
       "</style>\n",
       "<table border=\"1\" class=\"dataframe\">\n",
       "  <thead>\n",
       "    <tr style=\"text-align: right;\">\n",
       "      <th></th>\n",
       "      <th>activation</th>\n",
       "      <th>blocks</th>\n",
       "      <th>dropout</th>\n",
       "      <th>hidden_size</th>\n",
       "      <th>hidden_size_pattern</th>\n",
       "      <th>lr</th>\n",
       "      <th>weight_decay</th>\n",
       "      <th>train_loss</th>\n",
       "      <th>val_loss</th>\n",
       "      <th>mae_0</th>\n",
       "      <th>mae_1</th>\n",
       "      <th>rmse_0</th>\n",
       "      <th>rmse_1</th>\n",
       "      <th>r2_0</th>\n",
       "      <th>r2_1</th>\n",
       "      <th>medae_0</th>\n",
       "      <th>medae_1</th>\n",
       "    </tr>\n",
       "  </thead>\n",
       "  <tbody>\n",
       "    <tr>\n",
       "      <th>88</th>\n",
       "      <td>relu</td>\n",
       "      <td>5</td>\n",
       "      <td>0.3</td>\n",
       "      <td>512</td>\n",
       "      <td>decreasing</td>\n",
       "      <td>0.001</td>\n",
       "      <td>0.000010</td>\n",
       "      <td>0.378869</td>\n",
       "      <td>0.669857</td>\n",
       "      <td>34.234901</td>\n",
       "      <td>10.174505</td>\n",
       "      <td>47.100307</td>\n",
       "      <td>12.714995</td>\n",
       "      <td>0.555953</td>\n",
       "      <td>0.196938</td>\n",
       "      <td>23.516068</td>\n",
       "      <td>8.998859</td>\n",
       "    </tr>\n",
       "    <tr>\n",
       "      <th>77</th>\n",
       "      <td>relu</td>\n",
       "      <td>5</td>\n",
       "      <td>0.1</td>\n",
       "      <td>512</td>\n",
       "      <td>constant</td>\n",
       "      <td>0.001</td>\n",
       "      <td>0.000001</td>\n",
       "      <td>0.313494</td>\n",
       "      <td>0.690476</td>\n",
       "      <td>34.640507</td>\n",
       "      <td>10.384533</td>\n",
       "      <td>47.853043</td>\n",
       "      <td>12.937171</td>\n",
       "      <td>0.541647</td>\n",
       "      <td>0.168628</td>\n",
       "      <td>22.753494</td>\n",
       "      <td>9.562515</td>\n",
       "    </tr>\n",
       "    <tr>\n",
       "      <th>53</th>\n",
       "      <td>relu</td>\n",
       "      <td>3</td>\n",
       "      <td>0.3</td>\n",
       "      <td>256</td>\n",
       "      <td>constant</td>\n",
       "      <td>0.001</td>\n",
       "      <td>0.000001</td>\n",
       "      <td>0.284399</td>\n",
       "      <td>0.691974</td>\n",
       "      <td>34.887783</td>\n",
       "      <td>10.434025</td>\n",
       "      <td>47.856220</td>\n",
       "      <td>12.956754</td>\n",
       "      <td>0.541586</td>\n",
       "      <td>0.166109</td>\n",
       "      <td>24.237122</td>\n",
       "      <td>8.834621</td>\n",
       "    </tr>\n",
       "    <tr>\n",
       "      <th>84</th>\n",
       "      <td>relu</td>\n",
       "      <td>5</td>\n",
       "      <td>0.3</td>\n",
       "      <td>256</td>\n",
       "      <td>constant</td>\n",
       "      <td>0.001</td>\n",
       "      <td>0.000010</td>\n",
       "      <td>0.408783</td>\n",
       "      <td>0.665797</td>\n",
       "      <td>34.990295</td>\n",
       "      <td>10.363354</td>\n",
       "      <td>46.973461</td>\n",
       "      <td>12.888397</td>\n",
       "      <td>0.558342</td>\n",
       "      <td>0.174885</td>\n",
       "      <td>25.417358</td>\n",
       "      <td>9.503178</td>\n",
       "    </tr>\n",
       "    <tr>\n",
       "      <th>64</th>\n",
       "      <td>relu</td>\n",
       "      <td>5</td>\n",
       "      <td>0.1</td>\n",
       "      <td>256</td>\n",
       "      <td>decreasing</td>\n",
       "      <td>0.001</td>\n",
       "      <td>0.000010</td>\n",
       "      <td>0.442005</td>\n",
       "      <td>0.676297</td>\n",
       "      <td>35.891453</td>\n",
       "      <td>10.347416</td>\n",
       "      <td>50.224258</td>\n",
       "      <td>12.499561</td>\n",
       "      <td>0.495097</td>\n",
       "      <td>0.223920</td>\n",
       "      <td>26.430099</td>\n",
       "      <td>10.197212</td>\n",
       "    </tr>\n",
       "  </tbody>\n",
       "</table>\n",
       "</div>"
      ]
     },
     "execution_count": 18,
     "metadata": {},
     "output_type": "execute_result"
    }
   ],
   "execution_count": 18
  },
  {
   "metadata": {
    "ExecuteTime": {
     "end_time": "2025-10-03T21:54:45.926575Z",
     "start_time": "2025-10-03T21:54:45.923409Z"
    }
   },
   "cell_type": "code",
   "source": "best_result = results.sort_values(\"val_loss\", ascending=True).head(1).to_dict(orient=\"records\")[0]",
   "id": "ec8c67dbe049d307",
   "outputs": [],
   "execution_count": 19
  },
  {
   "metadata": {
    "ExecuteTime": {
     "end_time": "2025-10-03T21:54:45.984754Z",
     "start_time": "2025-10-03T21:54:45.981149Z"
    }
   },
   "cell_type": "code",
   "source": "best_result",
   "id": "79f3e98551e7fd69",
   "outputs": [
    {
     "data": {
      "text/plain": [
       "{'activation': 'relu',\n",
       " 'blocks': 5,\n",
       " 'dropout': 0.3,\n",
       " 'hidden_size': 256,\n",
       " 'hidden_size_pattern': 'constant',\n",
       " 'lr': 0.001,\n",
       " 'weight_decay': 1e-05,\n",
       " 'train_loss': 0.408782958984375,\n",
       " 'val_loss': 0.6657971739768982,\n",
       " 'mae_0': 34.99029541015625,\n",
       " 'mae_1': 10.363353729248047,\n",
       " 'rmse_0': 46.97346115112305,\n",
       " 'rmse_1': 12.888397216796875,\n",
       " 'r2_0': 0.558341920375824,\n",
       " 'r2_1': 0.17488467693328857,\n",
       " 'medae_0': 25.4173583984375,\n",
       " 'medae_1': 9.503177642822266}"
      ]
     },
     "execution_count": 20,
     "metadata": {},
     "output_type": "execute_result"
    }
   ],
   "execution_count": 20
  },
  {
   "metadata": {
    "ExecuteTime": {
     "end_time": "2025-10-03T21:54:46.068791Z",
     "start_time": "2025-10-03T21:54:46.066724Z"
    }
   },
   "cell_type": "code",
   "source": "",
   "id": "ed02956d85359628",
   "outputs": [],
   "execution_count": null
  }
 ],
 "metadata": {
  "kernelspec": {
   "display_name": "Python 3 (ipykernel)",
   "language": "python",
   "name": "python3"
  },
  "language_info": {
   "codemirror_mode": {
    "name": "ipython",
    "version": 3
   },
   "file_extension": ".py",
   "mimetype": "text/x-python",
   "name": "python",
   "nbconvert_exporter": "python",
   "pygments_lexer": "ipython3",
   "version": "3.12.3"
  }
 },
 "nbformat": 4,
 "nbformat_minor": 5
}
